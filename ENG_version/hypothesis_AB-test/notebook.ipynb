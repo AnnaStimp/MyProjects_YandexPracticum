{
 "cells": [
  {
   "cell_type": "markdown",
   "id": "68dc0e59",
   "metadata": {
    "toc": true
   },
   "source": [
    "<h1>Table of Contents<span class=\"tocSkip\"></span></h1>\n",
    "<div class=\"toc\"><ul class=\"toc-item\"><li><span><a href=\"#Loading-and-exploring-data\" data-toc-modified-id=\"Loading-and-exploring-data-1\"><span class=\"toc-item-num\">1&nbsp;&nbsp;</span>Loading and exploring data</a></span></li><li><span><a href=\"#Data-preprocessing\" data-toc-modified-id=\"Data-preprocessing-2\"><span class=\"toc-item-num\">2&nbsp;&nbsp;</span>Data preprocessing</a></span><ul class=\"toc-item\"><li><span><a href=\"#Data-type\" data-toc-modified-id=\"Data-type-2.1\"><span class=\"toc-item-num\">2.1&nbsp;&nbsp;</span>Data type</a></span></li><li><span><a href=\"#Check-for-duplicates\" data-toc-modified-id=\"Check-for-duplicates-2.2\"><span class=\"toc-item-num\">2.2&nbsp;&nbsp;</span>Check for duplicates</a></span></li><li><span><a href=\"#User-verification\" data-toc-modified-id=\"User-verification-2.3\"><span class=\"toc-item-num\">2.3&nbsp;&nbsp;</span>User verification</a></span></li><li><span><a href=\"#Conclusion\" data-toc-modified-id=\"Conclusion-2.4\"><span class=\"toc-item-num\">2.4&nbsp;&nbsp;</span>Conclusion</a></span></li></ul></li><li><span><a href=\"#Prioritization-of-hypotheses\" data-toc-modified-id=\"Prioritization-of-hypotheses-3\"><span class=\"toc-item-num\">3&nbsp;&nbsp;</span>Prioritization of hypotheses</a></span><ul class=\"toc-item\"><li><span><a href=\"#ICE-Framework\" data-toc-modified-id=\"ICE-Framework-3.1\"><span class=\"toc-item-num\">3.1&nbsp;&nbsp;</span>ICE Framework</a></span></li><li><span><a href=\"#RICE-framework\" data-toc-modified-id=\"RICE-framework-3.2\"><span class=\"toc-item-num\">3.2&nbsp;&nbsp;</span>RICE framework</a></span></li><li><span><a href=\"#Conclusion\" data-toc-modified-id=\"Conclusion-3.3\"><span class=\"toc-item-num\">3.3&nbsp;&nbsp;</span>Conclusion</a></span></li></ul></li><li><span><a href=\"#A/B-test-analysis\" data-toc-modified-id=\"A/B-test-analysis-4\"><span class=\"toc-item-num\">4&nbsp;&nbsp;</span>A/B test analysis</a></span><ul class=\"toc-item\"><li><span><a href=\"#Revenue-by-group-over-time\" data-toc-modified-id=\"Revenue-by-group-over-time-4.1\"><span class=\"toc-item-num\">4.1&nbsp;&nbsp;</span>Revenue by group over time</a></span></li><li><span><a href=\"#Average-check-by-group-over-time\" data-toc-modified-id=\"Average-check-by-group-over-time-4.2\"><span class=\"toc-item-num\">4.2&nbsp;&nbsp;</span>Average check by group over time</a></span></li><li><span><a href=\"#Relative-change-in-the-cumulative-average-bill-of-group-B-to-group-A\" data-toc-modified-id=\"Relative-change-in-the-cumulative-average-bill-of-group-B-to-group-A-4.3\"><span class=\"toc-item-num\">4.3&nbsp;&nbsp;</span>Relative change in the cumulative average bill of group B to group A</a></span></li><li><span><a href=\"#Average-number-of-orders-per-visitor-by-group-over-time\" data-toc-modified-id=\"Average-number-of-orders-per-visitor-by-group-over-time-4.4\"><span class=\"toc-item-num\">4.4&nbsp;&nbsp;</span>Average number of orders per visitor by group over time</a></span></li><li><span><a href=\"#Relative-change-in-the-cumulative-average-number-of-orders-per-visitor-of-group-B-to-group-A\" data-toc-modified-id=\"Relative-change-in-the-cumulative-average-number-of-orders-per-visitor-of-group-B-to-group-A-4.5\"><span class=\"toc-item-num\">4.5&nbsp;&nbsp;</span>Relative change in the cumulative average number of orders per visitor of group B to group A</a></span></li><li><span><a href=\"#Number-of-orders-by-user\" data-toc-modified-id=\"Number-of-orders-by-user-4.6\"><span class=\"toc-item-num\">4.6&nbsp;&nbsp;</span>Number of orders by user</a></span></li><li><span><a href=\"#Cost-of-orders\" data-toc-modified-id=\"Cost-of-orders-4.7\"><span class=\"toc-item-num\">4.7&nbsp;&nbsp;</span>Cost of orders</a></span></li><li><span><a href=\"#Statistical-analysis-on-raw-data\" data-toc-modified-id=\"Statistical-analysis-on-raw-data-4.8\"><span class=\"toc-item-num\">4.8&nbsp;&nbsp;</span>Statistical analysis on raw data</a></span><ul class=\"toc-item\"><li><span><a href=\"#Number-of-orders-per-visitor\" data-toc-modified-id=\"Number-of-orders-per-visitor-4.8.1\"><span class=\"toc-item-num\">4.8.1&nbsp;&nbsp;</span>Number of orders per visitor</a></span></li><li><span><a href=\"#Average-order-bill\" data-toc-modified-id=\"Average-order-bill-4.8.2\"><span class=\"toc-item-num\">4.8.2&nbsp;&nbsp;</span>Average order bill</a></span></li></ul></li><li><span><a href=\"#Statistical-analysis-on-cleaned-data\" data-toc-modified-id=\"Statistical-analysis-on-cleaned-data-4.9\"><span class=\"toc-item-num\">4.9&nbsp;&nbsp;</span>Statistical analysis on cleaned data</a></span><ul class=\"toc-item\"><li><span><a href=\"#Data-clearing\" data-toc-modified-id=\"Data-clearing-4.9.1\"><span class=\"toc-item-num\">4.9.1&nbsp;&nbsp;</span>Data clearing</a></span></li><li><span><a href=\"#Number-of-orders-per-visitor\" data-toc-modified-id=\"Number-of-orders-per-visitor-4.9.2\"><span class=\"toc-item-num\">4.9.2&nbsp;&nbsp;</span>Number of orders per visitor</a></span></li><li><span><a href=\"#Average-order-bill\" data-toc-modified-id=\"Average-order-bill-4.9.3\"><span class=\"toc-item-num\">4.9.3&nbsp;&nbsp;</span>Average order bill</a></span></li></ul></li><li><span><a href=\"#Conclusion\" data-toc-modified-id=\"Conclusion-4.10\"><span class=\"toc-item-num\">4.10&nbsp;&nbsp;</span>Conclusion</a></span></li></ul></li><li><span><a href=\"#General-conclusion\" data-toc-modified-id=\"General-conclusion-5\"><span class=\"toc-item-num\">5&nbsp;&nbsp;</span>General conclusion</a></span></li></ul></div>"
   ]
  },
  {
   "cell_type": "markdown",
   "id": "64a78907",
   "metadata": {},
   "source": [
    "# Testing hypotheses to increase revenue"
   ]
  },
  {
   "cell_type": "markdown",
   "id": "df25066e",
   "metadata": {},
   "source": [
    "**Brief description:** I am an analyst for a large online store. Together with the marketing department, a list of hypotheses was prepared to increase revenue."
   ]
  },
  {
   "cell_type": "markdown",
   "id": "7d23c1c8",
   "metadata": {},
   "source": [
    "**Project goal:** prioritize hypotheses, run an A/B test and analyze the results."
   ]
  },
  {
   "cell_type": "markdown",
   "id": "e0bfd860",
   "metadata": {},
   "source": [
    "**Description of data:**\n",
    "\n",
    "Structure *hypothesis.csv*:\n",
    "- ```Hypothesis``` - a brief description of the hypothesis;\n",
    "- ```Reach``` — user coverage on a 10-point scale;\n",
    "- ```Impact``` - influence on users on a 10-point scale;\n",
    "- ```Confidence``` — confidence in the hypothesis on a 10-point scale;\n",
    "- ```Efforts``` - resource costs for testing the hypothesis on a 10-point scale. The higher the Efforts value, the more expensive it is to test the hypothesis.\n",
    "\n",
    "Structure *orders.csv*:\n",
    "- ```transactionId``` — order identifier;\n",
    "- ```visitorId``` — identifier of the user who made the order;\n",
    "- ```date``` — the date when the order was made;\n",
    "- ```revenue``` — order revenue;\n",
    "- ```group``` — the A/B test group into which the order fell.\n",
    "\n",
    "Structure *visitors.csv*:\n",
    "- ```date``` — date;\n",
    "- ```group``` — A/B test group;\n",
    "- ```visitors``` — the number of users on the specified date in the specified A/B test group."
   ]
  },
  {
   "cell_type": "markdown",
   "id": "0617e0a0",
   "metadata": {},
   "source": [
    "**Work plan:**\n",
    "1. Download data and preprocess it;\n",
    "2. Prioritize hypotheses;\n",
    "3. Analyze A/B test;\n",
    "4. Draw conclusions from the results."
   ]
  },
  {
   "cell_type": "code",
   "execution_count": 1,
   "id": "ac4aae2f",
   "metadata": {},
   "outputs": [],
   "source": [
    "import pandas as pd\n",
    "import matplotlib.pyplot as plt\n",
    "import numpy as np\n",
    "import scipy.stats as st\n",
    "\n",
    "pd.set_option('display.max_colwidth', False)"
   ]
  },
  {
   "cell_type": "markdown",
   "id": "7cdc20a5",
   "metadata": {},
   "source": [
    "## Loading and exploring data"
   ]
  },
  {
   "cell_type": "code",
   "execution_count": 2,
   "id": "69d6fbec",
   "metadata": {},
   "outputs": [],
   "source": [
    "try:\n",
    "    hypothesis = pd.read_csv('.\\\\datasets\\\\hypothesis.csv')\n",
    "    orders = pd.read_csv('.\\\\datasets\\\\orders.csv')\n",
    "    visitors = pd.read_csv('.\\\\datasets\\\\visitors.csv')\n",
    "except:\n",
    "    hypothesis = pd.read_csv('/datasets/hypothesis.csv')\n",
    "    orders = pd.read_csv('/datasets/orders.csv')\n",
    "    visitors = pd.read_csv('/datasets/visitors.csv')"
   ]
  },
  {
   "cell_type": "code",
   "execution_count": 3,
   "id": "56ea5363",
   "metadata": {
    "scrolled": true
   },
   "outputs": [
    {
     "data": {
      "text/html": [
       "<div>\n",
       "<style scoped>\n",
       "    .dataframe tbody tr th:only-of-type {\n",
       "        vertical-align: middle;\n",
       "    }\n",
       "\n",
       "    .dataframe tbody tr th {\n",
       "        vertical-align: top;\n",
       "    }\n",
       "\n",
       "    .dataframe thead th {\n",
       "        text-align: right;\n",
       "    }\n",
       "</style>\n",
       "<table border=\"1\" class=\"dataframe\">\n",
       "  <thead>\n",
       "    <tr style=\"text-align: right;\">\n",
       "      <th></th>\n",
       "      <th>Hypothesis</th>\n",
       "      <th>Reach</th>\n",
       "      <th>Impact</th>\n",
       "      <th>Confidence</th>\n",
       "      <th>Efforts</th>\n",
       "    </tr>\n",
       "  </thead>\n",
       "  <tbody>\n",
       "    <tr>\n",
       "      <th>0</th>\n",
       "      <td>Добавить два новых канала привлечения трафика, что позволит привлекать на 30% больше пользователей</td>\n",
       "      <td>3</td>\n",
       "      <td>10</td>\n",
       "      <td>8</td>\n",
       "      <td>6</td>\n",
       "    </tr>\n",
       "    <tr>\n",
       "      <th>1</th>\n",
       "      <td>Запустить собственную службу доставки, что сократит срок доставки заказов</td>\n",
       "      <td>2</td>\n",
       "      <td>5</td>\n",
       "      <td>4</td>\n",
       "      <td>10</td>\n",
       "    </tr>\n",
       "    <tr>\n",
       "      <th>2</th>\n",
       "      <td>Добавить блоки рекомендаций товаров на сайт интернет магазина, чтобы повысить конверсию и средний чек заказа</td>\n",
       "      <td>8</td>\n",
       "      <td>3</td>\n",
       "      <td>7</td>\n",
       "      <td>3</td>\n",
       "    </tr>\n",
       "    <tr>\n",
       "      <th>3</th>\n",
       "      <td>Изменить структура категорий, что увеличит конверсию, т.к. пользователи быстрее найдут нужный товар</td>\n",
       "      <td>8</td>\n",
       "      <td>3</td>\n",
       "      <td>3</td>\n",
       "      <td>8</td>\n",
       "    </tr>\n",
       "    <tr>\n",
       "      <th>4</th>\n",
       "      <td>Изменить цвет фона главной страницы, чтобы увеличить вовлеченность пользователей</td>\n",
       "      <td>3</td>\n",
       "      <td>1</td>\n",
       "      <td>1</td>\n",
       "      <td>1</td>\n",
       "    </tr>\n",
       "  </tbody>\n",
       "</table>\n",
       "</div>"
      ],
      "text/plain": [
       "                                                                                                     Hypothesis  \\\n",
       "0  Добавить два новых канала привлечения трафика, что позволит привлекать на 30% больше пользователей             \n",
       "1  Запустить собственную службу доставки, что сократит срок доставки заказов                                      \n",
       "2  Добавить блоки рекомендаций товаров на сайт интернет магазина, чтобы повысить конверсию и средний чек заказа   \n",
       "3  Изменить структура категорий, что увеличит конверсию, т.к. пользователи быстрее найдут нужный товар            \n",
       "4  Изменить цвет фона главной страницы, чтобы увеличить вовлеченность пользователей                               \n",
       "\n",
       "   Reach  Impact  Confidence  Efforts  \n",
       "0  3      10      8           6        \n",
       "1  2      5       4           10       \n",
       "2  8      3       7           3        \n",
       "3  8      3       3           8        \n",
       "4  3      1       1           1        "
      ]
     },
     "execution_count": 3,
     "metadata": {},
     "output_type": "execute_result"
    }
   ],
   "source": [
    "hypothesis.head()"
   ]
  },
  {
   "cell_type": "code",
   "execution_count": 4,
   "id": "e0a9978c",
   "metadata": {},
   "outputs": [
    {
     "data": {
      "text/html": [
       "<div>\n",
       "<style scoped>\n",
       "    .dataframe tbody tr th:only-of-type {\n",
       "        vertical-align: middle;\n",
       "    }\n",
       "\n",
       "    .dataframe tbody tr th {\n",
       "        vertical-align: top;\n",
       "    }\n",
       "\n",
       "    .dataframe thead th {\n",
       "        text-align: right;\n",
       "    }\n",
       "</style>\n",
       "<table border=\"1\" class=\"dataframe\">\n",
       "  <thead>\n",
       "    <tr style=\"text-align: right;\">\n",
       "      <th></th>\n",
       "      <th>transactionId</th>\n",
       "      <th>visitorId</th>\n",
       "      <th>date</th>\n",
       "      <th>revenue</th>\n",
       "      <th>group</th>\n",
       "    </tr>\n",
       "  </thead>\n",
       "  <tbody>\n",
       "    <tr>\n",
       "      <th>0</th>\n",
       "      <td>3667963787</td>\n",
       "      <td>3312258926</td>\n",
       "      <td>2019-08-15</td>\n",
       "      <td>1650</td>\n",
       "      <td>B</td>\n",
       "    </tr>\n",
       "    <tr>\n",
       "      <th>1</th>\n",
       "      <td>2804400009</td>\n",
       "      <td>3642806036</td>\n",
       "      <td>2019-08-15</td>\n",
       "      <td>730</td>\n",
       "      <td>B</td>\n",
       "    </tr>\n",
       "    <tr>\n",
       "      <th>2</th>\n",
       "      <td>2961555356</td>\n",
       "      <td>4069496402</td>\n",
       "      <td>2019-08-15</td>\n",
       "      <td>400</td>\n",
       "      <td>A</td>\n",
       "    </tr>\n",
       "    <tr>\n",
       "      <th>3</th>\n",
       "      <td>3797467345</td>\n",
       "      <td>1196621759</td>\n",
       "      <td>2019-08-15</td>\n",
       "      <td>9759</td>\n",
       "      <td>B</td>\n",
       "    </tr>\n",
       "    <tr>\n",
       "      <th>4</th>\n",
       "      <td>2282983706</td>\n",
       "      <td>2322279887</td>\n",
       "      <td>2019-08-15</td>\n",
       "      <td>2308</td>\n",
       "      <td>B</td>\n",
       "    </tr>\n",
       "  </tbody>\n",
       "</table>\n",
       "</div>"
      ],
      "text/plain": [
       "   transactionId   visitorId        date  revenue group\n",
       "0  3667963787     3312258926  2019-08-15  1650     B   \n",
       "1  2804400009     3642806036  2019-08-15  730      B   \n",
       "2  2961555356     4069496402  2019-08-15  400      A   \n",
       "3  3797467345     1196621759  2019-08-15  9759     B   \n",
       "4  2282983706     2322279887  2019-08-15  2308     B   "
      ]
     },
     "execution_count": 4,
     "metadata": {},
     "output_type": "execute_result"
    }
   ],
   "source": [
    "orders.head()"
   ]
  },
  {
   "cell_type": "code",
   "execution_count": 5,
   "id": "735b3f44",
   "metadata": {},
   "outputs": [
    {
     "data": {
      "text/html": [
       "<div>\n",
       "<style scoped>\n",
       "    .dataframe tbody tr th:only-of-type {\n",
       "        vertical-align: middle;\n",
       "    }\n",
       "\n",
       "    .dataframe tbody tr th {\n",
       "        vertical-align: top;\n",
       "    }\n",
       "\n",
       "    .dataframe thead th {\n",
       "        text-align: right;\n",
       "    }\n",
       "</style>\n",
       "<table border=\"1\" class=\"dataframe\">\n",
       "  <thead>\n",
       "    <tr style=\"text-align: right;\">\n",
       "      <th></th>\n",
       "      <th>date</th>\n",
       "      <th>group</th>\n",
       "      <th>visitors</th>\n",
       "    </tr>\n",
       "  </thead>\n",
       "  <tbody>\n",
       "    <tr>\n",
       "      <th>0</th>\n",
       "      <td>2019-08-01</td>\n",
       "      <td>A</td>\n",
       "      <td>719</td>\n",
       "    </tr>\n",
       "    <tr>\n",
       "      <th>1</th>\n",
       "      <td>2019-08-02</td>\n",
       "      <td>A</td>\n",
       "      <td>619</td>\n",
       "    </tr>\n",
       "    <tr>\n",
       "      <th>2</th>\n",
       "      <td>2019-08-03</td>\n",
       "      <td>A</td>\n",
       "      <td>507</td>\n",
       "    </tr>\n",
       "    <tr>\n",
       "      <th>3</th>\n",
       "      <td>2019-08-04</td>\n",
       "      <td>A</td>\n",
       "      <td>717</td>\n",
       "    </tr>\n",
       "    <tr>\n",
       "      <th>4</th>\n",
       "      <td>2019-08-05</td>\n",
       "      <td>A</td>\n",
       "      <td>756</td>\n",
       "    </tr>\n",
       "  </tbody>\n",
       "</table>\n",
       "</div>"
      ],
      "text/plain": [
       "         date group  visitors\n",
       "0  2019-08-01  A     719     \n",
       "1  2019-08-02  A     619     \n",
       "2  2019-08-03  A     507     \n",
       "3  2019-08-04  A     717     \n",
       "4  2019-08-05  A     756     "
      ]
     },
     "execution_count": 5,
     "metadata": {},
     "output_type": "execute_result"
    }
   ],
   "source": [
    "visitors.head()"
   ]
  },
  {
   "cell_type": "code",
   "execution_count": 6,
   "id": "22b9b064",
   "metadata": {},
   "outputs": [
    {
     "name": "stdout",
     "output_type": "stream",
     "text": [
      "<class 'pandas.core.frame.DataFrame'>\n",
      "RangeIndex: 9 entries, 0 to 8\n",
      "Data columns (total 5 columns):\n",
      " #   Column      Non-Null Count  Dtype \n",
      "---  ------      --------------  ----- \n",
      " 0   Hypothesis  9 non-null      object\n",
      " 1   Reach       9 non-null      int64 \n",
      " 2   Impact      9 non-null      int64 \n",
      " 3   Confidence  9 non-null      int64 \n",
      " 4   Efforts     9 non-null      int64 \n",
      "dtypes: int64(4), object(1)\n",
      "memory usage: 488.0+ bytes\n"
     ]
    }
   ],
   "source": [
    "hypothesis.info()"
   ]
  },
  {
   "cell_type": "code",
   "execution_count": 7,
   "id": "57a33d9c",
   "metadata": {},
   "outputs": [
    {
     "name": "stdout",
     "output_type": "stream",
     "text": [
      "<class 'pandas.core.frame.DataFrame'>\n",
      "RangeIndex: 1197 entries, 0 to 1196\n",
      "Data columns (total 5 columns):\n",
      " #   Column         Non-Null Count  Dtype \n",
      "---  ------         --------------  ----- \n",
      " 0   transactionId  1197 non-null   int64 \n",
      " 1   visitorId      1197 non-null   int64 \n",
      " 2   date           1197 non-null   object\n",
      " 3   revenue        1197 non-null   int64 \n",
      " 4   group          1197 non-null   object\n",
      "dtypes: int64(3), object(2)\n",
      "memory usage: 46.9+ KB\n"
     ]
    }
   ],
   "source": [
    "orders.info()"
   ]
  },
  {
   "cell_type": "code",
   "execution_count": 8,
   "id": "a098cadb",
   "metadata": {},
   "outputs": [
    {
     "name": "stdout",
     "output_type": "stream",
     "text": [
      "<class 'pandas.core.frame.DataFrame'>\n",
      "RangeIndex: 62 entries, 0 to 61\n",
      "Data columns (total 3 columns):\n",
      " #   Column    Non-Null Count  Dtype \n",
      "---  ------    --------------  ----- \n",
      " 0   date      62 non-null     object\n",
      " 1   group     62 non-null     object\n",
      " 2   visitors  62 non-null     int64 \n",
      "dtypes: int64(1), object(2)\n",
      "memory usage: 1.6+ KB\n"
     ]
    }
   ],
   "source": [
    "visitors.info()"
   ]
  },
  {
   "cell_type": "markdown",
   "id": "5e238ccc",
   "metadata": {},
   "source": [
    "The data was downloaded and examined.\n",
    "\n",
    "There are no gaps in the data. The data types for the columns are correct, except for the date columns. These columns need to be converted. And it is also necessary to check the data for duplicates and to ensure that each user is in only 1 group."
   ]
  },
  {
   "cell_type": "markdown",
   "id": "19444d73",
   "metadata": {},
   "source": [
    "## Data preprocessing"
   ]
  },
  {
   "cell_type": "markdown",
   "id": "cc31b4f1",
   "metadata": {},
   "source": [
    "### Data type"
   ]
  },
  {
   "cell_type": "code",
   "execution_count": 9,
   "id": "21842c6b",
   "metadata": {},
   "outputs": [
    {
     "name": "stdout",
     "output_type": "stream",
     "text": [
      "<class 'pandas.core.frame.DataFrame'>\n",
      "RangeIndex: 1197 entries, 0 to 1196\n",
      "Data columns (total 5 columns):\n",
      " #   Column         Non-Null Count  Dtype         \n",
      "---  ------         --------------  -----         \n",
      " 0   transactionId  1197 non-null   int64         \n",
      " 1   visitorId      1197 non-null   int64         \n",
      " 2   date           1197 non-null   datetime64[ns]\n",
      " 3   revenue        1197 non-null   int64         \n",
      " 4   group          1197 non-null   object        \n",
      "dtypes: datetime64[ns](1), int64(3), object(1)\n",
      "memory usage: 46.9+ KB\n"
     ]
    }
   ],
   "source": [
    "orders['date'] = pd.to_datetime(orders['date'], format='%Y-%m-%d')\n",
    "orders.info()"
   ]
  },
  {
   "cell_type": "code",
   "execution_count": 10,
   "id": "0a188d3b",
   "metadata": {},
   "outputs": [
    {
     "name": "stdout",
     "output_type": "stream",
     "text": [
      "<class 'pandas.core.frame.DataFrame'>\n",
      "RangeIndex: 62 entries, 0 to 61\n",
      "Data columns (total 3 columns):\n",
      " #   Column    Non-Null Count  Dtype         \n",
      "---  ------    --------------  -----         \n",
      " 0   date      62 non-null     datetime64[ns]\n",
      " 1   group     62 non-null     object        \n",
      " 2   visitors  62 non-null     int64         \n",
      "dtypes: datetime64[ns](1), int64(1), object(1)\n",
      "memory usage: 1.6+ KB\n"
     ]
    }
   ],
   "source": [
    "visitors['date'] = pd.to_datetime(visitors['date'], format='%Y-%m-%d')\n",
    "visitors.info()"
   ]
  },
  {
   "cell_type": "markdown",
   "id": "50d71bf1",
   "metadata": {},
   "source": [
    "The data type for the date columns was set to ```datetime```."
   ]
  },
  {
   "cell_type": "markdown",
   "id": "8ee63b99",
   "metadata": {},
   "source": [
    "### Check for duplicates"
   ]
  },
  {
   "cell_type": "code",
   "execution_count": 11,
   "id": "eb72786f",
   "metadata": {},
   "outputs": [
    {
     "data": {
      "text/plain": [
       "0"
      ]
     },
     "execution_count": 11,
     "metadata": {},
     "output_type": "execute_result"
    }
   ],
   "source": [
    "hypothesis.duplicated().sum()"
   ]
  },
  {
   "cell_type": "code",
   "execution_count": 12,
   "id": "72fbdd8b",
   "metadata": {},
   "outputs": [
    {
     "data": {
      "text/plain": [
       "0"
      ]
     },
     "execution_count": 12,
     "metadata": {},
     "output_type": "execute_result"
    }
   ],
   "source": [
    "orders.duplicated().sum()"
   ]
  },
  {
   "cell_type": "code",
   "execution_count": 13,
   "id": "17dc8732",
   "metadata": {},
   "outputs": [
    {
     "data": {
      "text/plain": [
       "0"
      ]
     },
     "execution_count": 13,
     "metadata": {},
     "output_type": "execute_result"
    }
   ],
   "source": [
    "visitors.duplicated().sum()"
   ]
  },
  {
   "cell_type": "markdown",
   "id": "9f326f38",
   "metadata": {},
   "source": [
    "No obvious duplicates were identified in the data."
   ]
  },
  {
   "cell_type": "markdown",
   "id": "0e0ac471",
   "metadata": {},
   "source": [
    "### User verification"
   ]
  },
  {
   "cell_type": "code",
   "execution_count": 14,
   "id": "ad88e349",
   "metadata": {},
   "outputs": [
    {
     "data": {
      "text/html": [
       "<div>\n",
       "<style scoped>\n",
       "    .dataframe tbody tr th:only-of-type {\n",
       "        vertical-align: middle;\n",
       "    }\n",
       "\n",
       "    .dataframe tbody tr th {\n",
       "        vertical-align: top;\n",
       "    }\n",
       "\n",
       "    .dataframe thead th {\n",
       "        text-align: right;\n",
       "    }\n",
       "</style>\n",
       "<table border=\"1\" class=\"dataframe\">\n",
       "  <thead>\n",
       "    <tr style=\"text-align: right;\">\n",
       "      <th></th>\n",
       "      <th>visitorId</th>\n",
       "    </tr>\n",
       "    <tr>\n",
       "      <th>group</th>\n",
       "      <th></th>\n",
       "    </tr>\n",
       "  </thead>\n",
       "  <tbody>\n",
       "    <tr>\n",
       "      <th>A</th>\n",
       "      <td>503</td>\n",
       "    </tr>\n",
       "    <tr>\n",
       "      <th>B</th>\n",
       "      <td>586</td>\n",
       "    </tr>\n",
       "  </tbody>\n",
       "</table>\n",
       "</div>"
      ],
      "text/plain": [
       "       visitorId\n",
       "group           \n",
       "A      503      \n",
       "B      586      "
      ]
     },
     "execution_count": 14,
     "metadata": {},
     "output_type": "execute_result"
    }
   ],
   "source": [
    "orders.groupby('group').agg({'visitorId': 'nunique'})"
   ]
  },
  {
   "cell_type": "code",
   "execution_count": 15,
   "id": "be236a4f",
   "metadata": {},
   "outputs": [
    {
     "data": {
      "text/plain": [
       "1031"
      ]
     },
     "execution_count": 15,
     "metadata": {},
     "output_type": "execute_result"
    }
   ],
   "source": [
    "orders['visitorId'].nunique()"
   ]
  },
  {
   "cell_type": "markdown",
   "id": "1e5d4d42",
   "metadata": {},
   "source": [
    "Some kind of discrepancy. 503+586 = 1089, although there are only 1031 unique users. Apparently some users fell into both? groups or some errors occurred during data collection and users did not correctly record its group."
   ]
  },
  {
   "cell_type": "code",
   "execution_count": 16,
   "id": "af9a58d0",
   "metadata": {},
   "outputs": [
    {
     "data": {
      "text/plain": [
       "(58,)"
      ]
     },
     "execution_count": 16,
     "metadata": {},
     "output_type": "execute_result"
    }
   ],
   "source": [
    "user_in_2_group = orders.groupby('visitorId', as_index=False).agg({'group': 'nunique'}).query('group >= 2')['visitorId']\n",
    "user_in_2_group.shape"
   ]
  },
  {
   "cell_type": "markdown",
   "id": "d947a67a",
   "metadata": {},
   "source": [
    "58 users were recorded in 2 groups, let's see what percentage of all data is information about the orders of these users."
   ]
  },
  {
   "cell_type": "code",
   "execution_count": 17,
   "id": "3f697bea",
   "metadata": {},
   "outputs": [
    {
     "data": {
      "text/plain": [
       "15.121136173767752"
      ]
     },
     "execution_count": 17,
     "metadata": {},
     "output_type": "execute_result"
    }
   ],
   "source": [
    "len(orders[orders['visitorId'].isin(user_in_2_group)]) * 100 / len(orders) "
   ]
  },
  {
   "cell_type": "markdown",
   "id": "23824f9d",
   "metadata": {},
   "source": [
    "To delete 15% of the data is a lot, so you will have to leave it as is, since this is an obvious problem with the data set for testing."
   ]
  },
  {
   "cell_type": "markdown",
   "id": "be265291",
   "metadata": {},
   "source": [
    "### Conclusion"
   ]
  },
  {
   "cell_type": "markdown",
   "id": "3153de29",
   "metadata": {},
   "source": [
    "- the data was initially of good quality,\n",
    "- there are no obvious duplicates in the data,\n",
    "- there are no gaps in the data,\n",
    "- date columns have been converted to the ```datetime``` type,\n",
    "- a problem with the data set was identified; there are users who are in two groups at the same time."
   ]
  },
  {
   "cell_type": "markdown",
   "id": "a46c6374",
   "metadata": {},
   "source": [
    "## Prioritization of hypotheses"
   ]
  },
  {
   "cell_type": "markdown",
   "id": "c5d3577c",
   "metadata": {},
   "source": [
    "### ICE Framework"
   ]
  },
  {
   "cell_type": "code",
   "execution_count": 18,
   "id": "8c8c464f",
   "metadata": {},
   "outputs": [
    {
     "data": {
      "text/html": [
       "<div>\n",
       "<style scoped>\n",
       "    .dataframe tbody tr th:only-of-type {\n",
       "        vertical-align: middle;\n",
       "    }\n",
       "\n",
       "    .dataframe tbody tr th {\n",
       "        vertical-align: top;\n",
       "    }\n",
       "\n",
       "    .dataframe thead th {\n",
       "        text-align: right;\n",
       "    }\n",
       "</style>\n",
       "<table border=\"1\" class=\"dataframe\">\n",
       "  <thead>\n",
       "    <tr style=\"text-align: right;\">\n",
       "      <th></th>\n",
       "      <th>Hypothesis</th>\n",
       "      <th>ICE</th>\n",
       "    </tr>\n",
       "  </thead>\n",
       "  <tbody>\n",
       "    <tr>\n",
       "      <th>8</th>\n",
       "      <td>Запустить акцию, дающую скидку на товар в день рождения</td>\n",
       "      <td>16.20</td>\n",
       "    </tr>\n",
       "    <tr>\n",
       "      <th>0</th>\n",
       "      <td>Добавить два новых канала привлечения трафика, что позволит привлекать на 30% больше пользователей</td>\n",
       "      <td>13.33</td>\n",
       "    </tr>\n",
       "    <tr>\n",
       "      <th>7</th>\n",
       "      <td>Добавить форму подписки на все основные страницы, чтобы собрать базу клиентов для email-рассылок</td>\n",
       "      <td>11.20</td>\n",
       "    </tr>\n",
       "    <tr>\n",
       "      <th>6</th>\n",
       "      <td>Показать на главной странице баннеры с актуальными акциями и распродажами, чтобы увеличить конверсию</td>\n",
       "      <td>8.00</td>\n",
       "    </tr>\n",
       "    <tr>\n",
       "      <th>2</th>\n",
       "      <td>Добавить блоки рекомендаций товаров на сайт интернет магазина, чтобы повысить конверсию и средний чек заказа</td>\n",
       "      <td>7.00</td>\n",
       "    </tr>\n",
       "    <tr>\n",
       "      <th>1</th>\n",
       "      <td>Запустить собственную службу доставки, что сократит срок доставки заказов</td>\n",
       "      <td>2.00</td>\n",
       "    </tr>\n",
       "    <tr>\n",
       "      <th>5</th>\n",
       "      <td>Добавить страницу отзывов клиентов о магазине, что позволит увеличить количество заказов</td>\n",
       "      <td>1.33</td>\n",
       "    </tr>\n",
       "    <tr>\n",
       "      <th>3</th>\n",
       "      <td>Изменить структура категорий, что увеличит конверсию, т.к. пользователи быстрее найдут нужный товар</td>\n",
       "      <td>1.12</td>\n",
       "    </tr>\n",
       "    <tr>\n",
       "      <th>4</th>\n",
       "      <td>Изменить цвет фона главной страницы, чтобы увеличить вовлеченность пользователей</td>\n",
       "      <td>1.00</td>\n",
       "    </tr>\n",
       "  </tbody>\n",
       "</table>\n",
       "</div>"
      ],
      "text/plain": [
       "                                                                                                     Hypothesis  \\\n",
       "8  Запустить акцию, дающую скидку на товар в день рождения                                                        \n",
       "0  Добавить два новых канала привлечения трафика, что позволит привлекать на 30% больше пользователей             \n",
       "7  Добавить форму подписки на все основные страницы, чтобы собрать базу клиентов для email-рассылок               \n",
       "6  Показать на главной странице баннеры с актуальными акциями и распродажами, чтобы увеличить конверсию           \n",
       "2  Добавить блоки рекомендаций товаров на сайт интернет магазина, чтобы повысить конверсию и средний чек заказа   \n",
       "1  Запустить собственную службу доставки, что сократит срок доставки заказов                                      \n",
       "5  Добавить страницу отзывов клиентов о магазине, что позволит увеличить количество заказов                       \n",
       "3  Изменить структура категорий, что увеличит конверсию, т.к. пользователи быстрее найдут нужный товар            \n",
       "4  Изменить цвет фона главной страницы, чтобы увеличить вовлеченность пользователей                               \n",
       "\n",
       "     ICE  \n",
       "8  16.20  \n",
       "0  13.33  \n",
       "7  11.20  \n",
       "6  8.00   \n",
       "2  7.00   \n",
       "1  2.00   \n",
       "5  1.33   \n",
       "3  1.12   \n",
       "4  1.00   "
      ]
     },
     "execution_count": 18,
     "metadata": {},
     "output_type": "execute_result"
    }
   ],
   "source": [
    "hypothesis['ICE'] = round(hypothesis['Impact'] * hypothesis['Confidence'] / hypothesis['Efforts'], 2)\n",
    "hypothesis[['Hypothesis', 'ICE']].sort_values(by='ICE', ascending=False)"
   ]
  },
  {
   "cell_type": "markdown",
   "id": "41000bc6",
   "metadata": {},
   "source": [
    "### RICE framework"
   ]
  },
  {
   "cell_type": "code",
   "execution_count": 19,
   "id": "f2ece07c",
   "metadata": {},
   "outputs": [
    {
     "data": {
      "text/html": [
       "<div>\n",
       "<style scoped>\n",
       "    .dataframe tbody tr th:only-of-type {\n",
       "        vertical-align: middle;\n",
       "    }\n",
       "\n",
       "    .dataframe tbody tr th {\n",
       "        vertical-align: top;\n",
       "    }\n",
       "\n",
       "    .dataframe thead th {\n",
       "        text-align: right;\n",
       "    }\n",
       "</style>\n",
       "<table border=\"1\" class=\"dataframe\">\n",
       "  <thead>\n",
       "    <tr style=\"text-align: right;\">\n",
       "      <th></th>\n",
       "      <th>Hypothesis</th>\n",
       "      <th>RICE</th>\n",
       "    </tr>\n",
       "  </thead>\n",
       "  <tbody>\n",
       "    <tr>\n",
       "      <th>7</th>\n",
       "      <td>Добавить форму подписки на все основные страницы, чтобы собрать базу клиентов для email-рассылок</td>\n",
       "      <td>112.0</td>\n",
       "    </tr>\n",
       "    <tr>\n",
       "      <th>2</th>\n",
       "      <td>Добавить блоки рекомендаций товаров на сайт интернет магазина, чтобы повысить конверсию и средний чек заказа</td>\n",
       "      <td>56.0</td>\n",
       "    </tr>\n",
       "    <tr>\n",
       "      <th>0</th>\n",
       "      <td>Добавить два новых канала привлечения трафика, что позволит привлекать на 30% больше пользователей</td>\n",
       "      <td>40.0</td>\n",
       "    </tr>\n",
       "    <tr>\n",
       "      <th>6</th>\n",
       "      <td>Показать на главной странице баннеры с актуальными акциями и распродажами, чтобы увеличить конверсию</td>\n",
       "      <td>40.0</td>\n",
       "    </tr>\n",
       "    <tr>\n",
       "      <th>8</th>\n",
       "      <td>Запустить акцию, дающую скидку на товар в день рождения</td>\n",
       "      <td>16.2</td>\n",
       "    </tr>\n",
       "    <tr>\n",
       "      <th>3</th>\n",
       "      <td>Изменить структура категорий, что увеличит конверсию, т.к. пользователи быстрее найдут нужный товар</td>\n",
       "      <td>9.0</td>\n",
       "    </tr>\n",
       "    <tr>\n",
       "      <th>1</th>\n",
       "      <td>Запустить собственную службу доставки, что сократит срок доставки заказов</td>\n",
       "      <td>4.0</td>\n",
       "    </tr>\n",
       "    <tr>\n",
       "      <th>5</th>\n",
       "      <td>Добавить страницу отзывов клиентов о магазине, что позволит увеличить количество заказов</td>\n",
       "      <td>4.0</td>\n",
       "    </tr>\n",
       "    <tr>\n",
       "      <th>4</th>\n",
       "      <td>Изменить цвет фона главной страницы, чтобы увеличить вовлеченность пользователей</td>\n",
       "      <td>3.0</td>\n",
       "    </tr>\n",
       "  </tbody>\n",
       "</table>\n",
       "</div>"
      ],
      "text/plain": [
       "                                                                                                     Hypothesis  \\\n",
       "7  Добавить форму подписки на все основные страницы, чтобы собрать базу клиентов для email-рассылок               \n",
       "2  Добавить блоки рекомендаций товаров на сайт интернет магазина, чтобы повысить конверсию и средний чек заказа   \n",
       "0  Добавить два новых канала привлечения трафика, что позволит привлекать на 30% больше пользователей             \n",
       "6  Показать на главной странице баннеры с актуальными акциями и распродажами, чтобы увеличить конверсию           \n",
       "8  Запустить акцию, дающую скидку на товар в день рождения                                                        \n",
       "3  Изменить структура категорий, что увеличит конверсию, т.к. пользователи быстрее найдут нужный товар            \n",
       "1  Запустить собственную службу доставки, что сократит срок доставки заказов                                      \n",
       "5  Добавить страницу отзывов клиентов о магазине, что позволит увеличить количество заказов                       \n",
       "4  Изменить цвет фона главной страницы, чтобы увеличить вовлеченность пользователей                               \n",
       "\n",
       "    RICE  \n",
       "7  112.0  \n",
       "2  56.0   \n",
       "0  40.0   \n",
       "6  40.0   \n",
       "8  16.2   \n",
       "3  9.0    \n",
       "1  4.0    \n",
       "5  4.0    \n",
       "4  3.0    "
      ]
     },
     "execution_count": 19,
     "metadata": {},
     "output_type": "execute_result"
    }
   ],
   "source": [
    "hypothesis['RICE'] = round(hypothesis['Reach'] * hypothesis['Impact'] * hypothesis['Confidence'] / hypothesis['Efforts'], 2)\n",
    "hypothesis[['Hypothesis', 'RICE']].sort_values(by='RICE', ascending=False)"
   ]
  },
  {
   "cell_type": "markdown",
   "id": "197cee5f",
   "metadata": {},
   "source": [
    "### Conclusion"
   ]
  },
  {
   "cell_type": "markdown",
   "id": "18a00482",
   "metadata": {},
   "source": [
    "The prioritization of hypotheses was different for different methods.\n",
    "\n",
    "The ICE framework prioritizes hypotheses based on the impact of that hypothesis on the user experience, confidence in that impact, and the effort required to test that hypothesis.\n",
    "\n",
    "The RICE framework also prioritizes hypotheses based on how many users the hypothesis might affect.\n",
    "\n",
    "**TOP 3** hypotheses using the **ICE framework**:\n",
    "- Launch a promotion giving a discount on a product on your birthday;\n",
    "- Add two new channels for attracting traffic, which will attract 30% more users;\n",
    "- Add a subscription form to all main pages to collect a customer base for email newsletters.\n",
    "\n",
    "**TOP 3** hypotheses using **RICE framework**:\n",
    "- Add a subscription form to all main pages to collect a customer base for email newsletters;\n",
    "- Add blocks of product recommendations to the online store website to increase conversion and average order receipt;\n",
    "- Add two new channels for attracting traffic, which will attract 30% more users.\n",
    "\n",
    "When using the RICE framework, hypotheses rose up that could affect more users."
   ]
  },
  {
   "cell_type": "markdown",
   "id": "c54a017f",
   "metadata": {},
   "source": [
    "## A/B test analysis"
   ]
  },
  {
   "cell_type": "markdown",
   "id": "36d22282",
   "metadata": {},
   "source": [
    "### Revenue by group over time"
   ]
  },
  {
   "cell_type": "code",
   "execution_count": 20,
   "id": "e9047be1",
   "metadata": {},
   "outputs": [
    {
     "data": {
      "text/html": [
       "<div>\n",
       "<style scoped>\n",
       "    .dataframe tbody tr th:only-of-type {\n",
       "        vertical-align: middle;\n",
       "    }\n",
       "\n",
       "    .dataframe tbody tr th {\n",
       "        vertical-align: top;\n",
       "    }\n",
       "\n",
       "    .dataframe thead th {\n",
       "        text-align: right;\n",
       "    }\n",
       "</style>\n",
       "<table border=\"1\" class=\"dataframe\">\n",
       "  <thead>\n",
       "    <tr style=\"text-align: right;\">\n",
       "      <th></th>\n",
       "      <th>date</th>\n",
       "      <th>revenue</th>\n",
       "      <th>orders</th>\n",
       "    </tr>\n",
       "  </thead>\n",
       "  <tbody>\n",
       "    <tr>\n",
       "      <th>0</th>\n",
       "      <td>2019-08-01</td>\n",
       "      <td>148579</td>\n",
       "      <td>24</td>\n",
       "    </tr>\n",
       "    <tr>\n",
       "      <th>1</th>\n",
       "      <td>2019-08-02</td>\n",
       "      <td>242401</td>\n",
       "      <td>44</td>\n",
       "    </tr>\n",
       "    <tr>\n",
       "      <th>2</th>\n",
       "      <td>2019-08-03</td>\n",
       "      <td>354874</td>\n",
       "      <td>68</td>\n",
       "    </tr>\n",
       "    <tr>\n",
       "      <th>3</th>\n",
       "      <td>2019-08-04</td>\n",
       "      <td>425699</td>\n",
       "      <td>84</td>\n",
       "    </tr>\n",
       "    <tr>\n",
       "      <th>4</th>\n",
       "      <td>2019-08-05</td>\n",
       "      <td>549917</td>\n",
       "      <td>109</td>\n",
       "    </tr>\n",
       "  </tbody>\n",
       "</table>\n",
       "</div>"
      ],
      "text/plain": [
       "        date  revenue  orders\n",
       "0 2019-08-01  148579   24    \n",
       "1 2019-08-02  242401   44    \n",
       "2 2019-08-03  354874   68    \n",
       "3 2019-08-04  425699   84    \n",
       "4 2019-08-05  549917   109   "
      ]
     },
     "execution_count": 20,
     "metadata": {},
     "output_type": "execute_result"
    }
   ],
   "source": [
    "cumulative_revenue_A = (\n",
    "    orders[orders['group'] == 'A']\n",
    "    .sort_values(by='date')\n",
    "    .groupby('date')\n",
    "    .agg({'revenue': 'sum', 'transactionId': 'nunique'})\n",
    "    .cumsum()\n",
    "    .reset_index()\n",
    ")\n",
    "cumulative_revenue_A.columns = ['date', 'revenue', 'orders']\n",
    "cumulative_revenue_A.head()"
   ]
  },
  {
   "cell_type": "code",
   "execution_count": 21,
   "id": "ceb59180",
   "metadata": {},
   "outputs": [
    {
     "data": {
      "text/html": [
       "<div>\n",
       "<style scoped>\n",
       "    .dataframe tbody tr th:only-of-type {\n",
       "        vertical-align: middle;\n",
       "    }\n",
       "\n",
       "    .dataframe tbody tr th {\n",
       "        vertical-align: top;\n",
       "    }\n",
       "\n",
       "    .dataframe thead th {\n",
       "        text-align: right;\n",
       "    }\n",
       "</style>\n",
       "<table border=\"1\" class=\"dataframe\">\n",
       "  <thead>\n",
       "    <tr style=\"text-align: right;\">\n",
       "      <th></th>\n",
       "      <th>date</th>\n",
       "      <th>revenue</th>\n",
       "      <th>orders</th>\n",
       "    </tr>\n",
       "  </thead>\n",
       "  <tbody>\n",
       "    <tr>\n",
       "      <th>0</th>\n",
       "      <td>2019-08-01</td>\n",
       "      <td>101217</td>\n",
       "      <td>21</td>\n",
       "    </tr>\n",
       "    <tr>\n",
       "      <th>1</th>\n",
       "      <td>2019-08-02</td>\n",
       "      <td>266748</td>\n",
       "      <td>45</td>\n",
       "    </tr>\n",
       "    <tr>\n",
       "      <th>2</th>\n",
       "      <td>2019-08-03</td>\n",
       "      <td>380996</td>\n",
       "      <td>61</td>\n",
       "    </tr>\n",
       "    <tr>\n",
       "      <th>3</th>\n",
       "      <td>2019-08-04</td>\n",
       "      <td>489567</td>\n",
       "      <td>78</td>\n",
       "    </tr>\n",
       "    <tr>\n",
       "      <th>4</th>\n",
       "      <td>2019-08-05</td>\n",
       "      <td>581995</td>\n",
       "      <td>101</td>\n",
       "    </tr>\n",
       "  </tbody>\n",
       "</table>\n",
       "</div>"
      ],
      "text/plain": [
       "        date  revenue  orders\n",
       "0 2019-08-01  101217   21    \n",
       "1 2019-08-02  266748   45    \n",
       "2 2019-08-03  380996   61    \n",
       "3 2019-08-04  489567   78    \n",
       "4 2019-08-05  581995   101   "
      ]
     },
     "execution_count": 21,
     "metadata": {},
     "output_type": "execute_result"
    }
   ],
   "source": [
    "cumulative_revenue_B = (\n",
    "    orders[orders['group'] == 'B']\n",
    "    .sort_values(by='date')\n",
    "    .groupby('date')\n",
    "    .agg({'revenue': 'sum', 'transactionId': 'nunique'})\n",
    "    .cumsum()\n",
    "    .reset_index()\n",
    ")\n",
    "cumulative_revenue_B.columns = ['date', 'revenue', 'orders']\n",
    "cumulative_revenue_B.head()"
   ]
  },
  {
   "cell_type": "code",
   "execution_count": 22,
   "id": "ba68f5b5",
   "metadata": {
    "scrolled": true
   },
   "outputs": [
    {
     "data": {
      "text/plain": [
       "Text(0.5, 0, 'Date')"
      ]
     },
     "execution_count": 22,
     "metadata": {},
     "output_type": "execute_result"
    },
    {
     "data": {
      "image/png": "[encoded data removed]",
      "text/plain": [
       "<Figure size 720x432 with 1 Axes>"
      ]
     },
     "metadata": {
      "needs_background": "light"
     },
     "output_type": "display_data"
    }
   ],
   "source": [
    "plt.figure(figsize=(10,6))\n",
    "plt.plot(cumulative_revenue_A['date'], cumulative_revenue_A['revenue'], label='A')\n",
    "plt.plot(cumulative_revenue_B['date'], cumulative_revenue_B['revenue'], label='B')\n",
    "plt.legend()\n",
    "plt.title('Cumulative revenue chart by group')\n",
    "plt.ylabel('Revenue')\n",
    "plt.xlabel('Date')"
   ]
  },
  {
   "cell_type": "markdown",
   "id": "e466c6bd",
   "metadata": {},
   "source": [
    "At the beginning of the test, the cumulative revenue of both groups was approximately the same. From August 5, group B began to overtake group A in terms of revenue, but on August 13, group A overtook group B in terms of revenue. Then group B began to actively overtake group A, a sharp jump in group B’s revenue was visible, and perhaps an abnormally large purchase was made. Towards the end, the data in the graph became more static, the revenues of both groups are statically growing, and group B has statically more revenue than group A."
   ]
  },
  {
   "cell_type": "markdown",
   "id": "fe2334be",
   "metadata": {},
   "source": [
    "### Average check by group over time"
   ]
  },
  {
   "cell_type": "code",
   "execution_count": 23,
   "id": "9b2e4b16",
   "metadata": {},
   "outputs": [
    {
     "data": {
      "text/plain": [
       "Text(0.5, 0, 'Date')"
      ]
     },
     "execution_count": 23,
     "metadata": {},
     "output_type": "execute_result"
    },
    {
     "data": {
      "image/png": "[encoded data removed]",
      "text/plain": [
       "<Figure size 720x432 with 1 Axes>"
      ]
     },
     "metadata": {
      "needs_background": "light"
     },
     "output_type": "display_data"
    }
   ],
   "source": [
    "plt.figure(figsize=(10,6))\n",
    "plt.plot(cumulative_revenue_A['date'], cumulative_revenue_A['revenue']/cumulative_revenue_A['orders'], label='A')\n",
    "plt.plot(cumulative_revenue_B['date'], cumulative_revenue_B['revenue']/cumulative_revenue_B['orders'], label='B')\n",
    "plt.legend()\n",
    "plt.title('Graph of cumulative average bill by group')\n",
    "plt.ylabel('Average check')\n",
    "plt.xlabel('Date')"
   ]
  },
  {
   "cell_type": "markdown",
   "id": "d55d29a3",
   "metadata": {},
   "source": [
    "The cumulative graph of the average check shows more clearly how the average check grew by group over time. The growth and decline of the average bill approximately coincides with the revenue graph. A jump in group B in mid-August is also clearly visible, and this jump gradually began to fall. Perhaps there was some external factor that greatly influenced group B, but over time it began to subside. At the end of the graph, you can see that the average check of group B is falling, and the average check of group A is slowly growing."
   ]
  },
  {
   "cell_type": "markdown",
   "id": "682a1d9d",
   "metadata": {},
   "source": [
    "### Relative change in the cumulative average bill of group B to group A"
   ]
  },
  {
   "cell_type": "code",
   "execution_count": 24,
   "id": "98cb6fd7",
   "metadata": {},
   "outputs": [
    {
     "data": {
      "text/plain": [
       "Text(0.5, 0, 'Date')"
      ]
     },
     "execution_count": 24,
     "metadata": {},
     "output_type": "execute_result"
    },
    {
     "data": {
      "image/png": "[encoded data removed]",
      "text/plain": [
       "<Figure size 720x432 with 1 Axes>"
      ]
     },
     "metadata": {
      "needs_background": "light"
     },
     "output_type": "display_data"
    }
   ],
   "source": [
    "plt.figure(figsize=(10,6))\n",
    "plt.plot(\n",
    "    cumulative_revenue_A['date'], (cumulative_revenue_B['revenue']/cumulative_revenue_B['orders'])/(cumulative_revenue_A['revenue']/cumulative_revenue_A['orders'])-1\n",
    ")\n",
    "plt.axhline(y=0, color='black', linestyle='--')\n",
    "plt.axhline(y=0.26, color='grey', linestyle='--')\n",
    "plt.title('Graph of relative changes in the cumulative average bill of group B to group A')\n",
    "plt.ylabel('Difference in average check of groups (B / A)')\n",
    "plt.xlabel('Date')"
   ]
  },
  {
   "cell_type": "markdown",
   "id": "0683a4d6",
   "metadata": {},
   "source": [
    "The graph of the cumulative average check of group B in relation to group A fluctuated during the test, at first it rose sharply, then fell sharply and again rose sharply, where it reached its maximum of approximately 50% and began to gradually fall again, the last test value being 26%. There are likely anomalous values in the data that are causing the graph to fluctuate so much."
   ]
  },
  {
   "cell_type": "markdown",
   "id": "535fb904",
   "metadata": {},
   "source": [
    "### Average number of orders per visitor by group over time"
   ]
  },
  {
   "cell_type": "code",
   "execution_count": 25,
   "id": "9b1fb192",
   "metadata": {},
   "outputs": [
    {
     "data": {
      "text/html": [
       "<div>\n",
       "<style scoped>\n",
       "    .dataframe tbody tr th:only-of-type {\n",
       "        vertical-align: middle;\n",
       "    }\n",
       "\n",
       "    .dataframe tbody tr th {\n",
       "        vertical-align: top;\n",
       "    }\n",
       "\n",
       "    .dataframe thead th {\n",
       "        text-align: right;\n",
       "    }\n",
       "</style>\n",
       "<table border=\"1\" class=\"dataframe\">\n",
       "  <thead>\n",
       "    <tr style=\"text-align: right;\">\n",
       "      <th></th>\n",
       "      <th>date</th>\n",
       "      <th>revenue</th>\n",
       "      <th>orders</th>\n",
       "      <th>visitors</th>\n",
       "    </tr>\n",
       "  </thead>\n",
       "  <tbody>\n",
       "    <tr>\n",
       "      <th>0</th>\n",
       "      <td>2019-08-01</td>\n",
       "      <td>148579</td>\n",
       "      <td>24</td>\n",
       "      <td>719</td>\n",
       "    </tr>\n",
       "    <tr>\n",
       "      <th>1</th>\n",
       "      <td>2019-08-02</td>\n",
       "      <td>242401</td>\n",
       "      <td>44</td>\n",
       "      <td>1338</td>\n",
       "    </tr>\n",
       "    <tr>\n",
       "      <th>2</th>\n",
       "      <td>2019-08-03</td>\n",
       "      <td>354874</td>\n",
       "      <td>68</td>\n",
       "      <td>1845</td>\n",
       "    </tr>\n",
       "    <tr>\n",
       "      <th>3</th>\n",
       "      <td>2019-08-04</td>\n",
       "      <td>425699</td>\n",
       "      <td>84</td>\n",
       "      <td>2562</td>\n",
       "    </tr>\n",
       "    <tr>\n",
       "      <th>4</th>\n",
       "      <td>2019-08-05</td>\n",
       "      <td>549917</td>\n",
       "      <td>109</td>\n",
       "      <td>3318</td>\n",
       "    </tr>\n",
       "  </tbody>\n",
       "</table>\n",
       "</div>"
      ],
      "text/plain": [
       "        date  revenue  orders  visitors\n",
       "0 2019-08-01  148579   24      719     \n",
       "1 2019-08-02  242401   44      1338    \n",
       "2 2019-08-03  354874   68      1845    \n",
       "3 2019-08-04  425699   84      2562    \n",
       "4 2019-08-05  549917   109     3318    "
      ]
     },
     "execution_count": 25,
     "metadata": {},
     "output_type": "execute_result"
    }
   ],
   "source": [
    "visitors_by_A = visitors.query('group == \"A\"')[['date', 'visitors']]\n",
    "cumulative_revenue_A = cumulative_revenue_A.merge(visitors_by_A, on='date')\n",
    "cumulative_revenue_A['visitors'] = cumulative_revenue_A['visitors'].cumsum()\n",
    "cumulative_revenue_A.head()"
   ]
  },
  {
   "cell_type": "code",
   "execution_count": 26,
   "id": "4857ceda",
   "metadata": {},
   "outputs": [
    {
     "data": {
      "text/html": [
       "<div>\n",
       "<style scoped>\n",
       "    .dataframe tbody tr th:only-of-type {\n",
       "        vertical-align: middle;\n",
       "    }\n",
       "\n",
       "    .dataframe tbody tr th {\n",
       "        vertical-align: top;\n",
       "    }\n",
       "\n",
       "    .dataframe thead th {\n",
       "        text-align: right;\n",
       "    }\n",
       "</style>\n",
       "<table border=\"1\" class=\"dataframe\">\n",
       "  <thead>\n",
       "    <tr style=\"text-align: right;\">\n",
       "      <th></th>\n",
       "      <th>date</th>\n",
       "      <th>revenue</th>\n",
       "      <th>orders</th>\n",
       "      <th>visitors</th>\n",
       "    </tr>\n",
       "  </thead>\n",
       "  <tbody>\n",
       "    <tr>\n",
       "      <th>0</th>\n",
       "      <td>2019-08-01</td>\n",
       "      <td>101217</td>\n",
       "      <td>21</td>\n",
       "      <td>713</td>\n",
       "    </tr>\n",
       "    <tr>\n",
       "      <th>1</th>\n",
       "      <td>2019-08-02</td>\n",
       "      <td>266748</td>\n",
       "      <td>45</td>\n",
       "      <td>1294</td>\n",
       "    </tr>\n",
       "    <tr>\n",
       "      <th>2</th>\n",
       "      <td>2019-08-03</td>\n",
       "      <td>380996</td>\n",
       "      <td>61</td>\n",
       "      <td>1803</td>\n",
       "    </tr>\n",
       "    <tr>\n",
       "      <th>3</th>\n",
       "      <td>2019-08-04</td>\n",
       "      <td>489567</td>\n",
       "      <td>78</td>\n",
       "      <td>2573</td>\n",
       "    </tr>\n",
       "    <tr>\n",
       "      <th>4</th>\n",
       "      <td>2019-08-05</td>\n",
       "      <td>581995</td>\n",
       "      <td>101</td>\n",
       "      <td>3280</td>\n",
       "    </tr>\n",
       "  </tbody>\n",
       "</table>\n",
       "</div>"
      ],
      "text/plain": [
       "        date  revenue  orders  visitors\n",
       "0 2019-08-01  101217   21      713     \n",
       "1 2019-08-02  266748   45      1294    \n",
       "2 2019-08-03  380996   61      1803    \n",
       "3 2019-08-04  489567   78      2573    \n",
       "4 2019-08-05  581995   101     3280    "
      ]
     },
     "execution_count": 26,
     "metadata": {},
     "output_type": "execute_result"
    }
   ],
   "source": [
    "visitors_by_B = visitors.query('group == \"B\"')[['date', 'visitors']]\n",
    "cumulative_revenue_B = cumulative_revenue_B.merge(visitors_by_B, on='date')\n",
    "cumulative_revenue_B['visitors'] = cumulative_revenue_B['visitors'].cumsum()\n",
    "cumulative_revenue_B.head()"
   ]
  },
  {
   "cell_type": "code",
   "execution_count": 27,
   "id": "5cf8f5f7",
   "metadata": {},
   "outputs": [
    {
     "data": {
      "text/plain": [
       "(0.02, 0.04)"
      ]
     },
     "execution_count": 27,
     "metadata": {},
     "output_type": "execute_result"
    },
    {
     "data": {
      "image/png": "[encoded data removed]",
      "text/plain": [
       "<Figure size 720x432 with 1 Axes>"
      ]
     },
     "metadata": {
      "needs_background": "light"
     },
     "output_type": "display_data"
    }
   ],
   "source": [
    "plt.figure(figsize=(10,6))\n",
    "plt.plot(cumulative_revenue_A['date'], cumulative_revenue_A['orders']/cumulative_revenue_A['visitors'], label='A')\n",
    "plt.plot(cumulative_revenue_B['date'], cumulative_revenue_B['orders']/cumulative_revenue_B['visitors'], label='B')\n",
    "plt.legend()\n",
    "plt.title('Graph of cumulative average number of orders per visitor by group')\n",
    "plt.ylabel('Average number of orders per visitor')\n",
    "plt.xlabel('Date')\n",
    "plt.ylim([0.02, 0.04])"
   ]
  },
  {
   "cell_type": "markdown",
   "id": "b00ececd",
   "metadata": {},
   "source": [
    "Looking at the graph of the cumulative average number of orders per visitor by group, you can see that at the beginning of the test there are jumps in the data, most likely the graph looks like this because there was little data, then the average number of orders per visitor for both groups begins to take a more stable form. Group B has on average slightly more orders per visitor than Group A."
   ]
  },
  {
   "cell_type": "markdown",
   "id": "2465ddf9",
   "metadata": {},
   "source": [
    "### Relative change in the cumulative average number of orders per visitor of group B to group A"
   ]
  },
  {
   "cell_type": "code",
   "execution_count": 28,
   "id": "a2eb4115",
   "metadata": {},
   "outputs": [
    {
     "data": {
      "text/plain": [
       "Text(0.5, 0, 'Date')"
      ]
     },
     "execution_count": 28,
     "metadata": {},
     "output_type": "execute_result"
    },
    {
     "data": {
      "image/png": "[encoded data removed]",
      "text/plain": [
       "<Figure size 720x432 with 1 Axes>"
      ]
     },
     "metadata": {
      "needs_background": "light"
     },
     "output_type": "display_data"
    }
   ],
   "source": [
    "plt.figure(figsize=(10,6))\n",
    "plt.plot(\n",
    "    cumulative_revenue_A['date'], (cumulative_revenue_B['orders']/cumulative_revenue_B['visitors'])/(cumulative_revenue_A['orders']/cumulative_revenue_A['visitors'])-1\n",
    ")\n",
    "plt.axhline(y=0, color='black', linestyle='--')\n",
    "plt.axhline(y=0.14, color='grey', linestyle='--')\n",
    "plt.title('Graph of the relative change in the cumulative average number of orders per visitor of group B to group A')\n",
    "plt.ylabel('Difference in the average number of orders\\nper visitor between groups (B / A)')\n",
    "plt.xlabel('Date')"
   ]
  },
  {
   "cell_type": "markdown",
   "id": "d6ef6659",
   "metadata": {},
   "source": [
    "At the beginning of the test, the average number of orders per visitor for group B relative to group A fluctuates. Then group B takes the lead and its performance relative to group A improves. At the end of the test, group B is 14% ahead of group A.\n",
    "At the beginning of August there was a sharp increase in the indicator; perhaps the number of orders from group B increased sharply compared to group A, or the number of visitors decreased, but the number of orders remained the same."
   ]
  },
  {
   "cell_type": "markdown",
   "id": "b178e186",
   "metadata": {},
   "source": [
    "### Number of orders by user"
   ]
  },
  {
   "cell_type": "code",
   "execution_count": 29,
   "id": "e7631c93",
   "metadata": {},
   "outputs": [
    {
     "data": {
      "text/html": [
       "<div>\n",
       "<style scoped>\n",
       "    .dataframe tbody tr th:only-of-type {\n",
       "        vertical-align: middle;\n",
       "    }\n",
       "\n",
       "    .dataframe tbody tr th {\n",
       "        vertical-align: top;\n",
       "    }\n",
       "\n",
       "    .dataframe thead th {\n",
       "        text-align: right;\n",
       "    }\n",
       "</style>\n",
       "<table border=\"1\" class=\"dataframe\">\n",
       "  <thead>\n",
       "    <tr style=\"text-align: right;\">\n",
       "      <th></th>\n",
       "      <th>user</th>\n",
       "      <th>orders</th>\n",
       "    </tr>\n",
       "  </thead>\n",
       "  <tbody>\n",
       "    <tr>\n",
       "      <th>0</th>\n",
       "      <td>5114589</td>\n",
       "      <td>1</td>\n",
       "    </tr>\n",
       "    <tr>\n",
       "      <th>1</th>\n",
       "      <td>6958315</td>\n",
       "      <td>1</td>\n",
       "    </tr>\n",
       "    <tr>\n",
       "      <th>2</th>\n",
       "      <td>8300375</td>\n",
       "      <td>2</td>\n",
       "    </tr>\n",
       "    <tr>\n",
       "      <th>3</th>\n",
       "      <td>11685486</td>\n",
       "      <td>1</td>\n",
       "    </tr>\n",
       "    <tr>\n",
       "      <th>4</th>\n",
       "      <td>39475350</td>\n",
       "      <td>1</td>\n",
       "    </tr>\n",
       "  </tbody>\n",
       "</table>\n",
       "</div>"
      ],
      "text/plain": [
       "       user  orders\n",
       "0  5114589   1     \n",
       "1  6958315   1     \n",
       "2  8300375   2     \n",
       "3  11685486  1     \n",
       "4  39475350  1     "
      ]
     },
     "execution_count": 29,
     "metadata": {},
     "output_type": "execute_result"
    }
   ],
   "source": [
    "orders_for_user = orders.groupby('visitorId', as_index=False).agg({'transactionId': 'nunique'})\n",
    "orders_for_user.columns = ['user', 'orders']\n",
    "orders_for_user.head()"
   ]
  },
  {
   "cell_type": "code",
   "execution_count": 30,
   "id": "76fabb1f",
   "metadata": {},
   "outputs": [
    {
     "data": {
      "text/plain": [
       "Text(0, 0.5, 'The number of orders')"
      ]
     },
     "execution_count": 30,
     "metadata": {},
     "output_type": "execute_result"
    },
    {
     "data": {
      "image/png": "[encoded data removed]",
      "text/plain": [
       "<Figure size 432x288 with 1 Axes>"
      ]
     },
     "metadata": {
      "needs_background": "light"
     },
     "output_type": "display_data"
    }
   ],
   "source": [
    "plt.scatter(range(0, len(orders_for_user)), orders_for_user['orders'])\n",
    "plt.title('Scatter plot of the number of orders by user')\n",
    "plt.ylabel('The number of orders')"
   ]
  },
  {
   "cell_type": "markdown",
   "id": "71a9d7a6",
   "metadata": {},
   "source": [
    "Based on the resulting graph, we can say that users most often make only 1 or 2 orders, and much less often make 3 or more orders. The data contains “special users” who made more than 5 orders, but these are only a few."
   ]
  },
  {
   "cell_type": "markdown",
   "id": "373d1369",
   "metadata": {},
   "source": [
    "Let's calculate the **percentiles** for the number of orders by user to determine the boundary where the anomalous values are located."
   ]
  },
  {
   "cell_type": "code",
   "execution_count": 31,
   "id": "6dbb5b78",
   "metadata": {},
   "outputs": [
    {
     "data": {
      "text/plain": [
       "array([2., 4.])"
      ]
     },
     "execution_count": 31,
     "metadata": {},
     "output_type": "execute_result"
    }
   ],
   "source": [
    "percentile_orders = np.percentile(orders_for_user['orders'], [95, 99])\n",
    "percentile_orders"
   ]
  },
  {
   "cell_type": "markdown",
   "id": "dbe7250c",
   "metadata": {},
   "source": [
    "As a boundary, I will choose the 95th percentile, since in combination with the graphics + information on percentiles, we can conclude that users who have made more than 2 orders are not the average user of our store."
   ]
  },
  {
   "cell_type": "markdown",
   "id": "2b4e526a",
   "metadata": {},
   "source": [
    "### Cost of orders"
   ]
  },
  {
   "cell_type": "code",
   "execution_count": 32,
   "id": "25449e9d",
   "metadata": {
    "scrolled": true
   },
   "outputs": [
    {
     "data": {
      "text/plain": [
       "Text(0, 0.5, 'Order cost')"
      ]
     },
     "execution_count": 32,
     "metadata": {},
     "output_type": "execute_result"
    },
    {
     "data": {
      "image/png": "[encoded data removed]",
      "text/plain": [
       "<Figure size 432x288 with 1 Axes>"
      ]
     },
     "metadata": {
      "needs_background": "light"
     },
     "output_type": "display_data"
    }
   ],
   "source": [
    "plt.scatter(range(0, len(orders['revenue'])), orders['revenue'])\n",
    "plt.title('Scatter plot of order costs')\n",
    "plt.ylabel('Order cost')"
   ]
  },
  {
   "cell_type": "markdown",
   "id": "79eff2cc",
   "metadata": {},
   "source": [
    "On the chart you can see 2 anomalous and very expensive orders, so we will also consider a limited version of the chart, where the cost of orders does not reach 200,000."
   ]
  },
  {
   "cell_type": "code",
   "execution_count": 33,
   "id": "8864f7fa",
   "metadata": {},
   "outputs": [
    {
     "data": {
      "text/plain": [
       "Text(0, 0.5, 'Order cost')"
      ]
     },
     "execution_count": 33,
     "metadata": {},
     "output_type": "execute_result"
    },
    {
     "data": {
      "image/png": "[encoded data removed]",
      "text/plain": [
       "<Figure size 432x288 with 1 Axes>"
      ]
     },
     "metadata": {
      "needs_background": "light"
     },
     "output_type": "display_data"
    }
   ],
   "source": [
    "plt.scatter(range(0, len(orders['revenue'])), orders['revenue'])\n",
    "plt.ylim([0, 200000])\n",
    "plt.title('Scatter plot of order costs')\n",
    "plt.ylabel('Order cost')"
   ]
  },
  {
   "cell_type": "markdown",
   "id": "f4488385",
   "metadata": {},
   "source": [
    "According to the graph, you can see that mostly users make not super expensive orders, on average about 10,000 - 15,000.\n",
    "\n",
    "Let's find the 95th and 99th percentiles for these data."
   ]
  },
  {
   "cell_type": "code",
   "execution_count": 34,
   "id": "477245ae",
   "metadata": {},
   "outputs": [
    {
     "data": {
      "text/plain": [
       "array([28000. , 58233.2])"
      ]
     },
     "execution_count": 34,
     "metadata": {},
     "output_type": "execute_result"
    }
   ],
   "source": [
    "percentile_revenue = np.percentile(orders['revenue'], [95, 99])\n",
    "percentile_revenue"
   ]
  },
  {
   "cell_type": "markdown",
   "id": "bc14cf3e",
   "metadata": {},
   "source": [
    "I'll take the 95th percentile as the abnormal boundary because people on average make purchases under 28,000, according to the graphs, which means those purchases that cost a higher amount are unusual or abnormal."
   ]
  },
  {
   "cell_type": "markdown",
   "id": "a3146e80",
   "metadata": {},
   "source": [
    "### Statistical analysis on raw data"
   ]
  },
  {
   "cell_type": "markdown",
   "id": "c4a745ef",
   "metadata": {},
   "source": [
    "#### Number of orders per visitor"
   ]
  },
  {
   "cell_type": "markdown",
   "id": "d2d061d3",
   "metadata": {},
   "source": [
    "Let's find the statistical significance of differences in the average number of orders per visitor between groups.\n",
    "\n",
    "**Null hypothesis:** There is no statistical significance between the average values of the number of orders per visitor of different groups.\n",
    "\n",
    "**Alternative hypothesis:** there is statistical significance between the average values of the number of orders per visitor of different groups."
   ]
  },
  {
   "cell_type": "code",
   "execution_count": 35,
   "id": "5ae6ad1e",
   "metadata": {},
   "outputs": [
    {
     "name": "stdout",
     "output_type": "stream",
     "text": [
      "Pvalue: 0.02432461337965732\n",
      "Relative difference between means: 0.057294211351617275\n",
      "We reject the null hypothesis. There is statistical significance between the means.\n"
     ]
    }
   ],
   "source": [
    "alpha = 0.05\n",
    "orders_for_user = orders_for_user.merge(orders[['visitorId', 'group']], left_on=['user'], right_on=['visitorId'])\n",
    "\n",
    "order_by_userA = orders_for_user.query('group == \"A\"')[['user', 'orders']]\n",
    "order_by_userB = orders_for_user.query('group == \"B\"')[['user', 'orders']]\n",
    "\n",
    "sampleA = pd.concat([\n",
    "    order_by_userA['orders'],\n",
    "    pd.Series(0, index=np.arange(visitors_by_A['visitors'].sum() - len(order_by_userA)), name='orders')\n",
    "], axis=0)\n",
    "sampleB = pd.concat([\n",
    "    order_by_userB['orders'],\n",
    "    pd.Series(0, index=np.arange(visitors_by_B['visitors'].sum() - len(order_by_userB)), name='orders')\n",
    "], axis=0)\n",
    "\n",
    "pvalue = st.mannwhitneyu(sampleA, sampleB)[1]\n",
    "print(f'Pvalue: {pvalue}')\n",
    "print(f'Relative difference between means: {sampleB.mean()/sampleA.mean()-1}')\n",
    "if pvalue < alpha:\n",
    "    print('We reject the null hypothesis. There is statistical significance between the means.')\n",
    "else:\n",
    "    print('We cannot reject the null hypothesis. There is no statistical significance between the means.')"
   ]
  },
  {
   "cell_type": "markdown",
   "id": "2a9c315f",
   "metadata": {},
   "source": [
    "Based on the data obtained, we can say that there is a statistical difference between the average values of the number of orders per visitor by group. Based on points 4.4 and 4.5 of this notebook, one can also come to the conclusion that one group (group B) is on average better than the other (group A). The relative difference between the averages on raw data is 6%."
   ]
  },
  {
   "cell_type": "markdown",
   "id": "a7a872f3",
   "metadata": {},
   "source": [
    "#### Average order bill"
   ]
  },
  {
   "cell_type": "markdown",
   "id": "bdea5225",
   "metadata": {},
   "source": [
    "Let's find the statistical significance of the differences in the average order bill between the groups.\n",
    "\n",
    "**Null hypothesis:** There is no statistical significance between the average order receipt for different groups.\n",
    "\n",
    "**Alternative hypothesis:** there is statistical significance between the average order receipt for different groups."
   ]
  },
  {
   "cell_type": "code",
   "execution_count": 36,
   "id": "e5f66360",
   "metadata": {},
   "outputs": [
    {
     "name": "stdout",
     "output_type": "stream",
     "text": [
      "Pvalue: 0.7292909855432458\n",
      "Relative difference between means: 0.2587136699126005\n",
      "We cannot reject the null hypothesis. There is no statistical significance between the means.\n"
     ]
    }
   ],
   "source": [
    "pvalue = st.mannwhitneyu(orders.query('group == \"A\"')['revenue'], orders.query('group == \"B\"')['revenue'])[1]\n",
    "\n",
    "print(f'Pvalue: {pvalue}')\n",
    "print('Relative difference between means: {}'.format(orders.query('group == \"B\"')['revenue'].mean()/orders.query('group == \"A\"')['revenue'].mean() - 1))\n",
    "if pvalue < alpha:\n",
    "    print('We reject the null hypothesis. There is statistical significance between the means.')\n",
    "else:\n",
    "    print('We cannot reject the null hypothesis. There is no statistical significance between the means.')"
   ]
  },
  {
   "cell_type": "markdown",
   "id": "2848f0fe",
   "metadata": {},
   "source": [
    "The statistical test revealed no statistical significance between the order receipt means for the different groups. Although the relative difference between the averages is 26%, which is a large indicator.\n",
    "\n",
    "Paragraphs 4.2 and 4.3 of this notebook present graphs that have fluctuations in the data, most likely due to anomalous values that were found in paragraphs 4.6 and 4.7. Therefore, it is too early to draw conclusions; perhaps there is really no statistical significance, or maybe not. Let's clear the data and run the tests again."
   ]
  },
  {
   "cell_type": "markdown",
   "id": "bd72284c",
   "metadata": {},
   "source": [
    "### Statistical analysis on cleaned data"
   ]
  },
  {
   "cell_type": "markdown",
   "id": "ed926212",
   "metadata": {},
   "source": [
    "#### Data clearing"
   ]
  },
  {
   "cell_type": "code",
   "execution_count": 37,
   "id": "846b800c",
   "metadata": {},
   "outputs": [
    {
     "data": {
      "text/plain": [
       "45     199603092\n",
       "61     237748145\n",
       "69     249864742\n",
       "112    393266494\n",
       "132    457167155\n",
       "dtype: int64"
      ]
     },
     "execution_count": 37,
     "metadata": {},
     "output_type": "execute_result"
    }
   ],
   "source": [
    "anomal_user = pd.concat([\n",
    "    orders_for_user[orders_for_user['orders'] > percentile_orders[0]]['user'],\n",
    "    orders[orders['revenue'] > percentile_revenue[0]]['visitorId']\n",
    "], axis=0).drop_duplicates()\n",
    "anomal_user.head()"
   ]
  },
  {
   "cell_type": "markdown",
   "id": "2b7888d5",
   "metadata": {},
   "source": [
    "Users who made abnormal purchases or made an abnormal number of purchases were identified and combined into one list."
   ]
  },
  {
   "cell_type": "markdown",
   "id": "42ea68be",
   "metadata": {},
   "source": [
    "#### Number of orders per visitor"
   ]
  },
  {
   "cell_type": "markdown",
   "id": "7840ca6a",
   "metadata": {},
   "source": [
    "Let's find the statistical significance of differences in the average number of orders per visitor between groups.\n",
    "\n",
    "**Null hypothesis:** There is no statistical significance between the average values of the number of orders per visitor of different groups.\n",
    "\n",
    "**Alternative hypothesis:** there is statistical significance between the average values of the number of orders per visitor of different groups."
   ]
  },
  {
   "cell_type": "code",
   "execution_count": 38,
   "id": "13f17638",
   "metadata": {},
   "outputs": [
    {
     "name": "stdout",
     "output_type": "stream",
     "text": [
      "Pvalue: 0.00951524233808795\n",
      "Relative difference between means: 0.17162338843117997\n",
      "We reject the null hypothesis. There is statistical significance between the means.\n"
     ]
    }
   ],
   "source": [
    "sampleAFiltered = pd.concat([\n",
    "    order_by_userA[~order_by_userA['user'].isin(anomal_user)]['orders'],\n",
    "    pd.Series(0, index=np.arange(visitors_by_A['visitors'].sum() - len(order_by_userA[~order_by_userA['user'].isin(anomal_user)])), name='orders')\n",
    "], axis=0)\n",
    "sampleBFiltered = pd.concat([\n",
    "    order_by_userB[~order_by_userB['user'].isin(anomal_user)]['orders'],\n",
    "    pd.Series(0, index=np.arange(visitors_by_B['visitors'].sum() - len(order_by_userB[~order_by_userB['user'].isin(anomal_user)])), name='orders')\n",
    "], axis=0)\n",
    "\n",
    "pvalue = st.mannwhitneyu(sampleAFiltered, sampleBFiltered)[1]\n",
    "print(f'Pvalue: {pvalue}')\n",
    "print(f'Relative difference between means: {sampleBFiltered.mean()/sampleAFiltered.mean()-1}')\n",
    "if pvalue < alpha:\n",
    "    print('We reject the null hypothesis. There is statistical significance between the means.')\n",
    "else:\n",
    "    print('We cannot reject the null hypothesis. There is no statistical significance between the means.')"
   ]
  },
  {
   "cell_type": "markdown",
   "id": "3c8856ad",
   "metadata": {},
   "source": [
    "The statistical test showed the same result as on the raw data, but the relative difference between the means increased from 6% to 17%. Based on the combination of facts and graphs, we can conclude that in group B, users make more orders than users in group A."
   ]
  },
  {
   "cell_type": "markdown",
   "id": "fe71e5b3",
   "metadata": {},
   "source": [
    "#### Average order bill"
   ]
  },
  {
   "cell_type": "markdown",
   "id": "b0d8c558",
   "metadata": {},
   "source": [
    "Let's find the statistical significance of the differences in the average order bill between the groups.\n",
    "\n",
    "**Null hypothesis:** There is no statistical significance between the average order receipt for different groups.\n",
    "\n",
    "**Alternative hypothesis:** there is statistical significance between the average order receipt for different groups."
   ]
  },
  {
   "cell_type": "code",
   "execution_count": 39,
   "id": "cb6a14ea",
   "metadata": {},
   "outputs": [
    {
     "name": "stdout",
     "output_type": "stream",
     "text": [
      "Pvalue: 0.7528652023825759\n",
      "Relative difference between means: -0.02211180058635609\n",
      "We cannot reject the null hypothesis. There is no statistical significance between the means.\n"
     ]
    }
   ],
   "source": [
    "pvalue = st.mannwhitneyu(orders.query('group == \"A\" and visitorId not in @anomal_user')['revenue'],\n",
    "                         orders.query('group == \"B\" and visitorId not in @anomal_user')['revenue'])[1]\n",
    "print(f'Pvalue: {pvalue}')\n",
    "print('Relative difference between means: {}'.format(\n",
    "    orders.query('group == \"B\" and visitorId not in @anomal_user')['revenue'].mean()/\n",
    "    orders.query('group == \"A\" and visitorId not in @anomal_user')['revenue'].mean() - 1)\n",
    ")\n",
    "\n",
    "if pvalue < alpha:\n",
    "    print('We reject the null hypothesis. There is statistical significance between the means.')\n",
    "else:\n",
    "    print('We cannot reject the null hypothesis. There is no statistical significance between the means.')"
   ]
  },
  {
   "cell_type": "markdown",
   "id": "e4b8fc0f",
   "metadata": {},
   "source": [
    "The statistical significance did not change when cleaning the data, but the relative difference between the means decreased from 26% to -2%. This means we can conclude that there really is no statistical significance between the averages and, on average, users of both groups make purchases with approximately the same bill."
   ]
  },
  {
   "cell_type": "markdown",
   "id": "cd1af486",
   "metadata": {},
   "source": [
    "### Conclusion"
   ]
  },
  {
   "cell_type": "markdown",
   "id": "35ea70fe",
   "metadata": {},
   "source": [
    "During the A/B testing process, the following conclusions were revealed:\n",
    "- there is a statistical significance of differences in the **average number of orders per visitor** between groups, it was revealed both on raw data and on cleaned ones;\n",
    "- the relative difference between the **average values of the number of orders per visitor** by group increased from 6% to 17% when the data was cleared of anomalies;\n",
    "- the graph of the difference between the **average number of orders per visitor of group B in relation to group A** shows that group B at the end of the test had 14% better results than group A, although strange jumps can be observed in the graph, but they are not so strong as to have a different conclusion;\n",
    "- there is no statistical significance of differences in the **average order bill** between the groups, the test showed this result both on raw data and on cleaned ones;\n",
    "- the relative difference between the **average order receipt** by group decreased from 26% to -2% after clearing the data of anomalous values;\n",
    "- the graph of the difference between the **average order check of group B in relation to group A** jumped up and down several times throughout the test, at the end of the test the indicator of group B relative to group A fell, and in the last days stopped moving, in combination with the fact that What the statistical test tells us and the relative difference between the averages, we can say that the average check for both groups is approximately the same."
   ]
  },
  {
   "cell_type": "markdown",
   "id": "6c0499c1",
   "metadata": {},
   "source": [
    "## General conclusion"
   ]
  },
  {
   "cell_type": "markdown",
   "id": "73d4d298",
   "metadata": {},
   "source": [
    "Files were obtained containing data on **hypotheses, user orders, and user visits on specific dates**. Data on orders and visits was collected during an A/B test, so all information about users is divided into groups.\n",
    "\n",
    "Once received, **the data was downloaded and examined**, after which we began pre-processing the data.\n",
    "\n",
    "In the process of **data preprocessing** the following was done:\n",
    "- the data was initially of good quality,\n",
    "- there are no obvious duplicates in the data,\n",
    "- there are no gaps in the data,\n",
    "- date columns have been converted to the ```datetime``` type,\n",
    "- a problem with the data set was identified; there are users who are in two groups at the same time.\n",
    "\n",
    "After preprocessing the data, **prioritization of hypotheses was performed using different frameworks** and a comparison was made of the order in which the hypotheses are located depending on the chosen framework.\n",
    "\n",
    "**The ICE Framework** prioritizes hypotheses based on the impact of that hypothesis on the user experience, confidence in that impact, and the effort required to test that hypothesis.\n",
    "\n",
    "**The RICE framework** works the same way, but it moves up the list of hypotheses that can affect more users.\n",
    "\n",
    "Next, an A/B test analysis was carried out, during which various graphs were built and statistical tests were performed.\n",
    "\n",
    "During the **A/B test the following conclusions were drawn**:\n",
    "- there is a statistical significance of differences in the **average number of orders per visitor** between groups;\n",
    "- the relative difference between the **average values of the number of orders per visitor** by group increased from 6% to 17% when the data was cleared of anomalies;\n",
    "- the graph of the difference between the **average number of orders per visitor of group B in relation to group A** shows that group B at the end of the test had 14% better results than group A;\n",
    "- there is no statistical significance of differences in **average order bill** between groups;\n",
    "- the relative difference between the **average order receipt** by group decreased from 26% to -2% after clearing the data of anomalous values;\n",
    "- the graph of the difference between the **average order bill of group B in relation to group A** showed many jumps and, together with what the statistical test tells us, we can say that the average bill for both groups is approximately the same.\n",
    "\n",
    "**Recommendations:**\n",
    "- check how data is collected during the test, since the data contained users (58 people) who were simultaneously in two groups; according to the rules of conducting an A/B test, this cannot happen;\n",
    "- based on the results obtained, I recommend stopping the test, recording the **victory of group B**, even though the average check for both groups is approximately the same on average, the average number of orders for group B is higher, and where there are more orders, there is more revenue."
   ]
  }
 ],
 "metadata": {
  "ExecuteTimeLog": [
   {
    "duration": 1328,
    "start_time": "2023-11-30T21:45:12.887Z"
   },
   {
    "duration": 242,
    "start_time": "2023-11-30T21:45:14.217Z"
   },
   {
    "duration": 13,
    "start_time": "2023-11-30T21:45:14.461Z"
   },
   {
    "duration": 9,
    "start_time": "2023-11-30T21:45:14.476Z"
   },
   {
    "duration": 16,
    "start_time": "2023-11-30T21:45:14.487Z"
   },
   {
    "duration": 15,
    "start_time": "2023-11-30T21:45:14.505Z"
   },
   {
    "duration": 13,
    "start_time": "2023-11-30T21:45:14.522Z"
   },
   {
    "duration": 14,
    "start_time": "2023-11-30T21:45:14.537Z"
   },
   {
    "duration": 20,
    "start_time": "2023-11-30T21:45:14.553Z"
   },
   {
    "duration": 15,
    "start_time": "2023-11-30T21:45:14.577Z"
   },
   {
    "duration": 8,
    "start_time": "2023-11-30T21:45:14.594Z"
   },
   {
    "duration": 24,
    "start_time": "2023-11-30T21:45:14.604Z"
   },
   {
    "duration": 25,
    "start_time": "2023-11-30T21:45:14.630Z"
   },
   {
    "duration": 20,
    "start_time": "2023-11-30T21:45:14.658Z"
   },
   {
    "duration": 5,
    "start_time": "2023-11-30T21:45:14.680Z"
   },
   {
    "duration": 16,
    "start_time": "2023-11-30T21:45:14.687Z"
   },
   {
    "duration": 17,
    "start_time": "2023-11-30T21:45:14.705Z"
   },
   {
    "duration": 5,
    "start_time": "2023-11-30T21:45:14.724Z"
   },
   {
    "duration": 32,
    "start_time": "2023-11-30T21:45:14.731Z"
   },
   {
    "duration": 13,
    "start_time": "2023-11-30T21:45:14.765Z"
   },
   {
    "duration": 18,
    "start_time": "2023-11-30T21:45:14.780Z"
   },
   {
    "duration": 35,
    "start_time": "2023-11-30T21:45:14.800Z"
   },
   {
    "duration": 327,
    "start_time": "2023-11-30T21:45:14.837Z"
   },
   {
    "duration": 221,
    "start_time": "2023-11-30T21:45:15.166Z"
   },
   {
    "duration": 394,
    "start_time": "2023-11-30T21:45:15.388Z"
   },
   {
    "duration": 27,
    "start_time": "2023-11-30T21:45:15.785Z"
   },
   {
    "duration": 25,
    "start_time": "2023-11-30T21:45:15.813Z"
   },
   {
    "duration": 252,
    "start_time": "2023-11-30T21:45:15.843Z"
   },
   {
    "duration": 346,
    "start_time": "2023-11-30T21:45:16.097Z"
   },
   {
    "duration": 11,
    "start_time": "2023-11-30T21:45:16.444Z"
   },
   {
    "duration": 150,
    "start_time": "2023-11-30T21:45:16.456Z"
   },
   {
    "duration": 5,
    "start_time": "2023-11-30T21:45:16.608Z"
   },
   {
    "duration": 191,
    "start_time": "2023-11-30T21:45:16.622Z"
   },
   {
    "duration": 170,
    "start_time": "2023-11-30T21:45:16.815Z"
   },
   {
    "duration": 6,
    "start_time": "2023-11-30T21:45:16.988Z"
   },
   {
    "duration": 60,
    "start_time": "2023-11-30T21:45:16.996Z"
   },
   {
    "duration": 13,
    "start_time": "2023-11-30T21:45:17.058Z"
   },
   {
    "duration": 16,
    "start_time": "2023-11-30T21:45:17.073Z"
   },
   {
    "duration": 51,
    "start_time": "2023-11-30T21:45:17.090Z"
   },
   {
    "duration": 12,
    "start_time": "2023-11-30T21:45:17.143Z"
   }
  ],
  "kernelspec": {
   "display_name": "Python 3 (ipykernel)",
   "language": "python",
   "name": "python3"
  },
  "language_info": {
   "codemirror_mode": {
    "name": "ipython",
    "version": 3
   },
   "file_extension": ".py",
   "mimetype": "text/x-python",
   "name": "python",
   "nbconvert_exporter": "python",
   "pygments_lexer": "ipython3",
   "version": "3.9.5"
  },
  "toc": {
   "base_numbering": 1,
   "nav_menu": {},
   "number_sections": true,
   "sideBar": true,
   "skip_h1_title": true,
   "title_cell": "Table of Contents",
   "title_sidebar": "Содержание",
   "toc_cell": true,
   "toc_position": {
    "height": "calc(100% - 180px)",
    "left": "10px",
    "top": "150px",
    "width": "512px"
   },
   "toc_section_display": true,
   "toc_window_display": true
  }
 },
 "nbformat": 4,
 "nbformat_minor": 5
}
