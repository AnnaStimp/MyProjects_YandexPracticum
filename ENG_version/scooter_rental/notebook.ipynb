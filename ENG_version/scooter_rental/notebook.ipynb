{
 "cells": [
  {
   "cell_type": "markdown",
   "id": "9b7b4890",
   "metadata": {},
   "source": [
    "# Study of GoFast scooter rental service"
   ]
  },
  {
   "cell_type": "markdown",
   "id": "3674b0fa",
   "metadata": {},
   "source": [
    "**Brief description:** There is data about some users from several cities, as well as about their trips.\n",
    "\n",
    "To travel around the city, users of the GoFast service use a mobile application. The service can be used:\n",
    "- no subscription\n",
    "     - there is no subscription fee;\n",
    "     - the cost of one minute of travel is 8 rubles;\n",
    "     - cost of start (beginning of the trip) - 50 rubles;\n",
    "- with Ultra subscription\n",
    "     - subscription fee - 199 rubles per month;\n",
    "     - the cost of one minute of travel is 6 rubles;\n",
    "     - start-up cost is free."
   ]
  },
  {
   "cell_type": "markdown",
   "id": "a7d068ed",
   "metadata": {},
   "source": [
    "**Project Goal:** To analyze data and test some hypotheses that can help the business grow."
   ]
  },
  {
   "cell_type": "markdown",
   "id": "5b8769a5",
   "metadata": {},
   "source": [
    "**Description of data:**\n",
    "\n",
    "*Users*\n",
    "- ```user_id``` - unique user identifier\n",
    "- ```name``` - user name\n",
    "- ```age``` - age\n",
    "- ```city``` - city\n",
    "- ```subscription_type``` - subscription type (free, ultra)\n",
    "\n",
    "*Trips*\n",
    "- ```user_id``` - unique user identifier\n",
    "- ```distance``` - the distance the user has traveled in the current session (in meters)\n",
    "- ```duration``` - session duration (in minutes) - the time from the moment the user pressed the “Start trip” button until the moment he pressed the “End trip” button\n",
    "- ```date``` - date of the trip\n",
    "\n",
    "*Subscriptions*\n",
    "- ```subscription_type``` - subscription type\n",
    "- ```minute_price``` - the cost of one minute of travel for this subscription\n",
    "- ```start_ride_price``` - cost of starting the trip\n",
    "- ```subscription_fee``` - monthly payment cost"
   ]
  },
  {
   "cell_type": "markdown",
   "id": "61d4b3c2",
   "metadata": {},
   "source": [
    "**Work plan**\n",
    "1. Explore the data\n",
    "2. Preprocess the data\n",
    "3. Analyze the data\n",
    "4. Merge data\n",
    "5. Calculate revenue\n",
    "6. Test hypotheses\n",
    "7. Construct distributions\n",
    "8. Draw up conclusions"
   ]
  },
  {
   "cell_type": "code",
   "execution_count": 1,
   "id": "72576667",
   "metadata": {},
   "outputs": [],
   "source": [
    "import pandas as pd\n",
    "import matplotlib.pyplot as plt\n",
    "import numpy as np\n",
    "import scipy.stats as st\n",
    "from math import sqrt"
   ]
  },
  {
   "cell_type": "markdown",
   "id": "c42cbe00",
   "metadata": {},
   "source": [
    "## Step 1. Loading and studying data"
   ]
  },
  {
   "cell_type": "code",
   "execution_count": 2,
   "id": "eff9f206",
   "metadata": {},
   "outputs": [],
   "source": [
    "users = pd.read_csv('.\\\\datasets\\\\users_go.csv')\n",
    "rides = pd.read_csv('.\\\\datasets\\\\rides_go.csv')\n",
    "subscriptions = pd.read_csv('.\\\\datasets\\\\subscriptions_go.csv')"
   ]
  },
  {
   "cell_type": "markdown",
   "id": "114c6746",
   "metadata": {},
   "source": [
    "### Users"
   ]
  },
  {
   "cell_type": "code",
   "execution_count": 3,
   "id": "dc001da0",
   "metadata": {
    "scrolled": true
   },
   "outputs": [
    {
     "data": {
      "text/html": [
       "<div>\n",
       "<style scoped>\n",
       "    .dataframe tbody tr th:only-of-type {\n",
       "        vertical-align: middle;\n",
       "    }\n",
       "\n",
       "    .dataframe tbody tr th {\n",
       "        vertical-align: top;\n",
       "    }\n",
       "\n",
       "    .dataframe thead th {\n",
       "        text-align: right;\n",
       "    }\n",
       "</style>\n",
       "<table border=\"1\" class=\"dataframe\">\n",
       "  <thead>\n",
       "    <tr style=\"text-align: right;\">\n",
       "      <th></th>\n",
       "      <th>user_id</th>\n",
       "      <th>name</th>\n",
       "      <th>age</th>\n",
       "      <th>city</th>\n",
       "      <th>subscription_type</th>\n",
       "    </tr>\n",
       "  </thead>\n",
       "  <tbody>\n",
       "    <tr>\n",
       "      <th>0</th>\n",
       "      <td>1</td>\n",
       "      <td>Кира</td>\n",
       "      <td>22</td>\n",
       "      <td>Тюмень</td>\n",
       "      <td>ultra</td>\n",
       "    </tr>\n",
       "    <tr>\n",
       "      <th>1</th>\n",
       "      <td>2</td>\n",
       "      <td>Станислав</td>\n",
       "      <td>31</td>\n",
       "      <td>Омск</td>\n",
       "      <td>ultra</td>\n",
       "    </tr>\n",
       "    <tr>\n",
       "      <th>2</th>\n",
       "      <td>3</td>\n",
       "      <td>Алексей</td>\n",
       "      <td>20</td>\n",
       "      <td>Москва</td>\n",
       "      <td>ultra</td>\n",
       "    </tr>\n",
       "    <tr>\n",
       "      <th>3</th>\n",
       "      <td>4</td>\n",
       "      <td>Константин</td>\n",
       "      <td>26</td>\n",
       "      <td>Ростов-на-Дону</td>\n",
       "      <td>ultra</td>\n",
       "    </tr>\n",
       "    <tr>\n",
       "      <th>4</th>\n",
       "      <td>5</td>\n",
       "      <td>Адель</td>\n",
       "      <td>28</td>\n",
       "      <td>Омск</td>\n",
       "      <td>ultra</td>\n",
       "    </tr>\n",
       "  </tbody>\n",
       "</table>\n",
       "</div>"
      ],
      "text/plain": [
       "   user_id        name  age            city subscription_type\n",
       "0        1        Кира   22          Тюмень             ultra\n",
       "1        2   Станислав   31            Омск             ultra\n",
       "2        3     Алексей   20          Москва             ultra\n",
       "3        4  Константин   26  Ростов-на-Дону             ultra\n",
       "4        5       Адель   28            Омск             ultra"
      ]
     },
     "execution_count": 3,
     "metadata": {},
     "output_type": "execute_result"
    }
   ],
   "source": [
    "users.head()"
   ]
  },
  {
   "cell_type": "code",
   "execution_count": 4,
   "id": "176468da",
   "metadata": {},
   "outputs": [
    {
     "name": "stdout",
     "output_type": "stream",
     "text": [
      "<class 'pandas.core.frame.DataFrame'>\n",
      "RangeIndex: 1565 entries, 0 to 1564\n",
      "Data columns (total 5 columns):\n",
      " #   Column             Non-Null Count  Dtype \n",
      "---  ------             --------------  ----- \n",
      " 0   user_id            1565 non-null   int64 \n",
      " 1   name               1565 non-null   object\n",
      " 2   age                1565 non-null   int64 \n",
      " 3   city               1565 non-null   object\n",
      " 4   subscription_type  1565 non-null   object\n",
      "dtypes: int64(2), object(3)\n",
      "memory usage: 61.3+ KB\n"
     ]
    }
   ],
   "source": [
    "users.info()"
   ]
  },
  {
   "cell_type": "markdown",
   "id": "e097097c",
   "metadata": {},
   "source": [
    "### Rides"
   ]
  },
  {
   "cell_type": "code",
   "execution_count": 5,
   "id": "d35a1bd8",
   "metadata": {},
   "outputs": [
    {
     "data": {
      "text/html": [
       "<div>\n",
       "<style scoped>\n",
       "    .dataframe tbody tr th:only-of-type {\n",
       "        vertical-align: middle;\n",
       "    }\n",
       "\n",
       "    .dataframe tbody tr th {\n",
       "        vertical-align: top;\n",
       "    }\n",
       "\n",
       "    .dataframe thead th {\n",
       "        text-align: right;\n",
       "    }\n",
       "</style>\n",
       "<table border=\"1\" class=\"dataframe\">\n",
       "  <thead>\n",
       "    <tr style=\"text-align: right;\">\n",
       "      <th></th>\n",
       "      <th>user_id</th>\n",
       "      <th>distance</th>\n",
       "      <th>duration</th>\n",
       "      <th>date</th>\n",
       "    </tr>\n",
       "  </thead>\n",
       "  <tbody>\n",
       "    <tr>\n",
       "      <th>0</th>\n",
       "      <td>1</td>\n",
       "      <td>4409.919140</td>\n",
       "      <td>25.599769</td>\n",
       "      <td>2021-01-01</td>\n",
       "    </tr>\n",
       "    <tr>\n",
       "      <th>1</th>\n",
       "      <td>1</td>\n",
       "      <td>2617.592153</td>\n",
       "      <td>15.816871</td>\n",
       "      <td>2021-01-18</td>\n",
       "    </tr>\n",
       "    <tr>\n",
       "      <th>2</th>\n",
       "      <td>1</td>\n",
       "      <td>754.159807</td>\n",
       "      <td>6.232113</td>\n",
       "      <td>2021-04-20</td>\n",
       "    </tr>\n",
       "    <tr>\n",
       "      <th>3</th>\n",
       "      <td>1</td>\n",
       "      <td>2694.783254</td>\n",
       "      <td>18.511000</td>\n",
       "      <td>2021-08-11</td>\n",
       "    </tr>\n",
       "    <tr>\n",
       "      <th>4</th>\n",
       "      <td>1</td>\n",
       "      <td>4028.687306</td>\n",
       "      <td>26.265803</td>\n",
       "      <td>2021-08-28</td>\n",
       "    </tr>\n",
       "  </tbody>\n",
       "</table>\n",
       "</div>"
      ],
      "text/plain": [
       "   user_id     distance   duration        date\n",
       "0        1  4409.919140  25.599769  2021-01-01\n",
       "1        1  2617.592153  15.816871  2021-01-18\n",
       "2        1   754.159807   6.232113  2021-04-20\n",
       "3        1  2694.783254  18.511000  2021-08-11\n",
       "4        1  4028.687306  26.265803  2021-08-28"
      ]
     },
     "execution_count": 5,
     "metadata": {},
     "output_type": "execute_result"
    }
   ],
   "source": [
    "rides.head()"
   ]
  },
  {
   "cell_type": "code",
   "execution_count": 6,
   "id": "2b3c0daa",
   "metadata": {},
   "outputs": [
    {
     "name": "stdout",
     "output_type": "stream",
     "text": [
      "<class 'pandas.core.frame.DataFrame'>\n",
      "RangeIndex: 18068 entries, 0 to 18067\n",
      "Data columns (total 4 columns):\n",
      " #   Column    Non-Null Count  Dtype  \n",
      "---  ------    --------------  -----  \n",
      " 0   user_id   18068 non-null  int64  \n",
      " 1   distance  18068 non-null  float64\n",
      " 2   duration  18068 non-null  float64\n",
      " 3   date      18068 non-null  object \n",
      "dtypes: float64(2), int64(1), object(1)\n",
      "memory usage: 564.8+ KB\n"
     ]
    }
   ],
   "source": [
    "rides.info()"
   ]
  },
  {
   "cell_type": "markdown",
   "id": "800034ed",
   "metadata": {},
   "source": [
    "### Subscriptions"
   ]
  },
  {
   "cell_type": "code",
   "execution_count": 7,
   "id": "a850a74d",
   "metadata": {},
   "outputs": [
    {
     "data": {
      "text/html": [
       "<div>\n",
       "<style scoped>\n",
       "    .dataframe tbody tr th:only-of-type {\n",
       "        vertical-align: middle;\n",
       "    }\n",
       "\n",
       "    .dataframe tbody tr th {\n",
       "        vertical-align: top;\n",
       "    }\n",
       "\n",
       "    .dataframe thead th {\n",
       "        text-align: right;\n",
       "    }\n",
       "</style>\n",
       "<table border=\"1\" class=\"dataframe\">\n",
       "  <thead>\n",
       "    <tr style=\"text-align: right;\">\n",
       "      <th></th>\n",
       "      <th>subscription_type</th>\n",
       "      <th>minute_price</th>\n",
       "      <th>start_ride_price</th>\n",
       "      <th>subscription_fee</th>\n",
       "    </tr>\n",
       "  </thead>\n",
       "  <tbody>\n",
       "    <tr>\n",
       "      <th>0</th>\n",
       "      <td>free</td>\n",
       "      <td>8</td>\n",
       "      <td>50</td>\n",
       "      <td>0</td>\n",
       "    </tr>\n",
       "    <tr>\n",
       "      <th>1</th>\n",
       "      <td>ultra</td>\n",
       "      <td>6</td>\n",
       "      <td>0</td>\n",
       "      <td>199</td>\n",
       "    </tr>\n",
       "  </tbody>\n",
       "</table>\n",
       "</div>"
      ],
      "text/plain": [
       "  subscription_type  minute_price  start_ride_price  subscription_fee\n",
       "0              free             8                50                 0\n",
       "1             ultra             6                 0               199"
      ]
     },
     "execution_count": 7,
     "metadata": {},
     "output_type": "execute_result"
    }
   ],
   "source": [
    "subscriptions.head()"
   ]
  },
  {
   "cell_type": "markdown",
   "id": "f81aed4c",
   "metadata": {},
   "source": [
    "### Intermediate output"
   ]
  },
  {
   "cell_type": "markdown",
   "id": "43218cfc",
   "metadata": {},
   "source": [
    "Data was obtained, stored in variables and examined.\n",
    "\n",
    "According to the initial analysis of the data, there are no gaps in them; the data types of the columns, except for the late date, are suitable for the values stored in them."
   ]
  },
  {
   "cell_type": "markdown",
   "id": "e95ebca7",
   "metadata": {},
   "source": [
    "## Step 2. Data preprocessing"
   ]
  },
  {
   "cell_type": "markdown",
   "id": "c00151a7",
   "metadata": {},
   "source": [
    "### Data type casting"
   ]
  },
  {
   "cell_type": "code",
   "execution_count": 8,
   "id": "af6d202c",
   "metadata": {},
   "outputs": [
    {
     "data": {
      "text/plain": [
       "0   2021-01-01\n",
       "1   2021-01-18\n",
       "2   2021-04-20\n",
       "3   2021-08-11\n",
       "4   2021-08-28\n",
       "Name: date, dtype: datetime64[ns]"
      ]
     },
     "execution_count": 8,
     "metadata": {},
     "output_type": "execute_result"
    }
   ],
   "source": [
    "rides['date'] = pd.to_datetime(rides['date'], format='%Y-%m-%d')\n",
    "rides['date'].head()"
   ]
  },
  {
   "cell_type": "markdown",
   "id": "d6547b5b",
   "metadata": {},
   "source": [
    "The ```data``` column has been cast to datetime type."
   ]
  },
  {
   "cell_type": "markdown",
   "id": "aaae8e7a",
   "metadata": {},
   "source": [
    "### Create the required columns"
   ]
  },
  {
   "cell_type": "code",
   "execution_count": 9,
   "id": "0367486c",
   "metadata": {},
   "outputs": [
    {
     "data": {
      "text/html": [
       "<div>\n",
       "<style scoped>\n",
       "    .dataframe tbody tr th:only-of-type {\n",
       "        vertical-align: middle;\n",
       "    }\n",
       "\n",
       "    .dataframe tbody tr th {\n",
       "        vertical-align: top;\n",
       "    }\n",
       "\n",
       "    .dataframe thead th {\n",
       "        text-align: right;\n",
       "    }\n",
       "</style>\n",
       "<table border=\"1\" class=\"dataframe\">\n",
       "  <thead>\n",
       "    <tr style=\"text-align: right;\">\n",
       "      <th></th>\n",
       "      <th>user_id</th>\n",
       "      <th>distance</th>\n",
       "      <th>duration</th>\n",
       "      <th>date</th>\n",
       "      <th>month</th>\n",
       "    </tr>\n",
       "  </thead>\n",
       "  <tbody>\n",
       "    <tr>\n",
       "      <th>0</th>\n",
       "      <td>1</td>\n",
       "      <td>4409.919140</td>\n",
       "      <td>25.599769</td>\n",
       "      <td>2021-01-01</td>\n",
       "      <td>1</td>\n",
       "    </tr>\n",
       "    <tr>\n",
       "      <th>1</th>\n",
       "      <td>1</td>\n",
       "      <td>2617.592153</td>\n",
       "      <td>15.816871</td>\n",
       "      <td>2021-01-18</td>\n",
       "      <td>1</td>\n",
       "    </tr>\n",
       "    <tr>\n",
       "      <th>2</th>\n",
       "      <td>1</td>\n",
       "      <td>754.159807</td>\n",
       "      <td>6.232113</td>\n",
       "      <td>2021-04-20</td>\n",
       "      <td>4</td>\n",
       "    </tr>\n",
       "    <tr>\n",
       "      <th>3</th>\n",
       "      <td>1</td>\n",
       "      <td>2694.783254</td>\n",
       "      <td>18.511000</td>\n",
       "      <td>2021-08-11</td>\n",
       "      <td>8</td>\n",
       "    </tr>\n",
       "    <tr>\n",
       "      <th>4</th>\n",
       "      <td>1</td>\n",
       "      <td>4028.687306</td>\n",
       "      <td>26.265803</td>\n",
       "      <td>2021-08-28</td>\n",
       "      <td>8</td>\n",
       "    </tr>\n",
       "  </tbody>\n",
       "</table>\n",
       "</div>"
      ],
      "text/plain": [
       "   user_id     distance   duration       date  month\n",
       "0        1  4409.919140  25.599769 2021-01-01      1\n",
       "1        1  2617.592153  15.816871 2021-01-18      1\n",
       "2        1   754.159807   6.232113 2021-04-20      4\n",
       "3        1  2694.783254  18.511000 2021-08-11      8\n",
       "4        1  4028.687306  26.265803 2021-08-28      8"
      ]
     },
     "execution_count": 9,
     "metadata": {},
     "output_type": "execute_result"
    }
   ],
   "source": [
    "rides['month'] = rides['date'].dt.month\n",
    "rides.head()"
   ]
  },
  {
   "cell_type": "markdown",
   "id": "24cf8bc5",
   "metadata": {},
   "source": [
    "A column ```month``` has been created containing the month of the trip."
   ]
  },
  {
   "cell_type": "markdown",
   "id": "82c950e0",
   "metadata": {},
   "source": [
    "### Search for duplicates"
   ]
  },
  {
   "cell_type": "code",
   "execution_count": 10,
   "id": "2042d109",
   "metadata": {},
   "outputs": [
    {
     "data": {
      "text/plain": [
       "array(['Тюмень', 'Омск', 'Москва', 'Ростов-на-Дону', 'Краснодар',\n",
       "       'Пятигорск', 'Екатеринбург', 'Сочи'], dtype=object)"
      ]
     },
     "execution_count": 10,
     "metadata": {},
     "output_type": "execute_result"
    }
   ],
   "source": [
    "users['city'].unique()"
   ]
  },
  {
   "cell_type": "code",
   "execution_count": 11,
   "id": "f412505e",
   "metadata": {},
   "outputs": [
    {
     "data": {
      "text/plain": [
       "31"
      ]
     },
     "execution_count": 11,
     "metadata": {},
     "output_type": "execute_result"
    }
   ],
   "source": [
    "users.duplicated().sum()"
   ]
  },
  {
   "cell_type": "code",
   "execution_count": 12,
   "id": "d2e6f9b4",
   "metadata": {
    "scrolled": false
   },
   "outputs": [
    {
     "data": {
      "text/plain": [
       "'Percentage of duplicates from all data: 1.98%'"
      ]
     },
     "execution_count": 12,
     "metadata": {},
     "output_type": "execute_result"
    }
   ],
   "source": [
    "f'Percentage of duplicates from all data: {(users.duplicated().sum() / users.shape[0]):.2%}'"
   ]
  },
  {
   "cell_type": "code",
   "execution_count": 13,
   "id": "d18b3160",
   "metadata": {},
   "outputs": [
    {
     "name": "stdout",
     "output_type": "stream",
     "text": [
      "<class 'pandas.core.frame.DataFrame'>\n",
      "RangeIndex: 1534 entries, 0 to 1533\n",
      "Data columns (total 5 columns):\n",
      " #   Column             Non-Null Count  Dtype \n",
      "---  ------             --------------  ----- \n",
      " 0   user_id            1534 non-null   int64 \n",
      " 1   name               1534 non-null   object\n",
      " 2   age                1534 non-null   int64 \n",
      " 3   city               1534 non-null   object\n",
      " 4   subscription_type  1534 non-null   object\n",
      "dtypes: int64(2), object(3)\n",
      "memory usage: 60.0+ KB\n"
     ]
    }
   ],
   "source": [
    "users = users.drop_duplicates().reset_index(drop=True)\n",
    "users.info()"
   ]
  },
  {
   "cell_type": "code",
   "execution_count": 14,
   "id": "3a849070",
   "metadata": {},
   "outputs": [
    {
     "data": {
      "text/plain": [
       "0"
      ]
     },
     "execution_count": 14,
     "metadata": {},
     "output_type": "execute_result"
    }
   ],
   "source": [
    "rides.duplicated().sum()"
   ]
  },
  {
   "cell_type": "markdown",
   "id": "4be2c345",
   "metadata": {},
   "source": [
    "Obvious duplicates were found in the users dataframe and removed."
   ]
  },
  {
   "cell_type": "markdown",
   "id": "212593c7",
   "metadata": {},
   "source": [
    "## Step 3. Exploratory data analysis"
   ]
  },
  {
   "cell_type": "code",
   "execution_count": 15,
   "id": "7388b83f",
   "metadata": {},
   "outputs": [
    {
     "data": {
      "text/plain": [
       "<AxesSubplot:title={'center':'Frequency of occurrence of cities in the data'}, xlabel='Cities', ylabel='How many times does the city meet'>"
      ]
     },
     "execution_count": 15,
     "metadata": {},
     "output_type": "execute_result"
    },
    {
     "data": {
      "image/png": "[encoded data removed]",
      "text/plain": [
       "<Figure size 432x288 with 1 Axes>"
      ]
     },
     "metadata": {
      "needs_background": "light"
     },
     "output_type": "display_data"
    }
   ],
   "source": [
    "users['city'].value_counts().plot(kind='bar', grid=True,\n",
    "                                  title='Frequency of occurrence of cities in the data',\n",
    "                                  ylabel='How many times does the city meet',\n",
    "                                  xlabel='Cities'\n",
    "                                 )"
   ]
  },
  {
   "cell_type": "code",
   "execution_count": 16,
   "id": "aa6fd452",
   "metadata": {},
   "outputs": [
    {
     "data": {
      "text/plain": [
       "city\n",
       "Пятигорск         219\n",
       "Екатеринбург      204\n",
       "Ростов-на-Дону    198\n",
       "Краснодар         193\n",
       "Сочи              189\n",
       "Омск              183\n",
       "Тюмень            180\n",
       "Москва            168\n",
       "Name: count, dtype: int64"
      ]
     },
     "execution_count": 16,
     "metadata": {},
     "output_type": "execute_result"
    }
   ],
   "source": [
    "users['city'].value_counts()"
   ]
  },
  {
   "cell_type": "markdown",
   "id": "120dea7c",
   "metadata": {},
   "source": [
    "From the graph above you can see that the most registered users are in Pyatigorsk, and the least in Moscow, but the difference is not big, about 50 users."
   ]
  },
  {
   "cell_type": "code",
   "execution_count": 17,
   "id": "6d931546",
   "metadata": {},
   "outputs": [
    {
     "data": {
      "text/plain": [
       "subscription_type\n",
       "free     0.544329\n",
       "ultra    0.455671\n",
       "Name: proportion, dtype: float64"
      ]
     },
     "execution_count": 17,
     "metadata": {},
     "output_type": "execute_result"
    }
   ],
   "source": [
    "users['subscription_type'].value_counts(normalize=True)"
   ]
  },
  {
   "cell_type": "code",
   "execution_count": 18,
   "id": "1f9698e3",
   "metadata": {},
   "outputs": [
    {
     "data": {
      "text/plain": [
       "<AxesSubplot:title={'center':'How many users with and without subscription'}, ylabel='proportion'>"
      ]
     },
     "execution_count": 18,
     "metadata": {},
     "output_type": "execute_result"
    },
    {
     "data": {
      "image/png": "[encoded data removed]",
      "text/plain": [
       "<Figure size 432x288 with 1 Axes>"
      ]
     },
     "metadata": {},
     "output_type": "display_data"
    }
   ],
   "source": [
    "users['subscription_type'].value_counts(normalize=True).plot(kind='pie', legend=True,\n",
    "                                                             title='How many users with and without subscription', autopct='%1.1f%%',\n",
    "                                                             labels=['Without subscription', 'With subscription']\n",
    "                                                            )"
   ]
  },
  {
   "cell_type": "markdown",
   "id": "c50e10a6",
   "metadata": {},
   "source": [
    "54% of users have a free subscription, the rest have a paid subscription."
   ]
  },
  {
   "cell_type": "code",
   "execution_count": 19,
   "id": "8e0ec460",
   "metadata": {},
   "outputs": [
    {
     "data": {
      "text/plain": [
       "<AxesSubplot:title={'center':'User age histogram'}, xlabel='Age', ylabel='Frequency'>"
      ]
     },
     "execution_count": 19,
     "metadata": {},
     "output_type": "execute_result"
    },
    {
     "data": {
      "image/png": "[encoded data removed]",
      "text/plain": [
       "<Figure size 432x288 with 1 Axes>"
      ]
     },
     "metadata": {
      "needs_background": "light"
     },
     "output_type": "display_data"
    }
   ],
   "source": [
    "users['age'].plot(kind='hist', grid=True,\n",
    "                  xlabel='Age', ylabel='Frequency',\n",
    "                  title='User age histogram'\n",
    "                 )"
   ]
  },
  {
   "cell_type": "code",
   "execution_count": 20,
   "id": "04763252",
   "metadata": {},
   "outputs": [
    {
     "data": {
      "text/plain": [
       "count    1534.000000\n",
       "mean       24.903520\n",
       "std         4.572367\n",
       "min        12.000000\n",
       "25%        22.000000\n",
       "50%        25.000000\n",
       "75%        28.000000\n",
       "max        43.000000\n",
       "Name: age, dtype: float64"
      ]
     },
     "execution_count": 20,
     "metadata": {},
     "output_type": "execute_result"
    }
   ],
   "source": [
    "users['age'].describe()"
   ]
  },
  {
   "cell_type": "markdown",
   "id": "21a6ce5b",
   "metadata": {},
   "source": [
    "The data on the age of users is distributed normally, most of the users are 22-28 years old, then, as the age moves away from these values in both directions, the number of people with an age other than 22-28 years decreases.\n",
    "\n",
    "The least number of users are over 38 years old."
   ]
  },
  {
   "cell_type": "code",
   "execution_count": 21,
   "id": "3fb2585d",
   "metadata": {},
   "outputs": [
    {
     "data": {
      "text/plain": [
       "<AxesSubplot:title={'center':'Histogram for distances traveled by users'}, xlabel='Meters', ylabel='Frequency'>"
      ]
     },
     "execution_count": 21,
     "metadata": {},
     "output_type": "execute_result"
    },
    {
     "data": {
      "image/png": "[encoded data removed]",
      "text/plain": [
       "<Figure size 432x288 with 1 Axes>"
      ]
     },
     "metadata": {
      "needs_background": "light"
     },
     "output_type": "display_data"
    }
   ],
   "source": [
    "rides['distance'].plot(kind='hist', bins=60, grid=True,\n",
    "                      ylabel='Frequency', xlabel='Meters',\n",
    "                      title='Histogram for distances traveled by users')"
   ]
  },
  {
   "cell_type": "markdown",
   "id": "97766367",
   "metadata": {},
   "source": [
    "Used on average, most often, travel about 3 km. on a scooter, there is also a small outlier-normal distribution, which shows that some users take a scooter to travel about 500 meters, probably when they need to ride not a long distance or just for a ride."
   ]
  },
  {
   "cell_type": "code",
   "execution_count": 22,
   "id": "76876a23",
   "metadata": {},
   "outputs": [
    {
     "data": {
      "text/plain": [
       "<AxesSubplot:title={'center':'Histogram for user travel duration'}, xlabel='Minutes', ylabel='Frequency'>"
      ]
     },
     "execution_count": 22,
     "metadata": {},
     "output_type": "execute_result"
    },
    {
     "data": {
      "image/png": "[encoded data removed]",
      "text/plain": [
       "<Figure size 432x288 with 1 Axes>"
      ]
     },
     "metadata": {
      "needs_background": "light"
     },
     "output_type": "display_data"
    }
   ],
   "source": [
    "rides['duration'].plot(kind='hist', bins=40, grid=True,\n",
    "                      ylabel='Frequency', xlabel='Minutes',\n",
    "                      title='Histogram for user travel duration')"
   ]
  },
  {
   "cell_type": "markdown",
   "id": "4801c129",
   "metadata": {},
   "source": [
    "On average, users' trips last about 15-20 minutes. There is a slight deviation of about 1 minute of travel."
   ]
  },
  {
   "cell_type": "markdown",
   "id": "2b2c4a08",
   "metadata": {},
   "source": [
    "### Intermediate output"
   ]
  },
  {
   "cell_type": "markdown",
   "id": "f565d5e0",
   "metadata": {},
   "source": [
    "- the most users are from Pyatigorsk, the least from Moscow;\n",
    "- 54% of users have a free subscription, the rest have a paid subscription;\n",
    "- most of the users are 22-28 year olds;\n",
    "- used on average travel about 3 km. on a scooter;\n",
    "- on average, users' trips last about 15-20 minutes."
   ]
  },
  {
   "cell_type": "markdown",
   "id": "4ef51331",
   "metadata": {},
   "source": [
    "## Step 4. Merging data"
   ]
  },
  {
   "cell_type": "code",
   "execution_count": 23,
   "id": "6bf288b5",
   "metadata": {},
   "outputs": [
    {
     "data": {
      "text/html": [
       "<div>\n",
       "<style scoped>\n",
       "    .dataframe tbody tr th:only-of-type {\n",
       "        vertical-align: middle;\n",
       "    }\n",
       "\n",
       "    .dataframe tbody tr th {\n",
       "        vertical-align: top;\n",
       "    }\n",
       "\n",
       "    .dataframe thead th {\n",
       "        text-align: right;\n",
       "    }\n",
       "</style>\n",
       "<table border=\"1\" class=\"dataframe\">\n",
       "  <thead>\n",
       "    <tr style=\"text-align: right;\">\n",
       "      <th></th>\n",
       "      <th>user_id</th>\n",
       "      <th>name</th>\n",
       "      <th>age</th>\n",
       "      <th>city</th>\n",
       "      <th>subscription_type</th>\n",
       "      <th>distance</th>\n",
       "      <th>duration</th>\n",
       "      <th>date</th>\n",
       "      <th>month</th>\n",
       "    </tr>\n",
       "  </thead>\n",
       "  <tbody>\n",
       "    <tr>\n",
       "      <th>0</th>\n",
       "      <td>1</td>\n",
       "      <td>Кира</td>\n",
       "      <td>22</td>\n",
       "      <td>Тюмень</td>\n",
       "      <td>ultra</td>\n",
       "      <td>4409.919140</td>\n",
       "      <td>25.599769</td>\n",
       "      <td>2021-01-01</td>\n",
       "      <td>1</td>\n",
       "    </tr>\n",
       "    <tr>\n",
       "      <th>1</th>\n",
       "      <td>1</td>\n",
       "      <td>Кира</td>\n",
       "      <td>22</td>\n",
       "      <td>Тюмень</td>\n",
       "      <td>ultra</td>\n",
       "      <td>2617.592153</td>\n",
       "      <td>15.816871</td>\n",
       "      <td>2021-01-18</td>\n",
       "      <td>1</td>\n",
       "    </tr>\n",
       "    <tr>\n",
       "      <th>2</th>\n",
       "      <td>1</td>\n",
       "      <td>Кира</td>\n",
       "      <td>22</td>\n",
       "      <td>Тюмень</td>\n",
       "      <td>ultra</td>\n",
       "      <td>754.159807</td>\n",
       "      <td>6.232113</td>\n",
       "      <td>2021-04-20</td>\n",
       "      <td>4</td>\n",
       "    </tr>\n",
       "    <tr>\n",
       "      <th>3</th>\n",
       "      <td>1</td>\n",
       "      <td>Кира</td>\n",
       "      <td>22</td>\n",
       "      <td>Тюмень</td>\n",
       "      <td>ultra</td>\n",
       "      <td>2694.783254</td>\n",
       "      <td>18.511000</td>\n",
       "      <td>2021-08-11</td>\n",
       "      <td>8</td>\n",
       "    </tr>\n",
       "    <tr>\n",
       "      <th>4</th>\n",
       "      <td>1</td>\n",
       "      <td>Кира</td>\n",
       "      <td>22</td>\n",
       "      <td>Тюмень</td>\n",
       "      <td>ultra</td>\n",
       "      <td>4028.687306</td>\n",
       "      <td>26.265803</td>\n",
       "      <td>2021-08-28</td>\n",
       "      <td>8</td>\n",
       "    </tr>\n",
       "  </tbody>\n",
       "</table>\n",
       "</div>"
      ],
      "text/plain": [
       "   user_id  name  age    city subscription_type     distance   duration  \\\n",
       "0        1  Кира   22  Тюмень             ultra  4409.919140  25.599769   \n",
       "1        1  Кира   22  Тюмень             ultra  2617.592153  15.816871   \n",
       "2        1  Кира   22  Тюмень             ultra   754.159807   6.232113   \n",
       "3        1  Кира   22  Тюмень             ultra  2694.783254  18.511000   \n",
       "4        1  Кира   22  Тюмень             ultra  4028.687306  26.265803   \n",
       "\n",
       "        date  month  \n",
       "0 2021-01-01      1  \n",
       "1 2021-01-18      1  \n",
       "2 2021-04-20      4  \n",
       "3 2021-08-11      8  \n",
       "4 2021-08-28      8  "
      ]
     },
     "execution_count": 23,
     "metadata": {},
     "output_type": "execute_result"
    }
   ],
   "source": [
    "data = users.merge(rides, on='user_id')\n",
    "data.head()"
   ]
  },
  {
   "cell_type": "markdown",
   "id": "3b1720bc",
   "metadata": {},
   "source": [
    "Combine the users and rides dataframes into a dataframe."
   ]
  },
  {
   "cell_type": "code",
   "execution_count": 24,
   "id": "1b1c1d4c",
   "metadata": {},
   "outputs": [
    {
     "data": {
      "text/html": [
       "<div>\n",
       "<style scoped>\n",
       "    .dataframe tbody tr th:only-of-type {\n",
       "        vertical-align: middle;\n",
       "    }\n",
       "\n",
       "    .dataframe tbody tr th {\n",
       "        vertical-align: top;\n",
       "    }\n",
       "\n",
       "    .dataframe thead th {\n",
       "        text-align: right;\n",
       "    }\n",
       "</style>\n",
       "<table border=\"1\" class=\"dataframe\">\n",
       "  <thead>\n",
       "    <tr style=\"text-align: right;\">\n",
       "      <th></th>\n",
       "      <th>user_id</th>\n",
       "      <th>name</th>\n",
       "      <th>age</th>\n",
       "      <th>city</th>\n",
       "      <th>subscription_type</th>\n",
       "      <th>distance</th>\n",
       "      <th>duration</th>\n",
       "      <th>date</th>\n",
       "      <th>month</th>\n",
       "      <th>minute_price</th>\n",
       "      <th>start_ride_price</th>\n",
       "      <th>subscription_fee</th>\n",
       "    </tr>\n",
       "  </thead>\n",
       "  <tbody>\n",
       "    <tr>\n",
       "      <th>0</th>\n",
       "      <td>1</td>\n",
       "      <td>Кира</td>\n",
       "      <td>22</td>\n",
       "      <td>Тюмень</td>\n",
       "      <td>ultra</td>\n",
       "      <td>4409.919140</td>\n",
       "      <td>25.599769</td>\n",
       "      <td>2021-01-01</td>\n",
       "      <td>1</td>\n",
       "      <td>6</td>\n",
       "      <td>0</td>\n",
       "      <td>199</td>\n",
       "    </tr>\n",
       "    <tr>\n",
       "      <th>1</th>\n",
       "      <td>1</td>\n",
       "      <td>Кира</td>\n",
       "      <td>22</td>\n",
       "      <td>Тюмень</td>\n",
       "      <td>ultra</td>\n",
       "      <td>2617.592153</td>\n",
       "      <td>15.816871</td>\n",
       "      <td>2021-01-18</td>\n",
       "      <td>1</td>\n",
       "      <td>6</td>\n",
       "      <td>0</td>\n",
       "      <td>199</td>\n",
       "    </tr>\n",
       "    <tr>\n",
       "      <th>2</th>\n",
       "      <td>1</td>\n",
       "      <td>Кира</td>\n",
       "      <td>22</td>\n",
       "      <td>Тюмень</td>\n",
       "      <td>ultra</td>\n",
       "      <td>754.159807</td>\n",
       "      <td>6.232113</td>\n",
       "      <td>2021-04-20</td>\n",
       "      <td>4</td>\n",
       "      <td>6</td>\n",
       "      <td>0</td>\n",
       "      <td>199</td>\n",
       "    </tr>\n",
       "    <tr>\n",
       "      <th>3</th>\n",
       "      <td>1</td>\n",
       "      <td>Кира</td>\n",
       "      <td>22</td>\n",
       "      <td>Тюмень</td>\n",
       "      <td>ultra</td>\n",
       "      <td>2694.783254</td>\n",
       "      <td>18.511000</td>\n",
       "      <td>2021-08-11</td>\n",
       "      <td>8</td>\n",
       "      <td>6</td>\n",
       "      <td>0</td>\n",
       "      <td>199</td>\n",
       "    </tr>\n",
       "    <tr>\n",
       "      <th>4</th>\n",
       "      <td>1</td>\n",
       "      <td>Кира</td>\n",
       "      <td>22</td>\n",
       "      <td>Тюмень</td>\n",
       "      <td>ultra</td>\n",
       "      <td>4028.687306</td>\n",
       "      <td>26.265803</td>\n",
       "      <td>2021-08-28</td>\n",
       "      <td>8</td>\n",
       "      <td>6</td>\n",
       "      <td>0</td>\n",
       "      <td>199</td>\n",
       "    </tr>\n",
       "  </tbody>\n",
       "</table>\n",
       "</div>"
      ],
      "text/plain": [
       "   user_id  name  age    city subscription_type     distance   duration  \\\n",
       "0        1  Кира   22  Тюмень             ultra  4409.919140  25.599769   \n",
       "1        1  Кира   22  Тюмень             ultra  2617.592153  15.816871   \n",
       "2        1  Кира   22  Тюмень             ultra   754.159807   6.232113   \n",
       "3        1  Кира   22  Тюмень             ultra  2694.783254  18.511000   \n",
       "4        1  Кира   22  Тюмень             ultra  4028.687306  26.265803   \n",
       "\n",
       "        date  month  minute_price  start_ride_price  subscription_fee  \n",
       "0 2021-01-01      1             6                 0               199  \n",
       "1 2021-01-18      1             6                 0               199  \n",
       "2 2021-04-20      4             6                 0               199  \n",
       "3 2021-08-11      8             6                 0               199  \n",
       "4 2021-08-28      8             6                 0               199  "
      ]
     },
     "execution_count": 24,
     "metadata": {},
     "output_type": "execute_result"
    }
   ],
   "source": [
    "data = data.merge(subscriptions, on='subscription_type')\n",
    "data.head()"
   ]
  },
  {
   "cell_type": "markdown",
   "id": "3bb43a8d",
   "metadata": {},
   "source": [
    "We combine dataframe data and subscription into dataframe data."
   ]
  },
  {
   "cell_type": "code",
   "execution_count": 25,
   "id": "cf221a6d",
   "metadata": {},
   "outputs": [
    {
     "data": {
      "text/html": [
       "<div>\n",
       "<style scoped>\n",
       "    .dataframe tbody tr th:only-of-type {\n",
       "        vertical-align: middle;\n",
       "    }\n",
       "\n",
       "    .dataframe tbody tr th {\n",
       "        vertical-align: top;\n",
       "    }\n",
       "\n",
       "    .dataframe thead th {\n",
       "        text-align: right;\n",
       "    }\n",
       "</style>\n",
       "<table border=\"1\" class=\"dataframe\">\n",
       "  <thead>\n",
       "    <tr style=\"text-align: right;\">\n",
       "      <th></th>\n",
       "      <th>user_id</th>\n",
       "      <th>name</th>\n",
       "      <th>age</th>\n",
       "      <th>city</th>\n",
       "      <th>subscription_type</th>\n",
       "      <th>distance</th>\n",
       "      <th>duration</th>\n",
       "      <th>date</th>\n",
       "      <th>month</th>\n",
       "      <th>minute_price</th>\n",
       "      <th>start_ride_price</th>\n",
       "      <th>subscription_fee</th>\n",
       "    </tr>\n",
       "  </thead>\n",
       "  <tbody>\n",
       "    <tr>\n",
       "      <th>6500</th>\n",
       "      <td>700</td>\n",
       "      <td>Айдар</td>\n",
       "      <td>22</td>\n",
       "      <td>Омск</td>\n",
       "      <td>free</td>\n",
       "      <td>2515.690719</td>\n",
       "      <td>14.944286</td>\n",
       "      <td>2021-01-02</td>\n",
       "      <td>1</td>\n",
       "      <td>8</td>\n",
       "      <td>50</td>\n",
       "      <td>0</td>\n",
       "    </tr>\n",
       "    <tr>\n",
       "      <th>6501</th>\n",
       "      <td>700</td>\n",
       "      <td>Айдар</td>\n",
       "      <td>22</td>\n",
       "      <td>Омск</td>\n",
       "      <td>free</td>\n",
       "      <td>846.932642</td>\n",
       "      <td>16.234663</td>\n",
       "      <td>2021-02-01</td>\n",
       "      <td>2</td>\n",
       "      <td>8</td>\n",
       "      <td>50</td>\n",
       "      <td>0</td>\n",
       "    </tr>\n",
       "    <tr>\n",
       "      <th>6502</th>\n",
       "      <td>700</td>\n",
       "      <td>Айдар</td>\n",
       "      <td>22</td>\n",
       "      <td>Омск</td>\n",
       "      <td>free</td>\n",
       "      <td>4004.434142</td>\n",
       "      <td>20.016628</td>\n",
       "      <td>2021-02-04</td>\n",
       "      <td>2</td>\n",
       "      <td>8</td>\n",
       "      <td>50</td>\n",
       "      <td>0</td>\n",
       "    </tr>\n",
       "    <tr>\n",
       "      <th>6503</th>\n",
       "      <td>700</td>\n",
       "      <td>Айдар</td>\n",
       "      <td>22</td>\n",
       "      <td>Омск</td>\n",
       "      <td>free</td>\n",
       "      <td>1205.911290</td>\n",
       "      <td>9.782872</td>\n",
       "      <td>2021-02-10</td>\n",
       "      <td>2</td>\n",
       "      <td>8</td>\n",
       "      <td>50</td>\n",
       "      <td>0</td>\n",
       "    </tr>\n",
       "    <tr>\n",
       "      <th>6504</th>\n",
       "      <td>700</td>\n",
       "      <td>Айдар</td>\n",
       "      <td>22</td>\n",
       "      <td>Омск</td>\n",
       "      <td>free</td>\n",
       "      <td>3047.379435</td>\n",
       "      <td>17.427673</td>\n",
       "      <td>2021-02-14</td>\n",
       "      <td>2</td>\n",
       "      <td>8</td>\n",
       "      <td>50</td>\n",
       "      <td>0</td>\n",
       "    </tr>\n",
       "  </tbody>\n",
       "</table>\n",
       "</div>"
      ],
      "text/plain": [
       "      user_id   name  age  city subscription_type     distance   duration  \\\n",
       "6500      700  Айдар   22  Омск              free  2515.690719  14.944286   \n",
       "6501      700  Айдар   22  Омск              free   846.932642  16.234663   \n",
       "6502      700  Айдар   22  Омск              free  4004.434142  20.016628   \n",
       "6503      700  Айдар   22  Омск              free  1205.911290   9.782872   \n",
       "6504      700  Айдар   22  Омск              free  3047.379435  17.427673   \n",
       "\n",
       "           date  month  minute_price  start_ride_price  subscription_fee  \n",
       "6500 2021-01-02      1             8                50                 0  \n",
       "6501 2021-02-01      2             8                50                 0  \n",
       "6502 2021-02-04      2             8                50                 0  \n",
       "6503 2021-02-10      2             8                50                 0  \n",
       "6504 2021-02-14      2             8                50                 0  "
      ]
     },
     "execution_count": 25,
     "metadata": {},
     "output_type": "execute_result"
    }
   ],
   "source": [
    "users_without_subscription = data[data['subscription_type'] == 'free']\n",
    "users_without_subscription.head()"
   ]
  },
  {
   "cell_type": "code",
   "execution_count": 26,
   "id": "3d5d52ba",
   "metadata": {
    "scrolled": true
   },
   "outputs": [
    {
     "data": {
      "text/html": [
       "<div>\n",
       "<style scoped>\n",
       "    .dataframe tbody tr th:only-of-type {\n",
       "        vertical-align: middle;\n",
       "    }\n",
       "\n",
       "    .dataframe tbody tr th {\n",
       "        vertical-align: top;\n",
       "    }\n",
       "\n",
       "    .dataframe thead th {\n",
       "        text-align: right;\n",
       "    }\n",
       "</style>\n",
       "<table border=\"1\" class=\"dataframe\">\n",
       "  <thead>\n",
       "    <tr style=\"text-align: right;\">\n",
       "      <th></th>\n",
       "      <th>user_id</th>\n",
       "      <th>name</th>\n",
       "      <th>age</th>\n",
       "      <th>city</th>\n",
       "      <th>subscription_type</th>\n",
       "      <th>distance</th>\n",
       "      <th>duration</th>\n",
       "      <th>date</th>\n",
       "      <th>month</th>\n",
       "      <th>minute_price</th>\n",
       "      <th>start_ride_price</th>\n",
       "      <th>subscription_fee</th>\n",
       "    </tr>\n",
       "  </thead>\n",
       "  <tbody>\n",
       "    <tr>\n",
       "      <th>0</th>\n",
       "      <td>1</td>\n",
       "      <td>Кира</td>\n",
       "      <td>22</td>\n",
       "      <td>Тюмень</td>\n",
       "      <td>ultra</td>\n",
       "      <td>4409.919140</td>\n",
       "      <td>25.599769</td>\n",
       "      <td>2021-01-01</td>\n",
       "      <td>1</td>\n",
       "      <td>6</td>\n",
       "      <td>0</td>\n",
       "      <td>199</td>\n",
       "    </tr>\n",
       "    <tr>\n",
       "      <th>1</th>\n",
       "      <td>1</td>\n",
       "      <td>Кира</td>\n",
       "      <td>22</td>\n",
       "      <td>Тюмень</td>\n",
       "      <td>ultra</td>\n",
       "      <td>2617.592153</td>\n",
       "      <td>15.816871</td>\n",
       "      <td>2021-01-18</td>\n",
       "      <td>1</td>\n",
       "      <td>6</td>\n",
       "      <td>0</td>\n",
       "      <td>199</td>\n",
       "    </tr>\n",
       "    <tr>\n",
       "      <th>2</th>\n",
       "      <td>1</td>\n",
       "      <td>Кира</td>\n",
       "      <td>22</td>\n",
       "      <td>Тюмень</td>\n",
       "      <td>ultra</td>\n",
       "      <td>754.159807</td>\n",
       "      <td>6.232113</td>\n",
       "      <td>2021-04-20</td>\n",
       "      <td>4</td>\n",
       "      <td>6</td>\n",
       "      <td>0</td>\n",
       "      <td>199</td>\n",
       "    </tr>\n",
       "    <tr>\n",
       "      <th>3</th>\n",
       "      <td>1</td>\n",
       "      <td>Кира</td>\n",
       "      <td>22</td>\n",
       "      <td>Тюмень</td>\n",
       "      <td>ultra</td>\n",
       "      <td>2694.783254</td>\n",
       "      <td>18.511000</td>\n",
       "      <td>2021-08-11</td>\n",
       "      <td>8</td>\n",
       "      <td>6</td>\n",
       "      <td>0</td>\n",
       "      <td>199</td>\n",
       "    </tr>\n",
       "    <tr>\n",
       "      <th>4</th>\n",
       "      <td>1</td>\n",
       "      <td>Кира</td>\n",
       "      <td>22</td>\n",
       "      <td>Тюмень</td>\n",
       "      <td>ultra</td>\n",
       "      <td>4028.687306</td>\n",
       "      <td>26.265803</td>\n",
       "      <td>2021-08-28</td>\n",
       "      <td>8</td>\n",
       "      <td>6</td>\n",
       "      <td>0</td>\n",
       "      <td>199</td>\n",
       "    </tr>\n",
       "  </tbody>\n",
       "</table>\n",
       "</div>"
      ],
      "text/plain": [
       "   user_id  name  age    city subscription_type     distance   duration  \\\n",
       "0        1  Кира   22  Тюмень             ultra  4409.919140  25.599769   \n",
       "1        1  Кира   22  Тюмень             ultra  2617.592153  15.816871   \n",
       "2        1  Кира   22  Тюмень             ultra   754.159807   6.232113   \n",
       "3        1  Кира   22  Тюмень             ultra  2694.783254  18.511000   \n",
       "4        1  Кира   22  Тюмень             ultra  4028.687306  26.265803   \n",
       "\n",
       "        date  month  minute_price  start_ride_price  subscription_fee  \n",
       "0 2021-01-01      1             6                 0               199  \n",
       "1 2021-01-18      1             6                 0               199  \n",
       "2 2021-04-20      4             6                 0               199  \n",
       "3 2021-08-11      8             6                 0               199  \n",
       "4 2021-08-28      8             6                 0               199  "
      ]
     },
     "execution_count": 26,
     "metadata": {},
     "output_type": "execute_result"
    }
   ],
   "source": [
    "users_with_subscription = data[data['subscription_type'] == 'ultra']\n",
    "users_with_subscription.head()"
   ]
  },
  {
   "cell_type": "code",
   "execution_count": 27,
   "id": "3c9431fd",
   "metadata": {},
   "outputs": [
    {
     "data": {
      "text/plain": [
       "((18068, 12), (11568, 12), (6500, 12))"
      ]
     },
     "execution_count": 27,
     "metadata": {},
     "output_type": "execute_result"
    }
   ],
   "source": [
    "data.shape, users_without_subscription.shape, users_with_subscription.shape"
   ]
  },
  {
   "cell_type": "markdown",
   "id": "03c37153",
   "metadata": {},
   "source": [
    "We also created 2 new datasets, which include data about users without a subscription and with a subscription."
   ]
  },
  {
   "cell_type": "code",
   "execution_count": 28,
   "id": "8446a5a5",
   "metadata": {},
   "outputs": [
    {
     "data": {
      "image/png": "[encoded data removed]",
      "text/plain": [
       "<Figure size 432x288 with 1 Axes>"
      ]
     },
     "metadata": {
      "needs_background": "light"
     },
     "output_type": "display_data"
    }
   ],
   "source": [
    "users_without_subscription['distance'].plot(kind='hist', bins=40, grid=True, alpha=0.6,\n",
    "                                            legend=True, label='No subscription'\n",
    "                                           )\n",
    "users_with_subscription['distance'].plot(kind='hist', bins=30, grid=True, alpha=0.6,\n",
    "                                         legend=True, label='With subscription',\n",
    "                                         xlabel='Meters', ylabel='Frequency',\n",
    "                                         title='Histogram for distances traveled by users'\n",
    "                                        )\n",
    "plt.show()"
   ]
  },
  {
   "cell_type": "markdown",
   "id": "a1a921b5",
   "metadata": {},
   "source": [
    "You can see that the graph for users with a subscription has less spread in the data compared to the graph for users without a subscription. Perhaps users with a subscription most often travel to their specific points, for example, always to work or school.\n",
    "\n",
    "There are 2 peaks on the graph for users without a subscription, which means that most often users without a subscription ride about 3 km, and a little less often users take a scooter to ride about 500 meters.\n",
    "\n",
    "There are also 2 peaks on the graph for users with a subscription, which means that most often users with a subscription also ride about 3 km, and a little less often users take a scooter to ride about 1 km."
   ]
  },
  {
   "cell_type": "code",
   "execution_count": 29,
   "id": "6a6729d1",
   "metadata": {},
   "outputs": [
    {
     "data": {
      "image/png": "[encoded data removed]",
      "text/plain": [
       "<Figure size 432x288 with 1 Axes>"
      ]
     },
     "metadata": {
      "needs_background": "light"
     },
     "output_type": "display_data"
    }
   ],
   "source": [
    "users_without_subscription['duration'].plot(kind='hist', bins=30, grid=True, alpha=0.6,\n",
    "                                            legend=True, label='No subscription'\n",
    "                                           )\n",
    "users_with_subscription['duration'].plot(kind='hist', bins=30, grid=True, alpha=0.6,\n",
    "                                         legend=True, label='With subscription',\n",
    "                                         xlabel='Minutes', ylabel='Frequency',\n",
    "                                         title='Histogram for user travel duration'\n",
    "                                        )\n",
    "plt.show()"
   ]
  },
  {
   "cell_type": "markdown",
   "id": "1d2f8939",
   "metadata": {},
   "source": [
    "The average trip for users without a subscription lasts about 15-20 minutes.\n",
    "\n",
    "The trip for users with a subscription also lasts about 15-20 minutes.\n",
    "\n",
    "The graph of users without a subscription has a greater spread in data than that of users with a subscription."
   ]
  },
  {
   "cell_type": "markdown",
   "id": "d7f33c28",
   "metadata": {},
   "source": [
    "### Intermediate output"
   ]
  },
  {
   "cell_type": "markdown",
   "id": "88e35a52",
   "metadata": {},
   "source": [
    "Users without and with a subscription have similar behavior when renting scooters, but users with a subscription are more likely to rent scooters for specific periods of time, perhaps for work or school."
   ]
  },
  {
   "cell_type": "markdown",
   "id": "402d620f",
   "metadata": {},
   "source": [
    "## Step 5. Calculating revenue"
   ]
  },
  {
   "cell_type": "code",
   "execution_count": 30,
   "id": "1478a6db",
   "metadata": {
    "scrolled": true
   },
   "outputs": [
    {
     "data": {
      "text/html": [
       "<div>\n",
       "<style scoped>\n",
       "    .dataframe tbody tr th:only-of-type {\n",
       "        vertical-align: middle;\n",
       "    }\n",
       "\n",
       "    .dataframe tbody tr th {\n",
       "        vertical-align: top;\n",
       "    }\n",
       "\n",
       "    .dataframe thead th {\n",
       "        text-align: right;\n",
       "    }\n",
       "</style>\n",
       "<table border=\"1\" class=\"dataframe\">\n",
       "  <thead>\n",
       "    <tr style=\"text-align: right;\">\n",
       "      <th></th>\n",
       "      <th>user_id</th>\n",
       "      <th>name</th>\n",
       "      <th>age</th>\n",
       "      <th>city</th>\n",
       "      <th>subscription_type</th>\n",
       "      <th>distance</th>\n",
       "      <th>duration</th>\n",
       "      <th>date</th>\n",
       "      <th>month</th>\n",
       "      <th>minute_price</th>\n",
       "      <th>start_ride_price</th>\n",
       "      <th>subscription_fee</th>\n",
       "      <th>spent_money_for_rides</th>\n",
       "    </tr>\n",
       "  </thead>\n",
       "  <tbody>\n",
       "    <tr>\n",
       "      <th>0</th>\n",
       "      <td>1</td>\n",
       "      <td>Кира</td>\n",
       "      <td>22</td>\n",
       "      <td>Тюмень</td>\n",
       "      <td>ultra</td>\n",
       "      <td>4409.919140</td>\n",
       "      <td>25.599769</td>\n",
       "      <td>2021-01-01</td>\n",
       "      <td>1</td>\n",
       "      <td>6</td>\n",
       "      <td>0</td>\n",
       "      <td>199</td>\n",
       "      <td>156.0</td>\n",
       "    </tr>\n",
       "    <tr>\n",
       "      <th>1</th>\n",
       "      <td>1</td>\n",
       "      <td>Кира</td>\n",
       "      <td>22</td>\n",
       "      <td>Тюмень</td>\n",
       "      <td>ultra</td>\n",
       "      <td>2617.592153</td>\n",
       "      <td>15.816871</td>\n",
       "      <td>2021-01-18</td>\n",
       "      <td>1</td>\n",
       "      <td>6</td>\n",
       "      <td>0</td>\n",
       "      <td>199</td>\n",
       "      <td>96.0</td>\n",
       "    </tr>\n",
       "    <tr>\n",
       "      <th>2</th>\n",
       "      <td>1</td>\n",
       "      <td>Кира</td>\n",
       "      <td>22</td>\n",
       "      <td>Тюмень</td>\n",
       "      <td>ultra</td>\n",
       "      <td>754.159807</td>\n",
       "      <td>6.232113</td>\n",
       "      <td>2021-04-20</td>\n",
       "      <td>4</td>\n",
       "      <td>6</td>\n",
       "      <td>0</td>\n",
       "      <td>199</td>\n",
       "      <td>42.0</td>\n",
       "    </tr>\n",
       "    <tr>\n",
       "      <th>3</th>\n",
       "      <td>1</td>\n",
       "      <td>Кира</td>\n",
       "      <td>22</td>\n",
       "      <td>Тюмень</td>\n",
       "      <td>ultra</td>\n",
       "      <td>2694.783254</td>\n",
       "      <td>18.511000</td>\n",
       "      <td>2021-08-11</td>\n",
       "      <td>8</td>\n",
       "      <td>6</td>\n",
       "      <td>0</td>\n",
       "      <td>199</td>\n",
       "      <td>114.0</td>\n",
       "    </tr>\n",
       "    <tr>\n",
       "      <th>4</th>\n",
       "      <td>1</td>\n",
       "      <td>Кира</td>\n",
       "      <td>22</td>\n",
       "      <td>Тюмень</td>\n",
       "      <td>ultra</td>\n",
       "      <td>4028.687306</td>\n",
       "      <td>26.265803</td>\n",
       "      <td>2021-08-28</td>\n",
       "      <td>8</td>\n",
       "      <td>6</td>\n",
       "      <td>0</td>\n",
       "      <td>199</td>\n",
       "      <td>162.0</td>\n",
       "    </tr>\n",
       "  </tbody>\n",
       "</table>\n",
       "</div>"
      ],
      "text/plain": [
       "   user_id  name  age    city subscription_type     distance   duration  \\\n",
       "0        1  Кира   22  Тюмень             ultra  4409.919140  25.599769   \n",
       "1        1  Кира   22  Тюмень             ultra  2617.592153  15.816871   \n",
       "2        1  Кира   22  Тюмень             ultra   754.159807   6.232113   \n",
       "3        1  Кира   22  Тюмень             ultra  2694.783254  18.511000   \n",
       "4        1  Кира   22  Тюмень             ultra  4028.687306  26.265803   \n",
       "\n",
       "        date  month  minute_price  start_ride_price  subscription_fee  \\\n",
       "0 2021-01-01      1             6                 0               199   \n",
       "1 2021-01-18      1             6                 0               199   \n",
       "2 2021-04-20      4             6                 0               199   \n",
       "3 2021-08-11      8             6                 0               199   \n",
       "4 2021-08-28      8             6                 0               199   \n",
       "\n",
       "   spent_money_for_rides  \n",
       "0                  156.0  \n",
       "1                   96.0  \n",
       "2                   42.0  \n",
       "3                  114.0  \n",
       "4                  162.0  "
      ]
     },
     "execution_count": 30,
     "metadata": {},
     "output_type": "execute_result"
    }
   ],
   "source": [
    "data['spent_money_for_rides'] = data['start_ride_price'] + np.ceil(data['duration']) * data['minute_price']\n",
    "data.head()"
   ]
  },
  {
   "cell_type": "code",
   "execution_count": 31,
   "id": "53049e0a",
   "metadata": {},
   "outputs": [
    {
     "data": {
      "text/html": [
       "<div>\n",
       "<style scoped>\n",
       "    .dataframe tbody tr th:only-of-type {\n",
       "        vertical-align: middle;\n",
       "    }\n",
       "\n",
       "    .dataframe tbody tr th {\n",
       "        vertical-align: top;\n",
       "    }\n",
       "\n",
       "    .dataframe thead th {\n",
       "        text-align: right;\n",
       "    }\n",
       "</style>\n",
       "<table border=\"1\" class=\"dataframe\">\n",
       "  <thead>\n",
       "    <tr style=\"text-align: right;\">\n",
       "      <th></th>\n",
       "      <th>user_id</th>\n",
       "      <th>month</th>\n",
       "      <th>sum_distance</th>\n",
       "      <th>sum_duration</th>\n",
       "      <th>sum_spent_money_for_rides</th>\n",
       "      <th>count_rides</th>\n",
       "    </tr>\n",
       "  </thead>\n",
       "  <tbody>\n",
       "    <tr>\n",
       "      <th>0</th>\n",
       "      <td>1</td>\n",
       "      <td>1</td>\n",
       "      <td>7027.511294</td>\n",
       "      <td>41.416640</td>\n",
       "      <td>451.0</td>\n",
       "      <td>2</td>\n",
       "    </tr>\n",
       "    <tr>\n",
       "      <th>1</th>\n",
       "      <td>1</td>\n",
       "      <td>4</td>\n",
       "      <td>754.159807</td>\n",
       "      <td>6.232113</td>\n",
       "      <td>241.0</td>\n",
       "      <td>1</td>\n",
       "    </tr>\n",
       "    <tr>\n",
       "      <th>2</th>\n",
       "      <td>1</td>\n",
       "      <td>8</td>\n",
       "      <td>6723.470560</td>\n",
       "      <td>44.776802</td>\n",
       "      <td>475.0</td>\n",
       "      <td>2</td>\n",
       "    </tr>\n",
       "    <tr>\n",
       "      <th>3</th>\n",
       "      <td>1</td>\n",
       "      <td>10</td>\n",
       "      <td>5809.911100</td>\n",
       "      <td>31.578017</td>\n",
       "      <td>391.0</td>\n",
       "      <td>2</td>\n",
       "    </tr>\n",
       "    <tr>\n",
       "      <th>4</th>\n",
       "      <td>1</td>\n",
       "      <td>11</td>\n",
       "      <td>7003.499363</td>\n",
       "      <td>53.397424</td>\n",
       "      <td>535.0</td>\n",
       "      <td>3</td>\n",
       "    </tr>\n",
       "  </tbody>\n",
       "</table>\n",
       "</div>"
      ],
      "text/plain": [
       "   user_id  month  sum_distance  sum_duration  sum_spent_money_for_rides  \\\n",
       "0        1      1   7027.511294     41.416640                      451.0   \n",
       "1        1      4    754.159807      6.232113                      241.0   \n",
       "2        1      8   6723.470560     44.776802                      475.0   \n",
       "3        1     10   5809.911100     31.578017                      391.0   \n",
       "4        1     11   7003.499363     53.397424                      535.0   \n",
       "\n",
       "   count_rides  \n",
       "0            2  \n",
       "1            1  \n",
       "2            2  \n",
       "3            2  \n",
       "4            3  "
      ]
     },
     "execution_count": 31,
     "metadata": {},
     "output_type": "execute_result"
    }
   ],
   "source": [
    "data_about_rides_and_money = data.pivot_table(\n",
    "    index=['user_id', 'month'], values=['distance', 'duration', 'spent_money_for_rides'],\n",
    "    aggfunc={'distance': 'sum', 'duration': 'sum', 'spent_money_for_rides': 'sum', 'user_id': 'count'}\n",
    ")\n",
    "data_about_rides_and_money.columns = ['sum_distance', 'sum_duration', 'sum_spent_money_for_rides', 'count_rides']\n",
    "# We add a subscription fee to each user if he is subscribed\n",
    "data_about_rides_and_money['sum_spent_money_for_rides'] += data.groupby(['user_id', 'month'])['subscription_fee'].sum() / data_about_rides_and_money['count_rides']\n",
    "data_about_rides_and_money.reset_index(inplace=True)\n",
    "data_about_rides_and_money.head()"
   ]
  },
  {
   "cell_type": "markdown",
   "id": "f3ab15bb",
   "metadata": {},
   "source": [
    "A dataframe was created with aggregated trip data, including: total distance, number of trips, monthly revenue generated by each user, and total time for each user for each month."
   ]
  },
  {
   "cell_type": "markdown",
   "id": "41545ac0",
   "metadata": {},
   "source": [
    "## Step 6. Testing hypotheses"
   ]
  },
  {
   "cell_type": "markdown",
   "id": "22026e91",
   "metadata": {},
   "source": [
    "### Hypothesis testing 1. Do users with a subscription spend more time traveling?"
   ]
  },
  {
   "cell_type": "markdown",
   "id": "77e5876d",
   "metadata": {},
   "source": [
    "**Null hypothesis:** the average trip durations for users with and without a subscription are equal.\n",
    "\n",
    "**Alternative Hypothesis:** The average trip duration for users with a subscription is longer than the average trip duration for users without a subscription.\n",
    "\n",
    "I set the ```equal_var``` parameter for the test to False, since the graph shows that the scatter of the graphs is different.\n",
    "(even if set to True, the test will reject the null hypothesis)"
   ]
  },
  {
   "cell_type": "code",
   "execution_count": 32,
   "id": "23ea867b",
   "metadata": {},
   "outputs": [
    {
     "name": "stdout",
     "output_type": "stream",
     "text": [
      "Pvalue:  5.675781377128977e-37\n",
      "Rejecting the null hypothesis\n"
     ]
    }
   ],
   "source": [
    "alpha = 0.05\n",
    "\n",
    "results = st.ttest_ind(users_with_subscription['duration'], users_without_subscription['duration'], equal_var=False, alternative='greater')\n",
    "\n",
    "print('Pvalue: ', results.pvalue)\n",
    "\n",
    "if results.pvalue < alpha:\n",
    "    print('Rejecting the null hypothesis')\n",
    "else:\n",
    "    print('There is no reason to reject the null hypothesis')"
   ]
  },
  {
   "cell_type": "markdown",
   "id": "e80007c4",
   "metadata": {},
   "source": [
    "There is evidence to say that users with a subscription spend more time traveling compared to users without a subscription!"
   ]
  },
  {
   "cell_type": "markdown",
   "id": "e88e15f4",
   "metadata": {},
   "source": [
    "### Testing hypothesis 2. Do users with a subscription travel more than 3130 meters in one trip?"
   ]
  },
  {
   "cell_type": "markdown",
   "id": "b8716f32",
   "metadata": {},
   "source": [
    "**Null hypothesis:** the average distance traveled by users with a subscription in one trip is 3130 meters.\n",
    "\n",
    "**Alternative hypothesis:** the average distance traveled by users with a subscription per trip exceeds 3130 meters."
   ]
  },
  {
   "cell_type": "code",
   "execution_count": 33,
   "id": "9eef119c",
   "metadata": {},
   "outputs": [
    {
     "name": "stdout",
     "output_type": "stream",
     "text": [
      "Pvalue:  0.9195368847849785\n",
      "There is no reason to reject the null hypothesis\n"
     ]
    }
   ],
   "source": [
    "alpha = 0.05\n",
    "\n",
    "optimal_distance = 3130\n",
    "\n",
    "results = st.ttest_1samp(users_with_subscription['distance'], optimal_distance, alternative='greater')\n",
    "\n",
    "print('Pvalue: ', results.pvalue)\n",
    "\n",
    "if results.pvalue < alpha:\n",
    "    print('Rejecting the null hypothesis')\n",
    "else:\n",
    "    print('There is no reason to reject the null hypothesis')"
   ]
  },
  {
   "cell_type": "markdown",
   "id": "ca378c89",
   "metadata": {},
   "source": [
    "There is reason to say that users with a subscription travel an average of 3,130 meters per trip.\n",
    "\n",
    "There is no reason to believe that users with a subscription travel more than 3130 meters in one trip."
   ]
  },
  {
   "cell_type": "markdown",
   "id": "4adf3d62",
   "metadata": {},
   "source": [
    "### Hypothesis Test 3: Will the monthly revenue from users with a monthly subscription be higher than the revenue from users without a subscription?"
   ]
  },
  {
   "cell_type": "code",
   "execution_count": 34,
   "id": "a8ba2236",
   "metadata": {
    "scrolled": false
   },
   "outputs": [
    {
     "data": {
      "text/html": [
       "<div>\n",
       "<style scoped>\n",
       "    .dataframe tbody tr th:only-of-type {\n",
       "        vertical-align: middle;\n",
       "    }\n",
       "\n",
       "    .dataframe tbody tr th {\n",
       "        vertical-align: top;\n",
       "    }\n",
       "\n",
       "    .dataframe thead th {\n",
       "        text-align: right;\n",
       "    }\n",
       "</style>\n",
       "<table border=\"1\" class=\"dataframe\">\n",
       "  <thead>\n",
       "    <tr style=\"text-align: right;\">\n",
       "      <th></th>\n",
       "      <th>user_id</th>\n",
       "      <th>month</th>\n",
       "      <th>sum_distance</th>\n",
       "      <th>sum_duration</th>\n",
       "      <th>sum_spent_money_for_rides</th>\n",
       "      <th>count_rides</th>\n",
       "      <th>subscription_type</th>\n",
       "    </tr>\n",
       "  </thead>\n",
       "  <tbody>\n",
       "    <tr>\n",
       "      <th>0</th>\n",
       "      <td>1</td>\n",
       "      <td>1</td>\n",
       "      <td>7027.511294</td>\n",
       "      <td>41.416640</td>\n",
       "      <td>451.0</td>\n",
       "      <td>2</td>\n",
       "      <td>ultra</td>\n",
       "    </tr>\n",
       "    <tr>\n",
       "      <th>1</th>\n",
       "      <td>1</td>\n",
       "      <td>1</td>\n",
       "      <td>7027.511294</td>\n",
       "      <td>41.416640</td>\n",
       "      <td>451.0</td>\n",
       "      <td>2</td>\n",
       "      <td>ultra</td>\n",
       "    </tr>\n",
       "    <tr>\n",
       "      <th>2</th>\n",
       "      <td>1</td>\n",
       "      <td>4</td>\n",
       "      <td>754.159807</td>\n",
       "      <td>6.232113</td>\n",
       "      <td>241.0</td>\n",
       "      <td>1</td>\n",
       "      <td>ultra</td>\n",
       "    </tr>\n",
       "    <tr>\n",
       "      <th>3</th>\n",
       "      <td>1</td>\n",
       "      <td>8</td>\n",
       "      <td>6723.470560</td>\n",
       "      <td>44.776802</td>\n",
       "      <td>475.0</td>\n",
       "      <td>2</td>\n",
       "      <td>ultra</td>\n",
       "    </tr>\n",
       "    <tr>\n",
       "      <th>4</th>\n",
       "      <td>1</td>\n",
       "      <td>8</td>\n",
       "      <td>6723.470560</td>\n",
       "      <td>44.776802</td>\n",
       "      <td>475.0</td>\n",
       "      <td>2</td>\n",
       "      <td>ultra</td>\n",
       "    </tr>\n",
       "  </tbody>\n",
       "</table>\n",
       "</div>"
      ],
      "text/plain": [
       "   user_id  month  sum_distance  sum_duration  sum_spent_money_for_rides  \\\n",
       "0        1      1   7027.511294     41.416640                      451.0   \n",
       "1        1      1   7027.511294     41.416640                      451.0   \n",
       "2        1      4    754.159807      6.232113                      241.0   \n",
       "3        1      8   6723.470560     44.776802                      475.0   \n",
       "4        1      8   6723.470560     44.776802                      475.0   \n",
       "\n",
       "   count_rides subscription_type  \n",
       "0            2             ultra  \n",
       "1            2             ultra  \n",
       "2            1             ultra  \n",
       "3            2             ultra  \n",
       "4            2             ultra  "
      ]
     },
     "execution_count": 34,
     "metadata": {},
     "output_type": "execute_result"
    }
   ],
   "source": [
    "data_about_rides_and_money = data_about_rides_and_money.merge(data[['user_id', 'month', 'subscription_type']], on=['user_id', 'month'])\n",
    "data_about_rides_and_money.head()"
   ]
  },
  {
   "cell_type": "markdown",
   "id": "5a8c4e04",
   "metadata": {},
   "source": [
    "Let's add a column with data on the type of subscription for each user to the revenue table."
   ]
  },
  {
   "cell_type": "code",
   "execution_count": 35,
   "id": "27daba69",
   "metadata": {},
   "outputs": [
    {
     "data": {
      "image/png": "[encoded data removed]",
      "text/plain": [
       "<Figure size 432x288 with 1 Axes>"
      ]
     },
     "metadata": {
      "needs_background": "light"
     },
     "output_type": "display_data"
    },
    {
     "data": {
      "image/png": "[encoded data removed]",
      "text/plain": [
       "<Figure size 432x288 with 1 Axes>"
      ]
     },
     "metadata": {
      "needs_background": "light"
     },
     "output_type": "display_data"
    }
   ],
   "source": [
    "data_about_rides_and_money.query('subscription_type == \"ultra\"')['sum_spent_money_for_rides'].plot(\n",
    "    kind='hist', grid=True, title='Spent money for rides for users with subscriptions'\n",
    ")\n",
    "plt.show()\n",
    "data_about_rides_and_money.query('subscription_type == \"free\"')['sum_spent_money_for_rides'].plot(\n",
    "    kind='hist', grid=True, title='Spent money for rides for users without subscriptions'\n",
    ")\n",
    "plt.show()"
   ]
  },
  {
   "cell_type": "markdown",
   "id": "563cc812",
   "metadata": {},
   "source": [
    "From the graphs you can see that the spread of data does not vary much.\n",
    "\n",
    "You can also preliminary note that users without a subscription spend on average more money on trips."
   ]
  },
  {
   "cell_type": "markdown",
   "id": "8dfa0a27",
   "metadata": {},
   "source": [
    "**Null Hypothesis:** Average monthly revenues for both subscribed and non-subscribed users are the same.\n",
    "\n",
    "**Alternate Hypothesis:** The average monthly revenue for users with a subscription is greater than the average monthly revenue for users without a subscription."
   ]
  },
  {
   "cell_type": "code",
   "execution_count": 36,
   "id": "2f9b61b9",
   "metadata": {
    "scrolled": true
   },
   "outputs": [
    {
     "name": "stdout",
     "output_type": "stream",
     "text": [
      "Pvalue:  0.6841297292269042\n",
      " 1\n",
      "Pvalue:  0.9949238774849607\n",
      " 2\n",
      "Pvalue:  0.9888626135320185\n",
      " 3\n",
      "Pvalue:  0.9898413899892002\n",
      " 4\n",
      "Pvalue:  0.8389200273376516\n",
      " 5\n",
      "Pvalue:  0.9740653370860037\n",
      " 6\n",
      "Pvalue:  0.9187638435541551\n",
      " 7\n",
      "Pvalue:  0.9993513108137787\n",
      " 8\n",
      "Pvalue:  0.9681411273121675\n",
      " 9\n",
      "Pvalue:  0.8127165153538547\n",
      " 10\n",
      "Pvalue:  0.9391101416602814\n",
      " 11\n",
      "Pvalue:  0.9819746396622085\n",
      " 12\n"
     ]
    }
   ],
   "source": [
    "alpha = 0.05\n",
    "\n",
    "for month in range(1, 13):\n",
    "    results = st.ttest_ind(\n",
    "        data_about_rides_and_money.query('month == @month and subscription_type == \"ultra\"')['sum_spent_money_for_rides'],\n",
    "        data_about_rides_and_money.query('month == @month and subscription_type == \"free\"')['sum_spent_money_for_rides'],\n",
    "        alternative='greater'\n",
    "    )\n",
    "\n",
    "    print('Pvalue: ', results.pvalue)\n",
    "\n",
    "    if results.pvalue < alpha:\n",
    "        print('There is no reason to reject the null hypothesis for month', month)\n",
    "    else:\n",
    "        print('', month)"
   ]
  },
  {
   "cell_type": "markdown",
   "id": "f8fe0d07",
   "metadata": {},
   "source": [
    "There is evidence to say that users with a subscription generate as much revenue each month as users without a subscription.\n",
    "\n",
    "There is no evidence to suggest that users with a subscription generate more monthly revenue than users without a subscription."
   ]
  },
  {
   "cell_type": "markdown",
   "id": "6e15ba4d",
   "metadata": {},
   "source": [
    "### Answer to the question."
   ]
  },
  {
   "cell_type": "markdown",
   "id": "414397f9",
   "metadata": {},
   "source": [
    "**Conditions:** the technical team of the service has updated the servers with which the mobile application interacts. She hopes that because of this, the number of calls to technical support has decreased significantly. A certain file contains data for each user on the number of hits before and after the update.\n",
    "\n",
    "**Question:** What test would you need to test this hypothesis?"
   ]
  },
  {
   "cell_type": "markdown",
   "id": "1f23f27b",
   "metadata": {},
   "source": [
    "For a given task and available data, you can use a test to test the hypothesis about the equality of the mean value for dependent samples.\n",
    "\n",
    "```st.ttest_rel(before, after)```"
   ]
  },
  {
   "cell_type": "markdown",
   "id": "61213c5e",
   "metadata": {},
   "source": [
    "## Step 7. Distributions"
   ]
  },
  {
   "cell_type": "markdown",
   "id": "aba9e3dd",
   "metadata": {},
   "source": [
    "### Task 1. Promotion with distribution of promotional codes"
   ]
  },
  {
   "cell_type": "markdown",
   "id": "8e930352",
   "metadata": {},
   "source": [
    "The GoFast marketing department was given a **task**: they needed to run a promotion with the distribution of promotional codes for one free month of subscription, within which at least 100 existing customers must renew this subscription. That is, at the end of the subscription period, the user can either cancel it or renew it by making the appropriate payment.\n",
    "\n",
    "This promotion has already been carried out previously and as a result it turned out that after the free trial period, 10% of users renew their subscription.\n",
    "\n",
    "**Question:** What is the minimum number of promotional codes that must be sent out so that the probability of not fulfilling the plan is approximately 5%?"
   ]
  },
  {
   "cell_type": "code",
   "execution_count": 37,
   "id": "95cd1d51",
   "metadata": {},
   "outputs": [],
   "source": [
    "p = 0.1\n",
    "k = 100\n",
    "\n",
    "distr = []\n",
    "for n in range(k, 1500+1):\n",
    "    current_value = st.binom.cdf(k-1, n, p)\n",
    "    distr.append(1 - current_value)"
   ]
  },
  {
   "cell_type": "markdown",
   "id": "30fbab90",
   "metadata": {},
   "source": [
    "In the code above, a binomial distribution was constructed and its cumulative function was calculated for different values of *N*, *k = 100* since we need to find that from 100 clients, including 100, will renew their subscription, the probability of the event occurring = 0.1 or 10%."
   ]
  },
  {
   "cell_type": "code",
   "execution_count": 38,
   "id": "d408585e",
   "metadata": {},
   "outputs": [
    {
     "data": {
      "image/png": "[encoded data removed]",
      "text/plain": [
       "<Figure size 720x432 with 1 Axes>"
      ]
     },
     "metadata": {
      "needs_background": "light"
     },
     "output_type": "display_data"
    }
   ],
   "source": [
    "fig = plt.figure(figsize=(10, 6))\n",
    "ax = fig.gca()\n",
    "ax.set_yticks(np.arange(0, 1.1, 0.05))\n",
    "plt.plot(range(k, 1500+1), distr)\n",
    "plt.grid()\n",
    "plt.show()"
   ]
  },
  {
   "cell_type": "markdown",
   "id": "e83c7e19",
   "metadata": {},
   "source": [
    "We need to find the minimum number of promotional codes that need to be sent out so that the probability of not fulfilling the plan is approximately 5% or so that the probability of fulfilling the plan is approximately 95%.\n",
    "\n",
    "The graph shows that for a probability of 95% we need to send out **from 1180 promotional codes.**"
   ]
  },
  {
   "cell_type": "markdown",
   "id": "0ac3a642",
   "metadata": {},
   "source": [
    "### Task 2. Push notifications in the mobile application."
   ]
  },
  {
   "cell_type": "markdown",
   "id": "b8a20d38",
   "metadata": {},
   "source": [
    "The marketing department sends push notifications to customers in the mobile application. Clients may or may not open it. It is known that notifications are opened by about 40% of customers who receive them. The department plans to send out 1 million notices.\n",
    "\n",
    "**Task:** estimate the probability that the notification will be opened by no more than 399.5 thousand users."
   ]
  },
  {
   "cell_type": "markdown",
   "id": "05c91f0e",
   "metadata": {},
   "source": [
    "Since our p (probability) is not close to 1 or 0, and n is relatively large, we can use the approximation of the binomial distribution to the normal distribution to calculate the probability."
   ]
  },
  {
   "cell_type": "code",
   "execution_count": 39,
   "id": "bab0477d",
   "metadata": {},
   "outputs": [
    {
     "data": {
      "text/plain": [
       "0.15371708296369768"
      ]
     },
     "execution_count": 39,
     "metadata": {},
     "output_type": "execute_result"
    }
   ],
   "source": [
    "n = 1000000\n",
    "p = 0.4\n",
    "\n",
    "mu = n*p \n",
    "sigma = sqrt(n*p*(1-p))\n",
    "\n",
    "distr = st.norm(mu, sigma) \n",
    "\n",
    "result = distr.cdf(399500)\n",
    "result"
   ]
  },
  {
   "cell_type": "markdown",
   "id": "827736a3",
   "metadata": {},
   "source": [
    "Based on the above calculations, you can see that the probability that the notification will be opened by less than 399.5 thousand users **is approximately 15%.**"
   ]
  },
  {
   "cell_type": "markdown",
   "id": "a9ca2969",
   "metadata": {},
   "source": [
    "## General conclusion"
   ]
  },
  {
   "cell_type": "markdown",
   "id": "2b2c9845",
   "metadata": {},
   "source": [
    "*Data about some users from several cities, as well as about their trips* was received from the customer.\n",
    "\n",
    "The data was of fairly good quality, so the following steps were done at the preprocessing stage:\n",
    "- converted 1 column to datetime type,\n",
    "- added a new column for calculations (month of trip),\n",
    "- duplicates were removed in the table with users (approximately 2% of all data)."
   ]
  },
  {
   "cell_type": "markdown",
   "id": "b3a1a36d",
   "metadata": {},
   "source": [
    "Next, **exploratory data analysis** was carried out, during which **it was found out:**\n",
    "- the most users are from Pyatigorsk, and the least from Moscow, but the difference is not big, about 50 users;\n",
    "- 54% of users have a free subscription, the rest have a paid subscription;\n",
    "- most of the users are 22-28 year olds;\n",
    "- used on average travel about 3 km. on a scooter;\n",
    "- on average, users' trips last about 15-20 minutes."
   ]
  },
  {
   "cell_type": "markdown",
   "id": "502be21d",
   "metadata": {},
   "source": [
    "Next was the stage of combining data and considering users with and without subscription separately.\n",
    "\n",
    "**Conclusion:** users without and with a subscription have similar behavior when renting scooters, but users with a subscription are more likely to rent scooters for specific periods of time, perhaps for work or school."
   ]
  },
  {
   "cell_type": "markdown",
   "id": "fc6e5100",
   "metadata": {},
   "source": [
    "At the next stage, a table was created based on the available data with monthly revenue for each client. And based on these data, statistical analysis was carried out.\n",
    "\n",
    "During the **statistical analysis** hypotheses were tested and **based on the results we can say that**:\n",
    "- users with a subscription spend more time traveling compared to users without a subscription;\n",
    "- there is no reason to believe that users with a subscription travel more than 3130 meters in one trip;\n",
    "- there is no reason to say that users with a subscription bring in more monthly revenue than users without a subscription."
   ]
  },
  {
   "cell_type": "markdown",
   "id": "6a4c20aa",
   "metadata": {},
   "source": [
    "Additionally, calculations were carried out using distributions, from which the following can be said:\n",
    "- 1180 promotional codes need to be sent out so that the probability of not fulfilling the plan for the promotion with the distribution of promotional codes for one free month of subscription is approximately 5%;\n",
    "- when sending push notifications to 1 million customers in a mobile application, the probability that the notification will be opened by no more than 399.5 thousand users is approximately 15%."
   ]
  }
 ],
 "metadata": {
  "ExecuteTimeLog": [
   {
    "duration": 1490,
    "start_time": "2023-09-21T15:03:43.286Z"
   },
   {
    "duration": 331,
    "start_time": "2023-09-21T15:03:44.779Z"
   },
   {
    "duration": 15,
    "start_time": "2023-09-21T15:03:45.112Z"
   },
   {
    "duration": 76,
    "start_time": "2023-09-21T15:03:45.130Z"
   },
   {
    "duration": 72,
    "start_time": "2023-09-21T15:03:45.209Z"
   },
   {
    "duration": 46,
    "start_time": "2023-09-21T15:03:45.284Z"
   },
   {
    "duration": 11,
    "start_time": "2023-09-21T15:03:45.333Z"
   },
   {
    "duration": 34,
    "start_time": "2023-09-21T15:03:45.346Z"
   },
   {
    "duration": 13,
    "start_time": "2023-09-21T15:03:45.382Z"
   },
   {
    "duration": 6,
    "start_time": "2023-09-21T15:03:45.398Z"
   },
   {
    "duration": 20,
    "start_time": "2023-09-21T15:03:45.406Z"
   },
   {
    "duration": 15,
    "start_time": "2023-09-21T15:03:45.428Z"
   },
   {
    "duration": 30,
    "start_time": "2023-09-21T15:03:45.455Z"
   },
   {
    "duration": 33,
    "start_time": "2023-09-21T15:03:45.490Z"
   },
   {
    "duration": 215,
    "start_time": "2023-09-21T15:03:45.525Z"
   },
   {
    "duration": 19,
    "start_time": "2023-09-21T15:03:45.742Z"
   },
   {
    "duration": 174,
    "start_time": "2023-09-21T15:03:45.763Z"
   },
   {
    "duration": 302,
    "start_time": "2023-09-21T15:03:45.939Z"
   },
   {
    "duration": 236,
    "start_time": "2023-09-21T15:03:46.243Z"
   },
   {
    "duration": 22,
    "start_time": "2023-09-21T15:03:46.481Z"
   },
   {
    "duration": 20,
    "start_time": "2023-09-21T15:03:46.505Z"
   },
   {
    "duration": 46,
    "start_time": "2023-09-21T15:03:46.526Z"
   },
   {
    "duration": 92,
    "start_time": "2023-09-21T15:03:46.576Z"
   },
   {
    "duration": 454,
    "start_time": "2023-09-21T15:03:46.674Z"
   },
   {
    "duration": 447,
    "start_time": "2023-09-21T15:03:47.131Z"
   },
   {
    "duration": 24,
    "start_time": "2023-09-21T15:03:47.580Z"
   },
   {
    "duration": 232,
    "start_time": "2023-09-21T15:03:47.606Z"
   },
   {
    "duration": 21,
    "start_time": "2023-09-21T15:03:47.841Z"
   },
   {
    "duration": 25,
    "start_time": "2023-09-21T15:03:47.864Z"
   },
   {
    "duration": 34,
    "start_time": "2023-09-21T15:03:47.890Z"
   },
   {
    "duration": 381,
    "start_time": "2023-09-21T15:03:47.926Z"
   },
   {
    "duration": 144,
    "start_time": "2023-09-21T15:03:48.309Z"
   },
   {
    "duration": 367,
    "start_time": "2023-09-21T15:03:48.455Z"
   },
   {
    "duration": 266,
    "start_time": "2023-09-21T15:03:48.824Z"
   },
   {
    "duration": 9,
    "start_time": "2023-09-21T15:03:49.095Z"
   },
   {
    "duration": 25,
    "start_time": "2023-09-21T15:07:14.901Z"
   },
   {
    "duration": 20,
    "start_time": "2023-09-21T15:07:27.686Z"
   },
   {
    "duration": 21,
    "start_time": "2023-09-21T15:07:35.548Z"
   },
   {
    "duration": 106,
    "start_time": "2023-09-21T15:13:50.691Z"
   },
   {
    "duration": 28,
    "start_time": "2023-09-21T15:16:18.149Z"
   },
   {
    "duration": 24,
    "start_time": "2023-09-21T15:17:15.902Z"
   },
   {
    "duration": 1288,
    "start_time": "2023-09-21T15:17:44.271Z"
   },
   {
    "duration": 267,
    "start_time": "2023-09-21T15:17:45.562Z"
   },
   {
    "duration": 16,
    "start_time": "2023-09-21T15:17:45.831Z"
   },
   {
    "duration": 131,
    "start_time": "2023-09-21T15:17:45.849Z"
   },
   {
    "duration": 44,
    "start_time": "2023-09-21T15:17:45.982Z"
   },
   {
    "duration": 41,
    "start_time": "2023-09-21T15:17:46.028Z"
   },
   {
    "duration": 25,
    "start_time": "2023-09-21T15:17:46.071Z"
   },
   {
    "duration": 22,
    "start_time": "2023-09-21T15:17:46.098Z"
   },
   {
    "duration": 17,
    "start_time": "2023-09-21T15:17:46.122Z"
   },
   {
    "duration": 31,
    "start_time": "2023-09-21T15:17:46.141Z"
   },
   {
    "duration": 43,
    "start_time": "2023-09-21T15:17:46.174Z"
   },
   {
    "duration": 31,
    "start_time": "2023-09-21T15:17:46.219Z"
   },
   {
    "duration": 27,
    "start_time": "2023-09-21T15:17:46.252Z"
   },
   {
    "duration": 39,
    "start_time": "2023-09-21T15:17:46.282Z"
   },
   {
    "duration": 169,
    "start_time": "2023-09-21T15:17:46.322Z"
   },
   {
    "duration": 8,
    "start_time": "2023-09-21T15:17:46.493Z"
   },
   {
    "duration": 191,
    "start_time": "2023-09-21T15:17:46.503Z"
   },
   {
    "duration": 228,
    "start_time": "2023-09-21T15:17:46.696Z"
   },
   {
    "duration": 224,
    "start_time": "2023-09-21T15:17:46.926Z"
   },
   {
    "duration": 29,
    "start_time": "2023-09-21T15:17:47.151Z"
   },
   {
    "duration": 20,
    "start_time": "2023-09-21T15:17:47.181Z"
   },
   {
    "duration": 34,
    "start_time": "2023-09-21T15:17:47.202Z"
   },
   {
    "duration": 32,
    "start_time": "2023-09-21T15:17:47.238Z"
   },
   {
    "duration": 404,
    "start_time": "2023-09-21T15:17:47.272Z"
   },
   {
    "duration": 433,
    "start_time": "2023-09-21T15:17:47.678Z"
   },
   {
    "duration": 17,
    "start_time": "2023-09-21T15:17:48.113Z"
   },
   {
    "duration": 167,
    "start_time": "2023-09-21T15:17:48.132Z"
   },
   {
    "duration": 15,
    "start_time": "2023-09-21T15:17:48.301Z"
   },
   {
    "duration": 5,
    "start_time": "2023-09-21T15:17:48.318Z"
   },
   {
    "duration": 37,
    "start_time": "2023-09-21T15:17:48.325Z"
   },
   {
    "duration": 20,
    "start_time": "2023-09-21T15:17:48.369Z"
   },
   {
    "duration": 358,
    "start_time": "2023-09-21T15:17:48.391Z"
   },
   {
    "duration": 116,
    "start_time": "2023-09-21T15:17:48.755Z"
   },
   {
    "duration": 259,
    "start_time": "2023-09-21T15:17:48.874Z"
   },
   {
    "duration": 243,
    "start_time": "2023-09-21T15:17:49.136Z"
   },
   {
    "duration": 6,
    "start_time": "2023-09-21T15:17:49.381Z"
   },
   {
    "duration": 114,
    "start_time": "2023-09-21T15:18:30.290Z"
   },
   {
    "duration": 1264,
    "start_time": "2023-09-21T15:18:41.417Z"
   },
   {
    "duration": 242,
    "start_time": "2023-09-21T15:18:42.683Z"
   },
   {
    "duration": 13,
    "start_time": "2023-09-21T15:18:42.927Z"
   },
   {
    "duration": 49,
    "start_time": "2023-09-21T15:18:42.942Z"
   },
   {
    "duration": 39,
    "start_time": "2023-09-21T15:18:42.993Z"
   },
   {
    "duration": 45,
    "start_time": "2023-09-21T15:18:43.034Z"
   },
   {
    "duration": 22,
    "start_time": "2023-09-21T15:18:43.081Z"
   },
   {
    "duration": 48,
    "start_time": "2023-09-21T15:18:43.105Z"
   },
   {
    "duration": 70,
    "start_time": "2023-09-21T15:18:43.155Z"
   },
   {
    "duration": 22,
    "start_time": "2023-09-21T15:18:43.228Z"
   },
   {
    "duration": 23,
    "start_time": "2023-09-21T15:18:43.252Z"
   },
   {
    "duration": 17,
    "start_time": "2023-09-21T15:18:43.277Z"
   },
   {
    "duration": 23,
    "start_time": "2023-09-21T15:18:43.295Z"
   },
   {
    "duration": 10,
    "start_time": "2023-09-21T15:18:43.320Z"
   },
   {
    "duration": 202,
    "start_time": "2023-09-21T15:18:43.332Z"
   },
   {
    "duration": 8,
    "start_time": "2023-09-21T15:18:43.536Z"
   },
   {
    "duration": 179,
    "start_time": "2023-09-21T15:18:43.546Z"
   },
   {
    "duration": 254,
    "start_time": "2023-09-21T15:18:43.727Z"
   },
   {
    "duration": 213,
    "start_time": "2023-09-21T15:18:43.983Z"
   },
   {
    "duration": 22,
    "start_time": "2023-09-21T15:18:44.199Z"
   },
   {
    "duration": 51,
    "start_time": "2023-09-21T15:18:44.223Z"
   },
   {
    "duration": 53,
    "start_time": "2023-09-21T15:18:44.277Z"
   },
   {
    "duration": 17,
    "start_time": "2023-09-21T15:18:44.333Z"
   },
   {
    "duration": 412,
    "start_time": "2023-09-21T15:18:44.352Z"
   },
   {
    "duration": 407,
    "start_time": "2023-09-21T15:18:44.773Z"
   },
   {
    "duration": 19,
    "start_time": "2023-09-21T15:18:45.182Z"
   },
   {
    "duration": 171,
    "start_time": "2023-09-21T15:18:45.204Z"
   },
   {
    "duration": 16,
    "start_time": "2023-09-21T15:18:45.379Z"
   },
   {
    "duration": 147,
    "start_time": "2023-09-21T15:18:45.397Z"
   },
   {
    "duration": 0,
    "start_time": "2023-09-21T15:18:45.545Z"
   },
   {
    "duration": 0,
    "start_time": "2023-09-21T15:18:45.547Z"
   },
   {
    "duration": 0,
    "start_time": "2023-09-21T15:18:45.548Z"
   },
   {
    "duration": 0,
    "start_time": "2023-09-21T15:18:45.549Z"
   },
   {
    "duration": 0,
    "start_time": "2023-09-21T15:18:45.556Z"
   },
   {
    "duration": 0,
    "start_time": "2023-09-21T15:18:45.557Z"
   },
   {
    "duration": 0,
    "start_time": "2023-09-21T15:18:45.562Z"
   },
   {
    "duration": 0,
    "start_time": "2023-09-21T15:18:45.563Z"
   },
   {
    "duration": 1272,
    "start_time": "2023-09-21T15:19:35.296Z"
   },
   {
    "duration": 202,
    "start_time": "2023-09-21T15:19:36.571Z"
   },
   {
    "duration": 12,
    "start_time": "2023-09-21T15:19:36.775Z"
   },
   {
    "duration": 205,
    "start_time": "2023-09-21T15:19:36.789Z"
   },
   {
    "duration": 53,
    "start_time": "2023-09-21T15:19:36.996Z"
   },
   {
    "duration": 23,
    "start_time": "2023-09-21T15:19:37.050Z"
   },
   {
    "duration": 8,
    "start_time": "2023-09-21T15:19:37.075Z"
   },
   {
    "duration": 17,
    "start_time": "2023-09-21T15:19:37.086Z"
   },
   {
    "duration": 13,
    "start_time": "2023-09-21T15:19:37.104Z"
   },
   {
    "duration": 5,
    "start_time": "2023-09-21T15:19:37.120Z"
   },
   {
    "duration": 41,
    "start_time": "2023-09-21T15:19:37.126Z"
   },
   {
    "duration": 235,
    "start_time": "2023-09-21T15:19:37.170Z"
   },
   {
    "duration": 18,
    "start_time": "2023-09-21T15:19:37.407Z"
   },
   {
    "duration": 9,
    "start_time": "2023-09-21T15:19:37.427Z"
   },
   {
    "duration": 190,
    "start_time": "2023-09-21T15:19:37.438Z"
   },
   {
    "duration": 9,
    "start_time": "2023-09-21T15:19:37.630Z"
   },
   {
    "duration": 197,
    "start_time": "2023-09-21T15:19:37.641Z"
   },
   {
    "duration": 251,
    "start_time": "2023-09-21T15:19:37.839Z"
   },
   {
    "duration": 372,
    "start_time": "2023-09-21T15:19:38.092Z"
   },
   {
    "duration": 27,
    "start_time": "2023-09-21T15:19:38.472Z"
   },
   {
    "duration": 77,
    "start_time": "2023-09-21T15:19:38.501Z"
   },
   {
    "duration": 25,
    "start_time": "2023-09-21T15:19:38.580Z"
   },
   {
    "duration": 19,
    "start_time": "2023-09-21T15:19:38.607Z"
   },
   {
    "duration": 499,
    "start_time": "2023-09-21T15:19:38.627Z"
   },
   {
    "duration": 448,
    "start_time": "2023-09-21T15:19:39.128Z"
   },
   {
    "duration": 17,
    "start_time": "2023-09-21T15:19:39.577Z"
   },
   {
    "duration": 151,
    "start_time": "2023-09-21T15:19:39.596Z"
   },
   {
    "duration": 11,
    "start_time": "2023-09-21T15:19:39.758Z"
   },
   {
    "duration": 35,
    "start_time": "2023-09-21T15:19:39.771Z"
   },
   {
    "duration": 72,
    "start_time": "2023-09-21T15:19:39.808Z"
   },
   {
    "duration": 369,
    "start_time": "2023-09-21T15:19:39.882Z"
   },
   {
    "duration": 111,
    "start_time": "2023-09-21T15:19:40.259Z"
   },
   {
    "duration": 203,
    "start_time": "2023-09-21T15:19:40.372Z"
   },
   {
    "duration": 223,
    "start_time": "2023-09-21T15:19:40.576Z"
   },
   {
    "duration": 6,
    "start_time": "2023-09-21T15:19:40.801Z"
   },
   {
    "duration": 9,
    "start_time": "2023-09-21T15:20:04.595Z"
   },
   {
    "duration": 118,
    "start_time": "2023-09-21T15:21:22.024Z"
   },
   {
    "duration": 13,
    "start_time": "2023-09-21T15:21:27.777Z"
   },
   {
    "duration": 15,
    "start_time": "2023-09-21T15:23:18.074Z"
   },
   {
    "duration": 1469,
    "start_time": "2023-09-22T05:10:06.070Z"
   },
   {
    "duration": 395,
    "start_time": "2023-09-22T05:10:07.541Z"
   },
   {
    "duration": 13,
    "start_time": "2023-09-22T05:10:07.938Z"
   },
   {
    "duration": 25,
    "start_time": "2023-09-22T05:10:07.953Z"
   },
   {
    "duration": 15,
    "start_time": "2023-09-22T05:10:07.981Z"
   },
   {
    "duration": 31,
    "start_time": "2023-09-22T05:10:07.998Z"
   },
   {
    "duration": 7,
    "start_time": "2023-09-22T05:10:08.038Z"
   },
   {
    "duration": 11,
    "start_time": "2023-09-22T05:10:08.047Z"
   },
   {
    "duration": 11,
    "start_time": "2023-09-22T05:10:08.060Z"
   },
   {
    "duration": 4,
    "start_time": "2023-09-22T05:10:08.073Z"
   },
   {
    "duration": 18,
    "start_time": "2023-09-22T05:10:08.079Z"
   },
   {
    "duration": 26,
    "start_time": "2023-09-22T05:10:08.099Z"
   },
   {
    "duration": 17,
    "start_time": "2023-09-22T05:10:08.129Z"
   },
   {
    "duration": 10,
    "start_time": "2023-09-22T05:10:08.149Z"
   },
   {
    "duration": 304,
    "start_time": "2023-09-22T05:10:08.161Z"
   },
   {
    "duration": 6,
    "start_time": "2023-09-22T05:10:08.467Z"
   },
   {
    "duration": 56,
    "start_time": "2023-09-22T05:10:08.476Z"
   },
   {
    "duration": 292,
    "start_time": "2023-09-22T05:10:08.534Z"
   },
   {
    "duration": 332,
    "start_time": "2023-09-22T05:10:08.828Z"
   },
   {
    "duration": 74,
    "start_time": "2023-09-22T05:10:09.162Z"
   },
   {
    "duration": 331,
    "start_time": "2023-09-22T05:10:09.241Z"
   },
   {
    "duration": 215,
    "start_time": "2023-09-22T05:10:09.574Z"
   },
   {
    "duration": 58,
    "start_time": "2023-09-22T05:10:09.791Z"
   },
   {
    "duration": 75,
    "start_time": "2023-09-22T05:10:09.852Z"
   },
   {
    "duration": 25,
    "start_time": "2023-09-22T05:10:09.933Z"
   },
   {
    "duration": 74,
    "start_time": "2023-09-22T05:10:09.960Z"
   },
   {
    "duration": 5,
    "start_time": "2023-09-22T05:10:10.036Z"
   },
   {
    "duration": 814,
    "start_time": "2023-09-22T05:10:10.044Z"
   },
   {
    "duration": 1080,
    "start_time": "2023-09-22T05:10:10.860Z"
   },
   {
    "duration": 700,
    "start_time": "2023-09-22T05:10:11.944Z"
   },
   {
    "duration": 15,
    "start_time": "2023-09-22T05:10:12.645Z"
   },
   {
    "duration": 81,
    "start_time": "2023-09-22T05:10:12.662Z"
   },
   {
    "duration": 6,
    "start_time": "2023-09-22T05:10:12.744Z"
   },
   {
    "duration": 32,
    "start_time": "2023-09-22T05:10:12.751Z"
   },
   {
    "duration": 56,
    "start_time": "2023-09-22T05:10:12.786Z"
   },
   {
    "duration": 713,
    "start_time": "2023-09-22T05:10:12.843Z"
   },
   {
    "duration": 195,
    "start_time": "2023-09-22T05:10:13.558Z"
   },
   {
    "duration": 584,
    "start_time": "2023-09-22T05:10:13.755Z"
   },
   {
    "duration": 516,
    "start_time": "2023-09-22T05:10:14.341Z"
   },
   {
    "duration": 7,
    "start_time": "2023-09-22T05:10:14.859Z"
   },
   {
    "duration": 16,
    "start_time": "2023-09-22T05:11:41.868Z"
   },
   {
    "duration": 1202,
    "start_time": "2023-09-22T05:12:41.405Z"
   },
   {
    "duration": 229,
    "start_time": "2023-09-22T05:12:42.610Z"
   },
   {
    "duration": 13,
    "start_time": "2023-09-22T05:12:42.841Z"
   },
   {
    "duration": 11,
    "start_time": "2023-09-22T05:12:42.856Z"
   },
   {
    "duration": 19,
    "start_time": "2023-09-22T05:12:42.869Z"
   },
   {
    "duration": 27,
    "start_time": "2023-09-22T05:12:42.891Z"
   },
   {
    "duration": 20,
    "start_time": "2023-09-22T05:12:42.920Z"
   },
   {
    "duration": 18,
    "start_time": "2023-09-22T05:12:42.942Z"
   },
   {
    "duration": 25,
    "start_time": "2023-09-22T05:12:42.962Z"
   },
   {
    "duration": 4,
    "start_time": "2023-09-22T05:12:42.990Z"
   },
   {
    "duration": 15,
    "start_time": "2023-09-22T05:12:42.996Z"
   },
   {
    "duration": 13,
    "start_time": "2023-09-22T05:12:43.013Z"
   },
   {
    "duration": 24,
    "start_time": "2023-09-22T05:12:43.027Z"
   },
   {
    "duration": 8,
    "start_time": "2023-09-22T05:12:43.053Z"
   },
   {
    "duration": 197,
    "start_time": "2023-09-22T05:12:43.063Z"
   },
   {
    "duration": 7,
    "start_time": "2023-09-22T05:12:43.262Z"
   },
   {
    "duration": 21,
    "start_time": "2023-09-22T05:12:43.271Z"
   },
   {
    "duration": 199,
    "start_time": "2023-09-22T05:12:43.295Z"
   },
   {
    "duration": 174,
    "start_time": "2023-09-22T05:12:43.496Z"
   },
   {
    "duration": 8,
    "start_time": "2023-09-22T05:12:43.672Z"
   },
   {
    "duration": 288,
    "start_time": "2023-09-22T05:12:43.682Z"
   },
   {
    "duration": 233,
    "start_time": "2023-09-22T05:12:43.972Z"
   },
   {
    "duration": 37,
    "start_time": "2023-09-22T05:12:44.207Z"
   },
   {
    "duration": 27,
    "start_time": "2023-09-22T05:12:44.246Z"
   },
   {
    "duration": 17,
    "start_time": "2023-09-22T05:12:44.275Z"
   },
   {
    "duration": 40,
    "start_time": "2023-09-22T05:12:44.294Z"
   },
   {
    "duration": 6,
    "start_time": "2023-09-22T05:12:44.336Z"
   },
   {
    "duration": 305,
    "start_time": "2023-09-22T05:12:44.345Z"
   },
   {
    "duration": 517,
    "start_time": "2023-09-22T05:12:44.652Z"
   },
   {
    "duration": 298,
    "start_time": "2023-09-22T05:12:45.171Z"
   },
   {
    "duration": 16,
    "start_time": "2023-09-22T05:12:45.471Z"
   },
   {
    "duration": 57,
    "start_time": "2023-09-22T05:12:45.489Z"
   },
   {
    "duration": 141,
    "start_time": "2023-09-22T05:12:45.548Z"
   },
   {
    "duration": 0,
    "start_time": "2023-09-22T05:12:45.690Z"
   },
   {
    "duration": 0,
    "start_time": "2023-09-22T05:12:45.692Z"
   },
   {
    "duration": 0,
    "start_time": "2023-09-22T05:12:45.693Z"
   },
   {
    "duration": 0,
    "start_time": "2023-09-22T05:12:45.695Z"
   },
   {
    "duration": 0,
    "start_time": "2023-09-22T05:12:45.697Z"
   },
   {
    "duration": 0,
    "start_time": "2023-09-22T05:12:45.699Z"
   },
   {
    "duration": 0,
    "start_time": "2023-09-22T05:12:45.701Z"
   },
   {
    "duration": 0,
    "start_time": "2023-09-22T05:12:45.731Z"
   },
   {
    "duration": 0,
    "start_time": "2023-09-22T05:12:45.732Z"
   },
   {
    "duration": 23,
    "start_time": "2023-09-22T05:13:00.007Z"
   },
   {
    "duration": 14,
    "start_time": "2023-09-22T05:13:08.190Z"
   },
   {
    "duration": 12,
    "start_time": "2023-09-22T05:13:13.581Z"
   },
   {
    "duration": 16,
    "start_time": "2023-09-22T05:13:20.953Z"
   },
   {
    "duration": 5,
    "start_time": "2023-09-22T05:13:28.871Z"
   },
   {
    "duration": 15,
    "start_time": "2023-09-22T05:13:33.205Z"
   },
   {
    "duration": 1222,
    "start_time": "2023-09-22T05:13:47.070Z"
   },
   {
    "duration": 267,
    "start_time": "2023-09-22T05:13:48.294Z"
   },
   {
    "duration": 17,
    "start_time": "2023-09-22T05:13:48.563Z"
   },
   {
    "duration": 14,
    "start_time": "2023-09-22T05:13:48.582Z"
   },
   {
    "duration": 21,
    "start_time": "2023-09-22T05:13:48.599Z"
   },
   {
    "duration": 27,
    "start_time": "2023-09-22T05:13:48.621Z"
   },
   {
    "duration": 25,
    "start_time": "2023-09-22T05:13:48.650Z"
   },
   {
    "duration": 16,
    "start_time": "2023-09-22T05:13:48.677Z"
   },
   {
    "duration": 13,
    "start_time": "2023-09-22T05:13:48.695Z"
   },
   {
    "duration": 5,
    "start_time": "2023-09-22T05:13:48.710Z"
   },
   {
    "duration": 25,
    "start_time": "2023-09-22T05:13:48.717Z"
   },
   {
    "duration": 12,
    "start_time": "2023-09-22T05:13:48.744Z"
   },
   {
    "duration": 29,
    "start_time": "2023-09-22T05:13:48.758Z"
   },
   {
    "duration": 8,
    "start_time": "2023-09-22T05:13:48.790Z"
   },
   {
    "duration": 201,
    "start_time": "2023-09-22T05:13:48.800Z"
   },
   {
    "duration": 27,
    "start_time": "2023-09-22T05:13:49.003Z"
   },
   {
    "duration": 10,
    "start_time": "2023-09-22T05:13:49.036Z"
   },
   {
    "duration": 168,
    "start_time": "2023-09-22T05:13:49.048Z"
   },
   {
    "duration": 188,
    "start_time": "2023-09-22T05:13:49.218Z"
   },
   {
    "duration": 8,
    "start_time": "2023-09-22T05:13:49.407Z"
   },
   {
    "duration": 300,
    "start_time": "2023-09-22T05:13:49.417Z"
   },
   {
    "duration": 223,
    "start_time": "2023-09-22T05:13:49.719Z"
   },
   {
    "duration": 26,
    "start_time": "2023-09-22T05:13:49.945Z"
   },
   {
    "duration": 197,
    "start_time": "2023-09-22T05:13:49.973Z"
   },
   {
    "duration": 57,
    "start_time": "2023-09-22T05:13:50.172Z"
   },
   {
    "duration": 72,
    "start_time": "2023-09-22T05:13:50.242Z"
   },
   {
    "duration": 26,
    "start_time": "2023-09-22T05:13:50.316Z"
   },
   {
    "duration": 336,
    "start_time": "2023-09-22T05:13:50.344Z"
   },
   {
    "duration": 483,
    "start_time": "2023-09-22T05:13:50.682Z"
   },
   {
    "duration": 313,
    "start_time": "2023-09-22T05:13:51.167Z"
   },
   {
    "duration": 17,
    "start_time": "2023-09-22T05:13:51.482Z"
   },
   {
    "duration": 243,
    "start_time": "2023-09-22T05:13:51.501Z"
   },
   {
    "duration": 120,
    "start_time": "2023-09-22T05:13:51.747Z"
   },
   {
    "duration": 288,
    "start_time": "2023-09-22T05:13:51.869Z"
   },
   {
    "duration": 0,
    "start_time": "2023-09-22T05:13:52.160Z"
   },
   {
    "duration": 0,
    "start_time": "2023-09-22T05:13:52.161Z"
   },
   {
    "duration": 0,
    "start_time": "2023-09-22T05:13:52.163Z"
   },
   {
    "duration": 0,
    "start_time": "2023-09-22T05:13:52.165Z"
   },
   {
    "duration": 0,
    "start_time": "2023-09-22T05:13:52.167Z"
   },
   {
    "duration": 0,
    "start_time": "2023-09-22T05:13:52.168Z"
   },
   {
    "duration": 0,
    "start_time": "2023-09-22T05:13:52.171Z"
   },
   {
    "duration": 0,
    "start_time": "2023-09-22T05:13:52.173Z"
   },
   {
    "duration": 15,
    "start_time": "2023-09-22T05:13:59.796Z"
   },
   {
    "duration": 1167,
    "start_time": "2023-09-22T05:14:18.954Z"
   },
   {
    "duration": 227,
    "start_time": "2023-09-22T05:14:20.124Z"
   },
   {
    "duration": 16,
    "start_time": "2023-09-22T05:14:20.354Z"
   },
   {
    "duration": 21,
    "start_time": "2023-09-22T05:14:20.372Z"
   },
   {
    "duration": 10,
    "start_time": "2023-09-22T05:14:20.397Z"
   },
   {
    "duration": 27,
    "start_time": "2023-09-22T05:14:20.409Z"
   },
   {
    "duration": 19,
    "start_time": "2023-09-22T05:14:20.438Z"
   },
   {
    "duration": 11,
    "start_time": "2023-09-22T05:14:20.459Z"
   },
   {
    "duration": 11,
    "start_time": "2023-09-22T05:14:20.472Z"
   },
   {
    "duration": 5,
    "start_time": "2023-09-22T05:14:20.484Z"
   },
   {
    "duration": 17,
    "start_time": "2023-09-22T05:14:20.491Z"
   },
   {
    "duration": 30,
    "start_time": "2023-09-22T05:14:20.510Z"
   },
   {
    "duration": 12,
    "start_time": "2023-09-22T05:14:20.544Z"
   },
   {
    "duration": 11,
    "start_time": "2023-09-22T05:14:20.559Z"
   },
   {
    "duration": 195,
    "start_time": "2023-09-22T05:14:20.572Z"
   },
   {
    "duration": 7,
    "start_time": "2023-09-22T05:14:20.769Z"
   },
   {
    "duration": 17,
    "start_time": "2023-09-22T05:14:20.777Z"
   },
   {
    "duration": 181,
    "start_time": "2023-09-22T05:14:20.796Z"
   },
   {
    "duration": 188,
    "start_time": "2023-09-22T05:14:20.979Z"
   },
   {
    "duration": 9,
    "start_time": "2023-09-22T05:14:21.168Z"
   },
   {
    "duration": 238,
    "start_time": "2023-09-22T05:14:21.179Z"
   },
   {
    "duration": 229,
    "start_time": "2023-09-22T05:14:21.423Z"
   },
   {
    "duration": 19,
    "start_time": "2023-09-22T05:14:21.654Z"
   },
   {
    "duration": 19,
    "start_time": "2023-09-22T05:14:21.675Z"
   },
   {
    "duration": 45,
    "start_time": "2023-09-22T05:14:21.695Z"
   },
   {
    "duration": 20,
    "start_time": "2023-09-22T05:14:21.742Z"
   },
   {
    "duration": 6,
    "start_time": "2023-09-22T05:14:21.764Z"
   },
   {
    "duration": 319,
    "start_time": "2023-09-22T05:14:21.772Z"
   },
   {
    "duration": 514,
    "start_time": "2023-09-22T05:14:22.094Z"
   },
   {
    "duration": 302,
    "start_time": "2023-09-22T05:14:22.610Z"
   },
   {
    "duration": 27,
    "start_time": "2023-09-22T05:14:22.914Z"
   },
   {
    "duration": 41,
    "start_time": "2023-09-22T05:14:22.943Z"
   },
   {
    "duration": 15,
    "start_time": "2023-09-22T05:14:22.986Z"
   },
   {
    "duration": 34,
    "start_time": "2023-09-22T05:14:23.003Z"
   },
   {
    "duration": 8,
    "start_time": "2023-09-22T05:14:23.042Z"
   },
   {
    "duration": 40,
    "start_time": "2023-09-22T05:14:23.052Z"
   },
   {
    "duration": 353,
    "start_time": "2023-09-22T05:14:23.094Z"
   },
   {
    "duration": 86,
    "start_time": "2023-09-22T05:14:23.449Z"
   },
   {
    "duration": 207,
    "start_time": "2023-09-22T05:14:23.538Z"
   },
   {
    "duration": 252,
    "start_time": "2023-09-22T05:14:23.747Z"
   },
   {
    "duration": 8,
    "start_time": "2023-09-22T05:14:24.004Z"
   }
  ],
  "kernelspec": {
   "display_name": "Python 3 (ipykernel)",
   "language": "python",
   "name": "python3"
  },
  "language_info": {
   "codemirror_mode": {
    "name": "ipython",
    "version": 3
   },
   "file_extension": ".py",
   "mimetype": "text/x-python",
   "name": "python",
   "nbconvert_exporter": "python",
   "pygments_lexer": "ipython3",
   "version": "3.9.5"
  },
  "toc": {
   "base_numbering": 1,
   "nav_menu": {
    "height": "204px",
    "width": "264px"
   },
   "number_sections": true,
   "sideBar": true,
   "skip_h1_title": true,
   "title_cell": "Table of Contents",
   "title_sidebar": "Contents",
   "toc_cell": false,
   "toc_position": {
    "height": "calc(100% - 180px)",
    "left": "10px",
    "top": "150px",
    "width": "307.2px"
   },
   "toc_section_display": true,
   "toc_window_display": false
  }
 },
 "nbformat": 4,
 "nbformat_minor": 5
}
