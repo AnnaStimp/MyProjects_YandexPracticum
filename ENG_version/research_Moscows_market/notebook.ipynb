{
 "cells": [
  {
   "cell_type": "markdown",
   "id": "b8f3b532",
   "metadata": {
    "toc": true
   },
   "source": [
    "<h1>Table of Contents<span class=\"tocSkip\"></span></h1>\n",
    "<div class=\"toc\"><ul class=\"toc-item\"><li><span><a href=\"#Loading-and-exploring-data\" data-toc-modified-id=\"Loading-and-exploring-data-1\"><span class=\"toc-item-num\">1&nbsp;&nbsp;</span>Loading and exploring data</a></span></li><li><span><a href=\"#Data-preprocessing\" data-toc-modified-id=\"Data-preprocessing-2\"><span class=\"toc-item-num\">2&nbsp;&nbsp;</span>Data preprocessing</a></span><ul class=\"toc-item\"><li><span><a href=\"#Duplicates\" data-toc-modified-id=\"Duplicates-2.1\"><span class=\"toc-item-num\">2.1&nbsp;&nbsp;</span>Duplicates</a></span></li><li><span><a href=\"#Search-for-anomalies\" data-toc-modified-id=\"Search-for-anomalies-2.2\"><span class=\"toc-item-num\">2.2&nbsp;&nbsp;</span>Search for anomalies</a></span></li><li><span><a href=\"#Removing-uninformative-data\" data-toc-modified-id=\"Removing-uninformative-data-2.3\"><span class=\"toc-item-num\">2.3&nbsp;&nbsp;</span>Removing uninformative data</a></span></li><li><span><a href=\"#Adding-new-columns\" data-toc-modified-id=\"Adding-new-columns-2.4\"><span class=\"toc-item-num\">2.4&nbsp;&nbsp;</span>Adding new columns</a></span></li><li><span><a href=\"#Mini-output\" data-toc-modified-id=\"Mini-output-2.5\"><span class=\"toc-item-num\">2.5&nbsp;&nbsp;</span>Mini-output</a></span></li></ul></li><li><span><a href=\"#Data-analysis\" data-toc-modified-id=\"Data-analysis-3\"><span class=\"toc-item-num\">3&nbsp;&nbsp;</span>Data analysis</a></span><ul class=\"toc-item\"><li><span><a href=\"#Research-of-different-types-of-establishments\" data-toc-modified-id=\"Research-of-different-types-of-establishments-3.1\"><span class=\"toc-item-num\">3.1&nbsp;&nbsp;</span>Research of different types of establishments</a></span><ul class=\"toc-item\"><li><span><a href=\"#Mini-output\" data-toc-modified-id=\"Mini-output-3.1.1\"><span class=\"toc-item-num\">3.1.1&nbsp;&nbsp;</span>Mini-output</a></span></li></ul></li><li><span><a href=\"#Exploring-the-districts-and-streets-of-Moscow\" data-toc-modified-id=\"Exploring-the-districts-and-streets-of-Moscow-3.2\"><span class=\"toc-item-num\">3.2&nbsp;&nbsp;</span>Exploring the districts and streets of Moscow</a></span><ul class=\"toc-item\"><li><span><a href=\"#Districts-of-Moscow\" data-toc-modified-id=\"Districts-of-Moscow-3.2.1\"><span class=\"toc-item-num\">3.2.1&nbsp;&nbsp;</span>Districts of Moscow</a></span></li><li><span><a href=\"#Streets-of-Moscow\" data-toc-modified-id=\"Streets-of-Moscow-3.2.2\"><span class=\"toc-item-num\">3.2.2&nbsp;&nbsp;</span>Streets of Moscow</a></span></li><li><span><a href=\"#Average-bill-in-different-districts-of-Moscow\" data-toc-modified-id=\"Average-bill-in-different-districts-of-Moscow-3.2.3\"><span class=\"toc-item-num\">3.2.3&nbsp;&nbsp;</span>Average bill in different districts of Moscow</a></span></li><li><span><a href=\"#Mini-output\" data-toc-modified-id=\"Mini-output-3.2.4\"><span class=\"toc-item-num\">3.2.4&nbsp;&nbsp;</span>Mini-output</a></span></li></ul></li><li><span><a href=\"#Exploring-additional-relationships\" data-toc-modified-id=\"Exploring-additional-relationships-3.3\"><span class=\"toc-item-num\">3.3&nbsp;&nbsp;</span>Exploring additional relationships</a></span><ul class=\"toc-item\"><li><span><a href=\"#Mini-output\" data-toc-modified-id=\"Mini-output-3.3.1\"><span class=\"toc-item-num\">3.3.1&nbsp;&nbsp;</span>Mini-output</a></span></li></ul></li><li><span><a href=\"#Conclusion\" data-toc-modified-id=\"Conclusion-3.4\"><span class=\"toc-item-num\">3.4&nbsp;&nbsp;</span>Conclusion</a></span></li></ul></li><li><span><a href=\"#Detailing-the-study:-opening-a-coffee-shop\" data-toc-modified-id=\"Detailing-the-study:-opening-a-coffee-shop-4\"><span class=\"toc-item-num\">4&nbsp;&nbsp;</span>Detailing the study: opening a coffee shop</a></span><ul class=\"toc-item\"><li><span><a href=\"#Mini-output\" data-toc-modified-id=\"Mini-output-4.1\"><span class=\"toc-item-num\">4.1&nbsp;&nbsp;</span>Mini-output</a></span></li></ul></li><li><span><a href=\"#General-conclusion\" data-toc-modified-id=\"General-conclusion-5\"><span class=\"toc-item-num\">5&nbsp;&nbsp;</span>General conclusion</a></span></li></ul></div>"
   ]
  },
  {
   "cell_type": "markdown",
   "id": "6a8202c7",
   "metadata": {},
   "source": [
    "# Moscow market research"
   ]
  },
  {
   "cell_type": "markdown",
   "id": "159dc89d",
   "metadata": {},
   "source": [
    "**Brief description:** investors from the “Shut Up and Take My Money” fund decided to try themselves in a new area and open a catering establishment in Moscow. Customers do not yet know what kind of place it will be and what the location, menu and prices will be. A dataset with Moscow catering establishments is available, compiled on the basis of data from the Yandex Maps and Yandex Business services for the summer of 2022."
   ]
  },
  {
   "cell_type": "markdown",
   "id": "08b283ef",
   "metadata": {},
   "source": [
    "**Project goal:** prepare a study of the Moscow market, find interesting features and present the results."
   ]
  },
  {
   "cell_type": "markdown",
   "id": "e39125f4",
   "metadata": {},
   "source": [
    "**Description of data:**\n",
    "- ```name``` — name of the establishment;\n",
    "- ```address``` — address of the establishment;\n",
    "- ```category``` - category of the establishment, for example “cafe”, “pizzeria” or “coffee shop”;\n",
    "- ```hours``` — information about days and hours of work;\n",
    "- ```lat``` — latitude of the geographical point in which the establishment is located;\n",
    "- ```lng``` — longitude of the geographical point in which the establishment is located;\n",
    "- ```rating``` — rating of the establishment according to user ratings in Yandex Maps (the highest rating is 5.0);\n",
    "- ```price``` - category of prices in the establishment, for example “average”, “below average”, “above average” and so on;\n",
    "- ```avg_bill``` - a string that stores the average order cost as a range, for example:\n",
    "     - “Average bill: 1000–1500 ₽”;\n",
    "     - “Price of a cup of cappuccino: 130–220 ₽”;\n",
    "     - “Price of a glass of beer: 400–600 ₽.”\n",
    "- ```middle_avg_bill``` - a number with an estimate of the average bill, which is indicated only for values ​​from the avg_bill column starting with the substring “Average bill”:\n",
    "     - If a row contains a price range of two values, the column will include the median of these two values.\n",
    "     - If a line contains one number - a price without a range, then this number will be included in the column.\n",
    "     - If there is no value or it does not start with the substring “Average score”, then nothing will be included in the column.\n",
    "- ```middle_coffee_cup``` - a number with the price of one cup of cappuccino, which is specified only for values ​​from the avg_bill column starting with the substring “Price of one cup of cappuccino”:\n",
    "     - If a row contains a price range of two values, the column will include the median of these two values.\n",
    "     - If a line contains one number - a price without a range, then this number will be included in the column.\n",
    "     - If there is no value or it does not begin with the substring “Price of one cup of cappuccino,” then nothing will be included in the column.\n",
    "- ```chain``` - a number expressed as 0 or 1, which indicates whether the establishment is a network establishment (for small networks errors may occur):\n",
    "     - 0 — the establishment is not a chain\n",
    "     - 1 — the establishment is a chain establishment\n",
    "- ```district``` - the administrative district in which the establishment is located, for example the Central Administrative District;\n",
    "- ```seats``` — number of seats."
   ]
  },
  {
   "cell_type": "markdown",
   "id": "c6df62f5",
   "metadata": {},
   "source": [
    "**Work plan:**\n",
    "1. Data download and preliminary research;\n",
    "2. Data preprocessing;\n",
    "3. Data analysis;\n",
    "4. Answering customer questions;\n",
    "5. Writing a general conclusion;\n",
    "6. Preparing a presentation."
   ]
  },
  {
   "cell_type": "code",
   "execution_count": 1,
   "id": "3eb90e15",
   "metadata": {},
   "outputs": [],
   "source": [
    "import pandas as pd\n",
    "import matplotlib.pyplot as plt\n",
    "import seaborn as sns\n",
    "import numpy as np\n",
    "from folium import Map, Choropleth, Marker\n",
    "from folium.plugins import MarkerCluster\n",
    "import json"
   ]
  },
  {
   "cell_type": "markdown",
   "id": "02d0945f",
   "metadata": {},
   "source": [
    "## Loading and exploring data"
   ]
  },
  {
   "cell_type": "code",
   "execution_count": 2,
   "id": "65593c04",
   "metadata": {},
   "outputs": [],
   "source": [
    "try:\n",
    "    data = pd.read_csv('.\\datasets\\moscow_places.csv')\n",
    "except:\n",
    "    data = pd.read_csv('/datasets/moscow_places.csv')"
   ]
  },
  {
   "cell_type": "code",
   "execution_count": 3,
   "id": "bb2a1372",
   "metadata": {},
   "outputs": [
    {
     "data": {
      "text/html": [
       "<div>\n",
       "<style scoped>\n",
       "    .dataframe tbody tr th:only-of-type {\n",
       "        vertical-align: middle;\n",
       "    }\n",
       "\n",
       "    .dataframe tbody tr th {\n",
       "        vertical-align: top;\n",
       "    }\n",
       "\n",
       "    .dataframe thead th {\n",
       "        text-align: right;\n",
       "    }\n",
       "</style>\n",
       "<table border=\"1\" class=\"dataframe\">\n",
       "  <thead>\n",
       "    <tr style=\"text-align: right;\">\n",
       "      <th></th>\n",
       "      <th>name</th>\n",
       "      <th>category</th>\n",
       "      <th>address</th>\n",
       "      <th>district</th>\n",
       "      <th>hours</th>\n",
       "      <th>lat</th>\n",
       "      <th>lng</th>\n",
       "      <th>rating</th>\n",
       "      <th>price</th>\n",
       "      <th>avg_bill</th>\n",
       "      <th>middle_avg_bill</th>\n",
       "      <th>middle_coffee_cup</th>\n",
       "      <th>chain</th>\n",
       "      <th>seats</th>\n",
       "    </tr>\n",
       "  </thead>\n",
       "  <tbody>\n",
       "    <tr>\n",
       "      <th>0</th>\n",
       "      <td>WoWфли</td>\n",
       "      <td>кафе</td>\n",
       "      <td>Москва, улица Дыбенко, 7/1</td>\n",
       "      <td>Северный административный округ</td>\n",
       "      <td>ежедневно, 10:00–22:00</td>\n",
       "      <td>55.878494</td>\n",
       "      <td>37.478860</td>\n",
       "      <td>5.0</td>\n",
       "      <td>NaN</td>\n",
       "      <td>NaN</td>\n",
       "      <td>NaN</td>\n",
       "      <td>NaN</td>\n",
       "      <td>0</td>\n",
       "      <td>NaN</td>\n",
       "    </tr>\n",
       "    <tr>\n",
       "      <th>1</th>\n",
       "      <td>Четыре комнаты</td>\n",
       "      <td>ресторан</td>\n",
       "      <td>Москва, улица Дыбенко, 36, корп. 1</td>\n",
       "      <td>Северный административный округ</td>\n",
       "      <td>ежедневно, 10:00–22:00</td>\n",
       "      <td>55.875801</td>\n",
       "      <td>37.484479</td>\n",
       "      <td>4.5</td>\n",
       "      <td>выше среднего</td>\n",
       "      <td>Средний счёт:1500–1600 ₽</td>\n",
       "      <td>1550.0</td>\n",
       "      <td>NaN</td>\n",
       "      <td>0</td>\n",
       "      <td>4.0</td>\n",
       "    </tr>\n",
       "    <tr>\n",
       "      <th>2</th>\n",
       "      <td>Хазри</td>\n",
       "      <td>кафе</td>\n",
       "      <td>Москва, Клязьминская улица, 15</td>\n",
       "      <td>Северный административный округ</td>\n",
       "      <td>пн-чт 11:00–02:00; пт,сб 11:00–05:00; вс 11:00...</td>\n",
       "      <td>55.889146</td>\n",
       "      <td>37.525901</td>\n",
       "      <td>4.6</td>\n",
       "      <td>средние</td>\n",
       "      <td>Средний счёт:от 1000 ₽</td>\n",
       "      <td>1000.0</td>\n",
       "      <td>NaN</td>\n",
       "      <td>0</td>\n",
       "      <td>45.0</td>\n",
       "    </tr>\n",
       "    <tr>\n",
       "      <th>3</th>\n",
       "      <td>Dormouse Coffee Shop</td>\n",
       "      <td>кофейня</td>\n",
       "      <td>Москва, улица Маршала Федоренко, 12</td>\n",
       "      <td>Северный административный округ</td>\n",
       "      <td>ежедневно, 09:00–22:00</td>\n",
       "      <td>55.881608</td>\n",
       "      <td>37.488860</td>\n",
       "      <td>5.0</td>\n",
       "      <td>NaN</td>\n",
       "      <td>Цена чашки капучино:155–185 ₽</td>\n",
       "      <td>NaN</td>\n",
       "      <td>170.0</td>\n",
       "      <td>0</td>\n",
       "      <td>NaN</td>\n",
       "    </tr>\n",
       "    <tr>\n",
       "      <th>4</th>\n",
       "      <td>Иль Марко</td>\n",
       "      <td>пиццерия</td>\n",
       "      <td>Москва, Правобережная улица, 1Б</td>\n",
       "      <td>Северный административный округ</td>\n",
       "      <td>ежедневно, 10:00–22:00</td>\n",
       "      <td>55.881166</td>\n",
       "      <td>37.449357</td>\n",
       "      <td>5.0</td>\n",
       "      <td>средние</td>\n",
       "      <td>Средний счёт:400–600 ₽</td>\n",
       "      <td>500.0</td>\n",
       "      <td>NaN</td>\n",
       "      <td>1</td>\n",
       "      <td>148.0</td>\n",
       "    </tr>\n",
       "  </tbody>\n",
       "</table>\n",
       "</div>"
      ],
      "text/plain": [
       "                   name  category                              address  \\\n",
       "0                WoWфли      кафе           Москва, улица Дыбенко, 7/1   \n",
       "1        Четыре комнаты  ресторан   Москва, улица Дыбенко, 36, корп. 1   \n",
       "2                 Хазри      кафе       Москва, Клязьминская улица, 15   \n",
       "3  Dormouse Coffee Shop   кофейня  Москва, улица Маршала Федоренко, 12   \n",
       "4             Иль Марко  пиццерия      Москва, Правобережная улица, 1Б   \n",
       "\n",
       "                          district  \\\n",
       "0  Северный административный округ   \n",
       "1  Северный административный округ   \n",
       "2  Северный административный округ   \n",
       "3  Северный административный округ   \n",
       "4  Северный административный округ   \n",
       "\n",
       "                                               hours        lat        lng  \\\n",
       "0                             ежедневно, 10:00–22:00  55.878494  37.478860   \n",
       "1                             ежедневно, 10:00–22:00  55.875801  37.484479   \n",
       "2  пн-чт 11:00–02:00; пт,сб 11:00–05:00; вс 11:00...  55.889146  37.525901   \n",
       "3                             ежедневно, 09:00–22:00  55.881608  37.488860   \n",
       "4                             ежедневно, 10:00–22:00  55.881166  37.449357   \n",
       "\n",
       "   rating          price                       avg_bill  middle_avg_bill  \\\n",
       "0     5.0            NaN                            NaN              NaN   \n",
       "1     4.5  выше среднего       Средний счёт:1500–1600 ₽           1550.0   \n",
       "2     4.6        средние         Средний счёт:от 1000 ₽           1000.0   \n",
       "3     5.0            NaN  Цена чашки капучино:155–185 ₽              NaN   \n",
       "4     5.0        средние         Средний счёт:400–600 ₽            500.0   \n",
       "\n",
       "   middle_coffee_cup  chain  seats  \n",
       "0                NaN      0    NaN  \n",
       "1                NaN      0    4.0  \n",
       "2                NaN      0   45.0  \n",
       "3              170.0      0    NaN  \n",
       "4                NaN      1  148.0  "
      ]
     },
     "execution_count": 3,
     "metadata": {},
     "output_type": "execute_result"
    }
   ],
   "source": [
    "data.head()"
   ]
  },
  {
   "cell_type": "code",
   "execution_count": 4,
   "id": "efa19a78",
   "metadata": {},
   "outputs": [
    {
     "name": "stdout",
     "output_type": "stream",
     "text": [
      "<class 'pandas.core.frame.DataFrame'>\n",
      "RangeIndex: 8406 entries, 0 to 8405\n",
      "Data columns (total 14 columns):\n",
      " #   Column             Non-Null Count  Dtype  \n",
      "---  ------             --------------  -----  \n",
      " 0   name               8406 non-null   object \n",
      " 1   category           8406 non-null   object \n",
      " 2   address            8406 non-null   object \n",
      " 3   district           8406 non-null   object \n",
      " 4   hours              7870 non-null   object \n",
      " 5   lat                8406 non-null   float64\n",
      " 6   lng                8406 non-null   float64\n",
      " 7   rating             8406 non-null   float64\n",
      " 8   price              3315 non-null   object \n",
      " 9   avg_bill           3816 non-null   object \n",
      " 10  middle_avg_bill    3149 non-null   float64\n",
      " 11  middle_coffee_cup  535 non-null    float64\n",
      " 12  chain              8406 non-null   int64  \n",
      " 13  seats              4795 non-null   float64\n",
      "dtypes: float64(6), int64(1), object(7)\n",
      "memory usage: 919.5+ KB\n"
     ]
    }
   ],
   "source": [
    "data.info()"
   ]
  },
  {
   "cell_type": "markdown",
   "id": "693ec87c",
   "metadata": {},
   "source": [
    "The collected data was downloaded and examined. There is data on 8,406 establishments. There are gaps in the data. It is also necessary to check the data for duplicates. Examine the distribution of values in the data. Check whether it is possible to fill in the gaps with something or delete data about establishments where there are many gaps."
   ]
  },
  {
   "cell_type": "markdown",
   "id": "066be1ba",
   "metadata": {},
   "source": [
    "## Data preprocessing"
   ]
  },
  {
   "cell_type": "markdown",
   "id": "20503532",
   "metadata": {},
   "source": [
    "### Duplicates"
   ]
  },
  {
   "cell_type": "markdown",
   "id": "57c0d0d9",
   "metadata": {},
   "source": [
    "Before searching for duplicates, we will convert all the names of establishments to lower case and replace the letter ё => e, remove the symbol *'* from the names of establishments in order to increase the possibility of identifying duplicates."
   ]
  },
  {
   "cell_type": "code",
   "execution_count": 5,
   "id": "455205fc",
   "metadata": {},
   "outputs": [],
   "source": [
    "data['name'] = data['name'].str.lower().str.replace(\"ё\", \"е\").str.replace(\"'\", \"\")"
   ]
  },
  {
   "cell_type": "markdown",
   "id": "311e7a45",
   "metadata": {},
   "source": [
    "Let's look for obvious duplicates."
   ]
  },
  {
   "cell_type": "code",
   "execution_count": 6,
   "id": "ff9e7f35",
   "metadata": {},
   "outputs": [
    {
     "data": {
      "text/plain": [
       "0"
      ]
     },
     "execution_count": 6,
     "metadata": {},
     "output_type": "execute_result"
    }
   ],
   "source": [
    "data.duplicated().sum()"
   ]
  },
  {
   "cell_type": "markdown",
   "id": "37e18ee6",
   "metadata": {},
   "source": [
    "No obvious duplicates were identified.\n",
    "\n",
    "Let's look for establishments with the same name and the same address."
   ]
  },
  {
   "cell_type": "code",
   "execution_count": 7,
   "id": "59907143",
   "metadata": {},
   "outputs": [
    {
     "data": {
      "text/plain": [
       "3"
      ]
     },
     "execution_count": 7,
     "metadata": {},
     "output_type": "execute_result"
    }
   ],
   "source": [
    "data.duplicated(subset=['name', 'address']).sum()"
   ]
  },
  {
   "cell_type": "code",
   "execution_count": 8,
   "id": "6fab4233",
   "metadata": {},
   "outputs": [
    {
     "name": "stdout",
     "output_type": "stream",
     "text": [
      "<class 'pandas.core.frame.DataFrame'>\n",
      "Index: 8403 entries, 0 to 8405\n",
      "Data columns (total 14 columns):\n",
      " #   Column             Non-Null Count  Dtype  \n",
      "---  ------             --------------  -----  \n",
      " 0   name               8403 non-null   object \n",
      " 1   category           8403 non-null   object \n",
      " 2   address            8403 non-null   object \n",
      " 3   district           8403 non-null   object \n",
      " 4   hours              7868 non-null   object \n",
      " 5   lat                8403 non-null   float64\n",
      " 6   lng                8403 non-null   float64\n",
      " 7   rating             8403 non-null   float64\n",
      " 8   price              3315 non-null   object \n",
      " 9   avg_bill           3816 non-null   object \n",
      " 10  middle_avg_bill    3149 non-null   float64\n",
      " 11  middle_coffee_cup  535 non-null    float64\n",
      " 12  chain              8403 non-null   int64  \n",
      " 13  seats              4792 non-null   float64\n",
      "dtypes: float64(6), int64(1), object(7)\n",
      "memory usage: 984.7+ KB\n"
     ]
    }
   ],
   "source": [
    "data.drop_duplicates(subset=['name', 'address'], inplace=True)\n",
    "data.info()"
   ]
  },
  {
   "cell_type": "markdown",
   "id": "67d7476e",
   "metadata": {},
   "source": [
    "3 implicit duplicates were found and successfully removed from the dataset."
   ]
  },
  {
   "cell_type": "markdown",
   "id": "bb83d71a",
   "metadata": {},
   "source": [
    "### Search for anomalies"
   ]
  },
  {
   "cell_type": "markdown",
   "id": "64105a43",
   "metadata": {},
   "source": [
    "Consider the distribution of numerical data (rating, average bill, average price of a cup of coffee)."
   ]
  },
  {
   "cell_type": "code",
   "execution_count": 9,
   "id": "a07965d2",
   "metadata": {},
   "outputs": [],
   "source": [
    "def get_distribution():\n",
    "    plt.figure(figsize=(20, 10))\n",
    "    for i, cat in enumerate(['rating', 'middle_avg_bill', 'middle_coffee_cup', 'seats']):\n",
    "        data[cat].plot(kind='hist', title=f'Distribution of values for a column {cat}', ylabel='',\n",
    "                      xlabel='Column values', grid=True, ax=plt.subplot(2, 2, i+1), color='#a0ea83')\n",
    "    plt.show()\n",
    "    plt.figure(figsize=(20, 10))\n",
    "    for i, cat in enumerate(['rating', 'middle_avg_bill', 'middle_coffee_cup', 'seats']):\n",
    "        data[cat].plot(kind='box', title=f'Boxplot for a column {cat}', ylabel='',\n",
    "                      xlabel='Column values', grid=True, ax=plt.subplot(2, 2, i+1))\n",
    "    plt.show()"
   ]
  },
  {
   "cell_type": "code",
   "execution_count": 10,
   "id": "6360afd7",
   "metadata": {},
   "outputs": [
    {
     "data": {
      "image/png": "[encoded data removed]",
      "text/plain": [
       "<Figure size 1440x720 with 4 Axes>"
      ]
     },
     "metadata": {
      "needs_background": "light"
     },
     "output_type": "display_data"
    },
    {
     "data": {
      "image/png": "[encoded data removed]",
      "text/plain": [
       "<Figure size 1440x720 with 4 Axes>"
      ]
     },
     "metadata": {
      "needs_background": "light"
     },
     "output_type": "display_data"
    }
   ],
   "source": [
    "get_distribution()"
   ]
  },
  {
   "cell_type": "markdown",
   "id": "e04f6669",
   "metadata": {},
   "source": [
    "Abnormally high values were found: establishments where the average bill is more than 20,000, establishments where a cup of coffee costs more than 1,000. and where there are more than 800 seats. Let’s consider how many such expensive establishments are in our dataset.\n",
    "\n",
    "Everything is normal in the rating distribution, mostly 4.5 ratings, there are also bad ratings, but not many of them."
   ]
  },
  {
   "cell_type": "code",
   "execution_count": 11,
   "id": "941f63c2",
   "metadata": {},
   "outputs": [
    {
     "data": {
      "text/html": [
       "<div>\n",
       "<style scoped>\n",
       "    .dataframe tbody tr th:only-of-type {\n",
       "        vertical-align: middle;\n",
       "    }\n",
       "\n",
       "    .dataframe tbody tr th {\n",
       "        vertical-align: top;\n",
       "    }\n",
       "\n",
       "    .dataframe thead th {\n",
       "        text-align: right;\n",
       "    }\n",
       "</style>\n",
       "<table border=\"1\" class=\"dataframe\">\n",
       "  <thead>\n",
       "    <tr style=\"text-align: right;\">\n",
       "      <th></th>\n",
       "      <th>name</th>\n",
       "      <th>category</th>\n",
       "      <th>address</th>\n",
       "      <th>district</th>\n",
       "      <th>hours</th>\n",
       "      <th>lat</th>\n",
       "      <th>lng</th>\n",
       "      <th>rating</th>\n",
       "      <th>price</th>\n",
       "      <th>avg_bill</th>\n",
       "      <th>middle_avg_bill</th>\n",
       "      <th>middle_coffee_cup</th>\n",
       "      <th>chain</th>\n",
       "      <th>seats</th>\n",
       "    </tr>\n",
       "  </thead>\n",
       "  <tbody>\n",
       "    <tr>\n",
       "      <th>7177</th>\n",
       "      <td>кафе</td>\n",
       "      <td>ресторан</td>\n",
       "      <td>Москва, Каширское шоссе, 23, стр. 2</td>\n",
       "      <td>Южный административный округ</td>\n",
       "      <td>ежедневно, круглосуточно</td>\n",
       "      <td>55.65745</td>\n",
       "      <td>37.646665</td>\n",
       "      <td>4.1</td>\n",
       "      <td>высокие</td>\n",
       "      <td>Средний счёт:20000–50000 ₽</td>\n",
       "      <td>35000.0</td>\n",
       "      <td>NaN</td>\n",
       "      <td>0</td>\n",
       "      <td>100.0</td>\n",
       "    </tr>\n",
       "  </tbody>\n",
       "</table>\n",
       "</div>"
      ],
      "text/plain": [
       "      name  category                              address  \\\n",
       "7177  кафе  ресторан  Москва, Каширское шоссе, 23, стр. 2   \n",
       "\n",
       "                          district                     hours       lat  \\\n",
       "7177  Южный административный округ  ежедневно, круглосуточно  55.65745   \n",
       "\n",
       "            lng  rating    price                    avg_bill  middle_avg_bill  \\\n",
       "7177  37.646665     4.1  высокие  Средний счёт:20000–50000 ₽          35000.0   \n",
       "\n",
       "      middle_coffee_cup  chain  seats  \n",
       "7177                NaN      0  100.0  "
      ]
     },
     "execution_count": 11,
     "metadata": {},
     "output_type": "execute_result"
    }
   ],
   "source": [
    "data.query('middle_avg_bill >= 20000')"
   ]
  },
  {
   "cell_type": "markdown",
   "id": "7cf0e81f",
   "metadata": {},
   "source": [
    "There is 1 very expensive establishment in the dataset, it is anomalous for our dataset, let’s sort it."
   ]
  },
  {
   "cell_type": "code",
   "execution_count": 12,
   "id": "db96b3ec",
   "metadata": {},
   "outputs": [],
   "source": [
    "data = data[np.logical_or(data['middle_avg_bill'] < 20000, data['middle_avg_bill'].isna())]"
   ]
  },
  {
   "cell_type": "markdown",
   "id": "66e9753b",
   "metadata": {},
   "source": [
    "Consider expensive coffee shops."
   ]
  },
  {
   "cell_type": "code",
   "execution_count": 13,
   "id": "e7584980",
   "metadata": {},
   "outputs": [
    {
     "data": {
      "text/html": [
       "<div>\n",
       "<style scoped>\n",
       "    .dataframe tbody tr th:only-of-type {\n",
       "        vertical-align: middle;\n",
       "    }\n",
       "\n",
       "    .dataframe tbody tr th {\n",
       "        vertical-align: top;\n",
       "    }\n",
       "\n",
       "    .dataframe thead th {\n",
       "        text-align: right;\n",
       "    }\n",
       "</style>\n",
       "<table border=\"1\" class=\"dataframe\">\n",
       "  <thead>\n",
       "    <tr style=\"text-align: right;\">\n",
       "      <th></th>\n",
       "      <th>name</th>\n",
       "      <th>category</th>\n",
       "      <th>address</th>\n",
       "      <th>district</th>\n",
       "      <th>hours</th>\n",
       "      <th>lat</th>\n",
       "      <th>lng</th>\n",
       "      <th>rating</th>\n",
       "      <th>price</th>\n",
       "      <th>avg_bill</th>\n",
       "      <th>middle_avg_bill</th>\n",
       "      <th>middle_coffee_cup</th>\n",
       "      <th>chain</th>\n",
       "      <th>seats</th>\n",
       "    </tr>\n",
       "  </thead>\n",
       "  <tbody>\n",
       "    <tr>\n",
       "      <th>2859</th>\n",
       "      <td>шоколадница</td>\n",
       "      <td>кофейня</td>\n",
       "      <td>Москва, Большая Семёновская улица, 27, корп. 1</td>\n",
       "      <td>Восточный административный округ</td>\n",
       "      <td>ежедневно, 08:00–23:00</td>\n",
       "      <td>55.782268</td>\n",
       "      <td>37.709022</td>\n",
       "      <td>4.2</td>\n",
       "      <td>средние</td>\n",
       "      <td>Цена чашки капучино:230–2907 ₽</td>\n",
       "      <td>NaN</td>\n",
       "      <td>1568.0</td>\n",
       "      <td>1</td>\n",
       "      <td>48.0</td>\n",
       "    </tr>\n",
       "  </tbody>\n",
       "</table>\n",
       "</div>"
      ],
      "text/plain": [
       "             name category                                         address  \\\n",
       "2859  шоколадница  кофейня  Москва, Большая Семёновская улица, 27, корп. 1   \n",
       "\n",
       "                              district                   hours        lat  \\\n",
       "2859  Восточный административный округ  ежедневно, 08:00–23:00  55.782268   \n",
       "\n",
       "            lng  rating    price                        avg_bill  \\\n",
       "2859  37.709022     4.2  средние  Цена чашки капучино:230–2907 ₽   \n",
       "\n",
       "      middle_avg_bill  middle_coffee_cup  chain  seats  \n",
       "2859              NaN             1568.0      1   48.0  "
      ]
     },
     "execution_count": 13,
     "metadata": {},
     "output_type": "execute_result"
    }
   ],
   "source": [
    "data.query('middle_coffee_cup >= 1000')"
   ]
  },
  {
   "cell_type": "markdown",
   "id": "475f2d2e",
   "metadata": {},
   "source": [
    "There is also 1 expensive coffee shop that distorts the distribution, let's sort it."
   ]
  },
  {
   "cell_type": "code",
   "execution_count": 14,
   "id": "0ddba3ca",
   "metadata": {},
   "outputs": [],
   "source": [
    "data = data[np.logical_or(data['middle_coffee_cup'] < 1000, data['middle_coffee_cup'].isna())]"
   ]
  },
  {
   "cell_type": "markdown",
   "id": "588215c0",
   "metadata": {},
   "source": [
    "Let's consider establishments with a lot of seats."
   ]
  },
  {
   "cell_type": "code",
   "execution_count": 15,
   "id": "1280f57f",
   "metadata": {
    "scrolled": true
   },
   "outputs": [
    {
     "data": {
      "text/html": [
       "<div>\n",
       "<style scoped>\n",
       "    .dataframe tbody tr th:only-of-type {\n",
       "        vertical-align: middle;\n",
       "    }\n",
       "\n",
       "    .dataframe tbody tr th {\n",
       "        vertical-align: top;\n",
       "    }\n",
       "\n",
       "    .dataframe thead th {\n",
       "        text-align: right;\n",
       "    }\n",
       "</style>\n",
       "<table border=\"1\" class=\"dataframe\">\n",
       "  <thead>\n",
       "    <tr style=\"text-align: right;\">\n",
       "      <th></th>\n",
       "      <th>name</th>\n",
       "      <th>category</th>\n",
       "      <th>address</th>\n",
       "      <th>district</th>\n",
       "      <th>hours</th>\n",
       "      <th>lat</th>\n",
       "      <th>lng</th>\n",
       "      <th>rating</th>\n",
       "      <th>price</th>\n",
       "      <th>avg_bill</th>\n",
       "      <th>middle_avg_bill</th>\n",
       "      <th>middle_coffee_cup</th>\n",
       "      <th>chain</th>\n",
       "      <th>seats</th>\n",
       "    </tr>\n",
       "  </thead>\n",
       "  <tbody>\n",
       "    <tr>\n",
       "      <th>2713</th>\n",
       "      <td>ваня и гоги</td>\n",
       "      <td>бар,паб</td>\n",
       "      <td>Москва, Измайловское шоссе, 71, корп. А</td>\n",
       "      <td>Восточный административный округ</td>\n",
       "      <td>ежедневно, 11:00–06:00</td>\n",
       "      <td>55.789842</td>\n",
       "      <td>37.750282</td>\n",
       "      <td>4.2</td>\n",
       "      <td>высокие</td>\n",
       "      <td>Средний счёт:1000–2500 ₽</td>\n",
       "      <td>1750.0</td>\n",
       "      <td>NaN</td>\n",
       "      <td>0</td>\n",
       "      <td>1040.0</td>\n",
       "    </tr>\n",
       "    <tr>\n",
       "      <th>2722</th>\n",
       "      <td>маргарита</td>\n",
       "      <td>быстрое питание</td>\n",
       "      <td>Москва, Измайловское шоссе, 71, корп. А</td>\n",
       "      <td>Восточный административный округ</td>\n",
       "      <td>ежедневно, 10:00–22:00</td>\n",
       "      <td>55.789527</td>\n",
       "      <td>37.752004</td>\n",
       "      <td>4.3</td>\n",
       "      <td>NaN</td>\n",
       "      <td>NaN</td>\n",
       "      <td>NaN</td>\n",
       "      <td>NaN</td>\n",
       "      <td>1</td>\n",
       "      <td>1040.0</td>\n",
       "    </tr>\n",
       "    <tr>\n",
       "      <th>2770</th>\n",
       "      <td>шоколадница</td>\n",
       "      <td>кофейня</td>\n",
       "      <td>Москва, Измайловское шоссе, 71, корп. А</td>\n",
       "      <td>Восточный административный округ</td>\n",
       "      <td>пн-ср 11:00–23:00; чт 11:00–00:00; пт,сб 11:00...</td>\n",
       "      <td>55.789903</td>\n",
       "      <td>37.749822</td>\n",
       "      <td>4.1</td>\n",
       "      <td>NaN</td>\n",
       "      <td>NaN</td>\n",
       "      <td>NaN</td>\n",
       "      <td>NaN</td>\n",
       "      <td>1</td>\n",
       "      <td>1040.0</td>\n",
       "    </tr>\n",
       "    <tr>\n",
       "      <th>2966</th>\n",
       "      <td>матрешка</td>\n",
       "      <td>кафе</td>\n",
       "      <td>Москва, Измайловское шоссе, 71, корп. А</td>\n",
       "      <td>Восточный административный округ</td>\n",
       "      <td>NaN</td>\n",
       "      <td>55.789867</td>\n",
       "      <td>37.749656</td>\n",
       "      <td>4.0</td>\n",
       "      <td>NaN</td>\n",
       "      <td>NaN</td>\n",
       "      <td>NaN</td>\n",
       "      <td>NaN</td>\n",
       "      <td>0</td>\n",
       "      <td>1040.0</td>\n",
       "    </tr>\n",
       "    <tr>\n",
       "      <th>4180</th>\n",
       "      <td>eataly</td>\n",
       "      <td>бар,паб</td>\n",
       "      <td>Москва, Киевская улица, 2</td>\n",
       "      <td>Западный административный округ</td>\n",
       "      <td>ежедневно, 12:00–23:00</td>\n",
       "      <td>55.743405</td>\n",
       "      <td>37.562535</td>\n",
       "      <td>4.6</td>\n",
       "      <td>NaN</td>\n",
       "      <td>NaN</td>\n",
       "      <td>NaN</td>\n",
       "      <td>NaN</td>\n",
       "      <td>0</td>\n",
       "      <td>920.0</td>\n",
       "    </tr>\n",
       "    <tr>\n",
       "      <th>4231</th>\n",
       "      <td>рестобар argomento</td>\n",
       "      <td>столовая</td>\n",
       "      <td>Москва, Кутузовский проспект, 41, стр. 1</td>\n",
       "      <td>Западный административный округ</td>\n",
       "      <td>ежедневно, 12:00–23:00</td>\n",
       "      <td>55.738237</td>\n",
       "      <td>37.531819</td>\n",
       "      <td>4.2</td>\n",
       "      <td>высокие</td>\n",
       "      <td>Средний счёт:2500–5000 ₽</td>\n",
       "      <td>3750.0</td>\n",
       "      <td>NaN</td>\n",
       "      <td>0</td>\n",
       "      <td>1200.0</td>\n",
       "    </tr>\n",
       "    <tr>\n",
       "      <th>4245</th>\n",
       "      <td>стейк &amp; бургер</td>\n",
       "      <td>кафе</td>\n",
       "      <td>Москва, Киевская улица, 2</td>\n",
       "      <td>Западный административный округ</td>\n",
       "      <td>ежедневно, 09:00–21:00</td>\n",
       "      <td>55.742953</td>\n",
       "      <td>37.561872</td>\n",
       "      <td>4.2</td>\n",
       "      <td>NaN</td>\n",
       "      <td>NaN</td>\n",
       "      <td>NaN</td>\n",
       "      <td>NaN</td>\n",
       "      <td>1</td>\n",
       "      <td>920.0</td>\n",
       "    </tr>\n",
       "    <tr>\n",
       "      <th>6518</th>\n",
       "      <td>delonixcafe</td>\n",
       "      <td>ресторан</td>\n",
       "      <td>Москва, проспект Вернадского, 94, корп. 1</td>\n",
       "      <td>Западный административный округ</td>\n",
       "      <td>ежедневно, круглосуточно</td>\n",
       "      <td>55.652577</td>\n",
       "      <td>37.475730</td>\n",
       "      <td>4.1</td>\n",
       "      <td>высокие</td>\n",
       "      <td>Средний счёт:1500–2000 ₽</td>\n",
       "      <td>1750.0</td>\n",
       "      <td>NaN</td>\n",
       "      <td>0</td>\n",
       "      <td>1288.0</td>\n",
       "    </tr>\n",
       "    <tr>\n",
       "      <th>6524</th>\n",
       "      <td>ян примус</td>\n",
       "      <td>ресторан</td>\n",
       "      <td>Москва, проспект Вернадского, 121, корп. 1</td>\n",
       "      <td>Западный административный округ</td>\n",
       "      <td>пн-чт 12:00–00:00; пт,сб 12:00–02:00; вс 12:00...</td>\n",
       "      <td>55.657166</td>\n",
       "      <td>37.481519</td>\n",
       "      <td>4.5</td>\n",
       "      <td>выше среднего</td>\n",
       "      <td>Средний счёт:1500 ₽</td>\n",
       "      <td>1500.0</td>\n",
       "      <td>NaN</td>\n",
       "      <td>1</td>\n",
       "      <td>1288.0</td>\n",
       "    </tr>\n",
       "    <tr>\n",
       "      <th>6574</th>\n",
       "      <td>мюнгер</td>\n",
       "      <td>пиццерия</td>\n",
       "      <td>Москва, проспект Вернадского, 97, корп. 1</td>\n",
       "      <td>Западный административный округ</td>\n",
       "      <td>пн-пт 08:00–21:00; сб,вс 10:00–21:00</td>\n",
       "      <td>55.667505</td>\n",
       "      <td>37.491001</td>\n",
       "      <td>4.8</td>\n",
       "      <td>NaN</td>\n",
       "      <td>NaN</td>\n",
       "      <td>NaN</td>\n",
       "      <td>NaN</td>\n",
       "      <td>1</td>\n",
       "      <td>1288.0</td>\n",
       "    </tr>\n",
       "  </tbody>\n",
       "</table>\n",
       "</div>"
      ],
      "text/plain": [
       "                    name         category  \\\n",
       "2713         ваня и гоги          бар,паб   \n",
       "2722           маргарита  быстрое питание   \n",
       "2770         шоколадница          кофейня   \n",
       "2966            матрешка             кафе   \n",
       "4180              eataly          бар,паб   \n",
       "4231  рестобар argomento         столовая   \n",
       "4245      стейк & бургер             кафе   \n",
       "6518         delonixcafe         ресторан   \n",
       "6524           ян примус         ресторан   \n",
       "6574              мюнгер         пиццерия   \n",
       "\n",
       "                                         address  \\\n",
       "2713     Москва, Измайловское шоссе, 71, корп. А   \n",
       "2722     Москва, Измайловское шоссе, 71, корп. А   \n",
       "2770     Москва, Измайловское шоссе, 71, корп. А   \n",
       "2966     Москва, Измайловское шоссе, 71, корп. А   \n",
       "4180                   Москва, Киевская улица, 2   \n",
       "4231    Москва, Кутузовский проспект, 41, стр. 1   \n",
       "4245                   Москва, Киевская улица, 2   \n",
       "6518   Москва, проспект Вернадского, 94, корп. 1   \n",
       "6524  Москва, проспект Вернадского, 121, корп. 1   \n",
       "6574   Москва, проспект Вернадского, 97, корп. 1   \n",
       "\n",
       "                              district  \\\n",
       "2713  Восточный административный округ   \n",
       "2722  Восточный административный округ   \n",
       "2770  Восточный административный округ   \n",
       "2966  Восточный административный округ   \n",
       "4180   Западный административный округ   \n",
       "4231   Западный административный округ   \n",
       "4245   Западный административный округ   \n",
       "6518   Западный административный округ   \n",
       "6524   Западный административный округ   \n",
       "6574   Западный административный округ   \n",
       "\n",
       "                                                  hours        lat        lng  \\\n",
       "2713                             ежедневно, 11:00–06:00  55.789842  37.750282   \n",
       "2722                             ежедневно, 10:00–22:00  55.789527  37.752004   \n",
       "2770  пн-ср 11:00–23:00; чт 11:00–00:00; пт,сб 11:00...  55.789903  37.749822   \n",
       "2966                                                NaN  55.789867  37.749656   \n",
       "4180                             ежедневно, 12:00–23:00  55.743405  37.562535   \n",
       "4231                             ежедневно, 12:00–23:00  55.738237  37.531819   \n",
       "4245                             ежедневно, 09:00–21:00  55.742953  37.561872   \n",
       "6518                           ежедневно, круглосуточно  55.652577  37.475730   \n",
       "6524  пн-чт 12:00–00:00; пт,сб 12:00–02:00; вс 12:00...  55.657166  37.481519   \n",
       "6574               пн-пт 08:00–21:00; сб,вс 10:00–21:00  55.667505  37.491001   \n",
       "\n",
       "      rating          price                  avg_bill  middle_avg_bill  \\\n",
       "2713     4.2        высокие  Средний счёт:1000–2500 ₽           1750.0   \n",
       "2722     4.3            NaN                       NaN              NaN   \n",
       "2770     4.1            NaN                       NaN              NaN   \n",
       "2966     4.0            NaN                       NaN              NaN   \n",
       "4180     4.6            NaN                       NaN              NaN   \n",
       "4231     4.2        высокие  Средний счёт:2500–5000 ₽           3750.0   \n",
       "4245     4.2            NaN                       NaN              NaN   \n",
       "6518     4.1        высокие  Средний счёт:1500–2000 ₽           1750.0   \n",
       "6524     4.5  выше среднего       Средний счёт:1500 ₽           1500.0   \n",
       "6574     4.8            NaN                       NaN              NaN   \n",
       "\n",
       "      middle_coffee_cup  chain   seats  \n",
       "2713                NaN      0  1040.0  \n",
       "2722                NaN      1  1040.0  \n",
       "2770                NaN      1  1040.0  \n",
       "2966                NaN      0  1040.0  \n",
       "4180                NaN      0   920.0  \n",
       "4231                NaN      0  1200.0  \n",
       "4245                NaN      1   920.0  \n",
       "6518                NaN      0  1288.0  \n",
       "6524                NaN      1  1288.0  \n",
       "6574                NaN      1  1288.0  "
      ]
     },
     "execution_count": 15,
     "metadata": {},
     "output_type": "execute_result"
    }
   ],
   "source": [
    "data.query('seats >= 800').head(10)"
   ]
  },
  {
   "cell_type": "markdown",
   "id": "ea7c028b",
   "metadata": {},
   "source": [
    "There are various establishments with a huge number of places, but these establishments are located in 1 place, most likely this is some kind of food court. Let's look for establishments that are located at addresses that we have not met."
   ]
  },
  {
   "cell_type": "code",
   "execution_count": 16,
   "id": "a697fb45",
   "metadata": {},
   "outputs": [
    {
     "data": {
      "text/html": [
       "<div>\n",
       "<style scoped>\n",
       "    .dataframe tbody tr th:only-of-type {\n",
       "        vertical-align: middle;\n",
       "    }\n",
       "\n",
       "    .dataframe tbody tr th {\n",
       "        vertical-align: top;\n",
       "    }\n",
       "\n",
       "    .dataframe thead th {\n",
       "        text-align: right;\n",
       "    }\n",
       "</style>\n",
       "<table border=\"1\" class=\"dataframe\">\n",
       "  <thead>\n",
       "    <tr style=\"text-align: right;\">\n",
       "      <th></th>\n",
       "      <th>name</th>\n",
       "      <th>category</th>\n",
       "      <th>address</th>\n",
       "      <th>district</th>\n",
       "      <th>hours</th>\n",
       "      <th>lat</th>\n",
       "      <th>lng</th>\n",
       "      <th>rating</th>\n",
       "      <th>price</th>\n",
       "      <th>avg_bill</th>\n",
       "      <th>middle_avg_bill</th>\n",
       "      <th>middle_coffee_cup</th>\n",
       "      <th>chain</th>\n",
       "      <th>seats</th>\n",
       "    </tr>\n",
       "  </thead>\n",
       "  <tbody>\n",
       "    <tr>\n",
       "      <th>4231</th>\n",
       "      <td>рестобар argomento</td>\n",
       "      <td>столовая</td>\n",
       "      <td>Москва, Кутузовский проспект, 41, стр. 1</td>\n",
       "      <td>Западный административный округ</td>\n",
       "      <td>ежедневно, 12:00–23:00</td>\n",
       "      <td>55.738237</td>\n",
       "      <td>37.531819</td>\n",
       "      <td>4.2</td>\n",
       "      <td>высокие</td>\n",
       "      <td>Средний счёт:2500–5000 ₽</td>\n",
       "      <td>3750.0</td>\n",
       "      <td>NaN</td>\n",
       "      <td>0</td>\n",
       "      <td>1200.0</td>\n",
       "    </tr>\n",
       "    <tr>\n",
       "      <th>6518</th>\n",
       "      <td>delonixcafe</td>\n",
       "      <td>ресторан</td>\n",
       "      <td>Москва, проспект Вернадского, 94, корп. 1</td>\n",
       "      <td>Западный административный округ</td>\n",
       "      <td>ежедневно, круглосуточно</td>\n",
       "      <td>55.652577</td>\n",
       "      <td>37.475730</td>\n",
       "      <td>4.1</td>\n",
       "      <td>высокие</td>\n",
       "      <td>Средний счёт:1500–2000 ₽</td>\n",
       "      <td>1750.0</td>\n",
       "      <td>NaN</td>\n",
       "      <td>0</td>\n",
       "      <td>1288.0</td>\n",
       "    </tr>\n",
       "    <tr>\n",
       "      <th>6808</th>\n",
       "      <td>яндекс лавка</td>\n",
       "      <td>ресторан</td>\n",
       "      <td>Москва, проспект Вернадского, 51, стр. 1</td>\n",
       "      <td>Западный административный округ</td>\n",
       "      <td>ежедневно, круглосуточно</td>\n",
       "      <td>55.672580</td>\n",
       "      <td>37.507753</td>\n",
       "      <td>4.0</td>\n",
       "      <td>NaN</td>\n",
       "      <td>NaN</td>\n",
       "      <td>NaN</td>\n",
       "      <td>NaN</td>\n",
       "      <td>1</td>\n",
       "      <td>1288.0</td>\n",
       "    </tr>\n",
       "    <tr>\n",
       "      <th>6838</th>\n",
       "      <td>alternative coffee</td>\n",
       "      <td>кофейня</td>\n",
       "      <td>Москва, проспект Вернадского, 41, стр. 1</td>\n",
       "      <td>Западный административный округ</td>\n",
       "      <td>пн-пт 09:00–21:00; сб,вс 09:00–22:00</td>\n",
       "      <td>55.673128</td>\n",
       "      <td>37.502992</td>\n",
       "      <td>4.3</td>\n",
       "      <td>NaN</td>\n",
       "      <td>NaN</td>\n",
       "      <td>NaN</td>\n",
       "      <td>NaN</td>\n",
       "      <td>0</td>\n",
       "      <td>1288.0</td>\n",
       "    </tr>\n",
       "  </tbody>\n",
       "</table>\n",
       "</div>"
      ],
      "text/plain": [
       "                    name  category                                    address  \\\n",
       "4231  рестобар argomento  столовая   Москва, Кутузовский проспект, 41, стр. 1   \n",
       "6518         delonixcafe  ресторан  Москва, проспект Вернадского, 94, корп. 1   \n",
       "6808        яндекс лавка  ресторан   Москва, проспект Вернадского, 51, стр. 1   \n",
       "6838  alternative coffee   кофейня   Москва, проспект Вернадского, 41, стр. 1   \n",
       "\n",
       "                             district                                 hours  \\\n",
       "4231  Западный административный округ                ежедневно, 12:00–23:00   \n",
       "6518  Западный административный округ              ежедневно, круглосуточно   \n",
       "6808  Западный административный округ              ежедневно, круглосуточно   \n",
       "6838  Западный административный округ  пн-пт 09:00–21:00; сб,вс 09:00–22:00   \n",
       "\n",
       "            lat        lng  rating    price                  avg_bill  \\\n",
       "4231  55.738237  37.531819     4.2  высокие  Средний счёт:2500–5000 ₽   \n",
       "6518  55.652577  37.475730     4.1  высокие  Средний счёт:1500–2000 ₽   \n",
       "6808  55.672580  37.507753     4.0      NaN                       NaN   \n",
       "6838  55.673128  37.502992     4.3      NaN                       NaN   \n",
       "\n",
       "      middle_avg_bill  middle_coffee_cup  chain   seats  \n",
       "4231           3750.0                NaN      0  1200.0  \n",
       "6518           1750.0                NaN      0  1288.0  \n",
       "6808              NaN                NaN      1  1288.0  \n",
       "6838              NaN                NaN      0  1288.0  "
      ]
     },
     "execution_count": 16,
     "metadata": {},
     "output_type": "execute_result"
    }
   ],
   "source": [
    "address_duplicated = data.loc[data['address'].duplicated(), 'address'].unique()\n",
    "data.query('seats >= 800 and address not in @address_duplicated')"
   ]
  },
  {
   "cell_type": "markdown",
   "id": "1f2d197e",
   "metadata": {},
   "source": [
    "There are 4 abnormally large establishments that are not located in the food court; we will remove these establishments from the data."
   ]
  },
  {
   "cell_type": "code",
   "execution_count": 17,
   "id": "75b39176",
   "metadata": {},
   "outputs": [],
   "source": [
    "data = data.query('not (seats >= 800 and address not in @address_duplicated)')"
   ]
  },
  {
   "cell_type": "markdown",
   "id": "13686035",
   "metadata": {},
   "source": [
    "Let's look at the distributions on cleaned data."
   ]
  },
  {
   "cell_type": "code",
   "execution_count": 18,
   "id": "50c836e4",
   "metadata": {},
   "outputs": [
    {
     "data": {
      "image/png": "[encoded data removed]",
      "text/plain": [
       "<Figure size 1440x720 with 4 Axes>"
      ]
     },
     "metadata": {
      "needs_background": "light"
     },
     "output_type": "display_data"
    },
    {
     "data": {
      "image/png": "[encoded data removed]",
      "text/plain": [
       "<Figure size 1440x720 with 4 Axes>"
      ]
     },
     "metadata": {
      "needs_background": "light"
     },
     "output_type": "display_data"
    }
   ],
   "source": [
    "get_distribution()"
   ]
  },
  {
   "cell_type": "markdown",
   "id": "e0c7153f",
   "metadata": {},
   "source": [
    "Now the distributions look better, but seats still have very large values, but they cannot be deleted, since these are establishments from food courts."
   ]
  },
  {
   "cell_type": "markdown",
   "id": "bae852d8",
   "metadata": {},
   "source": [
    "### Removing uninformative data"
   ]
  },
  {
   "cell_type": "markdown",
   "id": "9372d4ca",
   "metadata": {},
   "source": [
    "Let's look at the data where there are gaps in visiting hours, price categories, average bill and number of seats. We do not have any information about these establishments and it would be more expedient to clear it."
   ]
  },
  {
   "cell_type": "code",
   "execution_count": 19,
   "id": "f0b59205",
   "metadata": {
    "scrolled": true
   },
   "outputs": [
    {
     "data": {
      "text/html": [
       "<div>\n",
       "<style scoped>\n",
       "    .dataframe tbody tr th:only-of-type {\n",
       "        vertical-align: middle;\n",
       "    }\n",
       "\n",
       "    .dataframe tbody tr th {\n",
       "        vertical-align: top;\n",
       "    }\n",
       "\n",
       "    .dataframe thead th {\n",
       "        text-align: right;\n",
       "    }\n",
       "</style>\n",
       "<table border=\"1\" class=\"dataframe\">\n",
       "  <thead>\n",
       "    <tr style=\"text-align: right;\">\n",
       "      <th></th>\n",
       "      <th>name</th>\n",
       "      <th>category</th>\n",
       "      <th>address</th>\n",
       "      <th>district</th>\n",
       "      <th>hours</th>\n",
       "      <th>lat</th>\n",
       "      <th>lng</th>\n",
       "      <th>rating</th>\n",
       "      <th>price</th>\n",
       "      <th>avg_bill</th>\n",
       "      <th>middle_avg_bill</th>\n",
       "      <th>middle_coffee_cup</th>\n",
       "      <th>chain</th>\n",
       "      <th>seats</th>\n",
       "    </tr>\n",
       "  </thead>\n",
       "  <tbody>\n",
       "    <tr>\n",
       "      <th>38</th>\n",
       "      <td>ижора</td>\n",
       "      <td>булочная</td>\n",
       "      <td>Москва, Ижорский проезд, 5А</td>\n",
       "      <td>Северный административный округ</td>\n",
       "      <td>NaN</td>\n",
       "      <td>55.888366</td>\n",
       "      <td>37.514856</td>\n",
       "      <td>4.4</td>\n",
       "      <td>NaN</td>\n",
       "      <td>NaN</td>\n",
       "      <td>NaN</td>\n",
       "      <td>NaN</td>\n",
       "      <td>0</td>\n",
       "      <td>NaN</td>\n",
       "    </tr>\n",
       "    <tr>\n",
       "      <th>40</th>\n",
       "      <td>кафе</td>\n",
       "      <td>кафе</td>\n",
       "      <td>Москва, Ижорская улица, 18, стр. 1</td>\n",
       "      <td>Северный административный округ</td>\n",
       "      <td>NaN</td>\n",
       "      <td>55.895115</td>\n",
       "      <td>37.524902</td>\n",
       "      <td>3.7</td>\n",
       "      <td>NaN</td>\n",
       "      <td>NaN</td>\n",
       "      <td>NaN</td>\n",
       "      <td>NaN</td>\n",
       "      <td>0</td>\n",
       "      <td>NaN</td>\n",
       "    </tr>\n",
       "    <tr>\n",
       "      <th>56</th>\n",
       "      <td>рыба из тандыра</td>\n",
       "      <td>быстрое питание</td>\n",
       "      <td>Москва, Коровинское шоссе, 46, стр. 5</td>\n",
       "      <td>Северный административный округ</td>\n",
       "      <td>NaN</td>\n",
       "      <td>55.888010</td>\n",
       "      <td>37.515960</td>\n",
       "      <td>1.5</td>\n",
       "      <td>NaN</td>\n",
       "      <td>NaN</td>\n",
       "      <td>NaN</td>\n",
       "      <td>NaN</td>\n",
       "      <td>0</td>\n",
       "      <td>NaN</td>\n",
       "    </tr>\n",
       "    <tr>\n",
       "      <th>108</th>\n",
       "      <td>кафе</td>\n",
       "      <td>бар,паб</td>\n",
       "      <td>Москва, МКАД, 82-й километр, вл18</td>\n",
       "      <td>Северо-Восточный административный округ</td>\n",
       "      <td>NaN</td>\n",
       "      <td>55.908930</td>\n",
       "      <td>37.558777</td>\n",
       "      <td>4.2</td>\n",
       "      <td>NaN</td>\n",
       "      <td>NaN</td>\n",
       "      <td>NaN</td>\n",
       "      <td>NaN</td>\n",
       "      <td>0</td>\n",
       "      <td>NaN</td>\n",
       "    </tr>\n",
       "    <tr>\n",
       "      <th>126</th>\n",
       "      <td>кулинария</td>\n",
       "      <td>кафе</td>\n",
       "      <td>Москва, Череповецкая улица, 17</td>\n",
       "      <td>Северо-Восточный административный округ</td>\n",
       "      <td>NaN</td>\n",
       "      <td>55.898741</td>\n",
       "      <td>37.585301</td>\n",
       "      <td>3.9</td>\n",
       "      <td>NaN</td>\n",
       "      <td>NaN</td>\n",
       "      <td>NaN</td>\n",
       "      <td>NaN</td>\n",
       "      <td>1</td>\n",
       "      <td>NaN</td>\n",
       "    </tr>\n",
       "    <tr>\n",
       "      <th>...</th>\n",
       "      <td>...</td>\n",
       "      <td>...</td>\n",
       "      <td>...</td>\n",
       "      <td>...</td>\n",
       "      <td>...</td>\n",
       "      <td>...</td>\n",
       "      <td>...</td>\n",
       "      <td>...</td>\n",
       "      <td>...</td>\n",
       "      <td>...</td>\n",
       "      <td>...</td>\n",
       "      <td>...</td>\n",
       "      <td>...</td>\n",
       "      <td>...</td>\n",
       "    </tr>\n",
       "    <tr>\n",
       "      <th>8206</th>\n",
       "      <td>чайхана аксы</td>\n",
       "      <td>кафе</td>\n",
       "      <td>Москва, Волгоградский проспект, 32, корп. 12</td>\n",
       "      <td>Юго-Восточный административный округ</td>\n",
       "      <td>NaN</td>\n",
       "      <td>55.721600</td>\n",
       "      <td>37.693002</td>\n",
       "      <td>4.1</td>\n",
       "      <td>NaN</td>\n",
       "      <td>NaN</td>\n",
       "      <td>NaN</td>\n",
       "      <td>NaN</td>\n",
       "      <td>0</td>\n",
       "      <td>NaN</td>\n",
       "    </tr>\n",
       "    <tr>\n",
       "      <th>8228</th>\n",
       "      <td>волчок</td>\n",
       "      <td>кафе</td>\n",
       "      <td>Москва, проспект Андропова, 18, корп. 9</td>\n",
       "      <td>Южный административный округ</td>\n",
       "      <td>NaN</td>\n",
       "      <td>55.691734</td>\n",
       "      <td>37.660548</td>\n",
       "      <td>4.6</td>\n",
       "      <td>NaN</td>\n",
       "      <td>NaN</td>\n",
       "      <td>NaN</td>\n",
       "      <td>NaN</td>\n",
       "      <td>0</td>\n",
       "      <td>NaN</td>\n",
       "    </tr>\n",
       "    <tr>\n",
       "      <th>8236</th>\n",
       "      <td>1у</td>\n",
       "      <td>кафе</td>\n",
       "      <td>Москва, Нагатинская набережная, 40/1к1</td>\n",
       "      <td>Южный административный округ</td>\n",
       "      <td>NaN</td>\n",
       "      <td>55.685528</td>\n",
       "      <td>37.673546</td>\n",
       "      <td>3.4</td>\n",
       "      <td>NaN</td>\n",
       "      <td>NaN</td>\n",
       "      <td>NaN</td>\n",
       "      <td>NaN</td>\n",
       "      <td>0</td>\n",
       "      <td>NaN</td>\n",
       "    </tr>\n",
       "    <tr>\n",
       "      <th>8375</th>\n",
       "      <td>улица гурьянова 55</td>\n",
       "      <td>кафе</td>\n",
       "      <td>Москва, улица Гурьянова, 55</td>\n",
       "      <td>Юго-Восточный административный округ</td>\n",
       "      <td>NaN</td>\n",
       "      <td>55.679981</td>\n",
       "      <td>37.717034</td>\n",
       "      <td>4.5</td>\n",
       "      <td>NaN</td>\n",
       "      <td>NaN</td>\n",
       "      <td>NaN</td>\n",
       "      <td>NaN</td>\n",
       "      <td>0</td>\n",
       "      <td>NaN</td>\n",
       "    </tr>\n",
       "    <tr>\n",
       "      <th>8395</th>\n",
       "      <td>истира запрафка</td>\n",
       "      <td>кафе</td>\n",
       "      <td>Москва, Юго-Восточный административный округ, ...</td>\n",
       "      <td>Юго-Восточный административный округ</td>\n",
       "      <td>NaN</td>\n",
       "      <td>55.724686</td>\n",
       "      <td>37.710558</td>\n",
       "      <td>2.9</td>\n",
       "      <td>NaN</td>\n",
       "      <td>NaN</td>\n",
       "      <td>NaN</td>\n",
       "      <td>NaN</td>\n",
       "      <td>0</td>\n",
       "      <td>NaN</td>\n",
       "    </tr>\n",
       "  </tbody>\n",
       "</table>\n",
       "<p>235 rows × 14 columns</p>\n",
       "</div>"
      ],
      "text/plain": [
       "                    name         category  \\\n",
       "38                 ижора         булочная   \n",
       "40                  кафе             кафе   \n",
       "56       рыба из тандыра  быстрое питание   \n",
       "108                 кафе          бар,паб   \n",
       "126            кулинария             кафе   \n",
       "...                  ...              ...   \n",
       "8206        чайхана аксы             кафе   \n",
       "8228              волчок             кафе   \n",
       "8236                  1у             кафе   \n",
       "8375  улица гурьянова 55             кафе   \n",
       "8395     истира запрафка             кафе   \n",
       "\n",
       "                                                address  \\\n",
       "38                          Москва, Ижорский проезд, 5А   \n",
       "40                   Москва, Ижорская улица, 18, стр. 1   \n",
       "56                Москва, Коровинское шоссе, 46, стр. 5   \n",
       "108                   Москва, МКАД, 82-й километр, вл18   \n",
       "126                      Москва, Череповецкая улица, 17   \n",
       "...                                                 ...   \n",
       "8206       Москва, Волгоградский проспект, 32, корп. 12   \n",
       "8228            Москва, проспект Андропова, 18, корп. 9   \n",
       "8236             Москва, Нагатинская набережная, 40/1к1   \n",
       "8375                        Москва, улица Гурьянова, 55   \n",
       "8395  Москва, Юго-Восточный административный округ, ...   \n",
       "\n",
       "                                     district hours        lat        lng  \\\n",
       "38            Северный административный округ   NaN  55.888366  37.514856   \n",
       "40            Северный административный округ   NaN  55.895115  37.524902   \n",
       "56            Северный административный округ   NaN  55.888010  37.515960   \n",
       "108   Северо-Восточный административный округ   NaN  55.908930  37.558777   \n",
       "126   Северо-Восточный административный округ   NaN  55.898741  37.585301   \n",
       "...                                       ...   ...        ...        ...   \n",
       "8206     Юго-Восточный административный округ   NaN  55.721600  37.693002   \n",
       "8228             Южный административный округ   NaN  55.691734  37.660548   \n",
       "8236             Южный административный округ   NaN  55.685528  37.673546   \n",
       "8375     Юго-Восточный административный округ   NaN  55.679981  37.717034   \n",
       "8395     Юго-Восточный административный округ   NaN  55.724686  37.710558   \n",
       "\n",
       "      rating price avg_bill  middle_avg_bill  middle_coffee_cup  chain  seats  \n",
       "38       4.4   NaN      NaN              NaN                NaN      0    NaN  \n",
       "40       3.7   NaN      NaN              NaN                NaN      0    NaN  \n",
       "56       1.5   NaN      NaN              NaN                NaN      0    NaN  \n",
       "108      4.2   NaN      NaN              NaN                NaN      0    NaN  \n",
       "126      3.9   NaN      NaN              NaN                NaN      1    NaN  \n",
       "...      ...   ...      ...              ...                ...    ...    ...  \n",
       "8206     4.1   NaN      NaN              NaN                NaN      0    NaN  \n",
       "8228     4.6   NaN      NaN              NaN                NaN      0    NaN  \n",
       "8236     3.4   NaN      NaN              NaN                NaN      0    NaN  \n",
       "8375     4.5   NaN      NaN              NaN                NaN      0    NaN  \n",
       "8395     2.9   NaN      NaN              NaN                NaN      0    NaN  \n",
       "\n",
       "[235 rows x 14 columns]"
      ]
     },
     "execution_count": 19,
     "metadata": {},
     "output_type": "execute_result"
    }
   ],
   "source": [
    "data[data['hours'].isna() & data['price'].isna() & data['avg_bill'].isna() & data['seats'].isna()]"
   ]
  },
  {
   "cell_type": "markdown",
   "id": "ec06aaf2",
   "metadata": {},
   "source": [
    "Let's see what portion of all data is missing."
   ]
  },
  {
   "cell_type": "code",
   "execution_count": 20,
   "id": "ee628479",
   "metadata": {},
   "outputs": [
    {
     "data": {
      "text/plain": [
       "2.798618554245564"
      ]
     },
     "execution_count": 20,
     "metadata": {},
     "output_type": "execute_result"
    }
   ],
   "source": [
    "data[data['hours'].isna() & data['price'].isna() & data['avg_bill'].isna() & data['seats'].isna()]['name'].count() * 100 / len(data)"
   ]
  },
  {
   "cell_type": "markdown",
   "id": "640adb43",
   "metadata": {},
   "source": [
    "Gaps make up approximately 3% of all data, I think we can remove this data from the dataset, since it does not contain any useful information other than the address and rating."
   ]
  },
  {
   "cell_type": "code",
   "execution_count": 21,
   "id": "a1d6e08d",
   "metadata": {},
   "outputs": [
    {
     "name": "stdout",
     "output_type": "stream",
     "text": [
      "<class 'pandas.core.frame.DataFrame'>\n",
      "RangeIndex: 8162 entries, 0 to 8161\n",
      "Data columns (total 14 columns):\n",
      " #   Column             Non-Null Count  Dtype  \n",
      "---  ------             --------------  -----  \n",
      " 0   name               8162 non-null   object \n",
      " 1   category           8162 non-null   object \n",
      " 2   address            8162 non-null   object \n",
      " 3   district           8162 non-null   object \n",
      " 4   hours              7862 non-null   object \n",
      " 5   lat                8162 non-null   float64\n",
      " 6   lng                8162 non-null   float64\n",
      " 7   rating             8162 non-null   float64\n",
      " 8   price              3311 non-null   object \n",
      " 9   avg_bill           3812 non-null   object \n",
      " 10  middle_avg_bill    3146 non-null   float64\n",
      " 11  middle_coffee_cup  534 non-null    float64\n",
      " 12  chain              8162 non-null   int64  \n",
      " 13  seats              4786 non-null   float64\n",
      "dtypes: float64(6), int64(1), object(7)\n",
      "memory usage: 892.8+ KB\n"
     ]
    }
   ],
   "source": [
    "data = data[~(data['hours'].isna() & data['price'].isna() & data['avg_bill'].isna() & data['seats'].isna())].reset_index(drop=True)\n",
    "data.info()"
   ]
  },
  {
   "cell_type": "markdown",
   "id": "b97a98ff",
   "metadata": {},
   "source": [
    "### Adding new columns"
   ]
  },
  {
   "cell_type": "markdown",
   "id": "980a8d19",
   "metadata": {},
   "source": [
    "Let's add a column with the streets of establishments."
   ]
  },
  {
   "cell_type": "code",
   "execution_count": 22,
   "id": "738dc421",
   "metadata": {},
   "outputs": [
    {
     "data": {
      "text/html": [
       "<div>\n",
       "<style scoped>\n",
       "    .dataframe tbody tr th:only-of-type {\n",
       "        vertical-align: middle;\n",
       "    }\n",
       "\n",
       "    .dataframe tbody tr th {\n",
       "        vertical-align: top;\n",
       "    }\n",
       "\n",
       "    .dataframe thead th {\n",
       "        text-align: right;\n",
       "    }\n",
       "</style>\n",
       "<table border=\"1\" class=\"dataframe\">\n",
       "  <thead>\n",
       "    <tr style=\"text-align: right;\">\n",
       "      <th></th>\n",
       "      <th>name</th>\n",
       "      <th>category</th>\n",
       "      <th>address</th>\n",
       "      <th>district</th>\n",
       "      <th>hours</th>\n",
       "      <th>lat</th>\n",
       "      <th>lng</th>\n",
       "      <th>rating</th>\n",
       "      <th>price</th>\n",
       "      <th>avg_bill</th>\n",
       "      <th>middle_avg_bill</th>\n",
       "      <th>middle_coffee_cup</th>\n",
       "      <th>chain</th>\n",
       "      <th>seats</th>\n",
       "      <th>street</th>\n",
       "    </tr>\n",
       "  </thead>\n",
       "  <tbody>\n",
       "    <tr>\n",
       "      <th>0</th>\n",
       "      <td>wowфли</td>\n",
       "      <td>кафе</td>\n",
       "      <td>Москва, улица Дыбенко, 7/1</td>\n",
       "      <td>Северный административный округ</td>\n",
       "      <td>ежедневно, 10:00–22:00</td>\n",
       "      <td>55.878494</td>\n",
       "      <td>37.478860</td>\n",
       "      <td>5.0</td>\n",
       "      <td>NaN</td>\n",
       "      <td>NaN</td>\n",
       "      <td>NaN</td>\n",
       "      <td>NaN</td>\n",
       "      <td>0</td>\n",
       "      <td>NaN</td>\n",
       "      <td>Дыбенко</td>\n",
       "    </tr>\n",
       "    <tr>\n",
       "      <th>1</th>\n",
       "      <td>четыре комнаты</td>\n",
       "      <td>ресторан</td>\n",
       "      <td>Москва, улица Дыбенко, 36, корп. 1</td>\n",
       "      <td>Северный административный округ</td>\n",
       "      <td>ежедневно, 10:00–22:00</td>\n",
       "      <td>55.875801</td>\n",
       "      <td>37.484479</td>\n",
       "      <td>4.5</td>\n",
       "      <td>выше среднего</td>\n",
       "      <td>Средний счёт:1500–1600 ₽</td>\n",
       "      <td>1550.0</td>\n",
       "      <td>NaN</td>\n",
       "      <td>0</td>\n",
       "      <td>4.0</td>\n",
       "      <td>Дыбенко</td>\n",
       "    </tr>\n",
       "    <tr>\n",
       "      <th>2</th>\n",
       "      <td>хазри</td>\n",
       "      <td>кафе</td>\n",
       "      <td>Москва, Клязьминская улица, 15</td>\n",
       "      <td>Северный административный округ</td>\n",
       "      <td>пн-чт 11:00–02:00; пт,сб 11:00–05:00; вс 11:00...</td>\n",
       "      <td>55.889146</td>\n",
       "      <td>37.525901</td>\n",
       "      <td>4.6</td>\n",
       "      <td>средние</td>\n",
       "      <td>Средний счёт:от 1000 ₽</td>\n",
       "      <td>1000.0</td>\n",
       "      <td>NaN</td>\n",
       "      <td>0</td>\n",
       "      <td>45.0</td>\n",
       "      <td>Клязьминская</td>\n",
       "    </tr>\n",
       "    <tr>\n",
       "      <th>3</th>\n",
       "      <td>dormouse coffee shop</td>\n",
       "      <td>кофейня</td>\n",
       "      <td>Москва, улица Маршала Федоренко, 12</td>\n",
       "      <td>Северный административный округ</td>\n",
       "      <td>ежедневно, 09:00–22:00</td>\n",
       "      <td>55.881608</td>\n",
       "      <td>37.488860</td>\n",
       "      <td>5.0</td>\n",
       "      <td>NaN</td>\n",
       "      <td>Цена чашки капучино:155–185 ₽</td>\n",
       "      <td>NaN</td>\n",
       "      <td>170.0</td>\n",
       "      <td>0</td>\n",
       "      <td>NaN</td>\n",
       "      <td>Маршала Федоренко</td>\n",
       "    </tr>\n",
       "    <tr>\n",
       "      <th>4</th>\n",
       "      <td>иль марко</td>\n",
       "      <td>пиццерия</td>\n",
       "      <td>Москва, Правобережная улица, 1Б</td>\n",
       "      <td>Северный административный округ</td>\n",
       "      <td>ежедневно, 10:00–22:00</td>\n",
       "      <td>55.881166</td>\n",
       "      <td>37.449357</td>\n",
       "      <td>5.0</td>\n",
       "      <td>средние</td>\n",
       "      <td>Средний счёт:400–600 ₽</td>\n",
       "      <td>500.0</td>\n",
       "      <td>NaN</td>\n",
       "      <td>1</td>\n",
       "      <td>148.0</td>\n",
       "      <td>Правобережная</td>\n",
       "    </tr>\n",
       "  </tbody>\n",
       "</table>\n",
       "</div>"
      ],
      "text/plain": [
       "                   name  category                              address  \\\n",
       "0                wowфли      кафе           Москва, улица Дыбенко, 7/1   \n",
       "1        четыре комнаты  ресторан   Москва, улица Дыбенко, 36, корп. 1   \n",
       "2                 хазри      кафе       Москва, Клязьминская улица, 15   \n",
       "3  dormouse coffee shop   кофейня  Москва, улица Маршала Федоренко, 12   \n",
       "4             иль марко  пиццерия      Москва, Правобережная улица, 1Б   \n",
       "\n",
       "                          district  \\\n",
       "0  Северный административный округ   \n",
       "1  Северный административный округ   \n",
       "2  Северный административный округ   \n",
       "3  Северный административный округ   \n",
       "4  Северный административный округ   \n",
       "\n",
       "                                               hours        lat        lng  \\\n",
       "0                             ежедневно, 10:00–22:00  55.878494  37.478860   \n",
       "1                             ежедневно, 10:00–22:00  55.875801  37.484479   \n",
       "2  пн-чт 11:00–02:00; пт,сб 11:00–05:00; вс 11:00...  55.889146  37.525901   \n",
       "3                             ежедневно, 09:00–22:00  55.881608  37.488860   \n",
       "4                             ежедневно, 10:00–22:00  55.881166  37.449357   \n",
       "\n",
       "   rating          price                       avg_bill  middle_avg_bill  \\\n",
       "0     5.0            NaN                            NaN              NaN   \n",
       "1     4.5  выше среднего       Средний счёт:1500–1600 ₽           1550.0   \n",
       "2     4.6        средние         Средний счёт:от 1000 ₽           1000.0   \n",
       "3     5.0            NaN  Цена чашки капучино:155–185 ₽              NaN   \n",
       "4     5.0        средние         Средний счёт:400–600 ₽            500.0   \n",
       "\n",
       "   middle_coffee_cup  chain  seats             street  \n",
       "0                NaN      0    NaN            Дыбенко  \n",
       "1                NaN      0    4.0            Дыбенко  \n",
       "2                NaN      0   45.0       Клязьминская  \n",
       "3              170.0      0    NaN  Маршала Федоренко  \n",
       "4                NaN      1  148.0      Правобережная  "
      ]
     },
     "execution_count": 22,
     "metadata": {},
     "output_type": "execute_result"
    }
   ],
   "source": [
    "data['street'] = (\n",
    "        data['address'].str.split('Москва,', expand=True).loc[:, 1]\n",
    "        .str.split(',', n=1, expand=True).loc[:, 0]\n",
    "        .apply(lambda x: x if 'улица' in x else None)\n",
    "        .str.replace(' улица ', '').str.replace('улица ', '').str.replace(' улица', '')\n",
    "    )\n",
    "data.head()"
   ]
  },
  {
   "cell_type": "markdown",
   "id": "8c0a463c",
   "metadata": {},
   "source": [
    "Let's add a column indicating that the establishment is open 24/7 if its opening hours = *daily, around the clock*."
   ]
  },
  {
   "cell_type": "code",
   "execution_count": 23,
   "id": "9a750a67",
   "metadata": {},
   "outputs": [
    {
     "data": {
      "text/html": [
       "<div>\n",
       "<style scoped>\n",
       "    .dataframe tbody tr th:only-of-type {\n",
       "        vertical-align: middle;\n",
       "    }\n",
       "\n",
       "    .dataframe tbody tr th {\n",
       "        vertical-align: top;\n",
       "    }\n",
       "\n",
       "    .dataframe thead th {\n",
       "        text-align: right;\n",
       "    }\n",
       "</style>\n",
       "<table border=\"1\" class=\"dataframe\">\n",
       "  <thead>\n",
       "    <tr style=\"text-align: right;\">\n",
       "      <th></th>\n",
       "      <th>name</th>\n",
       "      <th>category</th>\n",
       "      <th>address</th>\n",
       "      <th>district</th>\n",
       "      <th>hours</th>\n",
       "      <th>lat</th>\n",
       "      <th>lng</th>\n",
       "      <th>rating</th>\n",
       "      <th>price</th>\n",
       "      <th>avg_bill</th>\n",
       "      <th>middle_avg_bill</th>\n",
       "      <th>middle_coffee_cup</th>\n",
       "      <th>chain</th>\n",
       "      <th>seats</th>\n",
       "      <th>street</th>\n",
       "      <th>is_24/7</th>\n",
       "    </tr>\n",
       "  </thead>\n",
       "  <tbody>\n",
       "    <tr>\n",
       "      <th>0</th>\n",
       "      <td>wowфли</td>\n",
       "      <td>кафе</td>\n",
       "      <td>Москва, улица Дыбенко, 7/1</td>\n",
       "      <td>Северный административный округ</td>\n",
       "      <td>ежедневно, 10:00–22:00</td>\n",
       "      <td>55.878494</td>\n",
       "      <td>37.478860</td>\n",
       "      <td>5.0</td>\n",
       "      <td>NaN</td>\n",
       "      <td>NaN</td>\n",
       "      <td>NaN</td>\n",
       "      <td>NaN</td>\n",
       "      <td>0</td>\n",
       "      <td>NaN</td>\n",
       "      <td>Дыбенко</td>\n",
       "      <td>False</td>\n",
       "    </tr>\n",
       "    <tr>\n",
       "      <th>1</th>\n",
       "      <td>четыре комнаты</td>\n",
       "      <td>ресторан</td>\n",
       "      <td>Москва, улица Дыбенко, 36, корп. 1</td>\n",
       "      <td>Северный административный округ</td>\n",
       "      <td>ежедневно, 10:00–22:00</td>\n",
       "      <td>55.875801</td>\n",
       "      <td>37.484479</td>\n",
       "      <td>4.5</td>\n",
       "      <td>выше среднего</td>\n",
       "      <td>Средний счёт:1500–1600 ₽</td>\n",
       "      <td>1550.0</td>\n",
       "      <td>NaN</td>\n",
       "      <td>0</td>\n",
       "      <td>4.0</td>\n",
       "      <td>Дыбенко</td>\n",
       "      <td>False</td>\n",
       "    </tr>\n",
       "    <tr>\n",
       "      <th>2</th>\n",
       "      <td>хазри</td>\n",
       "      <td>кафе</td>\n",
       "      <td>Москва, Клязьминская улица, 15</td>\n",
       "      <td>Северный административный округ</td>\n",
       "      <td>пн-чт 11:00–02:00; пт,сб 11:00–05:00; вс 11:00...</td>\n",
       "      <td>55.889146</td>\n",
       "      <td>37.525901</td>\n",
       "      <td>4.6</td>\n",
       "      <td>средние</td>\n",
       "      <td>Средний счёт:от 1000 ₽</td>\n",
       "      <td>1000.0</td>\n",
       "      <td>NaN</td>\n",
       "      <td>0</td>\n",
       "      <td>45.0</td>\n",
       "      <td>Клязьминская</td>\n",
       "      <td>False</td>\n",
       "    </tr>\n",
       "    <tr>\n",
       "      <th>3</th>\n",
       "      <td>dormouse coffee shop</td>\n",
       "      <td>кофейня</td>\n",
       "      <td>Москва, улица Маршала Федоренко, 12</td>\n",
       "      <td>Северный административный округ</td>\n",
       "      <td>ежедневно, 09:00–22:00</td>\n",
       "      <td>55.881608</td>\n",
       "      <td>37.488860</td>\n",
       "      <td>5.0</td>\n",
       "      <td>NaN</td>\n",
       "      <td>Цена чашки капучино:155–185 ₽</td>\n",
       "      <td>NaN</td>\n",
       "      <td>170.0</td>\n",
       "      <td>0</td>\n",
       "      <td>NaN</td>\n",
       "      <td>Маршала Федоренко</td>\n",
       "      <td>False</td>\n",
       "    </tr>\n",
       "    <tr>\n",
       "      <th>4</th>\n",
       "      <td>иль марко</td>\n",
       "      <td>пиццерия</td>\n",
       "      <td>Москва, Правобережная улица, 1Б</td>\n",
       "      <td>Северный административный округ</td>\n",
       "      <td>ежедневно, 10:00–22:00</td>\n",
       "      <td>55.881166</td>\n",
       "      <td>37.449357</td>\n",
       "      <td>5.0</td>\n",
       "      <td>средние</td>\n",
       "      <td>Средний счёт:400–600 ₽</td>\n",
       "      <td>500.0</td>\n",
       "      <td>NaN</td>\n",
       "      <td>1</td>\n",
       "      <td>148.0</td>\n",
       "      <td>Правобережная</td>\n",
       "      <td>False</td>\n",
       "    </tr>\n",
       "  </tbody>\n",
       "</table>\n",
       "</div>"
      ],
      "text/plain": [
       "                   name  category                              address  \\\n",
       "0                wowфли      кафе           Москва, улица Дыбенко, 7/1   \n",
       "1        четыре комнаты  ресторан   Москва, улица Дыбенко, 36, корп. 1   \n",
       "2                 хазри      кафе       Москва, Клязьминская улица, 15   \n",
       "3  dormouse coffee shop   кофейня  Москва, улица Маршала Федоренко, 12   \n",
       "4             иль марко  пиццерия      Москва, Правобережная улица, 1Б   \n",
       "\n",
       "                          district  \\\n",
       "0  Северный административный округ   \n",
       "1  Северный административный округ   \n",
       "2  Северный административный округ   \n",
       "3  Северный административный округ   \n",
       "4  Северный административный округ   \n",
       "\n",
       "                                               hours        lat        lng  \\\n",
       "0                             ежедневно, 10:00–22:00  55.878494  37.478860   \n",
       "1                             ежедневно, 10:00–22:00  55.875801  37.484479   \n",
       "2  пн-чт 11:00–02:00; пт,сб 11:00–05:00; вс 11:00...  55.889146  37.525901   \n",
       "3                             ежедневно, 09:00–22:00  55.881608  37.488860   \n",
       "4                             ежедневно, 10:00–22:00  55.881166  37.449357   \n",
       "\n",
       "   rating          price                       avg_bill  middle_avg_bill  \\\n",
       "0     5.0            NaN                            NaN              NaN   \n",
       "1     4.5  выше среднего       Средний счёт:1500–1600 ₽           1550.0   \n",
       "2     4.6        средние         Средний счёт:от 1000 ₽           1000.0   \n",
       "3     5.0            NaN  Цена чашки капучино:155–185 ₽              NaN   \n",
       "4     5.0        средние         Средний счёт:400–600 ₽            500.0   \n",
       "\n",
       "   middle_coffee_cup  chain  seats             street  is_24/7  \n",
       "0                NaN      0    NaN            Дыбенко    False  \n",
       "1                NaN      0    4.0            Дыбенко    False  \n",
       "2                NaN      0   45.0       Клязьминская    False  \n",
       "3              170.0      0    NaN  Маршала Федоренко    False  \n",
       "4                NaN      1  148.0      Правобережная    False  "
      ]
     },
     "execution_count": 23,
     "metadata": {},
     "output_type": "execute_result"
    }
   ],
   "source": [
    "data['is_24/7'] = False\n",
    "data.loc[data['hours'] == 'ежедневно, круглосуточно', 'is_24/7'] = True\n",
    "data.head()"
   ]
  },
  {
   "cell_type": "code",
   "execution_count": 24,
   "id": "ccfc0221",
   "metadata": {},
   "outputs": [
    {
     "data": {
      "text/plain": [
       "'Has been deleted 244 establishments from the data, this is 2.9%'"
      ]
     },
     "execution_count": 24,
     "metadata": {},
     "output_type": "execute_result"
    }
   ],
   "source": [
    "f'Has been deleted {8406 - len(data)} establishments from the data, this is {round(100 - (len(data) * 100 / 8406), 2)}%'"
   ]
  },
  {
   "cell_type": "markdown",
   "id": "417556b2",
   "metadata": {},
   "source": [
    "### Mini-output"
   ]
  },
  {
   "cell_type": "markdown",
   "id": "0d61e985",
   "metadata": {},
   "source": [
    "Data were received with gaps and anomalous values in the data.\n",
    "\n",
    "In the process of data preprocessing, the following was done:\n",
    "- implicit duplicates were found and removed;\n",
    "- anomalous values were removed from the data (9 establishments);\n",
    "- establishments about which most information was not available were removed;\n",
    "- added 2 columns, the street of the establishment and an indicator whether the establishment is open 24/7.\n",
    "\n",
    "During data preprocessing, 2.9% of the original data was removed."
   ]
  },
  {
   "cell_type": "markdown",
   "id": "5a50ece6",
   "metadata": {},
   "source": [
    "## Data analysis"
   ]
  },
  {
   "cell_type": "markdown",
   "id": "3a2f2443",
   "metadata": {},
   "source": [
    "### Research of different types of establishments"
   ]
  },
  {
   "cell_type": "markdown",
   "id": "27d5751e",
   "metadata": {},
   "source": [
    "Let's consider what types of establishments are represented in our data and what is the distribution of establishments by category."
   ]
  },
  {
   "cell_type": "code",
   "execution_count": 25,
   "id": "66d2c887",
   "metadata": {},
   "outputs": [
    {
     "data": {
      "text/plain": [
       "<Axes: title={'center': 'Distribution of establishments by category'}, xlabel='Category', ylabel='Number of establishments'>"
      ]
     },
     "execution_count": 25,
     "metadata": {},
     "output_type": "execute_result"
    },
    {
     "data": {
      "image/png": "[encoded data removed]",
      "text/plain": [
       "<Figure size 504x360 with 1 Axes>"
      ]
     },
     "metadata": {
      "needs_background": "light"
     },
     "output_type": "display_data"
    }
   ],
   "source": [
    "(\n",
    "    data['category'].value_counts().sort_values(ascending=False)\n",
    "    .plot(kind='bar', grid=True, figsize=(7, 5), color='#a0ea83',\n",
    "         xlabel='Category', ylabel='Number of establishments',\n",
    "         title='Distribution of establishments by category')\n",
    ")"
   ]
  },
  {
   "cell_type": "markdown",
   "id": "8487f2d0",
   "metadata": {},
   "source": [
    "The most information in the data is about cafes, restaurants and coffee shops, in each category there are from 1000 establishments in our dataset, the least information is about canteens and bakeries, for each category there are less than 400 establishments.\n",
    "\n",
    "Let's consider how many seats there are in different types of establishments, let's take the median value, since the data also contains information about food courts, which have a lot of seats, but they do not relate to a specific establishment."
   ]
  },
  {
   "cell_type": "code",
   "execution_count": 26,
   "id": "079e1444",
   "metadata": {},
   "outputs": [
    {
     "data": {
      "text/plain": [
       "Text(0, 0.5, 'Number of seats')"
      ]
     },
     "execution_count": 26,
     "metadata": {},
     "output_type": "execute_result"
    },
    {
     "data": {
      "image/png": "[encoded data removed]",
      "text/plain": [
       "<Figure size 1080x720 with 2 Axes>"
      ]
     },
     "metadata": {
      "needs_background": "light"
     },
     "output_type": "display_data"
    }
   ],
   "source": [
    "plt.figure(figsize=(15, 10))\n",
    "ax1 = plt.subplot(2, 1, 1)\n",
    "ax2 = plt.subplot(2, 1, 2)\n",
    "ax2.set_ylim(0, 350)\n",
    "sns.boxplot(\n",
    "    data=data,\n",
    "    y='seats', x='category',\n",
    "    ax=ax1\n",
    ")\n",
    "sns.boxplot(\n",
    "    data=data,\n",
    "    y='seats', x='category',\n",
    "    ax=ax2\n",
    ")\n",
    "ax1.set_title('Boxplot of the number of seats for various categories of establishments')\n",
    "ax2.set_title('Boxplot of the number of seats for various categories of establishments with restrictions')\n",
    "ax1.set_xlabel('Category')\n",
    "ax1.set_ylabel('Number of seats')\n",
    "ax2.set_xlabel('Category')\n",
    "ax2.set_ylabel('Number of seats')"
   ]
  },
  {
   "cell_type": "markdown",
   "id": "1b624b09",
   "metadata": {},
   "source": [
    "Most seating is in restaurants, bars, pubs and coffee shops; the least in pizzerias, canteens and bakeries.\n",
    "\n",
    "Let's consider how many chain and non-chain establishments there are."
   ]
  },
  {
   "cell_type": "code",
   "execution_count": 27,
   "id": "3ea08b28",
   "metadata": {},
   "outputs": [
    {
     "ename": "SyntaxError",
     "evalue": "EOL while scanning string literal (3416222527.py, line 5)",
     "output_type": "error",
     "traceback": [
      "\u001b[1;36m  Cell \u001b[1;32mIn[27], line 5\u001b[1;36m\u001b[0m\n\u001b[1;33m    ylabel='Number of establishments\u001b[0m\n\u001b[1;37m                                    ^\u001b[0m\n\u001b[1;31mSyntaxError\u001b[0m\u001b[1;31m:\u001b[0m EOL while scanning string literal\n"
     ]
    }
   ],
   "source": [
    "(\n",
    "    data['chain'].value_counts()\n",
    "    .plot(kind='bar', grid=True, color='#a0ea83',\n",
    "         xlabel='Institution indicator\\n0 - non-chain\\n1 - chain',\n",
    "         ylabel='Number of establishments\n",
    "         title='Number of chain and non-chain establishments')\n",
    ")\n",
    "plt.xticks(rotation=360)\n",
    "plt.show()"
   ]
  },
  {
   "cell_type": "markdown",
   "id": "24ae9f0b",
   "metadata": {},
   "source": [
    "According to the received schedule, we can say that there are no longer chain establishments in the city of Moscow.\n",
    "\n",
    "Let's consider which types of establishments can most often be classified as chain establishments and which are not."
   ]
  },
  {
   "cell_type": "code",
   "execution_count": null,
   "id": "d249251f",
   "metadata": {},
   "outputs": [],
   "source": [
    "category_chain_table = data.pivot_table(index='category', columns='chain', values='name', aggfunc='count')\n",
    "category_chain_table"
   ]
  },
  {
   "cell_type": "code",
   "execution_count": null,
   "id": "c920f427",
   "metadata": {},
   "outputs": [],
   "source": [
    "category_chain_table.plot(kind='bar', figsize=(8, 5), grid=True, color=['#67a94d', 'black'],\n",
    "                         xlabel='Category', ylabel='Number of establishments',\n",
    "                         title='Graph of the number of establishments of different types, related to chain or non-chain establishments')\n",
    "plt.legend(['Non-chain', 'Chain'])"
   ]
  },
  {
   "cell_type": "markdown",
   "id": "e2ecf549",
   "metadata": {},
   "source": [
    "Based on the resulting graph, we can conclude that most chain establishments are bakeries, coffee shops and pizzerias. This situation arises because buns, coffee, pizza are fast food, which is easier to create under the network, with already proven recipes, etc.\n",
    "\n",
    "Bars, pubs, cafes and restaurants are much less likely to be chained. Since these are more individual establishments, they are different.\n",
    "\n",
    "We will find the most popular chains of establishments in Moscow."
   ]
  },
  {
   "cell_type": "code",
   "execution_count": null,
   "id": "23cf88ad",
   "metadata": {},
   "outputs": [],
   "source": [
    "top_15 = data[['name', 'category']].value_counts()[:15].reset_index()\n",
    "top_15.columns = ['name', 'category', 'count']\n",
    "top_15"
   ]
  },
  {
   "cell_type": "code",
   "execution_count": null,
   "id": "2a90ffb1",
   "metadata": {
    "scrolled": true
   },
   "outputs": [],
   "source": [
    "top_15.plot(kind='bar', x='name', y='count', figsize=(10, 5), legend=False, color='#a0ea83',\n",
    "           xlabel='Network name', ylabel='Number of restaurants in the network',\n",
    "           title='Top 15 networks in Moscow')\n",
    "plt.xticks(rotation=80)\n",
    "plt.show()"
   ]
  },
  {
   "cell_type": "markdown",
   "id": "1740fcd7",
   "metadata": {},
   "source": [
    "From the tables and graphs obtained above, you can see that in Moscow the most popular chain is **Shokoladnitsa**. The graphs also contain other popular chains of various establishments that are familiar to many, but besides them, the data also contains strange chains, such as *Cafe*, *Restaurant*, *Shaurma*, perhaps this is some kind of incorrect data filling or some cafes and restaurants that do not have a name, for example, many shawarma shops do not have a name and simply say - Shawarma.\n",
    "\n",
    "It is also strange that Yandex.Lavka made it to the Top under the restaurant category, since it is not a direct restaurant, but more like a store with groceries, prepared food, and something similar.\n",
    "\n",
    "Also, the top mainly included establishments with a low average bill.\n",
    "\n",
    "The top 15 chains in Moscow include establishments of various categories: restaurants, cafes, coffee shops, bakeries, fast food establishments, pizzerias. Types of establishments such as bars, pubs and canteens were not included."
   ]
  },
  {
   "cell_type": "markdown",
   "id": "13583e7d",
   "metadata": {},
   "source": [
    "#### Mini-output"
   ]
  },
  {
   "cell_type": "markdown",
   "id": "d908da61",
   "metadata": {},
   "source": [
    "<a id=\"reserch_type\"></a> \n",
    "The data contains information on the following types of establishments:\n",
    "- cafe,\n",
    "- restaurant,\n",
    "- coffee house,\n",
    "- pizzeria,\n",
    "- bar, pub,\n",
    "- fast food,\n",
    "- bakery,\n",
    "- dining room.\n",
    "\n",
    "Most of the information in the data is about cafes, restaurants and coffee shops.\n",
    "\n",
    "On average, there are more seats in restaurants, bars, pubs and coffee shops.\n",
    "\n",
    "In the data, most of the establishments do not belong to any chain of establishments, since the majority of restaurants and cafes are individual products.\n",
    "\n",
    "Of the various categories of catering, establishments belonging to a chain rather than independent ones are mostly among cafes, pizzerias and bakeries. And there are more independent establishments among restaurants, cafes, bars, and pubs.\n",
    "\n",
    "The top 15 establishments in Moscow include:\n",
    "1. Chocolate girl;\n",
    "2. Cafe;\n",
    "3. Domino's Pizza;\n",
    "4. Dodo Pizza;\n",
    "5. One Price Coffee;\n",
    "6. Yandex Shop;\n",
    "7.Cofix;\n",
    "8.Prime;\n",
    "9. COFFEE PORT;\n",
    "10. Culinary shop of the Karavaev brothers;\n",
    "11. Teremok;\n",
    "12. Shawarma;\n",
    "13. CofeFest;\n",
    "14. Restaurant;\n",
    "15. Loaf.\n",
    "\n",
    "These establishments belong to various types of catering, but canteens, bars and pubs are not among them.\n",
    "\n",
    "Also, these establishments do not have a high average bill.\n",
    "\n",
    "The top 3 establishments in Moscow are a coffee shop, a cafe and a pizzeria."
   ]
  },
  {
   "cell_type": "markdown",
   "id": "91f41839",
   "metadata": {},
   "source": [
    "### Exploring the districts and streets of Moscow"
   ]
  },
  {
   "cell_type": "markdown",
   "id": "a490062b",
   "metadata": {},
   "source": [
    "#### Districts of Moscow"
   ]
  },
  {
   "cell_type": "markdown",
   "id": "b43c5742",
   "metadata": {},
   "source": [
    "Let's study which districts are present in the dataset, and also study how many and what kind of establishments exist in each district."
   ]
  },
  {
   "cell_type": "code",
   "execution_count": null,
   "id": "34dbeff8",
   "metadata": {},
   "outputs": [],
   "source": [
    "categroy_for_district = data.pivot_table(index='district', columns='category', values='name', aggfunc='count')\n",
    "categroy_for_district['total'] = categroy_for_district.sum(axis=1)\n",
    "categroy_for_district.sort_values(by='total', inplace=True)\n",
    "categroy_for_district.drop(columns='total', inplace=True)"
   ]
  },
  {
   "cell_type": "code",
   "execution_count": null,
   "id": "b508c9c6",
   "metadata": {},
   "outputs": [],
   "source": [
    "(\n",
    "    categroy_for_district\n",
    "    .plot(kind='barh', figsize=(6, 15),\n",
    "         xlabel='Number of establishments', ylabel='Area',\n",
    "         title='Number of different establishments in different districts of Moscow')\n",
    ")\n",
    "plt.show()"
   ]
  },
  {
   "cell_type": "markdown",
   "id": "6ed2a934",
   "metadata": {},
   "source": [
    "The resulting graph shows that the dataset contains 9 different districts of Moscow.\n",
    "\n",
    "It can be concluded that:\n",
    "- the central district has the most establishments;\n",
    "- the fewest establishments are in the northwestern district;\n",
    "- the central district has the most restaurants, both among establishments within the district and among all of Moscow;\n",
    "- inside other areas there are either more cafes, or approximately the same number of cafes and restaurants;\n",
    "- the least number of bakeries in each area.\n",
    "\n",
    "Let's consider the distribution of establishment ratings among different types of catering."
   ]
  },
  {
   "cell_type": "code",
   "execution_count": null,
   "id": "4ff9bedb",
   "metadata": {
    "scrolled": true
   },
   "outputs": [],
   "source": [
    "plt.figure(figsize=(15, 5))\n",
    "sns.boxplot(data=data, y='rating', x='category')\n",
    "plt.title('Boxplot of ratings for various categories of establishments')\n",
    "plt.xlabel('Category')\n",
    "plt.ylabel('Rating')"
   ]
  },
  {
   "cell_type": "markdown",
   "id": "e07eecf0",
   "metadata": {},
   "source": [
    "According to the resulting graph, we can say that on average, bars and pubs have the best ratings, restaurants are in second place, and fast food establishments and cafes have the worst ratings.\n",
    "\n",
    "Let's build a background cartogram with the average rating of establishments for each district."
   ]
  },
  {
   "cell_type": "code",
   "execution_count": null,
   "id": "d1112711",
   "metadata": {},
   "outputs": [],
   "source": [
    "# create a dataset with the average rating of establishments by district\n",
    "rating_df = data.groupby('district', as_index=False)['rating'].mean()\n",
    "\n",
    "# moscow_lat - latitude of the center of Moscow, moscow_lng - longitude of the center of Moscow\n",
    "moscow_lat, moscow_lng = 55.751244, 37.618423\n",
    "\n",
    "# creating a map of Moscow\n",
    "m = Map(location=[moscow_lat, moscow_lng], zoom_start=10, tiles='Cartodb Positron')\n",
    "\n",
    "# create a choropleth using the Choropleth constructor and add it to the map\n",
    "try:\n",
    "    with open('.\\\\datasets\\\\admin_level_geomap.geojson', 'r', encoding='utf-8') as f:\n",
    "        geo_json = json.load(f)\n",
    "except:\n",
    "    with open('/datasets/admin_level_geomap.geojson', 'r', encoding='utf-8') as f:\n",
    "        geo_json = json.load(f)\n",
    "    \n",
    "Choropleth(\n",
    "    geo_data=geo_json,\n",
    "    data=rating_df,\n",
    "    columns=['district', 'rating'],\n",
    "    key_on='feature.name',\n",
    "    fill_color='YlGn',\n",
    "    fill_opacity=0.8,\n",
    "    legend_name='Average rating of establishments by region'\n",
    ").add_to(m)\n",
    "\n",
    "m"
   ]
  },
  {
   "cell_type": "markdown",
   "id": "0c8f9d3d",
   "metadata": {},
   "source": [
    "Based on the resulting choropleth, you can see that on average the establishments with the best ratings are located in the Central District and the Northern District, the areas with the lowest ratings on average are the North-Eastern and South-Eastern districts.\n",
    "\n",
    "Let's also add markers with establishments to the map."
   ]
  },
  {
   "cell_type": "code",
   "execution_count": null,
   "id": "76e84369",
   "metadata": {},
   "outputs": [],
   "source": [
    "# create an empty cluster and add it to the map\n",
    "marker_cluster = MarkerCluster().add_to(m)\n",
    "\n",
    "# write a function that takes a dataframe string,\n",
    "# creates a marker at the current point and adds it to the marker_cluster cluster\n",
    "def create_clusters(row):\n",
    "    Marker(\n",
    "        [row['lat'], row['lng']],\n",
    "        popup=f\"{row['name']} {row['rating']}\",\n",
    "    ).add_to(marker_cluster)\n",
    "    \n",
    "# apply the create_clusters() function to each row of the dataframe\n",
    "data.apply(create_clusters, axis=1)\n",
    "\n",
    "m"
   ]
  },
  {
   "cell_type": "markdown",
   "id": "878d4325",
   "metadata": {},
   "source": [
    "You can see that in the center of Moscow there is a huge concentration of various establishments, which is confirmed in the graphs above.\n",
    "\n",
    "The large concentration of various institutions in the center of Moscow is due to the fact that the center is filled with various tourist places, business centers, educational institutions, there is a huge flow of people, not including residents of the center of Moscow."
   ]
  },
  {
   "cell_type": "markdown",
   "id": "38e10e11",
   "metadata": {},
   "source": [
    "#### Streets of Moscow"
   ]
  },
  {
   "cell_type": "markdown",
   "id": "acb3afca",
   "metadata": {},
   "source": [
    "Let's find the most densely populated streets in Moscow, top 15."
   ]
  },
  {
   "cell_type": "code",
   "execution_count": null,
   "id": "d5c9ad44",
   "metadata": {},
   "outputs": [],
   "source": [
    "inf_streets = data.pivot_table(index=['street'], columns='category', values='name', aggfunc='count')\n",
    "inf_streets['total'] = inf_streets.sum(axis=1)\n",
    "top_15_street = inf_streets.sort_values(by='total', ascending=False)[:15]\n",
    "top_15_street.sort_values(by='total', ascending=True, inplace=True)"
   ]
  },
  {
   "cell_type": "code",
   "execution_count": null,
   "id": "791da716",
   "metadata": {},
   "outputs": [],
   "source": [
    "(\n",
    "    top_15_street.drop(columns=['total'])\n",
    "    .plot(kind='barh', figsize=(6, 15),\n",
    "         xlabel='Number of establishments', ylabel='Street',\n",
    "         title='Number of different establishments on different streets of Moscow')\n",
    ")\n",
    "plt.xticks(rotation=80)\n",
    "plt.show()"
   ]
  },
  {
   "cell_type": "markdown",
   "id": "fa8662b2",
   "metadata": {},
   "source": [
    "The top 15 streets by the number of establishments on them were identified, these are:\n",
    "1. Trade union,\n",
    "2. Lyublinskaya,\n",
    "3. Vavilova,\n",
    "4. Miklouho-Maclay,\n",
    "5. Pyatnitskaya,\n",
    "6. Pokrovka,\n",
    "7. Novodmitrovskaya,\n",
    "8. Yartsevskaya,\n",
    "9. Usacheva,\n",
    "10. Lesnaya,\n",
    "11. Novoslobodskaya,\n",
    "12. Arbat,\n",
    "13. Krasnobogatyrskaya,\n",
    "14. Leninskaya Sloboda,\n",
    "15. Zemlyanoy Val.\n",
    "\n",
    "On the top 4 popular streets, mostly cafes are open, on other streets there are more restaurants, except for Novoslobodskaya street, there are more cafes open there.\n",
    "\n",
    "Let's consider streets with 1 object (we will further call them lonely streets)."
   ]
  },
  {
   "cell_type": "code",
   "execution_count": null,
   "id": "84c1b64a",
   "metadata": {
    "scrolled": true
   },
   "outputs": [],
   "source": [
    "alone_street = inf_streets.query('total == 1')\n",
    "alone_street"
   ]
  },
  {
   "cell_type": "markdown",
   "id": "105ab716",
   "metadata": {},
   "source": [
    "There are 211 such streets, let’s look at what objects are mainly located on these streets."
   ]
  },
  {
   "cell_type": "code",
   "execution_count": null,
   "id": "84056d27",
   "metadata": {},
   "outputs": [],
   "source": [
    "(\n",
    "    alone_street\n",
    "    .sum(axis=0).drop(index='total')\n",
    "    .plot(kind='bar', figsize=(7, 5), xlabel='Type of establishment', color='#a0ea83',\n",
    "         ylabel='Number of establishments', title='Number of different establishments on lonely streets')\n",
    ")"
   ]
  },
  {
   "cell_type": "markdown",
   "id": "9db92c07",
   "metadata": {},
   "source": [
    "On these streets there are mainly various cafes and restaurants, well, as in the main dataset, there are more restaurants and cafes. Let's look at the ratio of the number of establishments on lonely streets to the number of establishments in the entire dataset."
   ]
  },
  {
   "cell_type": "code",
   "execution_count": null,
   "id": "14ef0b7f",
   "metadata": {},
   "outputs": [],
   "source": [
    "alone_street_to_data = alone_street.sum(axis=0).drop(index='total') / data['category'].value_counts()\n",
    "(\n",
    "    alone_street_to_data\n",
    "    .plot(kind='bar', figsize=(7, 5), xlabel='Type of establishment', color='#a0ea83',\n",
    "         ylabel='Ratio', title='The ratio of the number of establishments from lonely streets\\nto the number of establishments in all of Moscow')\n",
    ")"
   ]
  },
  {
   "cell_type": "markdown",
   "id": "7f2d3129",
   "metadata": {},
   "source": [
    "When studying the ratio, you can see that lonely streets, in comparison with other streets, have the most canteens."
   ]
  },
  {
   "cell_type": "markdown",
   "id": "379b6599",
   "metadata": {},
   "source": [
    "#### Average bill in different districts of Moscow"
   ]
  },
  {
   "cell_type": "markdown",
   "id": "bd45da93",
   "metadata": {},
   "source": [
    "Let's study Moscow districts based on the average bill."
   ]
  },
  {
   "cell_type": "code",
   "execution_count": null,
   "id": "7b4e465f",
   "metadata": {},
   "outputs": [],
   "source": [
    "median_bill_df = data.groupby('district', as_index=False)['middle_avg_bill'].median()\n",
    "median_bill_df"
   ]
  },
  {
   "cell_type": "code",
   "execution_count": null,
   "id": "3ae76a4a",
   "metadata": {},
   "outputs": [],
   "source": [
    "m = Map(location=[moscow_lat, moscow_lng], zoom_start=10, tiles='Cartodb Positron')\n",
    "\n",
    "Choropleth(\n",
    "    geo_data=geo_json,\n",
    "    data=median_bill_df,\n",
    "    columns=['district', 'middle_avg_bill'],\n",
    "    key_on='feature.name',\n",
    "    fill_color='YlGn',\n",
    "    fill_opacity=0.8,\n",
    "    legend_name='Median check of establishments by district'\n",
    ").add_to(m)\n",
    "\n",
    "m"
   ]
  },
  {
   "cell_type": "markdown",
   "id": "75265e00",
   "metadata": {},
   "source": [
    "Based on the resulting choropleth, you can see that the average check is higher in the Central and Western districts, and in general in the west the average check is higher than in the east of Moscow.\n",
    "\n",
    "It is also worth noting that in the center of Moscow and in the Western part, the cost of rent is higher than in other areas, the center is tourism, the west is Rublevskoye Highway and other expensive locations."
   ]
  },
  {
   "cell_type": "markdown",
   "id": "e1875878",
   "metadata": {},
   "source": [
    "#### Mini-output"
   ]
  },
  {
   "cell_type": "markdown",
   "id": "a4bc7b3f",
   "metadata": {},
   "source": [
    "After the work done to study various districts and streets of Moscow, the following conclusions can be drawn:\n",
    "- the most establishments are in the Central District, and the fewest establishments are in the North-Western District;\n",
    "- the central area has the most restaurants;\n",
    "- in other areas there are more cafes, or approximately the same number of cafes and restaurants;\n",
    "- on average, bars and pubs have the best ratings, while fast food establishments have the worst ratings;\n",
    "- establishments with the best ratings are located in the Central and Northern districts, areas with the lowest ratings are the North-Eastern and South-Eastern districts;\n",
    "- on the top 4 popular streets, mostly cafes are open, on the remaining streets there are more restaurants;\n",
    "- more cafes are open on Novoslobodskaya Street;\n",
    "- on the streets where there is 1 establishment, in comparison with all streets there are the most canteens;\n",
    "- in the west of Moscow the average bill is higher than in the east of Moscow."
   ]
  },
  {
   "cell_type": "markdown",
   "id": "cede7783",
   "metadata": {},
   "source": [
    "### Exploring additional relationships"
   ]
  },
  {
   "cell_type": "markdown",
   "id": "9713ab87",
   "metadata": {},
   "source": [
    "We explore what types of establishments and where they most often operate 24/7."
   ]
  },
  {
   "cell_type": "code",
   "execution_count": null,
   "id": "38f2627d",
   "metadata": {},
   "outputs": [],
   "source": [
    "(\n",
    "    data.pivot_table(index='district', columns='category', values='is_24/7', aggfunc='sum')\n",
    "    .plot(kind='bar', figsize=(15, 6),\n",
    "         xlabel='Area', ylabel='Number of establishments',\n",
    "         title='Number of different establishments 24/7 in different areas of Moscow')\n",
    ")\n",
    "plt.xticks(rotation=80)\n",
    "plt.show()"
   ]
  },
  {
   "cell_type": "markdown",
   "id": "90944e02",
   "metadata": {},
   "source": [
    "In the Central District, there are many different types of establishments that operate around the clock, in other areas there are more 24-hour cafes compared to other types of establishments, and in the South-Eastern District there are especially many 24-hour cafes.\n",
    "\n",
    "Let's study establishments with poor ratings."
   ]
  },
  {
   "cell_type": "code",
   "execution_count": null,
   "id": "353f1d7c",
   "metadata": {},
   "outputs": [],
   "source": [
    "bed_rest = data.query('rating <= 3')\n",
    "rel_bed_to_data = bed_rest.groupby('category')['name'].agg(['count']) / data.groupby('category')['name'].agg(['count'])\n",
    "(\n",
    "    rel_bed_to_data\n",
    "    .plot(kind='bar', legend=False, figsize=(7, 5), color='#a0ea83',\n",
    "         xlabel='Type of establishment', ylabel='Ratio',\n",
    "         title='Ratio of the number of establishments with low ratings to all establishments')\n",
    ")"
   ]
  },
  {
   "cell_type": "markdown",
   "id": "d68e3c09",
   "metadata": {},
   "source": [
    "According to the resulting graph, you can see that in relation to all establishments, the largest number of establishments with poor ratings are among fast food establishments and cafes."
   ]
  },
  {
   "cell_type": "code",
   "execution_count": null,
   "id": "74cd76e9",
   "metadata": {},
   "outputs": [],
   "source": [
    "(\n",
    "    bed_rest['middle_avg_bill']\n",
    "    .plot(kind='hist', bins=20, figsize=(7, 5), color='#a0ea83',\n",
    "         xlabel='Average bill', ylabel='',\n",
    "         title='Distribution of the average check in establishments with a bad rating')\n",
    ")"
   ]
  },
  {
   "cell_type": "markdown",
   "id": "e8d0a010",
   "metadata": {},
   "source": [
    "According to the resulting graph, you can see that establishments with a bad rating most often have a low average check; there are also establishments with a high average check, but there are only a few of them, which is normal."
   ]
  },
  {
   "cell_type": "markdown",
   "id": "343a60cf",
   "metadata": {},
   "source": [
    "#### Mini-output"
   ]
  },
  {
   "cell_type": "markdown",
   "id": "09db98fb",
   "metadata": {},
   "source": [
    "When examining additional relationships, the following conclusions were revealed:\n",
    "- in the Central region, regardless of what type of catering, establishments often work around the clock and every day, most likely due to the fact that this is the capital, the center, there are many tourist places and in such places it may be profitable for establishments to work around the clock;\n",
    "- in all areas, cafes are most often open around the clock;\n",
    "- fast food establishments most often have poor ratings;\n",
    "- establishments with a low rating most often have a low average bill."
   ]
  },
  {
   "cell_type": "markdown",
   "id": "8305df3b",
   "metadata": {},
   "source": [
    "### Conclusion"
   ]
  },
  {
   "cell_type": "markdown",
   "id": "4e773541",
   "metadata": {},
   "source": [
    "After the analysis, you can come to the following conclusions =>\n",
    "\n",
    "The types of establishments that are the most popular (by number of establishments) in Moscow and which on average have the largest number of seats are restaurants and coffee shops.\n",
    "\n",
    "Most of the establishments in Moscow do not belong to any chain of establishments.\n",
    "\n",
    "Cafes, pizzerias and bakeries most often belong to a chain. There are more independent establishments among restaurants, cafes, bars, and pubs.\n",
    "\n",
    "The list of TOP 15 establishments can be found [here](#reserch_type). Of these, the TOP 3 establishments are a coffee shop, a cafe and a pizzeria.\n",
    "\n",
    "Having studied the various districts and streets of Moscow, you can identify areas where it would be best to open an establishment, based on the following facts:\n",
    "- there are the fewest establishments in the North-Western District, there is an opportunity to enter the market of this area;\n",
    "- in all areas except Central, there are many cafes and restaurants;\n",
    "- areas with the best ratings for establishments - Central District and Northern Districts;\n",
    "- the highest average checks are in the Central and Western parts of Moscow;\n",
    "- the most densely populated streets with establishments are located in the Central and Southern parts of Moscow.\n",
    "\n",
    "Having also examined additional relationships in the data, it was revealed that:\n",
    "- fast food establishments most often have poor ratings;\n",
    "- establishments with a low rating most often have a low average bill (cheap);\n",
    "- in the center of Moscow, various types of establishments operate around the clock, while in other areas, mainly cafes operate around the clock.\n",
    "\n",
    "Based on all the facts above, you can come to the conclusion that you can open a cafe or restaurant, since there are a lot of cafes on the market. I recommend looking more towards the cafe, since the coffee shop is one of the top 1 establishments in Moscow.\n",
    "\n",
    "And take a closer look at the North-Western district of Moscow, the market there is not oversaturated, establishments in this area have a good rating and a good average bill."
   ]
  },
  {
   "cell_type": "markdown",
   "id": "43b8776c",
   "metadata": {},
   "source": [
    "## Detailing the study: opening a coffee shop"
   ]
  },
  {
   "cell_type": "markdown",
   "id": "0d7a08b0",
   "metadata": {},
   "source": [
    "Let's look at the data on coffee shops."
   ]
  },
  {
   "cell_type": "code",
   "execution_count": null,
   "id": "2e3de8d5",
   "metadata": {},
   "outputs": [],
   "source": [
    "coffee_shop = data.query('category == \"кофейня\"')\n",
    "coffee_shop.info()"
   ]
  },
  {
   "cell_type": "markdown",
   "id": "0005ae1f",
   "metadata": {},
   "source": [
    "The dataset contains information about 1402 coffee shops.\n",
    "\n",
    "Let's look at how the number of coffee shops is distributed across districts."
   ]
  },
  {
   "cell_type": "code",
   "execution_count": null,
   "id": "58d29a93",
   "metadata": {},
   "outputs": [],
   "source": [
    "coffee_shop_district = coffee_shop.groupby('district').agg({'name': 'count'})\n",
    "coffee_shop_district.columns = ['count_coffee']\n",
    "coffee_shop_district = coffee_shop_district.join(data.groupby('district').agg({'name': 'count'}))\n",
    "coffee_shop_district.columns = ['count_coffee', 'count_all']\n",
    "coffee_shop_district = coffee_shop_district.reset_index()\n",
    "coffee_shop_district['relation_coffee_to_all'] = coffee_shop_district['count_coffee'] / coffee_shop_district['count_all']\n",
    "coffee_shop_district"
   ]
  },
  {
   "cell_type": "code",
   "execution_count": null,
   "id": "1f5fbe80",
   "metadata": {
    "scrolled": true
   },
   "outputs": [],
   "source": [
    "m = Map(location=[moscow_lat, moscow_lng], zoom_start=10, tiles='Cartodb Positron')\n",
    "\n",
    "Choropleth(\n",
    "    geo_data=geo_json,\n",
    "    data=coffee_shop_district,\n",
    "    columns=['district', 'count_coffee'],\n",
    "    key_on='feature.name',\n",
    "    fill_color='YlGn',\n",
    "    fill_opacity=0.8,\n",
    "    legend_name='Number of establishments by district'\n",
    ").add_to(m)\n",
    "\n",
    "m"
   ]
  },
  {
   "cell_type": "markdown",
   "id": "2ee0e687",
   "metadata": {},
   "source": [
    "Let's also consider the ratio of coffee shops to all establishments for each district."
   ]
  },
  {
   "cell_type": "code",
   "execution_count": null,
   "id": "006d2388",
   "metadata": {},
   "outputs": [],
   "source": [
    "m = Map(location=[moscow_lat, moscow_lng], zoom_start=10, tiles='Cartodb Positron')\n",
    "\n",
    "Choropleth(\n",
    "    geo_data=geo_json,\n",
    "    data=coffee_shop_district,\n",
    "    columns=['district', 'relation_coffee_to_all'],\n",
    "    key_on='feature.name',\n",
    "    fill_color='YlGn',\n",
    "    fill_opacity=0.8,\n",
    "    legend_name='Ratio of the number of coffee shops to all establishments in the area by district'\n",
    ").add_to(m)\n",
    "\n",
    "m"
   ]
  },
  {
   "cell_type": "markdown",
   "id": "f7639c5b",
   "metadata": {},
   "source": [
    "Most cafes are located in the center of Moscow, as well as in the Northern, Southern and Western districts. The fewest cafes are located in the *North-Western District*.\n",
    "\n",
    "But if you look at the ratio of coffee shops to the number of establishments in the district, you can see that the most cafes are in the Northern, Western and North-Eastern districts.\n",
    "\n",
    "But in the North-West region there is still a place and there are not very many coffee shops there, in comparison.\n",
    "\n",
    "Let's see if there are 24-hour coffee shops."
   ]
  },
  {
   "cell_type": "code",
   "execution_count": null,
   "id": "35516824",
   "metadata": {},
   "outputs": [],
   "source": [
    "(\n",
    "    coffee_shop['is_24/7'].value_counts(normalize=True)\n",
    "    .plot(kind='pie', legend=True, ylabel='', autopct='%1.1f%%',\n",
    "          colors=['#67a94d', 'black'], textprops={'color':\"w\"},\n",
    "          title='Number of establishments open 24 hours a day')\n",
    ")"
   ]
  },
  {
   "cell_type": "markdown",
   "id": "9ea1ab6e",
   "metadata": {},
   "source": [
    "According to the resulting graph, we see that almost 96% of coffee shops are not open 24 hours a day.\n",
    "\n",
    "Let's also see how many coffee shops belong to the chain of establishments."
   ]
  },
  {
   "cell_type": "code",
   "execution_count": null,
   "id": "77a974a8",
   "metadata": {},
   "outputs": [],
   "source": [
    "(\n",
    "    coffee_shop['chain'].value_counts(normalize=True)\n",
    "    .plot(kind='pie', legend=True, ylabel='', autopct='%1.1f%%',\n",
    "          colors=['#67a94d', 'black'], textprops={'color':\"w\"},\n",
    "          title='Number of establishments operating under the network')\n",
    ")"
   ]
  },
  {
   "cell_type": "markdown",
   "id": "cc2c0f4c",
   "metadata": {},
   "source": [
    "You can see that approximately half of the coffee shops are chains, and the other half are independent.\n",
    "\n",
    "Let's look at the ratings of coffee shops by region."
   ]
  },
  {
   "cell_type": "code",
   "execution_count": null,
   "id": "786e178e",
   "metadata": {},
   "outputs": [],
   "source": [
    "coffee_shop_rating = coffee_shop.groupby('district').agg({'rating': 'mean'}).reset_index()\n",
    "coffee_shop_rating"
   ]
  },
  {
   "cell_type": "code",
   "execution_count": null,
   "id": "ddb56be5",
   "metadata": {},
   "outputs": [],
   "source": [
    "m = Map(location=[moscow_lat, moscow_lng], zoom_start=10, tiles='Cartodb Positron')\n",
    "\n",
    "Choropleth(\n",
    "    geo_data=geo_json,\n",
    "    data=coffee_shop_rating,\n",
    "    columns=['district', 'rating'],\n",
    "    key_on='feature.name',\n",
    "    fill_color='YlGn',\n",
    "    fill_opacity=0.8,\n",
    "    legend_name='Average rating of coffee shops by area'\n",
    ").add_to(m)\n",
    "\n",
    "m"
   ]
  },
  {
   "cell_type": "markdown",
   "id": "f557f1d1",
   "metadata": {},
   "source": [
    "Based on the resulting choropleth, you can see that coffee shops in the Central, Northwestern and Northern districts have the highest ratings.\n",
    "\n",
    "In general, coffee shops in all areas have a good rating, from 4 points.\n",
    "\n",
    "Let's also see how much the average cup of coffee costs by region."
   ]
  },
  {
   "cell_type": "code",
   "execution_count": null,
   "id": "99db6ea6",
   "metadata": {},
   "outputs": [],
   "source": [
    "coffee_shop_cup = coffee_shop.groupby('district').agg({'middle_coffee_cup': 'mean'}).reset_index()\n",
    "coffee_shop_cup"
   ]
  },
  {
   "cell_type": "code",
   "execution_count": null,
   "id": "01533b69",
   "metadata": {},
   "outputs": [],
   "source": [
    "m = Map(location=[moscow_lat, moscow_lng], zoom_start=10, tiles='Cartodb Positron')\n",
    "\n",
    "Choropleth(\n",
    "    geo_data=geo_json,\n",
    "    data=coffee_shop_cup,\n",
    "    columns=['district', 'middle_coffee_cup'],\n",
    "    key_on='feature.name',\n",
    "    fill_color='YlGn',\n",
    "    fill_opacity=0.8,\n",
    "    legend_name='Average cost of a cup of coffee by region'\n",
    ").add_to(m)\n",
    "\n",
    "m"
   ]
  },
  {
   "cell_type": "markdown",
   "id": "4d63caae",
   "metadata": {},
   "source": [
    "We found the average cost of cups of coffee in different areas of Moscow. As mentioned earlier, high checks are in the center and west of Moscow. If we consider North-West as a potential district for opening a coffee shop, then we need to focus on the cost of approximately 160-170 rubles per cup of coffee."
   ]
  },
  {
   "cell_type": "markdown",
   "id": "1aa12ca7",
   "metadata": {},
   "source": [
    "### Mini-output"
   ]
  },
  {
   "cell_type": "markdown",
   "id": "96335063",
   "metadata": {},
   "source": [
    "If an investor decides to open a coffee shop, then:\n",
    "- it’s better to open it in the West, and more specifically in the North-Western district of Moscow, since:\n",
    "     - there is no oversaturation of the market with coffee shops;\n",
    "     - you can sell coffee for a good receipt;\n",
    "     - coffee shops in these areas have good ratings;\n",
    "- the coffee shop can be made 24/7, since there are few such coffee shops (all night coffee orders will be yours);\n",
    "- you can open both an independent coffee shop and a coffee shop under the chain;\n",
    "- if you decide to open a coffee shop in the west of Moscow, you can focus on the cost of 170-190 rubles per coffee, if in the east, then 140-160 rubles per coffee."
   ]
  },
  {
   "cell_type": "markdown",
   "id": "36a900f6",
   "metadata": {},
   "source": [
    "## General conclusion"
   ]
  },
  {
   "cell_type": "markdown",
   "id": "0b338cd4",
   "metadata": {},
   "source": [
    "The data was compiled based on the Yandex Maps and Yandex Business services for the summer of 2022. The data **was not of ideal quality**, so after downloading and initially studying the data, we began preprocessing it for further analysis.\n",
    "\n",
    "In the process of **pre-processing** the data, the following was done:\n",
    "- implicit duplicates were found and removed;\n",
    "- anomalous values were removed from the data;\n",
    "- establishments about which most information was not available were removed;\n",
    "- 2 columns were added, the street of the establishment and an indicator whether the establishment is open 24/7;\n",
    "- 2.9% of the original data was deleted.\n",
    "\n",
    "Next we moved on to **analysis of available data**. Our goal was to identify:\n",
    "- what type of establishment can be opened,\n",
    "- where to open,\n",
    "- what kind of receipt should this establishment have?\n",
    "\n",
    "**Various aspects in the data** were studied, such as areas, types of establishments, their receipts, ratings, etc.\n",
    "\n",
    "As a result of the analysis, I can offer investors the following **recommendations**:\n",
    "- it is proposed to open a restaurant or coffee shop (preference is given to a coffee shop, since coffee shops are among the top 1 most popular catering chains in Moscow) because:\n",
    "     - there are already a lot of cafes on the market;\n",
    "     - restaurants and coffee shops have on average a larger number of seats (and therefore more customers);\n",
    "- it is proposed to open an establishment in the Northwestern District or in other districts in the west of Moscow because:\n",
    "     - there are not many establishments in these districts, there is no oversaturation, as in Central;\n",
    "     - these areas have a good average rating among establishments;\n",
    "     - have the highest average checks, not counting the center.\n",
    "    \n",
    "**Not recommended:**\n",
    "- open fast food establishments because:\n",
    "     - these establishments often have a bad rating;\n",
    "     - + low average check.\n",
    "- open a cheap establishment, since cheap establishments often have a bad rating.\n",
    "\n",
    "If we consider **potentially a coffee shop** as an object to open, then:\n",
    "- the coffee shop can be made 24/7, since there are few such coffee shops (all night coffee orders will be yours);\n",
    "- you can open both an independent coffee shop and a coffee shop under a chain (there are more coffee shops under a chain, but not by many);\n",
    "- if you decide to open a cafe in the west of Moscow, you can focus on the cost of 170-190 rubles per coffee, if in the east, then 140-160 rubles per coffee."
   ]
  }
 ],
 "metadata": {
  "ExecuteTimeLog": [
   {
    "duration": 1526,
    "start_time": "2023-12-28T21:23:24.395Z"
   },
   {
    "duration": 153,
    "start_time": "2023-12-28T21:23:25.923Z"
   },
   {
    "duration": 18,
    "start_time": "2023-12-28T21:23:26.078Z"
   },
   {
    "duration": 14,
    "start_time": "2023-12-28T21:23:26.098Z"
   },
   {
    "duration": 13,
    "start_time": "2023-12-28T21:23:26.114Z"
   },
   {
    "duration": 24,
    "start_time": "2023-12-28T21:23:26.128Z"
   },
   {
    "duration": 11,
    "start_time": "2023-12-28T21:23:26.153Z"
   },
   {
    "duration": 17,
    "start_time": "2023-12-28T21:23:26.181Z"
   },
   {
    "duration": 4,
    "start_time": "2023-12-28T21:23:26.200Z"
   },
   {
    "duration": 1021,
    "start_time": "2023-12-28T21:23:26.208Z"
   },
   {
    "duration": 16,
    "start_time": "2023-12-28T21:23:27.231Z"
   },
   {
    "duration": 6,
    "start_time": "2023-12-28T21:23:27.248Z"
   },
   {
    "duration": 33,
    "start_time": "2023-12-28T21:23:27.255Z"
   },
   {
    "duration": 6,
    "start_time": "2023-12-28T21:23:27.290Z"
   },
   {
    "duration": 24,
    "start_time": "2023-12-28T21:23:27.297Z"
   },
   {
    "duration": 21,
    "start_time": "2023-12-28T21:23:27.322Z"
   },
   {
    "duration": 7,
    "start_time": "2023-12-28T21:23:27.345Z"
   },
   {
    "duration": 1021,
    "start_time": "2023-12-28T21:23:27.353Z"
   },
   {
    "duration": 25,
    "start_time": "2023-12-28T21:23:28.376Z"
   },
   {
    "duration": 8,
    "start_time": "2023-12-28T21:23:28.403Z"
   },
   {
    "duration": 20,
    "start_time": "2023-12-28T21:23:28.412Z"
   },
   {
    "duration": 84,
    "start_time": "2023-12-28T21:23:28.434Z"
   },
   {
    "duration": 19,
    "start_time": "2023-12-28T21:23:28.519Z"
   },
   {
    "duration": 4,
    "start_time": "2023-12-28T21:23:28.539Z"
   },
   {
    "duration": 154,
    "start_time": "2023-12-28T21:23:28.544Z"
   },
   {
    "duration": 145,
    "start_time": "2023-12-28T21:23:28.699Z"
   },
   {
    "duration": 106,
    "start_time": "2023-12-28T21:23:28.846Z"
   },
   {
    "duration": 15,
    "start_time": "2023-12-28T21:23:28.955Z"
   },
   {
    "duration": 333,
    "start_time": "2023-12-28T21:23:28.971Z"
   },
   {
    "duration": 17,
    "start_time": "2023-12-28T21:23:29.305Z"
   },
   {
    "duration": 1458,
    "start_time": "2023-12-28T21:23:29.323Z"
   },
   {
    "duration": 0,
    "start_time": "2023-12-28T21:23:30.783Z"
   },
   {
    "duration": 0,
    "start_time": "2023-12-28T21:23:30.784Z"
   },
   {
    "duration": 0,
    "start_time": "2023-12-28T21:23:30.786Z"
   },
   {
    "duration": 0,
    "start_time": "2023-12-28T21:23:30.787Z"
   },
   {
    "duration": 0,
    "start_time": "2023-12-28T21:23:30.788Z"
   },
   {
    "duration": 0,
    "start_time": "2023-12-28T21:23:30.789Z"
   },
   {
    "duration": 0,
    "start_time": "2023-12-28T21:23:30.790Z"
   },
   {
    "duration": 0,
    "start_time": "2023-12-28T21:23:30.791Z"
   },
   {
    "duration": 0,
    "start_time": "2023-12-28T21:23:30.792Z"
   },
   {
    "duration": 0,
    "start_time": "2023-12-28T21:23:30.793Z"
   },
   {
    "duration": 0,
    "start_time": "2023-12-28T21:23:30.794Z"
   },
   {
    "duration": 0,
    "start_time": "2023-12-28T21:23:30.795Z"
   },
   {
    "duration": 0,
    "start_time": "2023-12-28T21:23:30.796Z"
   },
   {
    "duration": 0,
    "start_time": "2023-12-28T21:23:30.797Z"
   },
   {
    "duration": 0,
    "start_time": "2023-12-28T21:23:30.798Z"
   },
   {
    "duration": 0,
    "start_time": "2023-12-28T21:23:30.799Z"
   },
   {
    "duration": 0,
    "start_time": "2023-12-28T21:23:30.801Z"
   },
   {
    "duration": 0,
    "start_time": "2023-12-28T21:23:30.802Z"
   },
   {
    "duration": 1,
    "start_time": "2023-12-28T21:23:30.803Z"
   },
   {
    "duration": 0,
    "start_time": "2023-12-28T21:23:30.805Z"
   },
   {
    "duration": 0,
    "start_time": "2023-12-28T21:23:30.806Z"
   },
   {
    "duration": 0,
    "start_time": "2023-12-28T21:23:30.807Z"
   },
   {
    "duration": 0,
    "start_time": "2023-12-28T21:23:30.808Z"
   },
   {
    "duration": 398,
    "start_time": "2023-12-28T21:24:10.221Z"
   },
   {
    "duration": 244,
    "start_time": "2023-12-28T21:24:10.621Z"
   },
   {
    "duration": 225,
    "start_time": "2023-12-28T21:24:10.867Z"
   },
   {
    "duration": 9838,
    "start_time": "2023-12-28T21:24:11.094Z"
   },
   {
    "duration": 62,
    "start_time": "2023-12-28T21:24:20.933Z"
   },
   {
    "duration": 706,
    "start_time": "2023-12-28T21:24:20.996Z"
   },
   {
    "duration": 22,
    "start_time": "2023-12-28T21:24:21.704Z"
   },
   {
    "duration": 188,
    "start_time": "2023-12-28T21:24:21.727Z"
   },
   {
    "duration": 175,
    "start_time": "2023-12-28T21:24:21.916Z"
   },
   {
    "duration": 10,
    "start_time": "2023-12-28T21:24:22.094Z"
   },
   {
    "duration": 98,
    "start_time": "2023-12-28T21:24:22.105Z"
   },
   {
    "duration": 422,
    "start_time": "2023-12-28T21:24:22.205Z"
   },
   {
    "duration": 170,
    "start_time": "2023-12-28T21:24:22.628Z"
   },
   {
    "duration": 146,
    "start_time": "2023-12-28T21:24:22.799Z"
   },
   {
    "duration": 13,
    "start_time": "2023-12-28T21:24:22.946Z"
   },
   {
    "duration": 26,
    "start_time": "2023-12-28T21:24:22.961Z"
   },
   {
    "duration": 96,
    "start_time": "2023-12-28T21:24:22.988Z"
   },
   {
    "duration": 180,
    "start_time": "2023-12-28T21:24:23.085Z"
   },
   {
    "duration": 132,
    "start_time": "2023-12-28T21:24:23.267Z"
   },
   {
    "duration": 10,
    "start_time": "2023-12-28T21:24:23.400Z"
   },
   {
    "duration": 101,
    "start_time": "2023-12-28T21:24:23.411Z"
   },
   {
    "duration": 10,
    "start_time": "2023-12-28T21:24:23.513Z"
   },
   {
    "duration": 108,
    "start_time": "2023-12-28T21:24:23.525Z"
   },
   {
    "duration": 1508,
    "start_time": "2023-12-29T12:58:55.975Z"
   },
   {
    "duration": 263,
    "start_time": "2023-12-29T12:59:10.459Z"
   },
   {
    "duration": 17,
    "start_time": "2023-12-29T12:59:11.656Z"
   },
   {
    "duration": 13,
    "start_time": "2023-12-29T12:59:12.510Z"
   },
   {
    "duration": 13,
    "start_time": "2023-12-29T12:59:13.879Z"
   },
   {
    "duration": 15,
    "start_time": "2023-12-29T12:59:15.083Z"
   },
   {
    "duration": 7,
    "start_time": "2023-12-29T12:59:15.991Z"
   },
   {
    "duration": 15,
    "start_time": "2023-12-29T12:59:16.567Z"
   },
   {
    "duration": 5,
    "start_time": "2023-12-29T12:59:19.096Z"
   },
   {
    "duration": 927,
    "start_time": "2023-12-29T12:59:19.687Z"
   },
   {
    "duration": 15,
    "start_time": "2023-12-29T12:59:21.562Z"
   },
   {
    "duration": 6,
    "start_time": "2023-12-29T12:59:22.665Z"
   },
   {
    "duration": 85,
    "start_time": "2023-12-29T12:59:23.740Z"
   },
   {
    "duration": 5,
    "start_time": "2023-12-29T12:59:24.725Z"
   },
   {
    "duration": 19,
    "start_time": "2023-12-29T12:59:25.381Z"
   },
   {
    "duration": 18,
    "start_time": "2023-12-29T12:59:26.529Z"
   },
   {
    "duration": 7,
    "start_time": "2023-12-29T12:59:27.309Z"
   },
   {
    "duration": 913,
    "start_time": "2023-12-29T12:59:27.937Z"
   },
   {
    "duration": 20,
    "start_time": "2023-12-29T12:59:30.406Z"
   },
   {
    "duration": 8,
    "start_time": "2023-12-29T12:59:31.479Z"
   },
   {
    "duration": 16,
    "start_time": "2023-12-29T12:59:32.840Z"
   },
   {
    "duration": 58,
    "start_time": "2023-12-29T12:59:33.790Z"
   },
   {
    "duration": 16,
    "start_time": "2023-12-29T12:59:35.072Z"
   },
   {
    "duration": 4,
    "start_time": "2023-12-29T12:59:35.494Z"
   },
   {
    "duration": 137,
    "start_time": "2023-12-29T12:59:37.585Z"
   },
   {
    "duration": 3,
    "start_time": "2023-12-29T12:59:38.795Z"
   },
   {
    "duration": 392,
    "start_time": "2023-12-29T12:59:39.451Z"
   },
   {
    "duration": 103,
    "start_time": "2023-12-29T12:59:41.995Z"
   },
   {
    "duration": 21,
    "start_time": "2023-12-29T12:59:42.871Z"
   },
   {
    "duration": 2,
    "start_time": "2023-12-29T12:59:43.259Z"
   },
   {
    "duration": 266,
    "start_time": "2023-12-29T12:59:44.062Z"
   },
   {
    "duration": 18,
    "start_time": "2023-12-29T12:59:45.945Z"
   },
   {
    "duration": 191,
    "start_time": "2023-12-29T12:59:46.717Z"
   },
   {
    "duration": 15,
    "start_time": "2023-12-29T12:59:51.535Z"
   },
   {
    "duration": 332,
    "start_time": "2023-12-29T12:59:51.701Z"
   }
  ],
  "kernelspec": {
   "display_name": "Python 3 (ipykernel)",
   "language": "python",
   "name": "python3"
  },
  "language_info": {
   "codemirror_mode": {
    "name": "ipython",
    "version": 3
   },
   "file_extension": ".py",
   "mimetype": "text/x-python",
   "name": "python",
   "nbconvert_exporter": "python",
   "pygments_lexer": "ipython3",
   "version": "3.9.5"
  },
  "toc": {
   "base_numbering": 1,
   "nav_menu": {},
   "number_sections": true,
   "sideBar": true,
   "skip_h1_title": true,
   "title_cell": "Table of Contents",
   "title_sidebar": "Содержание",
   "toc_cell": true,
   "toc_position": {
    "height": "calc(100% - 180px)",
    "left": "10px",
    "top": "150px",
    "width": "512px"
   },
   "toc_section_display": true,
   "toc_window_display": true
  },
  "varInspector": {
   "cols": {
    "lenName": 16,
    "lenType": 16,
    "lenVar": 40
   },
   "kernels_config": {
    "python": {
     "delete_cmd_postfix": "",
     "delete_cmd_prefix": "del ",
     "library": "var_list.py",
     "varRefreshCmd": "print(var_dic_list())"
    },
    "r": {
     "delete_cmd_postfix": ") ",
     "delete_cmd_prefix": "rm(",
     "library": "var_list.r",
     "varRefreshCmd": "cat(var_dic_list()) "
    }
   },
   "types_to_exclude": [
    "module",
    "function",
    "builtin_function_or_method",
    "instance",
    "_Feature"
   ],
   "window_display": false
  }
 },
 "nbformat": 4,
 "nbformat_minor": 5
}
