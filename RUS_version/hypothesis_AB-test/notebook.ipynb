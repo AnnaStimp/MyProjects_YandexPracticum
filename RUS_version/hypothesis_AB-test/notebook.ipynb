{
 "cells": [
  {
   "cell_type": "markdown",
   "id": "68dc0e59",
   "metadata": {
    "toc": true
   },
   "source": [
    "<h1>Table of Contents<span class=\"tocSkip\"></span></h1>\n",
    "<div class=\"toc\"><ul class=\"toc-item\"><li><span><a href=\"#Загрузка-и-изучение-данных\" data-toc-modified-id=\"Загрузка-и-изучение-данных-1\"><span class=\"toc-item-num\">1&nbsp;&nbsp;</span>Загрузка и изучение данных</a></span></li><li><span><a href=\"#Предобработка-данных\" data-toc-modified-id=\"Предобработка-данных-2\"><span class=\"toc-item-num\">2&nbsp;&nbsp;</span>Предобработка данных</a></span><ul class=\"toc-item\"><li><span><a href=\"#Тип-данных\" data-toc-modified-id=\"Тип-данных-2.1\"><span class=\"toc-item-num\">2.1&nbsp;&nbsp;</span>Тип данных</a></span></li><li><span><a href=\"#Проверка-на-наличие-дубликатов\" data-toc-modified-id=\"Проверка-на-наличие-дубликатов-2.2\"><span class=\"toc-item-num\">2.2&nbsp;&nbsp;</span>Проверка на наличие дубликатов</a></span></li><li><span><a href=\"#Проверка-пользователей\" data-toc-modified-id=\"Проверка-пользователей-2.3\"><span class=\"toc-item-num\">2.3&nbsp;&nbsp;</span>Проверка пользователей</a></span></li><li><span><a href=\"#Вывод\" data-toc-modified-id=\"Вывод-2.4\"><span class=\"toc-item-num\">2.4&nbsp;&nbsp;</span>Вывод</a></span></li></ul></li><li><span><a href=\"#Приоритизация-гипотез\" data-toc-modified-id=\"Приоритизация-гипотез-3\"><span class=\"toc-item-num\">3&nbsp;&nbsp;</span>Приоритизация гипотез</a></span><ul class=\"toc-item\"><li><span><a href=\"#Фреймворк-ICE\" data-toc-modified-id=\"Фреймворк-ICE-3.1\"><span class=\"toc-item-num\">3.1&nbsp;&nbsp;</span>Фреймворк ICE</a></span></li><li><span><a href=\"#Фреймворк-RICE\" data-toc-modified-id=\"Фреймворк-RICE-3.2\"><span class=\"toc-item-num\">3.2&nbsp;&nbsp;</span>Фреймворк RICE</a></span></li><li><span><a href=\"#Вывод\" data-toc-modified-id=\"Вывод-3.3\"><span class=\"toc-item-num\">3.3&nbsp;&nbsp;</span>Вывод</a></span></li></ul></li><li><span><a href=\"#Анализ-A/B-теста\" data-toc-modified-id=\"Анализ-A/B-теста-4\"><span class=\"toc-item-num\">4&nbsp;&nbsp;</span>Анализ A/B-теста</a></span><ul class=\"toc-item\"><li><span><a href=\"#Выручка-по-группам-в-течение-времени\" data-toc-modified-id=\"Выручка-по-группам-в-течение-времени-4.1\"><span class=\"toc-item-num\">4.1&nbsp;&nbsp;</span>Выручка по группам в течение времени</a></span></li><li><span><a href=\"#Средний-чек-по-группам-в-течение-времени\" data-toc-modified-id=\"Средний-чек-по-группам-в-течение-времени-4.2\"><span class=\"toc-item-num\">4.2&nbsp;&nbsp;</span>Средний чек по группам в течение времени</a></span></li><li><span><a href=\"#Относительное-изменение-кумулятивного-среднего-чека-группы-B-к-группе-A\" data-toc-modified-id=\"Относительное-изменение-кумулятивного-среднего-чека-группы-B-к-группе-A-4.3\"><span class=\"toc-item-num\">4.3&nbsp;&nbsp;</span>Относительное изменение кумулятивного среднего чека группы B к группе A</a></span></li><li><span><a href=\"#Среднее-количество-заказов-на-посетителя-по-группам-в-течение-времени\" data-toc-modified-id=\"Среднее-количество-заказов-на-посетителя-по-группам-в-течение-времени-4.4\"><span class=\"toc-item-num\">4.4&nbsp;&nbsp;</span>Среднее количество заказов на посетителя по группам в течение времени</a></span></li><li><span><a href=\"#Относительное-изменение-кумулятивного-среднего-количества-заказов-на-посетителя-группы-B-к-группе-A\" data-toc-modified-id=\"Относительное-изменение-кумулятивного-среднего-количества-заказов-на-посетителя-группы-B-к-группе-A-4.5\"><span class=\"toc-item-num\">4.5&nbsp;&nbsp;</span>Относительное изменение кумулятивного среднего количества заказов на посетителя группы B к группе A</a></span></li><li><span><a href=\"#Количество-заказов-по-пользователям\" data-toc-modified-id=\"Количество-заказов-по-пользователям-4.6\"><span class=\"toc-item-num\">4.6&nbsp;&nbsp;</span>Количество заказов по пользователям</a></span></li><li><span><a href=\"#Стоимость-заказов\" data-toc-modified-id=\"Стоимость-заказов-4.7\"><span class=\"toc-item-num\">4.7&nbsp;&nbsp;</span>Стоимость заказов</a></span></li><li><span><a href=\"#Статистический-анализ-по-сырым-данным\" data-toc-modified-id=\"Статистический-анализ-по-сырым-данным-4.8\"><span class=\"toc-item-num\">4.8&nbsp;&nbsp;</span>Статистический анализ по сырым данным</a></span><ul class=\"toc-item\"><li><span><a href=\"#Количество-заказов-на-посетителя\" data-toc-modified-id=\"Количество-заказов-на-посетителя-4.8.1\"><span class=\"toc-item-num\">4.8.1&nbsp;&nbsp;</span>Количество заказов на посетителя</a></span></li><li><span><a href=\"#Средний-чек-заказа\" data-toc-modified-id=\"Средний-чек-заказа-4.8.2\"><span class=\"toc-item-num\">4.8.2&nbsp;&nbsp;</span>Средний чек заказа</a></span></li></ul></li><li><span><a href=\"#Статистический-анализ-по-очищенным-данным\" data-toc-modified-id=\"Статистический-анализ-по-очищенным-данным-4.9\"><span class=\"toc-item-num\">4.9&nbsp;&nbsp;</span>Статистический анализ по очищенным данным</a></span><ul class=\"toc-item\"><li><span><a href=\"#Очистка-данных\" data-toc-modified-id=\"Очистка-данных-4.9.1\"><span class=\"toc-item-num\">4.9.1&nbsp;&nbsp;</span>Очистка данных</a></span></li><li><span><a href=\"#Количество-заказов-на-посетителя\" data-toc-modified-id=\"Количество-заказов-на-посетителя-4.9.2\"><span class=\"toc-item-num\">4.9.2&nbsp;&nbsp;</span>Количество заказов на посетителя</a></span></li><li><span><a href=\"#Средний-чек-заказа\" data-toc-modified-id=\"Средний-чек-заказа-4.9.3\"><span class=\"toc-item-num\">4.9.3&nbsp;&nbsp;</span>Средний чек заказа</a></span></li></ul></li><li><span><a href=\"#Вывод\" data-toc-modified-id=\"Вывод-4.10\"><span class=\"toc-item-num\">4.10&nbsp;&nbsp;</span>Вывод</a></span></li></ul></li><li><span><a href=\"#Общий-вывод\" data-toc-modified-id=\"Общий-вывод-5\"><span class=\"toc-item-num\">5&nbsp;&nbsp;</span>Общий вывод</a></span></li></ul></div>"
   ]
  },
  {
   "cell_type": "markdown",
   "id": "64a78907",
   "metadata": {},
   "source": [
    "# Проверка гипотез для увеличения выручки"
   ]
  },
  {
   "cell_type": "markdown",
   "id": "df25066e",
   "metadata": {},
   "source": [
    "**Краткое описание:** я - аналитик крупного интернет-магазина. Вместе с отделом маркетинга был подготовлен список гипотез для увеличения выручки."
   ]
  },
  {
   "cell_type": "markdown",
   "id": "7d23c1c8",
   "metadata": {},
   "source": [
    "**Цель проекта:** приоритизировать гипотезы, запустить A/B-тест и проанализировать результаты."
   ]
  },
  {
   "cell_type": "markdown",
   "id": "e0bfd860",
   "metadata": {},
   "source": [
    "**Описание данных:**\n",
    "\n",
    "Структура *hypothesis.csv*:\n",
    "- ```Hypothesis``` — краткое описание гипотезы;\n",
    "- ```Reach``` — охват пользователей по 10-балльной шкале;\n",
    "- ```Impact``` — влияние на пользователей по 10-балльной шкале;\n",
    "- ```Confidence``` — уверенность в гипотезе по 10-балльной шкале;\n",
    "- ```Efforts``` — затраты ресурсов на проверку гипотезы по 10-балльной шкале. Чем больше значение Efforts, тем дороже проверка гипотезы.\n",
    "\n",
    "Структура *orders.csv*:\n",
    "- ```transactionId``` — идентификатор заказа;\n",
    "- ```visitorId``` — идентификатор пользователя, совершившего заказ;\n",
    "- ```date``` — дата, когда был совершён заказ;\n",
    "- ```revenue``` — выручка заказа;\n",
    "- ```group``` — группа A/B-теста, в которую попал заказ.\n",
    "\n",
    "Структура *visitors.csv*:\n",
    "- ```date``` — дата;\n",
    "- ```group``` — группа A/B-теста;\n",
    "- ```visitors``` — количество пользователей в указанную дату в указанной группе A/B-теста."
   ]
  },
  {
   "cell_type": "markdown",
   "id": "0617e0a0",
   "metadata": {},
   "source": [
    "**План работы:**\n",
    "1. Загрузить данные и предобработать их;\n",
    "2. Выполнить приоритизацию гипотез;\n",
    "3. Проанализировать A/B-тест;\n",
    "4. Сделать выводы из результатов."
   ]
  },
  {
   "cell_type": "code",
   "execution_count": 1,
   "id": "ac4aae2f",
   "metadata": {},
   "outputs": [],
   "source": [
    "import pandas as pd\n",
    "import matplotlib.pyplot as plt\n",
    "import numpy as np\n",
    "import scipy.stats as st\n",
    "\n",
    "pd.set_option('display.max_colwidth', False)"
   ]
  },
  {
   "cell_type": "markdown",
   "id": "7cdc20a5",
   "metadata": {},
   "source": [
    "## Загрузка и изучение данных"
   ]
  },
  {
   "cell_type": "code",
   "execution_count": 2,
   "id": "69d6fbec",
   "metadata": {},
   "outputs": [],
   "source": [
    "try:\n",
    "    hypothesis = pd.read_csv('.\\\\datasets\\\\hypothesis.csv')\n",
    "    orders = pd.read_csv('.\\\\datasets\\\\orders.csv')\n",
    "    visitors = pd.read_csv('.\\\\datasets\\\\visitors.csv')\n",
    "except:\n",
    "    hypothesis = pd.read_csv('/datasets/hypothesis.csv')\n",
    "    orders = pd.read_csv('/datasets/orders.csv')\n",
    "    visitors = pd.read_csv('/datasets/visitors.csv')"
   ]
  },
  {
   "cell_type": "code",
   "execution_count": 3,
   "id": "56ea5363",
   "metadata": {
    "scrolled": true
   },
   "outputs": [
    {
     "data": {
      "text/html": [
       "<div>\n",
       "<style scoped>\n",
       "    .dataframe tbody tr th:only-of-type {\n",
       "        vertical-align: middle;\n",
       "    }\n",
       "\n",
       "    .dataframe tbody tr th {\n",
       "        vertical-align: top;\n",
       "    }\n",
       "\n",
       "    .dataframe thead th {\n",
       "        text-align: right;\n",
       "    }\n",
       "</style>\n",
       "<table border=\"1\" class=\"dataframe\">\n",
       "  <thead>\n",
       "    <tr style=\"text-align: right;\">\n",
       "      <th></th>\n",
       "      <th>Hypothesis</th>\n",
       "      <th>Reach</th>\n",
       "      <th>Impact</th>\n",
       "      <th>Confidence</th>\n",
       "      <th>Efforts</th>\n",
       "    </tr>\n",
       "  </thead>\n",
       "  <tbody>\n",
       "    <tr>\n",
       "      <th>0</th>\n",
       "      <td>Добавить два новых канала привлечения трафика, что позволит привлекать на 30% больше пользователей</td>\n",
       "      <td>3</td>\n",
       "      <td>10</td>\n",
       "      <td>8</td>\n",
       "      <td>6</td>\n",
       "    </tr>\n",
       "    <tr>\n",
       "      <th>1</th>\n",
       "      <td>Запустить собственную службу доставки, что сократит срок доставки заказов</td>\n",
       "      <td>2</td>\n",
       "      <td>5</td>\n",
       "      <td>4</td>\n",
       "      <td>10</td>\n",
       "    </tr>\n",
       "    <tr>\n",
       "      <th>2</th>\n",
       "      <td>Добавить блоки рекомендаций товаров на сайт интернет магазина, чтобы повысить конверсию и средний чек заказа</td>\n",
       "      <td>8</td>\n",
       "      <td>3</td>\n",
       "      <td>7</td>\n",
       "      <td>3</td>\n",
       "    </tr>\n",
       "    <tr>\n",
       "      <th>3</th>\n",
       "      <td>Изменить структура категорий, что увеличит конверсию, т.к. пользователи быстрее найдут нужный товар</td>\n",
       "      <td>8</td>\n",
       "      <td>3</td>\n",
       "      <td>3</td>\n",
       "      <td>8</td>\n",
       "    </tr>\n",
       "    <tr>\n",
       "      <th>4</th>\n",
       "      <td>Изменить цвет фона главной страницы, чтобы увеличить вовлеченность пользователей</td>\n",
       "      <td>3</td>\n",
       "      <td>1</td>\n",
       "      <td>1</td>\n",
       "      <td>1</td>\n",
       "    </tr>\n",
       "  </tbody>\n",
       "</table>\n",
       "</div>"
      ],
      "text/plain": [
       "                                                                                                     Hypothesis  \\\n",
       "0  Добавить два новых канала привлечения трафика, что позволит привлекать на 30% больше пользователей             \n",
       "1  Запустить собственную службу доставки, что сократит срок доставки заказов                                      \n",
       "2  Добавить блоки рекомендаций товаров на сайт интернет магазина, чтобы повысить конверсию и средний чек заказа   \n",
       "3  Изменить структура категорий, что увеличит конверсию, т.к. пользователи быстрее найдут нужный товар            \n",
       "4  Изменить цвет фона главной страницы, чтобы увеличить вовлеченность пользователей                               \n",
       "\n",
       "   Reach  Impact  Confidence  Efforts  \n",
       "0  3      10      8           6        \n",
       "1  2      5       4           10       \n",
       "2  8      3       7           3        \n",
       "3  8      3       3           8        \n",
       "4  3      1       1           1        "
      ]
     },
     "execution_count": 3,
     "metadata": {},
     "output_type": "execute_result"
    }
   ],
   "source": [
    "hypothesis.head()"
   ]
  },
  {
   "cell_type": "code",
   "execution_count": 4,
   "id": "e0a9978c",
   "metadata": {},
   "outputs": [
    {
     "data": {
      "text/html": [
       "<div>\n",
       "<style scoped>\n",
       "    .dataframe tbody tr th:only-of-type {\n",
       "        vertical-align: middle;\n",
       "    }\n",
       "\n",
       "    .dataframe tbody tr th {\n",
       "        vertical-align: top;\n",
       "    }\n",
       "\n",
       "    .dataframe thead th {\n",
       "        text-align: right;\n",
       "    }\n",
       "</style>\n",
       "<table border=\"1\" class=\"dataframe\">\n",
       "  <thead>\n",
       "    <tr style=\"text-align: right;\">\n",
       "      <th></th>\n",
       "      <th>transactionId</th>\n",
       "      <th>visitorId</th>\n",
       "      <th>date</th>\n",
       "      <th>revenue</th>\n",
       "      <th>group</th>\n",
       "    </tr>\n",
       "  </thead>\n",
       "  <tbody>\n",
       "    <tr>\n",
       "      <th>0</th>\n",
       "      <td>3667963787</td>\n",
       "      <td>3312258926</td>\n",
       "      <td>2019-08-15</td>\n",
       "      <td>1650</td>\n",
       "      <td>B</td>\n",
       "    </tr>\n",
       "    <tr>\n",
       "      <th>1</th>\n",
       "      <td>2804400009</td>\n",
       "      <td>3642806036</td>\n",
       "      <td>2019-08-15</td>\n",
       "      <td>730</td>\n",
       "      <td>B</td>\n",
       "    </tr>\n",
       "    <tr>\n",
       "      <th>2</th>\n",
       "      <td>2961555356</td>\n",
       "      <td>4069496402</td>\n",
       "      <td>2019-08-15</td>\n",
       "      <td>400</td>\n",
       "      <td>A</td>\n",
       "    </tr>\n",
       "    <tr>\n",
       "      <th>3</th>\n",
       "      <td>3797467345</td>\n",
       "      <td>1196621759</td>\n",
       "      <td>2019-08-15</td>\n",
       "      <td>9759</td>\n",
       "      <td>B</td>\n",
       "    </tr>\n",
       "    <tr>\n",
       "      <th>4</th>\n",
       "      <td>2282983706</td>\n",
       "      <td>2322279887</td>\n",
       "      <td>2019-08-15</td>\n",
       "      <td>2308</td>\n",
       "      <td>B</td>\n",
       "    </tr>\n",
       "  </tbody>\n",
       "</table>\n",
       "</div>"
      ],
      "text/plain": [
       "   transactionId   visitorId        date  revenue group\n",
       "0  3667963787     3312258926  2019-08-15  1650     B   \n",
       "1  2804400009     3642806036  2019-08-15  730      B   \n",
       "2  2961555356     4069496402  2019-08-15  400      A   \n",
       "3  3797467345     1196621759  2019-08-15  9759     B   \n",
       "4  2282983706     2322279887  2019-08-15  2308     B   "
      ]
     },
     "execution_count": 4,
     "metadata": {},
     "output_type": "execute_result"
    }
   ],
   "source": [
    "orders.head()"
   ]
  },
  {
   "cell_type": "code",
   "execution_count": 5,
   "id": "735b3f44",
   "metadata": {},
   "outputs": [
    {
     "data": {
      "text/html": [
       "<div>\n",
       "<style scoped>\n",
       "    .dataframe tbody tr th:only-of-type {\n",
       "        vertical-align: middle;\n",
       "    }\n",
       "\n",
       "    .dataframe tbody tr th {\n",
       "        vertical-align: top;\n",
       "    }\n",
       "\n",
       "    .dataframe thead th {\n",
       "        text-align: right;\n",
       "    }\n",
       "</style>\n",
       "<table border=\"1\" class=\"dataframe\">\n",
       "  <thead>\n",
       "    <tr style=\"text-align: right;\">\n",
       "      <th></th>\n",
       "      <th>date</th>\n",
       "      <th>group</th>\n",
       "      <th>visitors</th>\n",
       "    </tr>\n",
       "  </thead>\n",
       "  <tbody>\n",
       "    <tr>\n",
       "      <th>0</th>\n",
       "      <td>2019-08-01</td>\n",
       "      <td>A</td>\n",
       "      <td>719</td>\n",
       "    </tr>\n",
       "    <tr>\n",
       "      <th>1</th>\n",
       "      <td>2019-08-02</td>\n",
       "      <td>A</td>\n",
       "      <td>619</td>\n",
       "    </tr>\n",
       "    <tr>\n",
       "      <th>2</th>\n",
       "      <td>2019-08-03</td>\n",
       "      <td>A</td>\n",
       "      <td>507</td>\n",
       "    </tr>\n",
       "    <tr>\n",
       "      <th>3</th>\n",
       "      <td>2019-08-04</td>\n",
       "      <td>A</td>\n",
       "      <td>717</td>\n",
       "    </tr>\n",
       "    <tr>\n",
       "      <th>4</th>\n",
       "      <td>2019-08-05</td>\n",
       "      <td>A</td>\n",
       "      <td>756</td>\n",
       "    </tr>\n",
       "  </tbody>\n",
       "</table>\n",
       "</div>"
      ],
      "text/plain": [
       "         date group  visitors\n",
       "0  2019-08-01  A     719     \n",
       "1  2019-08-02  A     619     \n",
       "2  2019-08-03  A     507     \n",
       "3  2019-08-04  A     717     \n",
       "4  2019-08-05  A     756     "
      ]
     },
     "execution_count": 5,
     "metadata": {},
     "output_type": "execute_result"
    }
   ],
   "source": [
    "visitors.head()"
   ]
  },
  {
   "cell_type": "code",
   "execution_count": 6,
   "id": "22b9b064",
   "metadata": {},
   "outputs": [
    {
     "name": "stdout",
     "output_type": "stream",
     "text": [
      "<class 'pandas.core.frame.DataFrame'>\n",
      "RangeIndex: 9 entries, 0 to 8\n",
      "Data columns (total 5 columns):\n",
      " #   Column      Non-Null Count  Dtype \n",
      "---  ------      --------------  ----- \n",
      " 0   Hypothesis  9 non-null      object\n",
      " 1   Reach       9 non-null      int64 \n",
      " 2   Impact      9 non-null      int64 \n",
      " 3   Confidence  9 non-null      int64 \n",
      " 4   Efforts     9 non-null      int64 \n",
      "dtypes: int64(4), object(1)\n",
      "memory usage: 488.0+ bytes\n"
     ]
    }
   ],
   "source": [
    "hypothesis.info()"
   ]
  },
  {
   "cell_type": "code",
   "execution_count": 7,
   "id": "57a33d9c",
   "metadata": {},
   "outputs": [
    {
     "name": "stdout",
     "output_type": "stream",
     "text": [
      "<class 'pandas.core.frame.DataFrame'>\n",
      "RangeIndex: 1197 entries, 0 to 1196\n",
      "Data columns (total 5 columns):\n",
      " #   Column         Non-Null Count  Dtype \n",
      "---  ------         --------------  ----- \n",
      " 0   transactionId  1197 non-null   int64 \n",
      " 1   visitorId      1197 non-null   int64 \n",
      " 2   date           1197 non-null   object\n",
      " 3   revenue        1197 non-null   int64 \n",
      " 4   group          1197 non-null   object\n",
      "dtypes: int64(3), object(2)\n",
      "memory usage: 46.9+ KB\n"
     ]
    }
   ],
   "source": [
    "orders.info()"
   ]
  },
  {
   "cell_type": "code",
   "execution_count": 8,
   "id": "a098cadb",
   "metadata": {},
   "outputs": [
    {
     "name": "stdout",
     "output_type": "stream",
     "text": [
      "<class 'pandas.core.frame.DataFrame'>\n",
      "RangeIndex: 62 entries, 0 to 61\n",
      "Data columns (total 3 columns):\n",
      " #   Column    Non-Null Count  Dtype \n",
      "---  ------    --------------  ----- \n",
      " 0   date      62 non-null     object\n",
      " 1   group     62 non-null     object\n",
      " 2   visitors  62 non-null     int64 \n",
      "dtypes: int64(1), object(2)\n",
      "memory usage: 1.6+ KB\n"
     ]
    }
   ],
   "source": [
    "visitors.info()"
   ]
  },
  {
   "cell_type": "markdown",
   "id": "5e238ccc",
   "metadata": {},
   "source": [
    "Данные были загружены и изучены.\n",
    "\n",
    "Пропусков в данных не имеется. Типы данных для столбцов корректны, кроме столбцов с датами. Эти столбцы необходимо преобразовать. И так же необходимо проверить данные на наличие дубликатов и на то, что каждый пользователь находится только в 1 группе."
   ]
  },
  {
   "cell_type": "markdown",
   "id": "19444d73",
   "metadata": {},
   "source": [
    "## Предобработка данных"
   ]
  },
  {
   "cell_type": "markdown",
   "id": "cc31b4f1",
   "metadata": {},
   "source": [
    "### Тип данных"
   ]
  },
  {
   "cell_type": "code",
   "execution_count": 9,
   "id": "21842c6b",
   "metadata": {},
   "outputs": [
    {
     "name": "stdout",
     "output_type": "stream",
     "text": [
      "<class 'pandas.core.frame.DataFrame'>\n",
      "RangeIndex: 1197 entries, 0 to 1196\n",
      "Data columns (total 5 columns):\n",
      " #   Column         Non-Null Count  Dtype         \n",
      "---  ------         --------------  -----         \n",
      " 0   transactionId  1197 non-null   int64         \n",
      " 1   visitorId      1197 non-null   int64         \n",
      " 2   date           1197 non-null   datetime64[ns]\n",
      " 3   revenue        1197 non-null   int64         \n",
      " 4   group          1197 non-null   object        \n",
      "dtypes: datetime64[ns](1), int64(3), object(1)\n",
      "memory usage: 46.9+ KB\n"
     ]
    }
   ],
   "source": [
    "orders['date'] = pd.to_datetime(orders['date'], format='%Y-%m-%d')\n",
    "orders.info()"
   ]
  },
  {
   "cell_type": "code",
   "execution_count": 10,
   "id": "0a188d3b",
   "metadata": {},
   "outputs": [
    {
     "name": "stdout",
     "output_type": "stream",
     "text": [
      "<class 'pandas.core.frame.DataFrame'>\n",
      "RangeIndex: 62 entries, 0 to 61\n",
      "Data columns (total 3 columns):\n",
      " #   Column    Non-Null Count  Dtype         \n",
      "---  ------    --------------  -----         \n",
      " 0   date      62 non-null     datetime64[ns]\n",
      " 1   group     62 non-null     object        \n",
      " 2   visitors  62 non-null     int64         \n",
      "dtypes: datetime64[ns](1), int64(1), object(1)\n",
      "memory usage: 1.6+ KB\n"
     ]
    }
   ],
   "source": [
    "visitors['date'] = pd.to_datetime(visitors['date'], format='%Y-%m-%d')\n",
    "visitors.info()"
   ]
  },
  {
   "cell_type": "markdown",
   "id": "50d71bf1",
   "metadata": {},
   "source": [
    "Тип данных для столбцов с датами был установлен как ```datetime```."
   ]
  },
  {
   "cell_type": "markdown",
   "id": "8ee63b99",
   "metadata": {},
   "source": [
    "### Проверка на наличие дубликатов"
   ]
  },
  {
   "cell_type": "code",
   "execution_count": 11,
   "id": "eb72786f",
   "metadata": {},
   "outputs": [
    {
     "data": {
      "text/plain": [
       "0"
      ]
     },
     "execution_count": 11,
     "metadata": {},
     "output_type": "execute_result"
    }
   ],
   "source": [
    "hypothesis.duplicated().sum()"
   ]
  },
  {
   "cell_type": "code",
   "execution_count": 12,
   "id": "72fbdd8b",
   "metadata": {},
   "outputs": [
    {
     "data": {
      "text/plain": [
       "0"
      ]
     },
     "execution_count": 12,
     "metadata": {},
     "output_type": "execute_result"
    }
   ],
   "source": [
    "orders.duplicated().sum()"
   ]
  },
  {
   "cell_type": "code",
   "execution_count": 13,
   "id": "17dc8732",
   "metadata": {},
   "outputs": [
    {
     "data": {
      "text/plain": [
       "0"
      ]
     },
     "execution_count": 13,
     "metadata": {},
     "output_type": "execute_result"
    }
   ],
   "source": [
    "visitors.duplicated().sum()"
   ]
  },
  {
   "cell_type": "markdown",
   "id": "9f326f38",
   "metadata": {},
   "source": [
    "В данных явные дубликаты не были выявлены."
   ]
  },
  {
   "cell_type": "markdown",
   "id": "0e0ac471",
   "metadata": {},
   "source": [
    "### Проверка пользователей"
   ]
  },
  {
   "cell_type": "code",
   "execution_count": 14,
   "id": "ad88e349",
   "metadata": {},
   "outputs": [
    {
     "data": {
      "text/html": [
       "<div>\n",
       "<style scoped>\n",
       "    .dataframe tbody tr th:only-of-type {\n",
       "        vertical-align: middle;\n",
       "    }\n",
       "\n",
       "    .dataframe tbody tr th {\n",
       "        vertical-align: top;\n",
       "    }\n",
       "\n",
       "    .dataframe thead th {\n",
       "        text-align: right;\n",
       "    }\n",
       "</style>\n",
       "<table border=\"1\" class=\"dataframe\">\n",
       "  <thead>\n",
       "    <tr style=\"text-align: right;\">\n",
       "      <th></th>\n",
       "      <th>visitorId</th>\n",
       "    </tr>\n",
       "    <tr>\n",
       "      <th>group</th>\n",
       "      <th></th>\n",
       "    </tr>\n",
       "  </thead>\n",
       "  <tbody>\n",
       "    <tr>\n",
       "      <th>A</th>\n",
       "      <td>503</td>\n",
       "    </tr>\n",
       "    <tr>\n",
       "      <th>B</th>\n",
       "      <td>586</td>\n",
       "    </tr>\n",
       "  </tbody>\n",
       "</table>\n",
       "</div>"
      ],
      "text/plain": [
       "       visitorId\n",
       "group           \n",
       "A      503      \n",
       "B      586      "
      ]
     },
     "execution_count": 14,
     "metadata": {},
     "output_type": "execute_result"
    }
   ],
   "source": [
    "orders.groupby('group').agg({'visitorId': 'nunique'})"
   ]
  },
  {
   "cell_type": "code",
   "execution_count": 15,
   "id": "be236a4f",
   "metadata": {},
   "outputs": [
    {
     "data": {
      "text/plain": [
       "1031"
      ]
     },
     "execution_count": 15,
     "metadata": {},
     "output_type": "execute_result"
    }
   ],
   "source": [
    "orders['visitorId'].nunique()"
   ]
  },
  {
   "cell_type": "markdown",
   "id": "1e5d4d42",
   "metadata": {},
   "source": [
    "Какое-то несовпадение. 503+586 = 1089, хотя уникальных пользователей всего 1031. Видимо какие-то пользователи попали в обе? группы или при сборе данных произошли какие-то ошибки и пользователи не правильно записали его группу."
   ]
  },
  {
   "cell_type": "code",
   "execution_count": 16,
   "id": "af9a58d0",
   "metadata": {},
   "outputs": [
    {
     "data": {
      "text/plain": [
       "(58,)"
      ]
     },
     "execution_count": 16,
     "metadata": {},
     "output_type": "execute_result"
    }
   ],
   "source": [
    "user_in_2_group = orders.groupby('visitorId', as_index=False).agg({'group': 'nunique'}).query('group >= 2')['visitorId']\n",
    "user_in_2_group.shape"
   ]
  },
  {
   "cell_type": "markdown",
   "id": "d947a67a",
   "metadata": {},
   "source": [
    "58 пользователей были записаны в 2ух группах, посмотрим, какой процент от всех данных составляет информация о заказах этих пользователей."
   ]
  },
  {
   "cell_type": "code",
   "execution_count": 17,
   "id": "3f697bea",
   "metadata": {},
   "outputs": [
    {
     "data": {
      "text/plain": [
       "15.121136173767752"
      ]
     },
     "execution_count": 17,
     "metadata": {},
     "output_type": "execute_result"
    }
   ],
   "source": [
    "len(orders[orders['visitorId'].isin(user_in_2_group)]) * 100 / len(orders) "
   ]
  },
  {
   "cell_type": "markdown",
   "id": "23824f9d",
   "metadata": {},
   "source": [
    "15% данных удалять это много, поэтому придется оставить как есть, так как это явная проблема с набором данных для проведения тестирования."
   ]
  },
  {
   "cell_type": "markdown",
   "id": "be265291",
   "metadata": {},
   "source": [
    "### Вывод"
   ]
  },
  {
   "cell_type": "markdown",
   "id": "3153de29",
   "metadata": {},
   "source": [
    "- данные изначально были хорошего качества,\n",
    "- явные дубликаты в данных отсутствуют,\n",
    "- пропусков в данных нет,\n",
    "- столбцы с датами были приведены к типу ```datetime```,\n",
    "- была выявлена проблема с набором данных, существуют пользователи, которые находятся одновременно в двух группах."
   ]
  },
  {
   "cell_type": "markdown",
   "id": "a46c6374",
   "metadata": {},
   "source": [
    "## Приоритизация гипотез"
   ]
  },
  {
   "cell_type": "markdown",
   "id": "c5d3577c",
   "metadata": {},
   "source": [
    "### Фреймворк ICE"
   ]
  },
  {
   "cell_type": "code",
   "execution_count": 18,
   "id": "8c8c464f",
   "metadata": {},
   "outputs": [
    {
     "data": {
      "text/html": [
       "<div>\n",
       "<style scoped>\n",
       "    .dataframe tbody tr th:only-of-type {\n",
       "        vertical-align: middle;\n",
       "    }\n",
       "\n",
       "    .dataframe tbody tr th {\n",
       "        vertical-align: top;\n",
       "    }\n",
       "\n",
       "    .dataframe thead th {\n",
       "        text-align: right;\n",
       "    }\n",
       "</style>\n",
       "<table border=\"1\" class=\"dataframe\">\n",
       "  <thead>\n",
       "    <tr style=\"text-align: right;\">\n",
       "      <th></th>\n",
       "      <th>Hypothesis</th>\n",
       "      <th>ICE</th>\n",
       "    </tr>\n",
       "  </thead>\n",
       "  <tbody>\n",
       "    <tr>\n",
       "      <th>8</th>\n",
       "      <td>Запустить акцию, дающую скидку на товар в день рождения</td>\n",
       "      <td>16.20</td>\n",
       "    </tr>\n",
       "    <tr>\n",
       "      <th>0</th>\n",
       "      <td>Добавить два новых канала привлечения трафика, что позволит привлекать на 30% больше пользователей</td>\n",
       "      <td>13.33</td>\n",
       "    </tr>\n",
       "    <tr>\n",
       "      <th>7</th>\n",
       "      <td>Добавить форму подписки на все основные страницы, чтобы собрать базу клиентов для email-рассылок</td>\n",
       "      <td>11.20</td>\n",
       "    </tr>\n",
       "    <tr>\n",
       "      <th>6</th>\n",
       "      <td>Показать на главной странице баннеры с актуальными акциями и распродажами, чтобы увеличить конверсию</td>\n",
       "      <td>8.00</td>\n",
       "    </tr>\n",
       "    <tr>\n",
       "      <th>2</th>\n",
       "      <td>Добавить блоки рекомендаций товаров на сайт интернет магазина, чтобы повысить конверсию и средний чек заказа</td>\n",
       "      <td>7.00</td>\n",
       "    </tr>\n",
       "    <tr>\n",
       "      <th>1</th>\n",
       "      <td>Запустить собственную службу доставки, что сократит срок доставки заказов</td>\n",
       "      <td>2.00</td>\n",
       "    </tr>\n",
       "    <tr>\n",
       "      <th>5</th>\n",
       "      <td>Добавить страницу отзывов клиентов о магазине, что позволит увеличить количество заказов</td>\n",
       "      <td>1.33</td>\n",
       "    </tr>\n",
       "    <tr>\n",
       "      <th>3</th>\n",
       "      <td>Изменить структура категорий, что увеличит конверсию, т.к. пользователи быстрее найдут нужный товар</td>\n",
       "      <td>1.12</td>\n",
       "    </tr>\n",
       "    <tr>\n",
       "      <th>4</th>\n",
       "      <td>Изменить цвет фона главной страницы, чтобы увеличить вовлеченность пользователей</td>\n",
       "      <td>1.00</td>\n",
       "    </tr>\n",
       "  </tbody>\n",
       "</table>\n",
       "</div>"
      ],
      "text/plain": [
       "                                                                                                     Hypothesis  \\\n",
       "8  Запустить акцию, дающую скидку на товар в день рождения                                                        \n",
       "0  Добавить два новых канала привлечения трафика, что позволит привлекать на 30% больше пользователей             \n",
       "7  Добавить форму подписки на все основные страницы, чтобы собрать базу клиентов для email-рассылок               \n",
       "6  Показать на главной странице баннеры с актуальными акциями и распродажами, чтобы увеличить конверсию           \n",
       "2  Добавить блоки рекомендаций товаров на сайт интернет магазина, чтобы повысить конверсию и средний чек заказа   \n",
       "1  Запустить собственную службу доставки, что сократит срок доставки заказов                                      \n",
       "5  Добавить страницу отзывов клиентов о магазине, что позволит увеличить количество заказов                       \n",
       "3  Изменить структура категорий, что увеличит конверсию, т.к. пользователи быстрее найдут нужный товар            \n",
       "4  Изменить цвет фона главной страницы, чтобы увеличить вовлеченность пользователей                               \n",
       "\n",
       "     ICE  \n",
       "8  16.20  \n",
       "0  13.33  \n",
       "7  11.20  \n",
       "6  8.00   \n",
       "2  7.00   \n",
       "1  2.00   \n",
       "5  1.33   \n",
       "3  1.12   \n",
       "4  1.00   "
      ]
     },
     "execution_count": 18,
     "metadata": {},
     "output_type": "execute_result"
    }
   ],
   "source": [
    "hypothesis['ICE'] = round(hypothesis['Impact'] * hypothesis['Confidence'] / hypothesis['Efforts'], 2)\n",
    "hypothesis[['Hypothesis', 'ICE']].sort_values(by='ICE', ascending=False)"
   ]
  },
  {
   "cell_type": "markdown",
   "id": "41000bc6",
   "metadata": {},
   "source": [
    "### Фреймворк RICE"
   ]
  },
  {
   "cell_type": "code",
   "execution_count": 19,
   "id": "f2ece07c",
   "metadata": {},
   "outputs": [
    {
     "data": {
      "text/html": [
       "<div>\n",
       "<style scoped>\n",
       "    .dataframe tbody tr th:only-of-type {\n",
       "        vertical-align: middle;\n",
       "    }\n",
       "\n",
       "    .dataframe tbody tr th {\n",
       "        vertical-align: top;\n",
       "    }\n",
       "\n",
       "    .dataframe thead th {\n",
       "        text-align: right;\n",
       "    }\n",
       "</style>\n",
       "<table border=\"1\" class=\"dataframe\">\n",
       "  <thead>\n",
       "    <tr style=\"text-align: right;\">\n",
       "      <th></th>\n",
       "      <th>Hypothesis</th>\n",
       "      <th>RICE</th>\n",
       "    </tr>\n",
       "  </thead>\n",
       "  <tbody>\n",
       "    <tr>\n",
       "      <th>7</th>\n",
       "      <td>Добавить форму подписки на все основные страницы, чтобы собрать базу клиентов для email-рассылок</td>\n",
       "      <td>112.0</td>\n",
       "    </tr>\n",
       "    <tr>\n",
       "      <th>2</th>\n",
       "      <td>Добавить блоки рекомендаций товаров на сайт интернет магазина, чтобы повысить конверсию и средний чек заказа</td>\n",
       "      <td>56.0</td>\n",
       "    </tr>\n",
       "    <tr>\n",
       "      <th>0</th>\n",
       "      <td>Добавить два новых канала привлечения трафика, что позволит привлекать на 30% больше пользователей</td>\n",
       "      <td>40.0</td>\n",
       "    </tr>\n",
       "    <tr>\n",
       "      <th>6</th>\n",
       "      <td>Показать на главной странице баннеры с актуальными акциями и распродажами, чтобы увеличить конверсию</td>\n",
       "      <td>40.0</td>\n",
       "    </tr>\n",
       "    <tr>\n",
       "      <th>8</th>\n",
       "      <td>Запустить акцию, дающую скидку на товар в день рождения</td>\n",
       "      <td>16.2</td>\n",
       "    </tr>\n",
       "    <tr>\n",
       "      <th>3</th>\n",
       "      <td>Изменить структура категорий, что увеличит конверсию, т.к. пользователи быстрее найдут нужный товар</td>\n",
       "      <td>9.0</td>\n",
       "    </tr>\n",
       "    <tr>\n",
       "      <th>1</th>\n",
       "      <td>Запустить собственную службу доставки, что сократит срок доставки заказов</td>\n",
       "      <td>4.0</td>\n",
       "    </tr>\n",
       "    <tr>\n",
       "      <th>5</th>\n",
       "      <td>Добавить страницу отзывов клиентов о магазине, что позволит увеличить количество заказов</td>\n",
       "      <td>4.0</td>\n",
       "    </tr>\n",
       "    <tr>\n",
       "      <th>4</th>\n",
       "      <td>Изменить цвет фона главной страницы, чтобы увеличить вовлеченность пользователей</td>\n",
       "      <td>3.0</td>\n",
       "    </tr>\n",
       "  </tbody>\n",
       "</table>\n",
       "</div>"
      ],
      "text/plain": [
       "                                                                                                     Hypothesis  \\\n",
       "7  Добавить форму подписки на все основные страницы, чтобы собрать базу клиентов для email-рассылок               \n",
       "2  Добавить блоки рекомендаций товаров на сайт интернет магазина, чтобы повысить конверсию и средний чек заказа   \n",
       "0  Добавить два новых канала привлечения трафика, что позволит привлекать на 30% больше пользователей             \n",
       "6  Показать на главной странице баннеры с актуальными акциями и распродажами, чтобы увеличить конверсию           \n",
       "8  Запустить акцию, дающую скидку на товар в день рождения                                                        \n",
       "3  Изменить структура категорий, что увеличит конверсию, т.к. пользователи быстрее найдут нужный товар            \n",
       "1  Запустить собственную службу доставки, что сократит срок доставки заказов                                      \n",
       "5  Добавить страницу отзывов клиентов о магазине, что позволит увеличить количество заказов                       \n",
       "4  Изменить цвет фона главной страницы, чтобы увеличить вовлеченность пользователей                               \n",
       "\n",
       "    RICE  \n",
       "7  112.0  \n",
       "2  56.0   \n",
       "0  40.0   \n",
       "6  40.0   \n",
       "8  16.2   \n",
       "3  9.0    \n",
       "1  4.0    \n",
       "5  4.0    \n",
       "4  3.0    "
      ]
     },
     "execution_count": 19,
     "metadata": {},
     "output_type": "execute_result"
    }
   ],
   "source": [
    "hypothesis['RICE'] = round(hypothesis['Reach'] * hypothesis['Impact'] * hypothesis['Confidence'] / hypothesis['Efforts'], 2)\n",
    "hypothesis[['Hypothesis', 'RICE']].sort_values(by='RICE', ascending=False)"
   ]
  },
  {
   "cell_type": "markdown",
   "id": "197cee5f",
   "metadata": {},
   "source": [
    "### Вывод"
   ]
  },
  {
   "cell_type": "markdown",
   "id": "18a00482",
   "metadata": {},
   "source": [
    "Приоритизация гипотез у разных методов получилась разной.\n",
    "\n",
    "Фреймворк ICE приоритизирует гипотезы в зависимости от влияния этой гипотезы на опыт пользователей, уверенности в это влияние и трудозатратности тестирования этой гипотезы.\n",
    "\n",
    "Фреймворк RICE приоритизирует гипотезы так же в зависимости и от того, как много пользователей может затронуть эта гипотеза.\n",
    "\n",
    "**ТОП-3** гипотезы с использованием **фреймворка ICE**:\n",
    "- Запустить акцию, дающую скидку на товар в день рождения;\n",
    "- Добавить два новых канала привлечения трафика, что позволит привлекать на 30% больше пользователей;\n",
    "- Добавить форму подписки на все основные страницы, чтобы собрать базу клиентов для email-рассылок.\n",
    "\n",
    "**ТОП-3** гипотезы с использованием **фреймворка RICE**:\n",
    "- Добавить форму подписки на все основные страницы, чтобы собрать базу клиентов для email-рассылок;\n",
    "- Добавить блоки рекомендаций товаров на сайт интернет магазина, чтобы повысить конверсию и средний чек заказа;\n",
    "- Добавить два новых канала привлечения трафика, что позволит привлекать на 30% больше пользователей.\n",
    "\n",
    "При использовании фреймворка RICE поднялись вверх гипотезы, которые могут затронуть больше пользователей."
   ]
  },
  {
   "cell_type": "markdown",
   "id": "c54a017f",
   "metadata": {},
   "source": [
    "## Анализ A/B-теста"
   ]
  },
  {
   "cell_type": "markdown",
   "id": "36d22282",
   "metadata": {},
   "source": [
    "### Выручка по группам в течение времени"
   ]
  },
  {
   "cell_type": "code",
   "execution_count": 20,
   "id": "e9047be1",
   "metadata": {},
   "outputs": [
    {
     "data": {
      "text/html": [
       "<div>\n",
       "<style scoped>\n",
       "    .dataframe tbody tr th:only-of-type {\n",
       "        vertical-align: middle;\n",
       "    }\n",
       "\n",
       "    .dataframe tbody tr th {\n",
       "        vertical-align: top;\n",
       "    }\n",
       "\n",
       "    .dataframe thead th {\n",
       "        text-align: right;\n",
       "    }\n",
       "</style>\n",
       "<table border=\"1\" class=\"dataframe\">\n",
       "  <thead>\n",
       "    <tr style=\"text-align: right;\">\n",
       "      <th></th>\n",
       "      <th>date</th>\n",
       "      <th>revenue</th>\n",
       "      <th>orders</th>\n",
       "    </tr>\n",
       "  </thead>\n",
       "  <tbody>\n",
       "    <tr>\n",
       "      <th>0</th>\n",
       "      <td>2019-08-01</td>\n",
       "      <td>148579</td>\n",
       "      <td>24</td>\n",
       "    </tr>\n",
       "    <tr>\n",
       "      <th>1</th>\n",
       "      <td>2019-08-02</td>\n",
       "      <td>242401</td>\n",
       "      <td>44</td>\n",
       "    </tr>\n",
       "    <tr>\n",
       "      <th>2</th>\n",
       "      <td>2019-08-03</td>\n",
       "      <td>354874</td>\n",
       "      <td>68</td>\n",
       "    </tr>\n",
       "    <tr>\n",
       "      <th>3</th>\n",
       "      <td>2019-08-04</td>\n",
       "      <td>425699</td>\n",
       "      <td>84</td>\n",
       "    </tr>\n",
       "    <tr>\n",
       "      <th>4</th>\n",
       "      <td>2019-08-05</td>\n",
       "      <td>549917</td>\n",
       "      <td>109</td>\n",
       "    </tr>\n",
       "  </tbody>\n",
       "</table>\n",
       "</div>"
      ],
      "text/plain": [
       "        date  revenue  orders\n",
       "0 2019-08-01  148579   24    \n",
       "1 2019-08-02  242401   44    \n",
       "2 2019-08-03  354874   68    \n",
       "3 2019-08-04  425699   84    \n",
       "4 2019-08-05  549917   109   "
      ]
     },
     "execution_count": 20,
     "metadata": {},
     "output_type": "execute_result"
    }
   ],
   "source": [
    "cumulative_revenue_A = (\n",
    "    orders[orders['group'] == 'A']\n",
    "    .sort_values(by='date')\n",
    "    .groupby('date')\n",
    "    .agg({'revenue': 'sum', 'transactionId': 'nunique'})\n",
    "    .cumsum()\n",
    "    .reset_index()\n",
    ")\n",
    "cumulative_revenue_A.columns = ['date', 'revenue', 'orders']\n",
    "cumulative_revenue_A.head()"
   ]
  },
  {
   "cell_type": "code",
   "execution_count": 21,
   "id": "ceb59180",
   "metadata": {},
   "outputs": [
    {
     "data": {
      "text/html": [
       "<div>\n",
       "<style scoped>\n",
       "    .dataframe tbody tr th:only-of-type {\n",
       "        vertical-align: middle;\n",
       "    }\n",
       "\n",
       "    .dataframe tbody tr th {\n",
       "        vertical-align: top;\n",
       "    }\n",
       "\n",
       "    .dataframe thead th {\n",
       "        text-align: right;\n",
       "    }\n",
       "</style>\n",
       "<table border=\"1\" class=\"dataframe\">\n",
       "  <thead>\n",
       "    <tr style=\"text-align: right;\">\n",
       "      <th></th>\n",
       "      <th>date</th>\n",
       "      <th>revenue</th>\n",
       "      <th>orders</th>\n",
       "    </tr>\n",
       "  </thead>\n",
       "  <tbody>\n",
       "    <tr>\n",
       "      <th>0</th>\n",
       "      <td>2019-08-01</td>\n",
       "      <td>101217</td>\n",
       "      <td>21</td>\n",
       "    </tr>\n",
       "    <tr>\n",
       "      <th>1</th>\n",
       "      <td>2019-08-02</td>\n",
       "      <td>266748</td>\n",
       "      <td>45</td>\n",
       "    </tr>\n",
       "    <tr>\n",
       "      <th>2</th>\n",
       "      <td>2019-08-03</td>\n",
       "      <td>380996</td>\n",
       "      <td>61</td>\n",
       "    </tr>\n",
       "    <tr>\n",
       "      <th>3</th>\n",
       "      <td>2019-08-04</td>\n",
       "      <td>489567</td>\n",
       "      <td>78</td>\n",
       "    </tr>\n",
       "    <tr>\n",
       "      <th>4</th>\n",
       "      <td>2019-08-05</td>\n",
       "      <td>581995</td>\n",
       "      <td>101</td>\n",
       "    </tr>\n",
       "  </tbody>\n",
       "</table>\n",
       "</div>"
      ],
      "text/plain": [
       "        date  revenue  orders\n",
       "0 2019-08-01  101217   21    \n",
       "1 2019-08-02  266748   45    \n",
       "2 2019-08-03  380996   61    \n",
       "3 2019-08-04  489567   78    \n",
       "4 2019-08-05  581995   101   "
      ]
     },
     "execution_count": 21,
     "metadata": {},
     "output_type": "execute_result"
    }
   ],
   "source": [
    "cumulative_revenue_B = (\n",
    "    orders[orders['group'] == 'B']\n",
    "    .sort_values(by='date')\n",
    "    .groupby('date')\n",
    "    .agg({'revenue': 'sum', 'transactionId': 'nunique'})\n",
    "    .cumsum()\n",
    "    .reset_index()\n",
    ")\n",
    "cumulative_revenue_B.columns = ['date', 'revenue', 'orders']\n",
    "cumulative_revenue_B.head()"
   ]
  },
  {
   "cell_type": "code",
   "execution_count": 22,
   "id": "ba68f5b5",
   "metadata": {
    "scrolled": true
   },
   "outputs": [
    {
     "data": {
      "text/plain": [
       "Text(0.5, 0, 'Дата')"
      ]
     },
     "execution_count": 22,
     "metadata": {},
     "output_type": "execute_result"
    },
    {
     "data": {
      "image/png": "[encoded data removed]",
      "text/plain": [
       "<Figure size 720x432 with 1 Axes>"
      ]
     },
     "metadata": {
      "needs_background": "light"
     },
     "output_type": "display_data"
    }
   ],
   "source": [
    "plt.figure(figsize=(10,6))\n",
    "plt.plot(cumulative_revenue_A['date'], cumulative_revenue_A['revenue'], label='A')\n",
    "plt.plot(cumulative_revenue_B['date'], cumulative_revenue_B['revenue'], label='B')\n",
    "plt.legend()\n",
    "plt.title('График кумулятивной выручки по группам')\n",
    "plt.ylabel('Выручка (у.е.)')\n",
    "plt.xlabel('Дата')"
   ]
  },
  {
   "cell_type": "markdown",
   "id": "e466c6bd",
   "metadata": {},
   "source": [
    "В начале теста кумулятивная выручка обоих групп была примерно одиноковая. С 5 августа группа B начала обгонять группу A по выручке, но 13 августа группа A нагнала по выручке группу B. Далее группа B начала активно обгонять группу A, виден резкий скачок в выручке у группы B, возможно была совершена аномально большая покупка. Ближе к концу, данные на графике стали более статичны, выручки обоих групп статично растут, и у группы B статично больше выручка, чем у группы A."
   ]
  },
  {
   "cell_type": "markdown",
   "id": "fe2334be",
   "metadata": {},
   "source": [
    "### Средний чек по группам в течение времени"
   ]
  },
  {
   "cell_type": "code",
   "execution_count": 23,
   "id": "9b2e4b16",
   "metadata": {},
   "outputs": [
    {
     "data": {
      "text/plain": [
       "Text(0.5, 0, 'Дата')"
      ]
     },
     "execution_count": 23,
     "metadata": {},
     "output_type": "execute_result"
    },
    {
     "data": {
      "image/png": "[encoded data removed]",
      "text/plain": [
       "<Figure size 720x432 with 1 Axes>"
      ]
     },
     "metadata": {
      "needs_background": "light"
     },
     "output_type": "display_data"
    }
   ],
   "source": [
    "plt.figure(figsize=(10,6))\n",
    "plt.plot(cumulative_revenue_A['date'], cumulative_revenue_A['revenue']/cumulative_revenue_A['orders'], label='A')\n",
    "plt.plot(cumulative_revenue_B['date'], cumulative_revenue_B['revenue']/cumulative_revenue_B['orders'], label='B')\n",
    "plt.legend()\n",
    "plt.title('График кумулятивного среднего чека по группам')\n",
    "plt.ylabel('Средний чек (у.е.)')\n",
    "plt.xlabel('Дата')"
   ]
  },
  {
   "cell_type": "markdown",
   "id": "d55d29a3",
   "metadata": {},
   "source": [
    "На кумулятивном графике среднего чека ярче видно, как рос средний чек по группам в течение времени. Рост и спад среднего чека примерно совпадает с графиком выручки. Так же явно виден скачок в середине августа у группы B, и этот скачок постепенно начал падать, возможно был какой-то внешний фактор, который очень сильно повлиял на группу B, но с течением времени он начал спадать. В конце графика видно, что средний чек группы B падает, а средний чек группы A медленно растет."
   ]
  },
  {
   "cell_type": "markdown",
   "id": "682a1d9d",
   "metadata": {},
   "source": [
    "### Относительное изменение кумулятивного среднего чека группы B к группе A"
   ]
  },
  {
   "cell_type": "code",
   "execution_count": 24,
   "id": "98cb6fd7",
   "metadata": {},
   "outputs": [
    {
     "data": {
      "text/plain": [
       "Text(0.5, 0, 'Дата')"
      ]
     },
     "execution_count": 24,
     "metadata": {},
     "output_type": "execute_result"
    },
    {
     "data": {
      "image/png": "[encoded data removed]",
      "text/plain": [
       "<Figure size 720x432 with 1 Axes>"
      ]
     },
     "metadata": {
      "needs_background": "light"
     },
     "output_type": "display_data"
    }
   ],
   "source": [
    "plt.figure(figsize=(10,6))\n",
    "plt.plot(\n",
    "    cumulative_revenue_A['date'], (cumulative_revenue_B['revenue']/cumulative_revenue_B['orders'])/(cumulative_revenue_A['revenue']/cumulative_revenue_A['orders'])-1\n",
    ")\n",
    "plt.axhline(y=0, color='black', linestyle='--')\n",
    "plt.axhline(y=0.26, color='grey', linestyle='--')\n",
    "plt.title('График относительного изменения кумулятивного среднего чека группы B к группе A')\n",
    "plt.ylabel('Различие среднего чека групп (B / A)')\n",
    "plt.xlabel('Дата')"
   ]
  },
  {
   "cell_type": "markdown",
   "id": "0683a4d6",
   "metadata": {},
   "source": [
    "График кумулятивного среднего чека группы B по отношению к группе A в процессе теста колебался, сначала он резко вырос, потом резко упал и опять резко вырос, где достиг своего максимума в примерно 50% и начал опять постепенно падать, последнее значение теста равно 26%. В данных скорее всего имеются аномальные значения, которые заставляют график так колебаться."
   ]
  },
  {
   "cell_type": "markdown",
   "id": "535fb904",
   "metadata": {},
   "source": [
    "### Среднее количество заказов на посетителя по группам в течение времени"
   ]
  },
  {
   "cell_type": "code",
   "execution_count": 25,
   "id": "9b1fb192",
   "metadata": {},
   "outputs": [
    {
     "data": {
      "text/html": [
       "<div>\n",
       "<style scoped>\n",
       "    .dataframe tbody tr th:only-of-type {\n",
       "        vertical-align: middle;\n",
       "    }\n",
       "\n",
       "    .dataframe tbody tr th {\n",
       "        vertical-align: top;\n",
       "    }\n",
       "\n",
       "    .dataframe thead th {\n",
       "        text-align: right;\n",
       "    }\n",
       "</style>\n",
       "<table border=\"1\" class=\"dataframe\">\n",
       "  <thead>\n",
       "    <tr style=\"text-align: right;\">\n",
       "      <th></th>\n",
       "      <th>date</th>\n",
       "      <th>revenue</th>\n",
       "      <th>orders</th>\n",
       "      <th>visitors</th>\n",
       "    </tr>\n",
       "  </thead>\n",
       "  <tbody>\n",
       "    <tr>\n",
       "      <th>0</th>\n",
       "      <td>2019-08-01</td>\n",
       "      <td>148579</td>\n",
       "      <td>24</td>\n",
       "      <td>719</td>\n",
       "    </tr>\n",
       "    <tr>\n",
       "      <th>1</th>\n",
       "      <td>2019-08-02</td>\n",
       "      <td>242401</td>\n",
       "      <td>44</td>\n",
       "      <td>1338</td>\n",
       "    </tr>\n",
       "    <tr>\n",
       "      <th>2</th>\n",
       "      <td>2019-08-03</td>\n",
       "      <td>354874</td>\n",
       "      <td>68</td>\n",
       "      <td>1845</td>\n",
       "    </tr>\n",
       "    <tr>\n",
       "      <th>3</th>\n",
       "      <td>2019-08-04</td>\n",
       "      <td>425699</td>\n",
       "      <td>84</td>\n",
       "      <td>2562</td>\n",
       "    </tr>\n",
       "    <tr>\n",
       "      <th>4</th>\n",
       "      <td>2019-08-05</td>\n",
       "      <td>549917</td>\n",
       "      <td>109</td>\n",
       "      <td>3318</td>\n",
       "    </tr>\n",
       "  </tbody>\n",
       "</table>\n",
       "</div>"
      ],
      "text/plain": [
       "        date  revenue  orders  visitors\n",
       "0 2019-08-01  148579   24      719     \n",
       "1 2019-08-02  242401   44      1338    \n",
       "2 2019-08-03  354874   68      1845    \n",
       "3 2019-08-04  425699   84      2562    \n",
       "4 2019-08-05  549917   109     3318    "
      ]
     },
     "execution_count": 25,
     "metadata": {},
     "output_type": "execute_result"
    }
   ],
   "source": [
    "visitors_by_A = visitors.query('group == \"A\"')[['date', 'visitors']]\n",
    "cumulative_revenue_A = cumulative_revenue_A.merge(visitors_by_A, on='date')\n",
    "cumulative_revenue_A['visitors'] = cumulative_revenue_A['visitors'].cumsum()\n",
    "cumulative_revenue_A.head()"
   ]
  },
  {
   "cell_type": "code",
   "execution_count": 26,
   "id": "4857ceda",
   "metadata": {},
   "outputs": [
    {
     "data": {
      "text/html": [
       "<div>\n",
       "<style scoped>\n",
       "    .dataframe tbody tr th:only-of-type {\n",
       "        vertical-align: middle;\n",
       "    }\n",
       "\n",
       "    .dataframe tbody tr th {\n",
       "        vertical-align: top;\n",
       "    }\n",
       "\n",
       "    .dataframe thead th {\n",
       "        text-align: right;\n",
       "    }\n",
       "</style>\n",
       "<table border=\"1\" class=\"dataframe\">\n",
       "  <thead>\n",
       "    <tr style=\"text-align: right;\">\n",
       "      <th></th>\n",
       "      <th>date</th>\n",
       "      <th>revenue</th>\n",
       "      <th>orders</th>\n",
       "      <th>visitors</th>\n",
       "    </tr>\n",
       "  </thead>\n",
       "  <tbody>\n",
       "    <tr>\n",
       "      <th>0</th>\n",
       "      <td>2019-08-01</td>\n",
       "      <td>101217</td>\n",
       "      <td>21</td>\n",
       "      <td>713</td>\n",
       "    </tr>\n",
       "    <tr>\n",
       "      <th>1</th>\n",
       "      <td>2019-08-02</td>\n",
       "      <td>266748</td>\n",
       "      <td>45</td>\n",
       "      <td>1294</td>\n",
       "    </tr>\n",
       "    <tr>\n",
       "      <th>2</th>\n",
       "      <td>2019-08-03</td>\n",
       "      <td>380996</td>\n",
       "      <td>61</td>\n",
       "      <td>1803</td>\n",
       "    </tr>\n",
       "    <tr>\n",
       "      <th>3</th>\n",
       "      <td>2019-08-04</td>\n",
       "      <td>489567</td>\n",
       "      <td>78</td>\n",
       "      <td>2573</td>\n",
       "    </tr>\n",
       "    <tr>\n",
       "      <th>4</th>\n",
       "      <td>2019-08-05</td>\n",
       "      <td>581995</td>\n",
       "      <td>101</td>\n",
       "      <td>3280</td>\n",
       "    </tr>\n",
       "  </tbody>\n",
       "</table>\n",
       "</div>"
      ],
      "text/plain": [
       "        date  revenue  orders  visitors\n",
       "0 2019-08-01  101217   21      713     \n",
       "1 2019-08-02  266748   45      1294    \n",
       "2 2019-08-03  380996   61      1803    \n",
       "3 2019-08-04  489567   78      2573    \n",
       "4 2019-08-05  581995   101     3280    "
      ]
     },
     "execution_count": 26,
     "metadata": {},
     "output_type": "execute_result"
    }
   ],
   "source": [
    "visitors_by_B = visitors.query('group == \"B\"')[['date', 'visitors']]\n",
    "cumulative_revenue_B = cumulative_revenue_B.merge(visitors_by_B, on='date')\n",
    "cumulative_revenue_B['visitors'] = cumulative_revenue_B['visitors'].cumsum()\n",
    "cumulative_revenue_B.head()"
   ]
  },
  {
   "cell_type": "code",
   "execution_count": 27,
   "id": "5cf8f5f7",
   "metadata": {},
   "outputs": [
    {
     "data": {
      "text/plain": [
       "(0.02, 0.04)"
      ]
     },
     "execution_count": 27,
     "metadata": {},
     "output_type": "execute_result"
    },
    {
     "data": {
      "image/png": "[encoded data removed]",
      "text/plain": [
       "<Figure size 720x432 with 1 Axes>"
      ]
     },
     "metadata": {
      "needs_background": "light"
     },
     "output_type": "display_data"
    }
   ],
   "source": [
    "plt.figure(figsize=(10,6))\n",
    "plt.plot(cumulative_revenue_A['date'], cumulative_revenue_A['orders']/cumulative_revenue_A['visitors'], label='A')\n",
    "plt.plot(cumulative_revenue_B['date'], cumulative_revenue_B['orders']/cumulative_revenue_B['visitors'], label='B')\n",
    "plt.legend()\n",
    "plt.title('График кумулятивного среднего количества заказов на посетителя по группам')\n",
    "plt.ylabel('Среднее количество заказов на посетителя')\n",
    "plt.xlabel('Дата')\n",
    "plt.ylim([0.02, 0.04])"
   ]
  },
  {
   "cell_type": "markdown",
   "id": "b00ececd",
   "metadata": {},
   "source": [
    "По графику кумулятивного среднего количества заказов на посетителя по группам можно увидеть, что в начале теста присутствуют скачки в данных, скорее всего график так выглядит, потому что данных было мало, далее среднее количество заказов на посетителя для обоих групп начинает принимать более стабильную форму. Группа B имеет в среднем чуть большее количество заказов на посетителя, чем группа A. "
   ]
  },
  {
   "cell_type": "markdown",
   "id": "2465ddf9",
   "metadata": {},
   "source": [
    "### Относительное изменение кумулятивного среднего количества заказов на посетителя группы B к группе A"
   ]
  },
  {
   "cell_type": "code",
   "execution_count": 28,
   "id": "a2eb4115",
   "metadata": {},
   "outputs": [
    {
     "data": {
      "text/plain": [
       "Text(0.5, 0, 'Дата')"
      ]
     },
     "execution_count": 28,
     "metadata": {},
     "output_type": "execute_result"
    },
    {
     "data": {
      "image/png": "[encoded data removed]",
      "text/plain": [
       "<Figure size 720x432 with 1 Axes>"
      ]
     },
     "metadata": {
      "needs_background": "light"
     },
     "output_type": "display_data"
    }
   ],
   "source": [
    "plt.figure(figsize=(10,6))\n",
    "plt.plot(\n",
    "    cumulative_revenue_A['date'], (cumulative_revenue_B['orders']/cumulative_revenue_B['visitors'])/(cumulative_revenue_A['orders']/cumulative_revenue_A['visitors'])-1\n",
    ")\n",
    "plt.axhline(y=0, color='black', linestyle='--')\n",
    "plt.axhline(y=0.14, color='grey', linestyle='--')\n",
    "plt.title('График относительного изменения кумулятивного среднего количества заказов на посетителя группы B к группе A')\n",
    "plt.ylabel('Различие среднего количества заказов\\n на посетителя между группами (B / A)')\n",
    "plt.xlabel('Дата')"
   ]
  },
  {
   "cell_type": "markdown",
   "id": "d6ef6659",
   "metadata": {},
   "source": [
    "В начале теста среднее количество заказов на посетителя у группы B относительно группы A колеблется. Далее группа B вырывается вперед и ее показатели относительно группы A улучшаются. На конец теста группа B опережает по показателям группу A на 14%.\n",
    "В начале августа был резкий рост показателя, возможно резко выросло количество заказов у группы B по сравнению с группой A или уменьшилось количество посетителей, а количество заказов осталось прежним."
   ]
  },
  {
   "cell_type": "markdown",
   "id": "b178e186",
   "metadata": {},
   "source": [
    "### Количество заказов по пользователям"
   ]
  },
  {
   "cell_type": "code",
   "execution_count": 29,
   "id": "e7631c93",
   "metadata": {},
   "outputs": [
    {
     "data": {
      "text/html": [
       "<div>\n",
       "<style scoped>\n",
       "    .dataframe tbody tr th:only-of-type {\n",
       "        vertical-align: middle;\n",
       "    }\n",
       "\n",
       "    .dataframe tbody tr th {\n",
       "        vertical-align: top;\n",
       "    }\n",
       "\n",
       "    .dataframe thead th {\n",
       "        text-align: right;\n",
       "    }\n",
       "</style>\n",
       "<table border=\"1\" class=\"dataframe\">\n",
       "  <thead>\n",
       "    <tr style=\"text-align: right;\">\n",
       "      <th></th>\n",
       "      <th>user</th>\n",
       "      <th>orders</th>\n",
       "    </tr>\n",
       "  </thead>\n",
       "  <tbody>\n",
       "    <tr>\n",
       "      <th>0</th>\n",
       "      <td>5114589</td>\n",
       "      <td>1</td>\n",
       "    </tr>\n",
       "    <tr>\n",
       "      <th>1</th>\n",
       "      <td>6958315</td>\n",
       "      <td>1</td>\n",
       "    </tr>\n",
       "    <tr>\n",
       "      <th>2</th>\n",
       "      <td>8300375</td>\n",
       "      <td>2</td>\n",
       "    </tr>\n",
       "    <tr>\n",
       "      <th>3</th>\n",
       "      <td>11685486</td>\n",
       "      <td>1</td>\n",
       "    </tr>\n",
       "    <tr>\n",
       "      <th>4</th>\n",
       "      <td>39475350</td>\n",
       "      <td>1</td>\n",
       "    </tr>\n",
       "  </tbody>\n",
       "</table>\n",
       "</div>"
      ],
      "text/plain": [
       "       user  orders\n",
       "0  5114589   1     \n",
       "1  6958315   1     \n",
       "2  8300375   2     \n",
       "3  11685486  1     \n",
       "4  39475350  1     "
      ]
     },
     "execution_count": 29,
     "metadata": {},
     "output_type": "execute_result"
    }
   ],
   "source": [
    "orders_for_user = orders.groupby('visitorId', as_index=False).agg({'transactionId': 'nunique'})\n",
    "orders_for_user.columns = ['user', 'orders']\n",
    "orders_for_user.head()"
   ]
  },
  {
   "cell_type": "code",
   "execution_count": 30,
   "id": "76fabb1f",
   "metadata": {},
   "outputs": [
    {
     "data": {
      "text/plain": [
       "Text(0, 0.5, 'Количество заказов')"
      ]
     },
     "execution_count": 30,
     "metadata": {},
     "output_type": "execute_result"
    },
    {
     "data": {
      "image/png": "[encoded data removed]",
      "text/plain": [
       "<Figure size 432x288 with 1 Axes>"
      ]
     },
     "metadata": {
      "needs_background": "light"
     },
     "output_type": "display_data"
    }
   ],
   "source": [
    "plt.scatter(range(0, len(orders_for_user)), orders_for_user['orders'])\n",
    "plt.title('Точечный график количества заказов по пользователям')\n",
    "plt.ylabel('Количество заказов')"
   ]
  },
  {
   "cell_type": "markdown",
   "id": "71a9d7a6",
   "metadata": {},
   "source": [
    "По полученному графику можно сказать, что пользователи чаще совершают всего 1 заказ или 2, намного реже делают 3 или более заказов. В данных есть \"особые пользователи\", которые совершили более 5 заказов, но это единицы."
   ]
  },
  {
   "cell_type": "markdown",
   "id": "373d1369",
   "metadata": {},
   "source": [
    "Посчитаем **перцентили** для количества заказов по пользователям, чтобы определить границу, где находятся аномальные значения."
   ]
  },
  {
   "cell_type": "code",
   "execution_count": 31,
   "id": "6dbb5b78",
   "metadata": {},
   "outputs": [
    {
     "data": {
      "text/plain": [
       "array([2., 4.])"
      ]
     },
     "execution_count": 31,
     "metadata": {},
     "output_type": "execute_result"
    }
   ],
   "source": [
    "percentile_orders = np.percentile(orders_for_user['orders'], [95, 99])\n",
    "percentile_orders"
   ]
  },
  {
   "cell_type": "markdown",
   "id": "dbe7250c",
   "metadata": {},
   "source": [
    "В качетве границы я выберу 95 перцентиль, так как в совокупности графика + информации по перцентилям можно сделать вывод, что пользователи, совершившие более 2ух заказов, являются не среднестатистическим пользователем нашего магазина."
   ]
  },
  {
   "cell_type": "markdown",
   "id": "2b4e526a",
   "metadata": {},
   "source": [
    "### Стоимость заказов"
   ]
  },
  {
   "cell_type": "code",
   "execution_count": 32,
   "id": "25449e9d",
   "metadata": {
    "scrolled": true
   },
   "outputs": [
    {
     "data": {
      "text/plain": [
       "Text(0, 0.5, 'Стоимость заказа')"
      ]
     },
     "execution_count": 32,
     "metadata": {},
     "output_type": "execute_result"
    },
    {
     "data": {
      "image/png": "[encoded data removed]",
      "text/plain": [
       "<Figure size 432x288 with 1 Axes>"
      ]
     },
     "metadata": {
      "needs_background": "light"
     },
     "output_type": "display_data"
    }
   ],
   "source": [
    "plt.scatter(range(0, len(orders['revenue'])), orders['revenue'])\n",
    "plt.title('Точечный график стоимости заказов')\n",
    "plt.ylabel('Стоимость заказа')"
   ]
  },
  {
   "cell_type": "markdown",
   "id": "79eff2cc",
   "metadata": {},
   "source": [
    "На графике можно увидеть 2 аномальных и очень дорогих заказа, поэтому так же рассмотрим ограниченную версию графика, где стоимость заказов не доходит 200 000 у.е."
   ]
  },
  {
   "cell_type": "code",
   "execution_count": 33,
   "id": "8864f7fa",
   "metadata": {},
   "outputs": [
    {
     "data": {
      "text/plain": [
       "Text(0, 0.5, 'Стоимость заказа')"
      ]
     },
     "execution_count": 33,
     "metadata": {},
     "output_type": "execute_result"
    },
    {
     "data": {
      "image/png": "[encoded data removed]",
      "text/plain": [
       "<Figure size 432x288 with 1 Axes>"
      ]
     },
     "metadata": {
      "needs_background": "light"
     },
     "output_type": "display_data"
    }
   ],
   "source": [
    "plt.scatter(range(0, len(orders['revenue'])), orders['revenue'])\n",
    "plt.ylim([0, 200000])\n",
    "plt.title('Точечный график стоимости заказов')\n",
    "plt.ylabel('Стоимость заказа')"
   ]
  },
  {
   "cell_type": "markdown",
   "id": "f4488385",
   "metadata": {},
   "source": [
    "По графику можно увидеть, что в основном пользователи делают не супер дорогие заказы, в среднем около примерно 10 000 - 15 000 у.е.\n",
    "\n",
    "Найдем 95 и 99 процентили для этих данных."
   ]
  },
  {
   "cell_type": "code",
   "execution_count": 34,
   "id": "477245ae",
   "metadata": {},
   "outputs": [
    {
     "data": {
      "text/plain": [
       "array([28000. , 58233.2])"
      ]
     },
     "execution_count": 34,
     "metadata": {},
     "output_type": "execute_result"
    }
   ],
   "source": [
    "percentile_revenue = np.percentile(orders['revenue'], [95, 99])\n",
    "percentile_revenue"
   ]
  },
  {
   "cell_type": "markdown",
   "id": "bc14cf3e",
   "metadata": {},
   "source": [
    "В качестве аномальной границы я приму 95 перцентиль, так как люди в среднем делают покупки дешевле 28000, судя по графикам, а значит те покупки, чья стоимость составляет более большую сумму, являются не обычными или аномальными."
   ]
  },
  {
   "cell_type": "markdown",
   "id": "a3146e80",
   "metadata": {},
   "source": [
    "### Статистический анализ по сырым данным"
   ]
  },
  {
   "cell_type": "markdown",
   "id": "c4a745ef",
   "metadata": {},
   "source": [
    "#### Количество заказов на посетителя"
   ]
  },
  {
   "cell_type": "markdown",
   "id": "d2d061d3",
   "metadata": {},
   "source": [
    "Найдем статистическую значимость различий в среднем количестве заказов на посетителя между группами.\n",
    "\n",
    "**Нулевая гипотеза:** статистической значимости между средними значениями количества заказов на посетителя разных групп нет.\n",
    "\n",
    "**Альтернативная гипотеза:**  статистическая значимость между средними значениями количества заказов на посетителя разных групп есть."
   ]
  },
  {
   "cell_type": "code",
   "execution_count": 35,
   "id": "5ae6ad1e",
   "metadata": {},
   "outputs": [
    {
     "name": "stdout",
     "output_type": "stream",
     "text": [
      "Pvalue: 0.02432461337965732\n",
      "Относительная разница между средними: 0.057294211351617275\n",
      "Отвергаем нулевую гипотезу. Статистическая значимость между средними значениями есть.\n"
     ]
    }
   ],
   "source": [
    "alpha = 0.05\n",
    "orders_for_user = orders_for_user.merge(orders[['visitorId', 'group']], left_on=['user'], right_on=['visitorId'])\n",
    "\n",
    "order_by_userA = orders_for_user.query('group == \"A\"')[['user', 'orders']]\n",
    "order_by_userB = orders_for_user.query('group == \"B\"')[['user', 'orders']]\n",
    "\n",
    "sampleA = pd.concat([\n",
    "    order_by_userA['orders'],\n",
    "    pd.Series(0, index=np.arange(visitors_by_A['visitors'].sum() - len(order_by_userA)), name='orders')\n",
    "], axis=0)\n",
    "sampleB = pd.concat([\n",
    "    order_by_userB['orders'],\n",
    "    pd.Series(0, index=np.arange(visitors_by_B['visitors'].sum() - len(order_by_userB)), name='orders')\n",
    "], axis=0)\n",
    "\n",
    "pvalue = st.mannwhitneyu(sampleA, sampleB)[1]\n",
    "print(f'Pvalue: {pvalue}')\n",
    "print(f'Относительная разница между средними: {sampleB.mean()/sampleA.mean()-1}')\n",
    "if pvalue < alpha:\n",
    "    print('Отвергаем нулевую гипотезу. Статистическая значимость между средними значениями есть.')\n",
    "else:\n",
    "    print('Мы не можем отвергнуть нулевую гипотезу. Статистическая значимость между средними значениями отсутствует.')"
   ]
  },
  {
   "cell_type": "markdown",
   "id": "2a9c315f",
   "metadata": {},
   "source": [
    "По полученным данным можно сказать что между средними значениями количества заказов на посетителя по группам имеется статистическое различие. По пункам 4.4 и 4.5 данного блокнота так же можно прийти к выводу, что одна группа (группа B) в среднем лучше другой (группы A). Относительная разница между средними на сырых данных равна 6%."
   ]
  },
  {
   "cell_type": "markdown",
   "id": "a7a872f3",
   "metadata": {},
   "source": [
    "#### Средний чек заказа"
   ]
  },
  {
   "cell_type": "markdown",
   "id": "bdea5225",
   "metadata": {},
   "source": [
    "Найдем статистическую значимость различий в среднем чеке заказа между группами.\n",
    "\n",
    "**Нулевая гипотеза:** статистической значимости между средним чеком заказа для разных групп нет.\n",
    "\n",
    "**Альтернативная гипотеза:**  статистическая значимость между средним чеком заказа для разных групп есть."
   ]
  },
  {
   "cell_type": "code",
   "execution_count": 36,
   "id": "e5f66360",
   "metadata": {},
   "outputs": [
    {
     "name": "stdout",
     "output_type": "stream",
     "text": [
      "Pvalue: 0.7292909855432458\n",
      "Относительная разница между средними: 0.2587136699126005\n",
      "Мы не можем отвергнуть нулевую гипотезу. Статистическая значимость между средними значениями отсутствует.\n"
     ]
    }
   ],
   "source": [
    "pvalue = st.mannwhitneyu(orders.query('group == \"A\"')['revenue'], orders.query('group == \"B\"')['revenue'])[1]\n",
    "\n",
    "print(f'Pvalue: {pvalue}')\n",
    "print('Относительная разница между средними: {}'.format(orders.query('group == \"B\"')['revenue'].mean()/orders.query('group == \"A\"')['revenue'].mean() - 1))\n",
    "if pvalue < alpha:\n",
    "    print('Отвергаем нулевую гипотезу. Статистическая значимость между средними значениями есть.')\n",
    "else:\n",
    "    print('Мы не можем отвергнуть нулевую гипотезу. Статистическая значимость между средними значениями отсутствует.')"
   ]
  },
  {
   "cell_type": "markdown",
   "id": "2848f0fe",
   "metadata": {},
   "source": [
    "Статистический тест не выявил статистической значимости между средними значениями чеков заказа для разных групп. Хотя относительная разница между средними составляет 26%, что является большим показателем.\n",
    "\n",
    "В пунктах 4.2 и 4.3 данного блокнота представлены графики, которые имеют колебания в данных скорее всего из-за аномальных значений, которые были найдены в пунктах 4.6 и 4.7. Поэтому выводы делать пока рано, возможно статистическая значимость и правда отстутсвует, а может быть и нет. Очистим данные и проведем тесты еще раз."
   ]
  },
  {
   "cell_type": "markdown",
   "id": "bd72284c",
   "metadata": {},
   "source": [
    "### Статистический анализ по очищенным данным"
   ]
  },
  {
   "cell_type": "markdown",
   "id": "ed926212",
   "metadata": {},
   "source": [
    "#### Очистка данных"
   ]
  },
  {
   "cell_type": "code",
   "execution_count": 37,
   "id": "846b800c",
   "metadata": {},
   "outputs": [
    {
     "data": {
      "text/plain": [
       "45     199603092\n",
       "61     237748145\n",
       "69     249864742\n",
       "112    393266494\n",
       "132    457167155\n",
       "dtype: int64"
      ]
     },
     "execution_count": 37,
     "metadata": {},
     "output_type": "execute_result"
    }
   ],
   "source": [
    "anomal_user = pd.concat([\n",
    "    orders_for_user[orders_for_user['orders'] > percentile_orders[0]]['user'],\n",
    "    orders[orders['revenue'] > percentile_revenue[0]]['visitorId']\n",
    "], axis=0).drop_duplicates()\n",
    "anomal_user.head()"
   ]
  },
  {
   "cell_type": "markdown",
   "id": "2b7888d5",
   "metadata": {},
   "source": [
    "Были выявлены пользователи, которые совершали аномальные покупки или совершали аномальное количество покупок, и объединены в один список."
   ]
  },
  {
   "cell_type": "markdown",
   "id": "42ea68be",
   "metadata": {},
   "source": [
    "#### Количество заказов на посетителя"
   ]
  },
  {
   "cell_type": "markdown",
   "id": "7840ca6a",
   "metadata": {},
   "source": [
    "Найдем статистическую значимость различий в среднем количестве заказов на посетителя между группами.\n",
    "\n",
    "**Нулевая гипотеза:** статистической значимости между средними значениями количества заказов на посетителя разных групп нет.\n",
    "\n",
    "**Альтернативная гипотеза:**  статистическая значимость между средними значениями количества заказов на посетителя разных групп есть."
   ]
  },
  {
   "cell_type": "code",
   "execution_count": 38,
   "id": "13f17638",
   "metadata": {},
   "outputs": [
    {
     "name": "stdout",
     "output_type": "stream",
     "text": [
      "Pvalue: 0.00951524233808795\n",
      "Относительная разница между средними: 0.17162338843117997\n",
      "Отвергаем нулевую гипотезу. Статистическая значимость между средними значениями есть.\n"
     ]
    }
   ],
   "source": [
    "sampleAFiltered = pd.concat([\n",
    "    order_by_userA[~order_by_userA['user'].isin(anomal_user)]['orders'],\n",
    "    pd.Series(0, index=np.arange(visitors_by_A['visitors'].sum() - len(order_by_userA[~order_by_userA['user'].isin(anomal_user)])), name='orders')\n",
    "], axis=0)\n",
    "sampleBFiltered = pd.concat([\n",
    "    order_by_userB[~order_by_userB['user'].isin(anomal_user)]['orders'],\n",
    "    pd.Series(0, index=np.arange(visitors_by_B['visitors'].sum() - len(order_by_userB[~order_by_userB['user'].isin(anomal_user)])), name='orders')\n",
    "], axis=0)\n",
    "\n",
    "pvalue = st.mannwhitneyu(sampleAFiltered, sampleBFiltered)[1]\n",
    "print(f'Pvalue: {pvalue}')\n",
    "print(f'Относительная разница между средними: {sampleBFiltered.mean()/sampleAFiltered.mean()-1}')\n",
    "if pvalue < alpha:\n",
    "    print('Отвергаем нулевую гипотезу. Статистическая значимость между средними значениями есть.')\n",
    "else:\n",
    "    print('Мы не можем отвергнуть нулевую гипотезу. Статистическая значимость между средними значениями отсутствует.')"
   ]
  },
  {
   "cell_type": "markdown",
   "id": "3c8856ad",
   "metadata": {},
   "source": [
    "Статистический тест показал такой же результат, как и на неочищенных данных, но относительная разница между средними выросла с 6% до 17%. По совокупности фактов и графиков можно сделать вывод, что в группе B пользователи делают больше заказов, чем пользователи из группы A."
   ]
  },
  {
   "cell_type": "markdown",
   "id": "fe71e5b3",
   "metadata": {},
   "source": [
    "#### Средний чек заказа"
   ]
  },
  {
   "cell_type": "markdown",
   "id": "b0d8c558",
   "metadata": {},
   "source": [
    "Найдем статистическую значимость различий в среднем чеке заказа между группами.\n",
    "\n",
    "**Нулевая гипотеза:** статистической значимости между средним чеком заказа для разных групп нет.\n",
    "\n",
    "**Альтернативная гипотеза:**  статистическая значимость между средним чеком заказа для разных групп есть."
   ]
  },
  {
   "cell_type": "code",
   "execution_count": 39,
   "id": "cb6a14ea",
   "metadata": {},
   "outputs": [
    {
     "name": "stdout",
     "output_type": "stream",
     "text": [
      "Pvalue: 0.7528652023825759\n",
      "Относительная разница между средними: -0.02211180058635609\n",
      "Мы не можем отвергнуть нулевую гипотезу. Статистическая значимость между средними значениями отсутствует.\n"
     ]
    }
   ],
   "source": [
    "pvalue = st.mannwhitneyu(orders.query('group == \"A\" and visitorId not in @anomal_user')['revenue'],\n",
    "                         orders.query('group == \"B\" and visitorId not in @anomal_user')['revenue'])[1]\n",
    "print(f'Pvalue: {pvalue}')\n",
    "print('Относительная разница между средними: {}'.format(\n",
    "    orders.query('group == \"B\" and visitorId not in @anomal_user')['revenue'].mean()/\n",
    "    orders.query('group == \"A\" and visitorId not in @anomal_user')['revenue'].mean() - 1)\n",
    ")\n",
    "\n",
    "if pvalue < alpha:\n",
    "    print('Отвергаем нулевую гипотезу. Статистическая значимость между средними значениями есть.')\n",
    "else:\n",
    "    print('Мы не можем отвергнуть нулевую гипотезу. Статистическая значимость между средними значениями отсутствует.')"
   ]
  },
  {
   "cell_type": "markdown",
   "id": "e4b8fc0f",
   "metadata": {},
   "source": [
    "Статистическая значимость при очищении данных не изменилась, а вот относительная разница между средними уменьшилась с 26% до -2%. Значит можно сделать вывод, что статистическая значимость между средними и правда нет и в среднем пользователи обоих групп делают покупки на примерно одинаковый чек."
   ]
  },
  {
   "cell_type": "markdown",
   "id": "cd1af486",
   "metadata": {},
   "source": [
    "### Вывод"
   ]
  },
  {
   "cell_type": "markdown",
   "id": "35ea70fe",
   "metadata": {},
   "source": [
    "В процессе A/B-тестирования были выявлены следующие выводы:\n",
    "- статистическая значимость различий в **среднем количестве заказов на посетителя** между группами имеется, она была вывлена как на сырых данных, так и на очищенных;\n",
    "- относительная разница между **средними значениями количества заказов на посетителя** по группам выросла с 6% до 17% при очищении данных от аномалий;\n",
    "- график различия **среднего количества заказов на посетителя группы B по отношению к группе A** показывает, что у группы B на конец теста результаты на 14% лучше, чем у группы A, хотя на графике можно наблюдать странные скачки, но они не такие сильные, чтобы иметь другой вывод;\n",
    "- статистическая значимость различий в **среднем чеке заказа** между группами не имеется, тест показал такой результат как на сырых данных, так и на очищенных;\n",
    "- относительная разница между **средним чеком заказа** по группам уменьшилась с 26% до -2% после очищения данных от аномальных значений;\n",
    "- график различия **среднего чека заказа группы B по отношению к группе A** на протяжении теста скакал вверх-вниз несколько раз, в конце теста показатель группы B относительно группы A падал, а в последнии дни перестал двигаться, в совокупности с тем, что нам говорит статистический тест и относительная разница между средними, можно сказать, что средний чек у обоих групп примерно одинаковый."
   ]
  },
  {
   "cell_type": "markdown",
   "id": "6c0499c1",
   "metadata": {},
   "source": [
    "## Общий вывод"
   ]
  },
  {
   "cell_type": "markdown",
   "id": "73d4d298",
   "metadata": {},
   "source": [
    "Были получены файлы с данными о **гипотезах, заказах пользователей и посещении пользователей в определенные даты**. Данные о заказах и посещенниях были собраны в процессе проведения A/B-теста, поэтому вся информация о пользователях поделена на группы.\n",
    "\n",
    "После получения **данные были загружены и изучены**, после чего мы приступили к предобработке данных.\n",
    "\n",
    "В процессе **предобработки данных** было сделано следующее:\n",
    "- данные изначально были хорошего качества,\n",
    "- явные дубликаты в данных отсутствуют,\n",
    "- пропусков в данных нет,\n",
    "- столбцы с датами были приведены к типу ```datetime```,\n",
    "- была выявлена проблема с набором данных, существуют пользователи, которые находятся одновременно в двух группах.\n",
    "\n",
    "После предобработки данных была выполнена **приоритизация гипотез с помощью разных фреймворков** и было выполнено сравнение, в каком порядке располагаются гипотезы в зависимости от выбранного фреймворка.\n",
    "\n",
    "**Фреймворк ICE** приоритизирует гипотезы в зависимости от влияния этой гипотезы на опыт пользователей, уверенности в это влияние и трудозатратности тестирования этой гипотезы.\n",
    "\n",
    "**Фреймворка RICE** действует также, но он поднимает вверх в списке гипотезы, которые могут затронуть больше пользователей.\n",
    "\n",
    "Далее был проведен анализ A/B-теста, в процессе которого были построены различные графики и выполнены статистические тесты.\n",
    "\n",
    "В процессе **A/B-теста были сделаны следующие выводы**:\n",
    "- статистическая значимость различий в **среднем количестве заказов на посетителя** между группами имеется;\n",
    "- относительная разница между **средними значениями количества заказов на посетителя** по группам выросла с 6% до 17% при очищении данных от аномалий;\n",
    "- график различия **среднего количества заказов на посетителя группы B по отношению к группе A** показывает, что у группы B на конец теста результаты на 14% лучше, чем у группы A;\n",
    "- статистическая значимость различий в **среднем чеке заказа** между группами не имеется;\n",
    "- относительная разница между **средним чеком заказа** по группам уменьшилась с 26% до -2% после очищения данных от аномальных значений;\n",
    "- график различия **среднего чека заказа группы B по отношению к группе A** показывал много скачков и в совокупности с тем, что нам говорит статистический тест, можно сказать что средний чек у обоих групп примерно одинаковый.\n",
    "\n",
    "**Рекомендации:**\n",
    "- проверить как собираются данные при проведении теста, так как в данных были найдены пользователи (58 человек), которые находятся одновременно в двух группах, по правилам проведения A/B-теста такого не может быть;\n",
    "- на основе полученных результатов рекомендую остановить тест, зафиксировать **победу группы B**, хоть средний чек у обоих групп в среднем примерно одинаков, среднее количество заказов у группы B больше, а где больше заказов, там больше выручка."
   ]
  }
 ],
 "metadata": {
  "ExecuteTimeLog": [
   {
    "duration": 1328,
    "start_time": "2023-11-30T21:45:12.887Z"
   },
   {
    "duration": 242,
    "start_time": "2023-11-30T21:45:14.217Z"
   },
   {
    "duration": 13,
    "start_time": "2023-11-30T21:45:14.461Z"
   },
   {
    "duration": 9,
    "start_time": "2023-11-30T21:45:14.476Z"
   },
   {
    "duration": 16,
    "start_time": "2023-11-30T21:45:14.487Z"
   },
   {
    "duration": 15,
    "start_time": "2023-11-30T21:45:14.505Z"
   },
   {
    "duration": 13,
    "start_time": "2023-11-30T21:45:14.522Z"
   },
   {
    "duration": 14,
    "start_time": "2023-11-30T21:45:14.537Z"
   },
   {
    "duration": 20,
    "start_time": "2023-11-30T21:45:14.553Z"
   },
   {
    "duration": 15,
    "start_time": "2023-11-30T21:45:14.577Z"
   },
   {
    "duration": 8,
    "start_time": "2023-11-30T21:45:14.594Z"
   },
   {
    "duration": 24,
    "start_time": "2023-11-30T21:45:14.604Z"
   },
   {
    "duration": 25,
    "start_time": "2023-11-30T21:45:14.630Z"
   },
   {
    "duration": 20,
    "start_time": "2023-11-30T21:45:14.658Z"
   },
   {
    "duration": 5,
    "start_time": "2023-11-30T21:45:14.680Z"
   },
   {
    "duration": 16,
    "start_time": "2023-11-30T21:45:14.687Z"
   },
   {
    "duration": 17,
    "start_time": "2023-11-30T21:45:14.705Z"
   },
   {
    "duration": 5,
    "start_time": "2023-11-30T21:45:14.724Z"
   },
   {
    "duration": 32,
    "start_time": "2023-11-30T21:45:14.731Z"
   },
   {
    "duration": 13,
    "start_time": "2023-11-30T21:45:14.765Z"
   },
   {
    "duration": 18,
    "start_time": "2023-11-30T21:45:14.780Z"
   },
   {
    "duration": 35,
    "start_time": "2023-11-30T21:45:14.800Z"
   },
   {
    "duration": 327,
    "start_time": "2023-11-30T21:45:14.837Z"
   },
   {
    "duration": 221,
    "start_time": "2023-11-30T21:45:15.166Z"
   },
   {
    "duration": 394,
    "start_time": "2023-11-30T21:45:15.388Z"
   },
   {
    "duration": 27,
    "start_time": "2023-11-30T21:45:15.785Z"
   },
   {
    "duration": 25,
    "start_time": "2023-11-30T21:45:15.813Z"
   },
   {
    "duration": 252,
    "start_time": "2023-11-30T21:45:15.843Z"
   },
   {
    "duration": 346,
    "start_time": "2023-11-30T21:45:16.097Z"
   },
   {
    "duration": 11,
    "start_time": "2023-11-30T21:45:16.444Z"
   },
   {
    "duration": 150,
    "start_time": "2023-11-30T21:45:16.456Z"
   },
   {
    "duration": 5,
    "start_time": "2023-11-30T21:45:16.608Z"
   },
   {
    "duration": 191,
    "start_time": "2023-11-30T21:45:16.622Z"
   },
   {
    "duration": 170,
    "start_time": "2023-11-30T21:45:16.815Z"
   },
   {
    "duration": 6,
    "start_time": "2023-11-30T21:45:16.988Z"
   },
   {
    "duration": 60,
    "start_time": "2023-11-30T21:45:16.996Z"
   },
   {
    "duration": 13,
    "start_time": "2023-11-30T21:45:17.058Z"
   },
   {
    "duration": 16,
    "start_time": "2023-11-30T21:45:17.073Z"
   },
   {
    "duration": 51,
    "start_time": "2023-11-30T21:45:17.090Z"
   },
   {
    "duration": 12,
    "start_time": "2023-11-30T21:45:17.143Z"
   }
  ],
  "kernelspec": {
   "display_name": "Python 3 (ipykernel)",
   "language": "python",
   "name": "python3"
  },
  "language_info": {
   "codemirror_mode": {
    "name": "ipython",
    "version": 3
   },
   "file_extension": ".py",
   "mimetype": "text/x-python",
   "name": "python",
   "nbconvert_exporter": "python",
   "pygments_lexer": "ipython3",
   "version": "3.9.5"
  },
  "toc": {
   "base_numbering": 1,
   "nav_menu": {},
   "number_sections": true,
   "sideBar": true,
   "skip_h1_title": true,
   "title_cell": "Table of Contents",
   "title_sidebar": "Содержание",
   "toc_cell": true,
   "toc_position": {
    "height": "calc(100% - 180px)",
    "left": "10px",
    "top": "150px",
    "width": "512px"
   },
   "toc_section_display": true,
   "toc_window_display": true
  }
 },
 "nbformat": 4,
 "nbformat_minor": 5
}
