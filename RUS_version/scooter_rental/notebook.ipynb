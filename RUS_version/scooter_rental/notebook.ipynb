{
 "cells": [
  {
   "cell_type": "markdown",
   "id": "9b7b4890",
   "metadata": {},
   "source": [
    "# Исследование сервиса аренды самокатов GoFast"
   ]
  },
  {
   "cell_type": "markdown",
   "id": "3674b0fa",
   "metadata": {},
   "source": [
    "**Краткое описание:** имеются данные о некоторых пользователях из нескольких городов, а также об их поездках.\n",
    "\n",
    "Чтобы совершать поездки по городу, пользователи сервиса GoFast пользуются мобильным приложением. Сервисом можно пользоваться:\n",
    "- без подписки\n",
    "    - абонентская плата отсутствует;\n",
    "    - стоимость одной минуты поездки — 8 рублей;\n",
    "    - стоимость старта (начала поездки) — 50 рублей;\n",
    "- с подпиской Ultra\n",
    "    - абонентская плата — 199 рублей в месяц;\n",
    "    - стоимость одной минуты поездки — 6 рублей;\n",
    "    - стоимость старта — бесплатно."
   ]
  },
  {
   "cell_type": "markdown",
   "id": "a7d068ed",
   "metadata": {},
   "source": [
    "**Цель проекта:** проанализировать данные и проверить некоторые гипотезы, которые могут помочь бизнесу вырасти."
   ]
  },
  {
   "cell_type": "markdown",
   "id": "5b8769a5",
   "metadata": {},
   "source": [
    "**Описание данных:**\n",
    "\n",
    "*Пользователи*\n",
    "- ```user_id``` - уникальный идентификатор пользователя\n",
    "- ```name``` - имя пользователя\n",
    "- ```age``` - возраст\n",
    "- ```city``` - город\n",
    "- ```subscription_type``` - тип подписки (free, ultra)\n",
    "\n",
    "*Поездки*\n",
    "- ```user_id``` - уникальный идентификатор пользователя\n",
    "- ```distance``` - расстояние, которое пользователь проехал в текущей сессии (в метрах)\n",
    "- ```duration``` - продолжительность сессии (в минутах) — время с того момента, как пользователь нажал кнопку «Начать поездку» до момента, как он нажал кнопку «Завершить поездку»\n",
    "- ```date``` - дата совершения поездки\n",
    "\n",
    "*Подписки*\n",
    "- ```subscription_type``` - тип подписки\n",
    "- ```minute_price``` - стоимость одной минуты поездки по данной подписке\n",
    "- ```start_ride_price``` - стоимость начала поездки\n",
    "- ```subscription_fee``` - стоимость ежемесячного платежа"
   ]
  },
  {
   "cell_type": "markdown",
   "id": "61d4b3c2",
   "metadata": {},
   "source": [
    "**План работы**\n",
    "1. Изучить данные\n",
    "2. Предобработать данные\n",
    "3. Проанализировать данные\n",
    "4. Объединить данные\n",
    "5. Подсчитать выручку\n",
    "6. Проверить гипотезы\n",
    "7. Построить распределения\n",
    "8. Оформить выводы"
   ]
  },
  {
   "cell_type": "code",
   "execution_count": 1,
   "id": "72576667",
   "metadata": {},
   "outputs": [],
   "source": [
    "import pandas as pd\n",
    "import matplotlib.pyplot as plt\n",
    "import numpy as np\n",
    "import scipy.stats as st\n",
    "from math import sqrt"
   ]
  },
  {
   "cell_type": "markdown",
   "id": "c42cbe00",
   "metadata": {},
   "source": [
    "## Шаг 1. Загрузка и изучение данных"
   ]
  },
  {
   "cell_type": "code",
   "execution_count": 2,
   "id": "eff9f206",
   "metadata": {},
   "outputs": [],
   "source": [
    "users = pd.read_csv('.\\\\datasets\\\\users_go.csv')\n",
    "rides = pd.read_csv('.\\\\datasets\\\\rides_go.csv')\n",
    "subscriptions = pd.read_csv('.\\\\datasets\\\\subscriptions_go.csv')"
   ]
  },
  {
   "cell_type": "markdown",
   "id": "114c6746",
   "metadata": {},
   "source": [
    "### Users"
   ]
  },
  {
   "cell_type": "code",
   "execution_count": 3,
   "id": "dc001da0",
   "metadata": {
    "scrolled": true
   },
   "outputs": [
    {
     "data": {
      "text/html": [
       "<div>\n",
       "<style scoped>\n",
       "    .dataframe tbody tr th:only-of-type {\n",
       "        vertical-align: middle;\n",
       "    }\n",
       "\n",
       "    .dataframe tbody tr th {\n",
       "        vertical-align: top;\n",
       "    }\n",
       "\n",
       "    .dataframe thead th {\n",
       "        text-align: right;\n",
       "    }\n",
       "</style>\n",
       "<table border=\"1\" class=\"dataframe\">\n",
       "  <thead>\n",
       "    <tr style=\"text-align: right;\">\n",
       "      <th></th>\n",
       "      <th>user_id</th>\n",
       "      <th>name</th>\n",
       "      <th>age</th>\n",
       "      <th>city</th>\n",
       "      <th>subscription_type</th>\n",
       "    </tr>\n",
       "  </thead>\n",
       "  <tbody>\n",
       "    <tr>\n",
       "      <th>0</th>\n",
       "      <td>1</td>\n",
       "      <td>Кира</td>\n",
       "      <td>22</td>\n",
       "      <td>Тюмень</td>\n",
       "      <td>ultra</td>\n",
       "    </tr>\n",
       "    <tr>\n",
       "      <th>1</th>\n",
       "      <td>2</td>\n",
       "      <td>Станислав</td>\n",
       "      <td>31</td>\n",
       "      <td>Омск</td>\n",
       "      <td>ultra</td>\n",
       "    </tr>\n",
       "    <tr>\n",
       "      <th>2</th>\n",
       "      <td>3</td>\n",
       "      <td>Алексей</td>\n",
       "      <td>20</td>\n",
       "      <td>Москва</td>\n",
       "      <td>ultra</td>\n",
       "    </tr>\n",
       "    <tr>\n",
       "      <th>3</th>\n",
       "      <td>4</td>\n",
       "      <td>Константин</td>\n",
       "      <td>26</td>\n",
       "      <td>Ростов-на-Дону</td>\n",
       "      <td>ultra</td>\n",
       "    </tr>\n",
       "    <tr>\n",
       "      <th>4</th>\n",
       "      <td>5</td>\n",
       "      <td>Адель</td>\n",
       "      <td>28</td>\n",
       "      <td>Омск</td>\n",
       "      <td>ultra</td>\n",
       "    </tr>\n",
       "  </tbody>\n",
       "</table>\n",
       "</div>"
      ],
      "text/plain": [
       "   user_id        name  age            city subscription_type\n",
       "0        1        Кира   22          Тюмень             ultra\n",
       "1        2   Станислав   31            Омск             ultra\n",
       "2        3     Алексей   20          Москва             ultra\n",
       "3        4  Константин   26  Ростов-на-Дону             ultra\n",
       "4        5       Адель   28            Омск             ultra"
      ]
     },
     "execution_count": 3,
     "metadata": {},
     "output_type": "execute_result"
    }
   ],
   "source": [
    "users.head()"
   ]
  },
  {
   "cell_type": "code",
   "execution_count": 4,
   "id": "176468da",
   "metadata": {},
   "outputs": [
    {
     "name": "stdout",
     "output_type": "stream",
     "text": [
      "<class 'pandas.core.frame.DataFrame'>\n",
      "RangeIndex: 1565 entries, 0 to 1564\n",
      "Data columns (total 5 columns):\n",
      " #   Column             Non-Null Count  Dtype \n",
      "---  ------             --------------  ----- \n",
      " 0   user_id            1565 non-null   int64 \n",
      " 1   name               1565 non-null   object\n",
      " 2   age                1565 non-null   int64 \n",
      " 3   city               1565 non-null   object\n",
      " 4   subscription_type  1565 non-null   object\n",
      "dtypes: int64(2), object(3)\n",
      "memory usage: 61.3+ KB\n"
     ]
    }
   ],
   "source": [
    "users.info()"
   ]
  },
  {
   "cell_type": "markdown",
   "id": "e097097c",
   "metadata": {},
   "source": [
    "### Rides"
   ]
  },
  {
   "cell_type": "code",
   "execution_count": 5,
   "id": "d35a1bd8",
   "metadata": {},
   "outputs": [
    {
     "data": {
      "text/html": [
       "<div>\n",
       "<style scoped>\n",
       "    .dataframe tbody tr th:only-of-type {\n",
       "        vertical-align: middle;\n",
       "    }\n",
       "\n",
       "    .dataframe tbody tr th {\n",
       "        vertical-align: top;\n",
       "    }\n",
       "\n",
       "    .dataframe thead th {\n",
       "        text-align: right;\n",
       "    }\n",
       "</style>\n",
       "<table border=\"1\" class=\"dataframe\">\n",
       "  <thead>\n",
       "    <tr style=\"text-align: right;\">\n",
       "      <th></th>\n",
       "      <th>user_id</th>\n",
       "      <th>distance</th>\n",
       "      <th>duration</th>\n",
       "      <th>date</th>\n",
       "    </tr>\n",
       "  </thead>\n",
       "  <tbody>\n",
       "    <tr>\n",
       "      <th>0</th>\n",
       "      <td>1</td>\n",
       "      <td>4409.919140</td>\n",
       "      <td>25.599769</td>\n",
       "      <td>2021-01-01</td>\n",
       "    </tr>\n",
       "    <tr>\n",
       "      <th>1</th>\n",
       "      <td>1</td>\n",
       "      <td>2617.592153</td>\n",
       "      <td>15.816871</td>\n",
       "      <td>2021-01-18</td>\n",
       "    </tr>\n",
       "    <tr>\n",
       "      <th>2</th>\n",
       "      <td>1</td>\n",
       "      <td>754.159807</td>\n",
       "      <td>6.232113</td>\n",
       "      <td>2021-04-20</td>\n",
       "    </tr>\n",
       "    <tr>\n",
       "      <th>3</th>\n",
       "      <td>1</td>\n",
       "      <td>2694.783254</td>\n",
       "      <td>18.511000</td>\n",
       "      <td>2021-08-11</td>\n",
       "    </tr>\n",
       "    <tr>\n",
       "      <th>4</th>\n",
       "      <td>1</td>\n",
       "      <td>4028.687306</td>\n",
       "      <td>26.265803</td>\n",
       "      <td>2021-08-28</td>\n",
       "    </tr>\n",
       "  </tbody>\n",
       "</table>\n",
       "</div>"
      ],
      "text/plain": [
       "   user_id     distance   duration        date\n",
       "0        1  4409.919140  25.599769  2021-01-01\n",
       "1        1  2617.592153  15.816871  2021-01-18\n",
       "2        1   754.159807   6.232113  2021-04-20\n",
       "3        1  2694.783254  18.511000  2021-08-11\n",
       "4        1  4028.687306  26.265803  2021-08-28"
      ]
     },
     "execution_count": 5,
     "metadata": {},
     "output_type": "execute_result"
    }
   ],
   "source": [
    "rides.head()"
   ]
  },
  {
   "cell_type": "code",
   "execution_count": 6,
   "id": "2b3c0daa",
   "metadata": {},
   "outputs": [
    {
     "name": "stdout",
     "output_type": "stream",
     "text": [
      "<class 'pandas.core.frame.DataFrame'>\n",
      "RangeIndex: 18068 entries, 0 to 18067\n",
      "Data columns (total 4 columns):\n",
      " #   Column    Non-Null Count  Dtype  \n",
      "---  ------    --------------  -----  \n",
      " 0   user_id   18068 non-null  int64  \n",
      " 1   distance  18068 non-null  float64\n",
      " 2   duration  18068 non-null  float64\n",
      " 3   date      18068 non-null  object \n",
      "dtypes: float64(2), int64(1), object(1)\n",
      "memory usage: 564.8+ KB\n"
     ]
    }
   ],
   "source": [
    "rides.info()"
   ]
  },
  {
   "cell_type": "markdown",
   "id": "800034ed",
   "metadata": {},
   "source": [
    "### Subscriptions"
   ]
  },
  {
   "cell_type": "code",
   "execution_count": 7,
   "id": "a850a74d",
   "metadata": {},
   "outputs": [
    {
     "data": {
      "text/html": [
       "<div>\n",
       "<style scoped>\n",
       "    .dataframe tbody tr th:only-of-type {\n",
       "        vertical-align: middle;\n",
       "    }\n",
       "\n",
       "    .dataframe tbody tr th {\n",
       "        vertical-align: top;\n",
       "    }\n",
       "\n",
       "    .dataframe thead th {\n",
       "        text-align: right;\n",
       "    }\n",
       "</style>\n",
       "<table border=\"1\" class=\"dataframe\">\n",
       "  <thead>\n",
       "    <tr style=\"text-align: right;\">\n",
       "      <th></th>\n",
       "      <th>subscription_type</th>\n",
       "      <th>minute_price</th>\n",
       "      <th>start_ride_price</th>\n",
       "      <th>subscription_fee</th>\n",
       "    </tr>\n",
       "  </thead>\n",
       "  <tbody>\n",
       "    <tr>\n",
       "      <th>0</th>\n",
       "      <td>free</td>\n",
       "      <td>8</td>\n",
       "      <td>50</td>\n",
       "      <td>0</td>\n",
       "    </tr>\n",
       "    <tr>\n",
       "      <th>1</th>\n",
       "      <td>ultra</td>\n",
       "      <td>6</td>\n",
       "      <td>0</td>\n",
       "      <td>199</td>\n",
       "    </tr>\n",
       "  </tbody>\n",
       "</table>\n",
       "</div>"
      ],
      "text/plain": [
       "  subscription_type  minute_price  start_ride_price  subscription_fee\n",
       "0              free             8                50                 0\n",
       "1             ultra             6                 0               199"
      ]
     },
     "execution_count": 7,
     "metadata": {},
     "output_type": "execute_result"
    }
   ],
   "source": [
    "subscriptions.head()"
   ]
  },
  {
   "cell_type": "markdown",
   "id": "f81aed4c",
   "metadata": {},
   "source": [
    "### Промежуточный вывод"
   ]
  },
  {
   "cell_type": "markdown",
   "id": "43218cfc",
   "metadata": {},
   "source": [
    "Данные были получены, сохранены в переменные и изучены.\n",
    "\n",
    "По первичному анализу данных пропусков в них не наблюдается, типы данных столбцов, кроме даты поздки, являются подходящими для хранящихся в них значениях."
   ]
  },
  {
   "cell_type": "markdown",
   "id": "e95ebca7",
   "metadata": {},
   "source": [
    "## Шаг 2. Предобработка данных"
   ]
  },
  {
   "cell_type": "markdown",
   "id": "c00151a7",
   "metadata": {},
   "source": [
    "### Приведение типов данных"
   ]
  },
  {
   "cell_type": "code",
   "execution_count": 8,
   "id": "af6d202c",
   "metadata": {},
   "outputs": [
    {
     "data": {
      "text/plain": [
       "0   2021-01-01\n",
       "1   2021-01-18\n",
       "2   2021-04-20\n",
       "3   2021-08-11\n",
       "4   2021-08-28\n",
       "Name: date, dtype: datetime64[ns]"
      ]
     },
     "execution_count": 8,
     "metadata": {},
     "output_type": "execute_result"
    }
   ],
   "source": [
    "rides['date'] = pd.to_datetime(rides['date'], format='%Y-%m-%d')\n",
    "rides['date'].head()"
   ]
  },
  {
   "cell_type": "markdown",
   "id": "d6547b5b",
   "metadata": {},
   "source": [
    "Столбец ```data``` был приведен к типу datetime."
   ]
  },
  {
   "cell_type": "markdown",
   "id": "aaae8e7a",
   "metadata": {},
   "source": [
    "### Создание необходимых столбцов"
   ]
  },
  {
   "cell_type": "code",
   "execution_count": 9,
   "id": "0367486c",
   "metadata": {},
   "outputs": [
    {
     "data": {
      "text/html": [
       "<div>\n",
       "<style scoped>\n",
       "    .dataframe tbody tr th:only-of-type {\n",
       "        vertical-align: middle;\n",
       "    }\n",
       "\n",
       "    .dataframe tbody tr th {\n",
       "        vertical-align: top;\n",
       "    }\n",
       "\n",
       "    .dataframe thead th {\n",
       "        text-align: right;\n",
       "    }\n",
       "</style>\n",
       "<table border=\"1\" class=\"dataframe\">\n",
       "  <thead>\n",
       "    <tr style=\"text-align: right;\">\n",
       "      <th></th>\n",
       "      <th>user_id</th>\n",
       "      <th>distance</th>\n",
       "      <th>duration</th>\n",
       "      <th>date</th>\n",
       "      <th>month</th>\n",
       "    </tr>\n",
       "  </thead>\n",
       "  <tbody>\n",
       "    <tr>\n",
       "      <th>0</th>\n",
       "      <td>1</td>\n",
       "      <td>4409.919140</td>\n",
       "      <td>25.599769</td>\n",
       "      <td>2021-01-01</td>\n",
       "      <td>1</td>\n",
       "    </tr>\n",
       "    <tr>\n",
       "      <th>1</th>\n",
       "      <td>1</td>\n",
       "      <td>2617.592153</td>\n",
       "      <td>15.816871</td>\n",
       "      <td>2021-01-18</td>\n",
       "      <td>1</td>\n",
       "    </tr>\n",
       "    <tr>\n",
       "      <th>2</th>\n",
       "      <td>1</td>\n",
       "      <td>754.159807</td>\n",
       "      <td>6.232113</td>\n",
       "      <td>2021-04-20</td>\n",
       "      <td>4</td>\n",
       "    </tr>\n",
       "    <tr>\n",
       "      <th>3</th>\n",
       "      <td>1</td>\n",
       "      <td>2694.783254</td>\n",
       "      <td>18.511000</td>\n",
       "      <td>2021-08-11</td>\n",
       "      <td>8</td>\n",
       "    </tr>\n",
       "    <tr>\n",
       "      <th>4</th>\n",
       "      <td>1</td>\n",
       "      <td>4028.687306</td>\n",
       "      <td>26.265803</td>\n",
       "      <td>2021-08-28</td>\n",
       "      <td>8</td>\n",
       "    </tr>\n",
       "  </tbody>\n",
       "</table>\n",
       "</div>"
      ],
      "text/plain": [
       "   user_id     distance   duration       date  month\n",
       "0        1  4409.919140  25.599769 2021-01-01      1\n",
       "1        1  2617.592153  15.816871 2021-01-18      1\n",
       "2        1   754.159807   6.232113 2021-04-20      4\n",
       "3        1  2694.783254  18.511000 2021-08-11      8\n",
       "4        1  4028.687306  26.265803 2021-08-28      8"
      ]
     },
     "execution_count": 9,
     "metadata": {},
     "output_type": "execute_result"
    }
   ],
   "source": [
    "rides['month'] = rides['date'].dt.month\n",
    "rides.head()"
   ]
  },
  {
   "cell_type": "markdown",
   "id": "24cf8bc5",
   "metadata": {},
   "source": [
    "Был создан столбец ```month```, содержащий месяц поездки."
   ]
  },
  {
   "cell_type": "markdown",
   "id": "82c950e0",
   "metadata": {},
   "source": [
    "### Поиск дупликатов"
   ]
  },
  {
   "cell_type": "code",
   "execution_count": 10,
   "id": "2042d109",
   "metadata": {},
   "outputs": [
    {
     "data": {
      "text/plain": [
       "array(['Тюмень', 'Омск', 'Москва', 'Ростов-на-Дону', 'Краснодар',\n",
       "       'Пятигорск', 'Екатеринбург', 'Сочи'], dtype=object)"
      ]
     },
     "execution_count": 10,
     "metadata": {},
     "output_type": "execute_result"
    }
   ],
   "source": [
    "users['city'].unique()"
   ]
  },
  {
   "cell_type": "code",
   "execution_count": 11,
   "id": "f412505e",
   "metadata": {},
   "outputs": [
    {
     "data": {
      "text/plain": [
       "31"
      ]
     },
     "execution_count": 11,
     "metadata": {},
     "output_type": "execute_result"
    }
   ],
   "source": [
    "users.duplicated().sum()"
   ]
  },
  {
   "cell_type": "code",
   "execution_count": 12,
   "id": "d2e6f9b4",
   "metadata": {
    "scrolled": false
   },
   "outputs": [
    {
     "data": {
      "text/plain": [
       "'Процент дупликатов от всех данных: 1.98%'"
      ]
     },
     "execution_count": 12,
     "metadata": {},
     "output_type": "execute_result"
    }
   ],
   "source": [
    "f'Процент дупликатов от всех данных: {(users.duplicated().sum() / users.shape[0]):.2%}'"
   ]
  },
  {
   "cell_type": "code",
   "execution_count": 13,
   "id": "d18b3160",
   "metadata": {},
   "outputs": [
    {
     "name": "stdout",
     "output_type": "stream",
     "text": [
      "<class 'pandas.core.frame.DataFrame'>\n",
      "RangeIndex: 1534 entries, 0 to 1533\n",
      "Data columns (total 5 columns):\n",
      " #   Column             Non-Null Count  Dtype \n",
      "---  ------             --------------  ----- \n",
      " 0   user_id            1534 non-null   int64 \n",
      " 1   name               1534 non-null   object\n",
      " 2   age                1534 non-null   int64 \n",
      " 3   city               1534 non-null   object\n",
      " 4   subscription_type  1534 non-null   object\n",
      "dtypes: int64(2), object(3)\n",
      "memory usage: 60.0+ KB\n"
     ]
    }
   ],
   "source": [
    "users = users.drop_duplicates().reset_index(drop=True)\n",
    "users.info()"
   ]
  },
  {
   "cell_type": "code",
   "execution_count": 14,
   "id": "3a849070",
   "metadata": {},
   "outputs": [
    {
     "data": {
      "text/plain": [
       "0"
      ]
     },
     "execution_count": 14,
     "metadata": {},
     "output_type": "execute_result"
    }
   ],
   "source": [
    "rides.duplicated().sum()"
   ]
  },
  {
   "cell_type": "markdown",
   "id": "4be2c345",
   "metadata": {},
   "source": [
    "Были найдены явные дубликаты в датафрейме users и удалены."
   ]
  },
  {
   "cell_type": "markdown",
   "id": "212593c7",
   "metadata": {},
   "source": [
    "## Шаг 3. Исследовательский анализ данных"
   ]
  },
  {
   "cell_type": "code",
   "execution_count": 15,
   "id": "7388b83f",
   "metadata": {},
   "outputs": [
    {
     "data": {
      "text/plain": [
       "<AxesSubplot:title={'center':'Частота вречаемости городов в данных'}, xlabel='Города', ylabel='Сколько раз встречается город'>"
      ]
     },
     "execution_count": 15,
     "metadata": {},
     "output_type": "execute_result"
    },
    {
     "data": {
      "image/png": "[encoded data removed]",
      "text/plain": [
       "<Figure size 432x288 with 1 Axes>"
      ]
     },
     "metadata": {
      "needs_background": "light"
     },
     "output_type": "display_data"
    }
   ],
   "source": [
    "users['city'].value_counts().plot(kind='bar', grid=True,\n",
    "                                  title='Частота встречаемости городов в данных',\n",
    "                                  ylabel='Сколько раз встречается город',\n",
    "                                  xlabel='Города'\n",
    "                                 )"
   ]
  },
  {
   "cell_type": "code",
   "execution_count": 16,
   "id": "aa6fd452",
   "metadata": {},
   "outputs": [
    {
     "data": {
      "text/plain": [
       "city\n",
       "Пятигорск         219\n",
       "Екатеринбург      204\n",
       "Ростов-на-Дону    198\n",
       "Краснодар         193\n",
       "Сочи              189\n",
       "Омск              183\n",
       "Тюмень            180\n",
       "Москва            168\n",
       "Name: count, dtype: int64"
      ]
     },
     "execution_count": 16,
     "metadata": {},
     "output_type": "execute_result"
    }
   ],
   "source": [
    "users['city'].value_counts()"
   ]
  },
  {
   "cell_type": "markdown",
   "id": "120dea7c",
   "metadata": {},
   "source": [
    "По графику выше можно увидеть, что зарегистрированных пользователей больше всего в Пятигорске, а меньше всего в Москве, но различие не большое, около 50 пользователей."
   ]
  },
  {
   "cell_type": "code",
   "execution_count": 17,
   "id": "6d931546",
   "metadata": {},
   "outputs": [
    {
     "data": {
      "text/plain": [
       "subscription_type\n",
       "free     0.544329\n",
       "ultra    0.455671\n",
       "Name: proportion, dtype: float64"
      ]
     },
     "execution_count": 17,
     "metadata": {},
     "output_type": "execute_result"
    }
   ],
   "source": [
    "users['subscription_type'].value_counts(normalize=True)"
   ]
  },
  {
   "cell_type": "code",
   "execution_count": 18,
   "id": "1f9698e3",
   "metadata": {},
   "outputs": [
    {
     "data": {
      "text/plain": [
       "<AxesSubplot:title={'center':'Сколько пользователей с подпиской и без'}, ylabel='proportion'>"
      ]
     },
     "execution_count": 18,
     "metadata": {},
     "output_type": "execute_result"
    },
    {
     "data": {
      "image/png": "[encoded data removed]",
      "text/plain": [
       "<Figure size 432x288 with 1 Axes>"
      ]
     },
     "metadata": {},
     "output_type": "display_data"
    }
   ],
   "source": [
    "users['subscription_type'].value_counts(normalize=True).plot(kind='pie', legend=True,\n",
    "                                                             title='Сколько пользователей с подпиской и без', autopct='%1.1f%%',\n",
    "                                                             labels=['Без подписки', 'С подпиской']\n",
    "                                                            )"
   ]
  },
  {
   "cell_type": "markdown",
   "id": "c50e10a6",
   "metadata": {},
   "source": [
    "54% пользователей имеют бесплатную подписку, остальные имеют платную подписку."
   ]
  },
  {
   "cell_type": "code",
   "execution_count": 19,
   "id": "8e0ec460",
   "metadata": {},
   "outputs": [
    {
     "data": {
      "text/plain": [
       "<AxesSubplot:title={'center':'Гистограмма возраста пользователей'}, xlabel='Возраст', ylabel='Частота'>"
      ]
     },
     "execution_count": 19,
     "metadata": {},
     "output_type": "execute_result"
    },
    {
     "data": {
      "image/png": "[encoded data removed]",
      "text/plain": [
       "<Figure size 432x288 with 1 Axes>"
      ]
     },
     "metadata": {
      "needs_background": "light"
     },
     "output_type": "display_data"
    }
   ],
   "source": [
    "users['age'].plot(kind='hist', grid=True,\n",
    "                  xlabel='Возраст', ylabel='Частота',\n",
    "                  title='Гистограмма возраста пользователей'\n",
    "                 )"
   ]
  },
  {
   "cell_type": "code",
   "execution_count": 20,
   "id": "04763252",
   "metadata": {},
   "outputs": [
    {
     "data": {
      "text/plain": [
       "count    1534.000000\n",
       "mean       24.903520\n",
       "std         4.572367\n",
       "min        12.000000\n",
       "25%        22.000000\n",
       "50%        25.000000\n",
       "75%        28.000000\n",
       "max        43.000000\n",
       "Name: age, dtype: float64"
      ]
     },
     "execution_count": 20,
     "metadata": {},
     "output_type": "execute_result"
    }
   ],
   "source": [
    "users['age'].describe()"
   ]
  },
  {
   "cell_type": "markdown",
   "id": "21a6ce5b",
   "metadata": {},
   "source": [
    "Данные по возрасту пользователей распределены нормально, больше всего пользователей 22-28 летние, дальше, по мере удаления возраста от этих значений в обе стороны, количнство людей имеющих возраст отличный от 22-28 лет уменьшается.\n",
    "\n",
    "Меньше всего пользователей, имеющих возраст более 38 лет."
   ]
  },
  {
   "cell_type": "code",
   "execution_count": 21,
   "id": "3fb2585d",
   "metadata": {},
   "outputs": [
    {
     "data": {
      "text/plain": [
       "<AxesSubplot:title={'center':'Гистограмма для расстояний, которые проехали пользователи'}, xlabel='Метры', ylabel='Частота'>"
      ]
     },
     "execution_count": 21,
     "metadata": {},
     "output_type": "execute_result"
    },
    {
     "data": {
      "image/png": "[encoded data removed]",
      "text/plain": [
       "<Figure size 432x288 with 1 Axes>"
      ]
     },
     "metadata": {
      "needs_background": "light"
     },
     "output_type": "display_data"
    }
   ],
   "source": [
    "rides['distance'].plot(kind='hist', bins=60, grid=True,\n",
    "                      ylabel='Частота', xlabel='Метры',\n",
    "                      title='Гистограмма для расстояний, которые проехали пользователи')"
   ]
  },
  {
   "cell_type": "markdown",
   "id": "97766367",
   "metadata": {},
   "source": [
    "Пользовали в среднем, чаще всего, проезжают около 3км. на самокате, так же имеется небольшой выброс-нормальное распределение, который показывает, что некоторые пользователи берут самокат чтобы проехать около 500 метров, наверное когда им нужно проехаться не на дальнее растояние или просто покататься."
   ]
  },
  {
   "cell_type": "code",
   "execution_count": 22,
   "id": "76876a23",
   "metadata": {},
   "outputs": [
    {
     "data": {
      "text/plain": [
       "<AxesSubplot:title={'center':'Гистограмма для длительности поездок пользователей'}, xlabel='Минуты', ylabel='Частота'>"
      ]
     },
     "execution_count": 22,
     "metadata": {},
     "output_type": "execute_result"
    },
    {
     "data": {
      "image/png": "[encoded data removed]",
      "text/plain": [
       "<Figure size 432x288 with 1 Axes>"
      ]
     },
     "metadata": {
      "needs_background": "light"
     },
     "output_type": "display_data"
    }
   ],
   "source": [
    "rides['duration'].plot(kind='hist', bins=40, grid=True,\n",
    "                      ylabel='Частота', xlabel='Минуты',\n",
    "                      title='Гистограмма для длительности поездок пользователей')"
   ]
  },
  {
   "cell_type": "markdown",
   "id": "4801c129",
   "metadata": {},
   "source": [
    "В среднем поездка у пользователей длится около 15-20 минут. Имеется небольшое отклоенение около 1 минуты поездки."
   ]
  },
  {
   "cell_type": "markdown",
   "id": "2b2c4a08",
   "metadata": {},
   "source": [
    "### Промежуточный вывод"
   ]
  },
  {
   "cell_type": "markdown",
   "id": "f565d5e0",
   "metadata": {},
   "source": [
    "- пользователей больше всего из Пятигорска, меньше всего из Москвы;\n",
    "- 54% пользователей имеют бесплатную подписку, остальные имеют платную подписку;\n",
    "- больше всего пользователей 22-28 летние;\n",
    "- пользовали в среднем проезжают около 3км. на самокате;\n",
    "- в среднем поездка у пользователей длится около 15-20 минут."
   ]
  },
  {
   "cell_type": "markdown",
   "id": "4ef51331",
   "metadata": {},
   "source": [
    "## Шаг 4. Объединение данных"
   ]
  },
  {
   "cell_type": "code",
   "execution_count": 23,
   "id": "6bf288b5",
   "metadata": {},
   "outputs": [
    {
     "data": {
      "text/html": [
       "<div>\n",
       "<style scoped>\n",
       "    .dataframe tbody tr th:only-of-type {\n",
       "        vertical-align: middle;\n",
       "    }\n",
       "\n",
       "    .dataframe tbody tr th {\n",
       "        vertical-align: top;\n",
       "    }\n",
       "\n",
       "    .dataframe thead th {\n",
       "        text-align: right;\n",
       "    }\n",
       "</style>\n",
       "<table border=\"1\" class=\"dataframe\">\n",
       "  <thead>\n",
       "    <tr style=\"text-align: right;\">\n",
       "      <th></th>\n",
       "      <th>user_id</th>\n",
       "      <th>name</th>\n",
       "      <th>age</th>\n",
       "      <th>city</th>\n",
       "      <th>subscription_type</th>\n",
       "      <th>distance</th>\n",
       "      <th>duration</th>\n",
       "      <th>date</th>\n",
       "      <th>month</th>\n",
       "    </tr>\n",
       "  </thead>\n",
       "  <tbody>\n",
       "    <tr>\n",
       "      <th>0</th>\n",
       "      <td>1</td>\n",
       "      <td>Кира</td>\n",
       "      <td>22</td>\n",
       "      <td>Тюмень</td>\n",
       "      <td>ultra</td>\n",
       "      <td>4409.919140</td>\n",
       "      <td>25.599769</td>\n",
       "      <td>2021-01-01</td>\n",
       "      <td>1</td>\n",
       "    </tr>\n",
       "    <tr>\n",
       "      <th>1</th>\n",
       "      <td>1</td>\n",
       "      <td>Кира</td>\n",
       "      <td>22</td>\n",
       "      <td>Тюмень</td>\n",
       "      <td>ultra</td>\n",
       "      <td>2617.592153</td>\n",
       "      <td>15.816871</td>\n",
       "      <td>2021-01-18</td>\n",
       "      <td>1</td>\n",
       "    </tr>\n",
       "    <tr>\n",
       "      <th>2</th>\n",
       "      <td>1</td>\n",
       "      <td>Кира</td>\n",
       "      <td>22</td>\n",
       "      <td>Тюмень</td>\n",
       "      <td>ultra</td>\n",
       "      <td>754.159807</td>\n",
       "      <td>6.232113</td>\n",
       "      <td>2021-04-20</td>\n",
       "      <td>4</td>\n",
       "    </tr>\n",
       "    <tr>\n",
       "      <th>3</th>\n",
       "      <td>1</td>\n",
       "      <td>Кира</td>\n",
       "      <td>22</td>\n",
       "      <td>Тюмень</td>\n",
       "      <td>ultra</td>\n",
       "      <td>2694.783254</td>\n",
       "      <td>18.511000</td>\n",
       "      <td>2021-08-11</td>\n",
       "      <td>8</td>\n",
       "    </tr>\n",
       "    <tr>\n",
       "      <th>4</th>\n",
       "      <td>1</td>\n",
       "      <td>Кира</td>\n",
       "      <td>22</td>\n",
       "      <td>Тюмень</td>\n",
       "      <td>ultra</td>\n",
       "      <td>4028.687306</td>\n",
       "      <td>26.265803</td>\n",
       "      <td>2021-08-28</td>\n",
       "      <td>8</td>\n",
       "    </tr>\n",
       "  </tbody>\n",
       "</table>\n",
       "</div>"
      ],
      "text/plain": [
       "   user_id  name  age    city subscription_type     distance   duration  \\\n",
       "0        1  Кира   22  Тюмень             ultra  4409.919140  25.599769   \n",
       "1        1  Кира   22  Тюмень             ultra  2617.592153  15.816871   \n",
       "2        1  Кира   22  Тюмень             ultra   754.159807   6.232113   \n",
       "3        1  Кира   22  Тюмень             ultra  2694.783254  18.511000   \n",
       "4        1  Кира   22  Тюмень             ultra  4028.687306  26.265803   \n",
       "\n",
       "        date  month  \n",
       "0 2021-01-01      1  \n",
       "1 2021-01-18      1  \n",
       "2 2021-04-20      4  \n",
       "3 2021-08-11      8  \n",
       "4 2021-08-28      8  "
      ]
     },
     "execution_count": 23,
     "metadata": {},
     "output_type": "execute_result"
    }
   ],
   "source": [
    "data = users.merge(rides, on='user_id')\n",
    "data.head()"
   ]
  },
  {
   "cell_type": "markdown",
   "id": "3b1720bc",
   "metadata": {},
   "source": [
    "Объединяем датафрейм users и rides в датафрейм data."
   ]
  },
  {
   "cell_type": "code",
   "execution_count": 24,
   "id": "1b1c1d4c",
   "metadata": {},
   "outputs": [
    {
     "data": {
      "text/html": [
       "<div>\n",
       "<style scoped>\n",
       "    .dataframe tbody tr th:only-of-type {\n",
       "        vertical-align: middle;\n",
       "    }\n",
       "\n",
       "    .dataframe tbody tr th {\n",
       "        vertical-align: top;\n",
       "    }\n",
       "\n",
       "    .dataframe thead th {\n",
       "        text-align: right;\n",
       "    }\n",
       "</style>\n",
       "<table border=\"1\" class=\"dataframe\">\n",
       "  <thead>\n",
       "    <tr style=\"text-align: right;\">\n",
       "      <th></th>\n",
       "      <th>user_id</th>\n",
       "      <th>name</th>\n",
       "      <th>age</th>\n",
       "      <th>city</th>\n",
       "      <th>subscription_type</th>\n",
       "      <th>distance</th>\n",
       "      <th>duration</th>\n",
       "      <th>date</th>\n",
       "      <th>month</th>\n",
       "      <th>minute_price</th>\n",
       "      <th>start_ride_price</th>\n",
       "      <th>subscription_fee</th>\n",
       "    </tr>\n",
       "  </thead>\n",
       "  <tbody>\n",
       "    <tr>\n",
       "      <th>0</th>\n",
       "      <td>1</td>\n",
       "      <td>Кира</td>\n",
       "      <td>22</td>\n",
       "      <td>Тюмень</td>\n",
       "      <td>ultra</td>\n",
       "      <td>4409.919140</td>\n",
       "      <td>25.599769</td>\n",
       "      <td>2021-01-01</td>\n",
       "      <td>1</td>\n",
       "      <td>6</td>\n",
       "      <td>0</td>\n",
       "      <td>199</td>\n",
       "    </tr>\n",
       "    <tr>\n",
       "      <th>1</th>\n",
       "      <td>1</td>\n",
       "      <td>Кира</td>\n",
       "      <td>22</td>\n",
       "      <td>Тюмень</td>\n",
       "      <td>ultra</td>\n",
       "      <td>2617.592153</td>\n",
       "      <td>15.816871</td>\n",
       "      <td>2021-01-18</td>\n",
       "      <td>1</td>\n",
       "      <td>6</td>\n",
       "      <td>0</td>\n",
       "      <td>199</td>\n",
       "    </tr>\n",
       "    <tr>\n",
       "      <th>2</th>\n",
       "      <td>1</td>\n",
       "      <td>Кира</td>\n",
       "      <td>22</td>\n",
       "      <td>Тюмень</td>\n",
       "      <td>ultra</td>\n",
       "      <td>754.159807</td>\n",
       "      <td>6.232113</td>\n",
       "      <td>2021-04-20</td>\n",
       "      <td>4</td>\n",
       "      <td>6</td>\n",
       "      <td>0</td>\n",
       "      <td>199</td>\n",
       "    </tr>\n",
       "    <tr>\n",
       "      <th>3</th>\n",
       "      <td>1</td>\n",
       "      <td>Кира</td>\n",
       "      <td>22</td>\n",
       "      <td>Тюмень</td>\n",
       "      <td>ultra</td>\n",
       "      <td>2694.783254</td>\n",
       "      <td>18.511000</td>\n",
       "      <td>2021-08-11</td>\n",
       "      <td>8</td>\n",
       "      <td>6</td>\n",
       "      <td>0</td>\n",
       "      <td>199</td>\n",
       "    </tr>\n",
       "    <tr>\n",
       "      <th>4</th>\n",
       "      <td>1</td>\n",
       "      <td>Кира</td>\n",
       "      <td>22</td>\n",
       "      <td>Тюмень</td>\n",
       "      <td>ultra</td>\n",
       "      <td>4028.687306</td>\n",
       "      <td>26.265803</td>\n",
       "      <td>2021-08-28</td>\n",
       "      <td>8</td>\n",
       "      <td>6</td>\n",
       "      <td>0</td>\n",
       "      <td>199</td>\n",
       "    </tr>\n",
       "  </tbody>\n",
       "</table>\n",
       "</div>"
      ],
      "text/plain": [
       "   user_id  name  age    city subscription_type     distance   duration  \\\n",
       "0        1  Кира   22  Тюмень             ultra  4409.919140  25.599769   \n",
       "1        1  Кира   22  Тюмень             ultra  2617.592153  15.816871   \n",
       "2        1  Кира   22  Тюмень             ultra   754.159807   6.232113   \n",
       "3        1  Кира   22  Тюмень             ultra  2694.783254  18.511000   \n",
       "4        1  Кира   22  Тюмень             ultra  4028.687306  26.265803   \n",
       "\n",
       "        date  month  minute_price  start_ride_price  subscription_fee  \n",
       "0 2021-01-01      1             6                 0               199  \n",
       "1 2021-01-18      1             6                 0               199  \n",
       "2 2021-04-20      4             6                 0               199  \n",
       "3 2021-08-11      8             6                 0               199  \n",
       "4 2021-08-28      8             6                 0               199  "
      ]
     },
     "execution_count": 24,
     "metadata": {},
     "output_type": "execute_result"
    }
   ],
   "source": [
    "data = data.merge(subscriptions, on='subscription_type')\n",
    "data.head()"
   ]
  },
  {
   "cell_type": "markdown",
   "id": "3bb43a8d",
   "metadata": {},
   "source": [
    "Объединяем датафрейм data и subscription в датафрейм data."
   ]
  },
  {
   "cell_type": "code",
   "execution_count": 25,
   "id": "cf221a6d",
   "metadata": {},
   "outputs": [
    {
     "data": {
      "text/html": [
       "<div>\n",
       "<style scoped>\n",
       "    .dataframe tbody tr th:only-of-type {\n",
       "        vertical-align: middle;\n",
       "    }\n",
       "\n",
       "    .dataframe tbody tr th {\n",
       "        vertical-align: top;\n",
       "    }\n",
       "\n",
       "    .dataframe thead th {\n",
       "        text-align: right;\n",
       "    }\n",
       "</style>\n",
       "<table border=\"1\" class=\"dataframe\">\n",
       "  <thead>\n",
       "    <tr style=\"text-align: right;\">\n",
       "      <th></th>\n",
       "      <th>user_id</th>\n",
       "      <th>name</th>\n",
       "      <th>age</th>\n",
       "      <th>city</th>\n",
       "      <th>subscription_type</th>\n",
       "      <th>distance</th>\n",
       "      <th>duration</th>\n",
       "      <th>date</th>\n",
       "      <th>month</th>\n",
       "      <th>minute_price</th>\n",
       "      <th>start_ride_price</th>\n",
       "      <th>subscription_fee</th>\n",
       "    </tr>\n",
       "  </thead>\n",
       "  <tbody>\n",
       "    <tr>\n",
       "      <th>6500</th>\n",
       "      <td>700</td>\n",
       "      <td>Айдар</td>\n",
       "      <td>22</td>\n",
       "      <td>Омск</td>\n",
       "      <td>free</td>\n",
       "      <td>2515.690719</td>\n",
       "      <td>14.944286</td>\n",
       "      <td>2021-01-02</td>\n",
       "      <td>1</td>\n",
       "      <td>8</td>\n",
       "      <td>50</td>\n",
       "      <td>0</td>\n",
       "    </tr>\n",
       "    <tr>\n",
       "      <th>6501</th>\n",
       "      <td>700</td>\n",
       "      <td>Айдар</td>\n",
       "      <td>22</td>\n",
       "      <td>Омск</td>\n",
       "      <td>free</td>\n",
       "      <td>846.932642</td>\n",
       "      <td>16.234663</td>\n",
       "      <td>2021-02-01</td>\n",
       "      <td>2</td>\n",
       "      <td>8</td>\n",
       "      <td>50</td>\n",
       "      <td>0</td>\n",
       "    </tr>\n",
       "    <tr>\n",
       "      <th>6502</th>\n",
       "      <td>700</td>\n",
       "      <td>Айдар</td>\n",
       "      <td>22</td>\n",
       "      <td>Омск</td>\n",
       "      <td>free</td>\n",
       "      <td>4004.434142</td>\n",
       "      <td>20.016628</td>\n",
       "      <td>2021-02-04</td>\n",
       "      <td>2</td>\n",
       "      <td>8</td>\n",
       "      <td>50</td>\n",
       "      <td>0</td>\n",
       "    </tr>\n",
       "    <tr>\n",
       "      <th>6503</th>\n",
       "      <td>700</td>\n",
       "      <td>Айдар</td>\n",
       "      <td>22</td>\n",
       "      <td>Омск</td>\n",
       "      <td>free</td>\n",
       "      <td>1205.911290</td>\n",
       "      <td>9.782872</td>\n",
       "      <td>2021-02-10</td>\n",
       "      <td>2</td>\n",
       "      <td>8</td>\n",
       "      <td>50</td>\n",
       "      <td>0</td>\n",
       "    </tr>\n",
       "    <tr>\n",
       "      <th>6504</th>\n",
       "      <td>700</td>\n",
       "      <td>Айдар</td>\n",
       "      <td>22</td>\n",
       "      <td>Омск</td>\n",
       "      <td>free</td>\n",
       "      <td>3047.379435</td>\n",
       "      <td>17.427673</td>\n",
       "      <td>2021-02-14</td>\n",
       "      <td>2</td>\n",
       "      <td>8</td>\n",
       "      <td>50</td>\n",
       "      <td>0</td>\n",
       "    </tr>\n",
       "  </tbody>\n",
       "</table>\n",
       "</div>"
      ],
      "text/plain": [
       "      user_id   name  age  city subscription_type     distance   duration  \\\n",
       "6500      700  Айдар   22  Омск              free  2515.690719  14.944286   \n",
       "6501      700  Айдар   22  Омск              free   846.932642  16.234663   \n",
       "6502      700  Айдар   22  Омск              free  4004.434142  20.016628   \n",
       "6503      700  Айдар   22  Омск              free  1205.911290   9.782872   \n",
       "6504      700  Айдар   22  Омск              free  3047.379435  17.427673   \n",
       "\n",
       "           date  month  minute_price  start_ride_price  subscription_fee  \n",
       "6500 2021-01-02      1             8                50                 0  \n",
       "6501 2021-02-01      2             8                50                 0  \n",
       "6502 2021-02-04      2             8                50                 0  \n",
       "6503 2021-02-10      2             8                50                 0  \n",
       "6504 2021-02-14      2             8                50                 0  "
      ]
     },
     "execution_count": 25,
     "metadata": {},
     "output_type": "execute_result"
    }
   ],
   "source": [
    "users_without_subscription = data[data['subscription_type'] == 'free']\n",
    "users_without_subscription.head()"
   ]
  },
  {
   "cell_type": "code",
   "execution_count": 26,
   "id": "3d5d52ba",
   "metadata": {
    "scrolled": true
   },
   "outputs": [
    {
     "data": {
      "text/html": [
       "<div>\n",
       "<style scoped>\n",
       "    .dataframe tbody tr th:only-of-type {\n",
       "        vertical-align: middle;\n",
       "    }\n",
       "\n",
       "    .dataframe tbody tr th {\n",
       "        vertical-align: top;\n",
       "    }\n",
       "\n",
       "    .dataframe thead th {\n",
       "        text-align: right;\n",
       "    }\n",
       "</style>\n",
       "<table border=\"1\" class=\"dataframe\">\n",
       "  <thead>\n",
       "    <tr style=\"text-align: right;\">\n",
       "      <th></th>\n",
       "      <th>user_id</th>\n",
       "      <th>name</th>\n",
       "      <th>age</th>\n",
       "      <th>city</th>\n",
       "      <th>subscription_type</th>\n",
       "      <th>distance</th>\n",
       "      <th>duration</th>\n",
       "      <th>date</th>\n",
       "      <th>month</th>\n",
       "      <th>minute_price</th>\n",
       "      <th>start_ride_price</th>\n",
       "      <th>subscription_fee</th>\n",
       "    </tr>\n",
       "  </thead>\n",
       "  <tbody>\n",
       "    <tr>\n",
       "      <th>0</th>\n",
       "      <td>1</td>\n",
       "      <td>Кира</td>\n",
       "      <td>22</td>\n",
       "      <td>Тюмень</td>\n",
       "      <td>ultra</td>\n",
       "      <td>4409.919140</td>\n",
       "      <td>25.599769</td>\n",
       "      <td>2021-01-01</td>\n",
       "      <td>1</td>\n",
       "      <td>6</td>\n",
       "      <td>0</td>\n",
       "      <td>199</td>\n",
       "    </tr>\n",
       "    <tr>\n",
       "      <th>1</th>\n",
       "      <td>1</td>\n",
       "      <td>Кира</td>\n",
       "      <td>22</td>\n",
       "      <td>Тюмень</td>\n",
       "      <td>ultra</td>\n",
       "      <td>2617.592153</td>\n",
       "      <td>15.816871</td>\n",
       "      <td>2021-01-18</td>\n",
       "      <td>1</td>\n",
       "      <td>6</td>\n",
       "      <td>0</td>\n",
       "      <td>199</td>\n",
       "    </tr>\n",
       "    <tr>\n",
       "      <th>2</th>\n",
       "      <td>1</td>\n",
       "      <td>Кира</td>\n",
       "      <td>22</td>\n",
       "      <td>Тюмень</td>\n",
       "      <td>ultra</td>\n",
       "      <td>754.159807</td>\n",
       "      <td>6.232113</td>\n",
       "      <td>2021-04-20</td>\n",
       "      <td>4</td>\n",
       "      <td>6</td>\n",
       "      <td>0</td>\n",
       "      <td>199</td>\n",
       "    </tr>\n",
       "    <tr>\n",
       "      <th>3</th>\n",
       "      <td>1</td>\n",
       "      <td>Кира</td>\n",
       "      <td>22</td>\n",
       "      <td>Тюмень</td>\n",
       "      <td>ultra</td>\n",
       "      <td>2694.783254</td>\n",
       "      <td>18.511000</td>\n",
       "      <td>2021-08-11</td>\n",
       "      <td>8</td>\n",
       "      <td>6</td>\n",
       "      <td>0</td>\n",
       "      <td>199</td>\n",
       "    </tr>\n",
       "    <tr>\n",
       "      <th>4</th>\n",
       "      <td>1</td>\n",
       "      <td>Кира</td>\n",
       "      <td>22</td>\n",
       "      <td>Тюмень</td>\n",
       "      <td>ultra</td>\n",
       "      <td>4028.687306</td>\n",
       "      <td>26.265803</td>\n",
       "      <td>2021-08-28</td>\n",
       "      <td>8</td>\n",
       "      <td>6</td>\n",
       "      <td>0</td>\n",
       "      <td>199</td>\n",
       "    </tr>\n",
       "  </tbody>\n",
       "</table>\n",
       "</div>"
      ],
      "text/plain": [
       "   user_id  name  age    city subscription_type     distance   duration  \\\n",
       "0        1  Кира   22  Тюмень             ultra  4409.919140  25.599769   \n",
       "1        1  Кира   22  Тюмень             ultra  2617.592153  15.816871   \n",
       "2        1  Кира   22  Тюмень             ultra   754.159807   6.232113   \n",
       "3        1  Кира   22  Тюмень             ultra  2694.783254  18.511000   \n",
       "4        1  Кира   22  Тюмень             ultra  4028.687306  26.265803   \n",
       "\n",
       "        date  month  minute_price  start_ride_price  subscription_fee  \n",
       "0 2021-01-01      1             6                 0               199  \n",
       "1 2021-01-18      1             6                 0               199  \n",
       "2 2021-04-20      4             6                 0               199  \n",
       "3 2021-08-11      8             6                 0               199  \n",
       "4 2021-08-28      8             6                 0               199  "
      ]
     },
     "execution_count": 26,
     "metadata": {},
     "output_type": "execute_result"
    }
   ],
   "source": [
    "users_with_subscription = data[data['subscription_type'] == 'ultra']\n",
    "users_with_subscription.head()"
   ]
  },
  {
   "cell_type": "code",
   "execution_count": 27,
   "id": "3c9431fd",
   "metadata": {},
   "outputs": [
    {
     "data": {
      "text/plain": [
       "((18068, 12), (11568, 12), (6500, 12))"
      ]
     },
     "execution_count": 27,
     "metadata": {},
     "output_type": "execute_result"
    }
   ],
   "source": [
    "data.shape, users_without_subscription.shape, users_with_subscription.shape"
   ]
  },
  {
   "cell_type": "markdown",
   "id": "03c37153",
   "metadata": {},
   "source": [
    "Так же создали 2 новых датасета, которые включают в себя данные о пользователях без подписки и с подпиской."
   ]
  },
  {
   "cell_type": "code",
   "execution_count": 28,
   "id": "8446a5a5",
   "metadata": {},
   "outputs": [
    {
     "data": {
      "image/png": "[encoded data removed]",
      "text/plain": [
       "<Figure size 432x288 with 1 Axes>"
      ]
     },
     "metadata": {
      "needs_background": "light"
     },
     "output_type": "display_data"
    }
   ],
   "source": [
    "users_without_subscription['distance'].plot(kind='hist', bins=40, grid=True, alpha=0.6,\n",
    "                                            legend=True, label='Без подписки'\n",
    "                                           )\n",
    "users_with_subscription['distance'].plot(kind='hist', bins=30, grid=True, alpha=0.6,\n",
    "                                         legend=True, label='С подпиской',\n",
    "                                         xlabel='Метры', ylabel='Частота',\n",
    "                                         title='Гистограмма для расстояний, которые проехали пользователи'\n",
    "                                        )\n",
    "plt.show()"
   ]
  },
  {
   "cell_type": "markdown",
   "id": "a1a921b5",
   "metadata": {},
   "source": [
    "Можно увидеть, что график для пользователей с подпиской имеет меньший разброс в данных, по сравнению с графиком для пользователей без подписки. Возможно пользователи имеющие подписку чаще всего передвигаются до конкретных своих точек, например всегда на работу или учебу.\n",
    "\n",
    "На графике для пользователей без подписки имеется 2 вершины, что значит, что чаще всего пользователи без подписки прокатывают около 3 км., и чуть реже пользователи беру самокат чтоб прокатится около 500 метров.\n",
    "\n",
    "На графике для пользователей с подпиской имеется также 2 вершины, что значит, что чаще всего пользователи с подпиской прокатывают также около 3 км., и чуть реже пользователи беру самокат чтоб прокатится около 1 км."
   ]
  },
  {
   "cell_type": "code",
   "execution_count": 29,
   "id": "6a6729d1",
   "metadata": {},
   "outputs": [
    {
     "data": {
      "image/png": "[encoded data removed]",
      "text/plain": [
       "<Figure size 432x288 with 1 Axes>"
      ]
     },
     "metadata": {
      "needs_background": "light"
     },
     "output_type": "display_data"
    }
   ],
   "source": [
    "users_without_subscription['duration'].plot(kind='hist', bins=30, grid=True, alpha=0.6,\n",
    "                                            legend=True, label='Без подписки'\n",
    "                                           )\n",
    "users_with_subscription['duration'].plot(kind='hist', bins=30, grid=True, alpha=0.6,\n",
    "                                         legend=True, label='С подпиской',\n",
    "                                         xlabel='Минуты', ylabel='Частота',\n",
    "                                         title='Гистограмма для длительности поездок пользователей'\n",
    "                                        )\n",
    "plt.show()"
   ]
  },
  {
   "cell_type": "markdown",
   "id": "1d2f8939",
   "metadata": {},
   "source": [
    "Поездка у пользователей без подписки в среднем длится около 15-20 минут.\n",
    "\n",
    "Поездка у пользователей с подпиской длится также около 15-20 минут.\n",
    "\n",
    "У графика пользователей без подписки разброс в данных больше, чем у пользователей с подпиской."
   ]
  },
  {
   "cell_type": "markdown",
   "id": "d7f33c28",
   "metadata": {},
   "source": [
    "### Промежуточный вывод"
   ]
  },
  {
   "cell_type": "markdown",
   "id": "88e35a52",
   "metadata": {},
   "source": [
    "Пользователи без подписки и с имеют схожее поведение при аренде самокатов, но пользователи с подпиской чаще берут самокаты на определенные для себя промежутки, возможно на работу или учебу."
   ]
  },
  {
   "cell_type": "markdown",
   "id": "402d620f",
   "metadata": {},
   "source": [
    "## Шаг 5. Подсчёт выручки"
   ]
  },
  {
   "cell_type": "code",
   "execution_count": 30,
   "id": "1478a6db",
   "metadata": {
    "scrolled": true
   },
   "outputs": [
    {
     "data": {
      "text/html": [
       "<div>\n",
       "<style scoped>\n",
       "    .dataframe tbody tr th:only-of-type {\n",
       "        vertical-align: middle;\n",
       "    }\n",
       "\n",
       "    .dataframe tbody tr th {\n",
       "        vertical-align: top;\n",
       "    }\n",
       "\n",
       "    .dataframe thead th {\n",
       "        text-align: right;\n",
       "    }\n",
       "</style>\n",
       "<table border=\"1\" class=\"dataframe\">\n",
       "  <thead>\n",
       "    <tr style=\"text-align: right;\">\n",
       "      <th></th>\n",
       "      <th>user_id</th>\n",
       "      <th>name</th>\n",
       "      <th>age</th>\n",
       "      <th>city</th>\n",
       "      <th>subscription_type</th>\n",
       "      <th>distance</th>\n",
       "      <th>duration</th>\n",
       "      <th>date</th>\n",
       "      <th>month</th>\n",
       "      <th>minute_price</th>\n",
       "      <th>start_ride_price</th>\n",
       "      <th>subscription_fee</th>\n",
       "      <th>spent_money_for_rides</th>\n",
       "    </tr>\n",
       "  </thead>\n",
       "  <tbody>\n",
       "    <tr>\n",
       "      <th>0</th>\n",
       "      <td>1</td>\n",
       "      <td>Кира</td>\n",
       "      <td>22</td>\n",
       "      <td>Тюмень</td>\n",
       "      <td>ultra</td>\n",
       "      <td>4409.919140</td>\n",
       "      <td>25.599769</td>\n",
       "      <td>2021-01-01</td>\n",
       "      <td>1</td>\n",
       "      <td>6</td>\n",
       "      <td>0</td>\n",
       "      <td>199</td>\n",
       "      <td>156.0</td>\n",
       "    </tr>\n",
       "    <tr>\n",
       "      <th>1</th>\n",
       "      <td>1</td>\n",
       "      <td>Кира</td>\n",
       "      <td>22</td>\n",
       "      <td>Тюмень</td>\n",
       "      <td>ultra</td>\n",
       "      <td>2617.592153</td>\n",
       "      <td>15.816871</td>\n",
       "      <td>2021-01-18</td>\n",
       "      <td>1</td>\n",
       "      <td>6</td>\n",
       "      <td>0</td>\n",
       "      <td>199</td>\n",
       "      <td>96.0</td>\n",
       "    </tr>\n",
       "    <tr>\n",
       "      <th>2</th>\n",
       "      <td>1</td>\n",
       "      <td>Кира</td>\n",
       "      <td>22</td>\n",
       "      <td>Тюмень</td>\n",
       "      <td>ultra</td>\n",
       "      <td>754.159807</td>\n",
       "      <td>6.232113</td>\n",
       "      <td>2021-04-20</td>\n",
       "      <td>4</td>\n",
       "      <td>6</td>\n",
       "      <td>0</td>\n",
       "      <td>199</td>\n",
       "      <td>42.0</td>\n",
       "    </tr>\n",
       "    <tr>\n",
       "      <th>3</th>\n",
       "      <td>1</td>\n",
       "      <td>Кира</td>\n",
       "      <td>22</td>\n",
       "      <td>Тюмень</td>\n",
       "      <td>ultra</td>\n",
       "      <td>2694.783254</td>\n",
       "      <td>18.511000</td>\n",
       "      <td>2021-08-11</td>\n",
       "      <td>8</td>\n",
       "      <td>6</td>\n",
       "      <td>0</td>\n",
       "      <td>199</td>\n",
       "      <td>114.0</td>\n",
       "    </tr>\n",
       "    <tr>\n",
       "      <th>4</th>\n",
       "      <td>1</td>\n",
       "      <td>Кира</td>\n",
       "      <td>22</td>\n",
       "      <td>Тюмень</td>\n",
       "      <td>ultra</td>\n",
       "      <td>4028.687306</td>\n",
       "      <td>26.265803</td>\n",
       "      <td>2021-08-28</td>\n",
       "      <td>8</td>\n",
       "      <td>6</td>\n",
       "      <td>0</td>\n",
       "      <td>199</td>\n",
       "      <td>162.0</td>\n",
       "    </tr>\n",
       "  </tbody>\n",
       "</table>\n",
       "</div>"
      ],
      "text/plain": [
       "   user_id  name  age    city subscription_type     distance   duration  \\\n",
       "0        1  Кира   22  Тюмень             ultra  4409.919140  25.599769   \n",
       "1        1  Кира   22  Тюмень             ultra  2617.592153  15.816871   \n",
       "2        1  Кира   22  Тюмень             ultra   754.159807   6.232113   \n",
       "3        1  Кира   22  Тюмень             ultra  2694.783254  18.511000   \n",
       "4        1  Кира   22  Тюмень             ultra  4028.687306  26.265803   \n",
       "\n",
       "        date  month  minute_price  start_ride_price  subscription_fee  \\\n",
       "0 2021-01-01      1             6                 0               199   \n",
       "1 2021-01-18      1             6                 0               199   \n",
       "2 2021-04-20      4             6                 0               199   \n",
       "3 2021-08-11      8             6                 0               199   \n",
       "4 2021-08-28      8             6                 0               199   \n",
       "\n",
       "   spent_money_for_rides  \n",
       "0                  156.0  \n",
       "1                   96.0  \n",
       "2                   42.0  \n",
       "3                  114.0  \n",
       "4                  162.0  "
      ]
     },
     "execution_count": 30,
     "metadata": {},
     "output_type": "execute_result"
    }
   ],
   "source": [
    "data['spent_money_for_rides'] = data['start_ride_price'] + np.ceil(data['duration']) * data['minute_price']\n",
    "data.head()"
   ]
  },
  {
   "cell_type": "code",
   "execution_count": 31,
   "id": "53049e0a",
   "metadata": {},
   "outputs": [
    {
     "data": {
      "text/html": [
       "<div>\n",
       "<style scoped>\n",
       "    .dataframe tbody tr th:only-of-type {\n",
       "        vertical-align: middle;\n",
       "    }\n",
       "\n",
       "    .dataframe tbody tr th {\n",
       "        vertical-align: top;\n",
       "    }\n",
       "\n",
       "    .dataframe thead th {\n",
       "        text-align: right;\n",
       "    }\n",
       "</style>\n",
       "<table border=\"1\" class=\"dataframe\">\n",
       "  <thead>\n",
       "    <tr style=\"text-align: right;\">\n",
       "      <th></th>\n",
       "      <th>user_id</th>\n",
       "      <th>month</th>\n",
       "      <th>sum_distance</th>\n",
       "      <th>sum_duration</th>\n",
       "      <th>sum_spent_money_for_rides</th>\n",
       "      <th>count_rides</th>\n",
       "    </tr>\n",
       "  </thead>\n",
       "  <tbody>\n",
       "    <tr>\n",
       "      <th>0</th>\n",
       "      <td>1</td>\n",
       "      <td>1</td>\n",
       "      <td>7027.511294</td>\n",
       "      <td>41.416640</td>\n",
       "      <td>451.0</td>\n",
       "      <td>2</td>\n",
       "    </tr>\n",
       "    <tr>\n",
       "      <th>1</th>\n",
       "      <td>1</td>\n",
       "      <td>4</td>\n",
       "      <td>754.159807</td>\n",
       "      <td>6.232113</td>\n",
       "      <td>241.0</td>\n",
       "      <td>1</td>\n",
       "    </tr>\n",
       "    <tr>\n",
       "      <th>2</th>\n",
       "      <td>1</td>\n",
       "      <td>8</td>\n",
       "      <td>6723.470560</td>\n",
       "      <td>44.776802</td>\n",
       "      <td>475.0</td>\n",
       "      <td>2</td>\n",
       "    </tr>\n",
       "    <tr>\n",
       "      <th>3</th>\n",
       "      <td>1</td>\n",
       "      <td>10</td>\n",
       "      <td>5809.911100</td>\n",
       "      <td>31.578017</td>\n",
       "      <td>391.0</td>\n",
       "      <td>2</td>\n",
       "    </tr>\n",
       "    <tr>\n",
       "      <th>4</th>\n",
       "      <td>1</td>\n",
       "      <td>11</td>\n",
       "      <td>7003.499363</td>\n",
       "      <td>53.397424</td>\n",
       "      <td>535.0</td>\n",
       "      <td>3</td>\n",
       "    </tr>\n",
       "  </tbody>\n",
       "</table>\n",
       "</div>"
      ],
      "text/plain": [
       "   user_id  month  sum_distance  sum_duration  sum_spent_money_for_rides  \\\n",
       "0        1      1   7027.511294     41.416640                      451.0   \n",
       "1        1      4    754.159807      6.232113                      241.0   \n",
       "2        1      8   6723.470560     44.776802                      475.0   \n",
       "3        1     10   5809.911100     31.578017                      391.0   \n",
       "4        1     11   7003.499363     53.397424                      535.0   \n",
       "\n",
       "   count_rides  \n",
       "0            2  \n",
       "1            1  \n",
       "2            2  \n",
       "3            2  \n",
       "4            3  "
      ]
     },
     "execution_count": 31,
     "metadata": {},
     "output_type": "execute_result"
    }
   ],
   "source": [
    "data_about_rides_and_money = data.pivot_table(\n",
    "    index=['user_id', 'month'], values=['distance', 'duration', 'spent_money_for_rides'],\n",
    "    aggfunc={'distance': 'sum', 'duration': 'sum', 'spent_money_for_rides': 'sum', 'user_id': 'count'}\n",
    ")\n",
    "data_about_rides_and_money.columns = ['sum_distance', 'sum_duration', 'sum_spent_money_for_rides', 'count_rides']\n",
    "# добавляем к каждому пользователю абонентскую плату, если он подписан\n",
    "data_about_rides_and_money['sum_spent_money_for_rides'] += data.groupby(['user_id', 'month'])['subscription_fee'].sum() / data_about_rides_and_money['count_rides']\n",
    "data_about_rides_and_money.reset_index(inplace=True)\n",
    "data_about_rides_and_money.head()"
   ]
  },
  {
   "cell_type": "markdown",
   "id": "f3ab15bb",
   "metadata": {},
   "source": [
    "Был создан датафрейм с агрегированными данными о поездках, включающий: суммарное расстояние, количество поездок, помесячная выручка, которую принес каждый пользователь, и суммарное время для каждого пользователя за каждый месяц."
   ]
  },
  {
   "cell_type": "markdown",
   "id": "41545ac0",
   "metadata": {},
   "source": [
    "## Шаг 6. Проверка гипотез"
   ]
  },
  {
   "cell_type": "markdown",
   "id": "22026e91",
   "metadata": {},
   "source": [
    "### Проверка гипотезы 1. Тратят ли пользователи с подпиской больше времени на поездки?"
   ]
  },
  {
   "cell_type": "markdown",
   "id": "77e5876d",
   "metadata": {},
   "source": [
    "**Нулевая гипотеза:** средние значения продолжительности поездки у пользователей с подпиской и без равны.\n",
    "\n",
    "**Алтернативная гипотеза:** среднее значение продолжительности поездки у пользователей с подпиской больше, чем среднее значение продолжителньости поездки у пользователей без подписки.\n",
    "\n",
    "Параметр ```equal_var``` для теста я установила в False, так как по графику видно, что разброс у графиков разный.\n",
    "(даже если установить в True, тест отвергнет нулевую гипотезу)"
   ]
  },
  {
   "cell_type": "code",
   "execution_count": 32,
   "id": "23ea867b",
   "metadata": {},
   "outputs": [
    {
     "name": "stdout",
     "output_type": "stream",
     "text": [
      "Pvalue:  5.675781377128977e-37\n",
      "Отвергаем нулевую гипотезу\n"
     ]
    }
   ],
   "source": [
    "alpha = 0.05\n",
    "\n",
    "results = st.ttest_ind(users_with_subscription['duration'], users_without_subscription['duration'], equal_var=False, alternative='greater')\n",
    "\n",
    "print('Pvalue: ', results.pvalue)\n",
    "\n",
    "if results.pvalue < alpha:\n",
    "    print('Отвергаем нулевую гипотезу')\n",
    "else:\n",
    "    print('Нет оснований отвергать нулевую гипотезу')"
   ]
  },
  {
   "cell_type": "markdown",
   "id": "e80007c4",
   "metadata": {},
   "source": [
    "Есть основания говорить, что пользователи с подпиской больше времени тратят на поездки по сравнению с пользователями без подписки!"
   ]
  },
  {
   "cell_type": "markdown",
   "id": "e88e15f4",
   "metadata": {},
   "source": [
    "### Проверка гипотезы 2. Проезжают ли пользователи с подпиской за одну поездку больше 3130 метров?"
   ]
  },
  {
   "cell_type": "markdown",
   "id": "b8716f32",
   "metadata": {},
   "source": [
    "**Нулевая гипотеза:** среднее расстояние, которое проезжают пользователи с подпиской за одну поездку равно 3130 метров.\n",
    "\n",
    "**Алтернативная гипотеза:** среднее расстояние, которое проезжают пользователи с подпиской за одну поездку превышает 3130 метров."
   ]
  },
  {
   "cell_type": "code",
   "execution_count": 33,
   "id": "9eef119c",
   "metadata": {},
   "outputs": [
    {
     "name": "stdout",
     "output_type": "stream",
     "text": [
      "Pvalue:  0.9195368847849785\n",
      "Нет оснований отвергать нулевую гипотезу\n"
     ]
    }
   ],
   "source": [
    "alpha = 0.05\n",
    "\n",
    "optimal_distance = 3130\n",
    "\n",
    "results = st.ttest_1samp(users_with_subscription['distance'], optimal_distance, alternative='greater')\n",
    "\n",
    "print('Pvalue: ', results.pvalue)\n",
    "\n",
    "if results.pvalue < alpha:\n",
    "    print('Отвергаем нулевую гипотезу')\n",
    "else:\n",
    "    print('Нет оснований отвергать нулевую гипотезу')"
   ]
  },
  {
   "cell_type": "markdown",
   "id": "ca378c89",
   "metadata": {},
   "source": [
    "Есть основания говорить, что пользователи с подпиской за одну поездку проезжают 3130 метров в среднем.\n",
    "\n",
    "Нет отснований полагать, что пользователи с подпиской за одну поездку проезжают больше 3130 метров."
   ]
  },
  {
   "cell_type": "markdown",
   "id": "4adf3d62",
   "metadata": {},
   "source": [
    "### Проверка гипотезы 3. Будет ли помесячная выручка от пользователей с подпиской по месяцам выше, чем выручка от пользователей без подписки?"
   ]
  },
  {
   "cell_type": "code",
   "execution_count": 34,
   "id": "a8ba2236",
   "metadata": {
    "scrolled": false
   },
   "outputs": [
    {
     "data": {
      "text/html": [
       "<div>\n",
       "<style scoped>\n",
       "    .dataframe tbody tr th:only-of-type {\n",
       "        vertical-align: middle;\n",
       "    }\n",
       "\n",
       "    .dataframe tbody tr th {\n",
       "        vertical-align: top;\n",
       "    }\n",
       "\n",
       "    .dataframe thead th {\n",
       "        text-align: right;\n",
       "    }\n",
       "</style>\n",
       "<table border=\"1\" class=\"dataframe\">\n",
       "  <thead>\n",
       "    <tr style=\"text-align: right;\">\n",
       "      <th></th>\n",
       "      <th>user_id</th>\n",
       "      <th>month</th>\n",
       "      <th>sum_distance</th>\n",
       "      <th>sum_duration</th>\n",
       "      <th>sum_spent_money_for_rides</th>\n",
       "      <th>count_rides</th>\n",
       "      <th>subscription_type</th>\n",
       "    </tr>\n",
       "  </thead>\n",
       "  <tbody>\n",
       "    <tr>\n",
       "      <th>0</th>\n",
       "      <td>1</td>\n",
       "      <td>1</td>\n",
       "      <td>7027.511294</td>\n",
       "      <td>41.416640</td>\n",
       "      <td>451.0</td>\n",
       "      <td>2</td>\n",
       "      <td>ultra</td>\n",
       "    </tr>\n",
       "    <tr>\n",
       "      <th>1</th>\n",
       "      <td>1</td>\n",
       "      <td>1</td>\n",
       "      <td>7027.511294</td>\n",
       "      <td>41.416640</td>\n",
       "      <td>451.0</td>\n",
       "      <td>2</td>\n",
       "      <td>ultra</td>\n",
       "    </tr>\n",
       "    <tr>\n",
       "      <th>2</th>\n",
       "      <td>1</td>\n",
       "      <td>4</td>\n",
       "      <td>754.159807</td>\n",
       "      <td>6.232113</td>\n",
       "      <td>241.0</td>\n",
       "      <td>1</td>\n",
       "      <td>ultra</td>\n",
       "    </tr>\n",
       "    <tr>\n",
       "      <th>3</th>\n",
       "      <td>1</td>\n",
       "      <td>8</td>\n",
       "      <td>6723.470560</td>\n",
       "      <td>44.776802</td>\n",
       "      <td>475.0</td>\n",
       "      <td>2</td>\n",
       "      <td>ultra</td>\n",
       "    </tr>\n",
       "    <tr>\n",
       "      <th>4</th>\n",
       "      <td>1</td>\n",
       "      <td>8</td>\n",
       "      <td>6723.470560</td>\n",
       "      <td>44.776802</td>\n",
       "      <td>475.0</td>\n",
       "      <td>2</td>\n",
       "      <td>ultra</td>\n",
       "    </tr>\n",
       "  </tbody>\n",
       "</table>\n",
       "</div>"
      ],
      "text/plain": [
       "   user_id  month  sum_distance  sum_duration  sum_spent_money_for_rides  \\\n",
       "0        1      1   7027.511294     41.416640                      451.0   \n",
       "1        1      1   7027.511294     41.416640                      451.0   \n",
       "2        1      4    754.159807      6.232113                      241.0   \n",
       "3        1      8   6723.470560     44.776802                      475.0   \n",
       "4        1      8   6723.470560     44.776802                      475.0   \n",
       "\n",
       "   count_rides subscription_type  \n",
       "0            2             ultra  \n",
       "1            2             ultra  \n",
       "2            1             ultra  \n",
       "3            2             ultra  \n",
       "4            2             ultra  "
      ]
     },
     "execution_count": 34,
     "metadata": {},
     "output_type": "execute_result"
    }
   ],
   "source": [
    "data_about_rides_and_money = data_about_rides_and_money.merge(data[['user_id', 'month', 'subscription_type']], on=['user_id', 'month'])\n",
    "data_about_rides_and_money.head()"
   ]
  },
  {
   "cell_type": "markdown",
   "id": "5a8c4e04",
   "metadata": {},
   "source": [
    "Добавим в таблицу с выручкой столбец с данными по типу подписки для каждого пользователя."
   ]
  },
  {
   "cell_type": "code",
   "execution_count": 35,
   "id": "27daba69",
   "metadata": {},
   "outputs": [
    {
     "data": {
      "image/png": "[encoded data removed]",
      "text/plain": [
       "<Figure size 432x288 with 1 Axes>"
      ]
     },
     "metadata": {
      "needs_background": "light"
     },
     "output_type": "display_data"
    },
    {
     "data": {
      "image/png": "[encoded data removed]",
      "text/plain": [
       "<Figure size 432x288 with 1 Axes>"
      ]
     },
     "metadata": {
      "needs_background": "light"
     },
     "output_type": "display_data"
    }
   ],
   "source": [
    "data_about_rides_and_money.query('subscription_type == \"ultra\"')['sum_spent_money_for_rides'].plot(\n",
    "    kind='hist', grid=True, title='Spent money for rides for users with subscriptions'\n",
    ")\n",
    "plt.show()\n",
    "data_about_rides_and_money.query('subscription_type == \"free\"')['sum_spent_money_for_rides'].plot(\n",
    "    kind='hist', grid=True, title='Spent money for rides for users without subscriptions'\n",
    ")\n",
    "plt.show()"
   ]
  },
  {
   "cell_type": "markdown",
   "id": "563cc812",
   "metadata": {},
   "source": [
    "По графикам можно увидеть что разброс данных не сильно различается.\n",
    "\n",
    "Так же предварительно можно заметить, что пользователи без подписки тратят в среднем больше денег на поездки."
   ]
  },
  {
   "cell_type": "markdown",
   "id": "8dfa0a27",
   "metadata": {},
   "source": [
    "**Нулевая гипотеза:** средние значения помесячной выручки для пользователей с подпиской и без подписки одинаковы.\n",
    "\n",
    "**Алтернативная гипотеза:** среднее значение помесячной выручки для пользователей с подпиской больше, чем среднее значение помесячной выручки для пользователей без подписки."
   ]
  },
  {
   "cell_type": "code",
   "execution_count": 36,
   "id": "2f9b61b9",
   "metadata": {
    "scrolled": true
   },
   "outputs": [
    {
     "name": "stdout",
     "output_type": "stream",
     "text": [
      "Pvalue:  0.6841297292269042\n",
      "Нет оснований отвергать нулевую гипотезу для месяца 1\n",
      "Pvalue:  0.9949238774849607\n",
      "Нет оснований отвергать нулевую гипотезу для месяца 2\n",
      "Pvalue:  0.9888626135320185\n",
      "Нет оснований отвергать нулевую гипотезу для месяца 3\n",
      "Pvalue:  0.9898413899892002\n",
      "Нет оснований отвергать нулевую гипотезу для месяца 4\n",
      "Pvalue:  0.8389200273376516\n",
      "Нет оснований отвергать нулевую гипотезу для месяца 5\n",
      "Pvalue:  0.9740653370860037\n",
      "Нет оснований отвергать нулевую гипотезу для месяца 6\n",
      "Pvalue:  0.9187638435541551\n",
      "Нет оснований отвергать нулевую гипотезу для месяца 7\n",
      "Pvalue:  0.9993513108137787\n",
      "Нет оснований отвергать нулевую гипотезу для месяца 8\n",
      "Pvalue:  0.9681411273121675\n",
      "Нет оснований отвергать нулевую гипотезу для месяца 9\n",
      "Pvalue:  0.8127165153538547\n",
      "Нет оснований отвергать нулевую гипотезу для месяца 10\n",
      "Pvalue:  0.9391101416602814\n",
      "Нет оснований отвергать нулевую гипотезу для месяца 11\n",
      "Pvalue:  0.9819746396622085\n",
      "Нет оснований отвергать нулевую гипотезу для месяца 12\n"
     ]
    }
   ],
   "source": [
    "alpha = 0.05\n",
    "\n",
    "for month in range(1, 13):\n",
    "    results = st.ttest_ind(\n",
    "        data_about_rides_and_money.query('month == @month and subscription_type == \"ultra\"')['sum_spent_money_for_rides'],\n",
    "        data_about_rides_and_money.query('month == @month and subscription_type == \"free\"')['sum_spent_money_for_rides'],\n",
    "        alternative='greater'\n",
    "    )\n",
    "\n",
    "    print('Pvalue: ', results.pvalue)\n",
    "\n",
    "    if results.pvalue < alpha:\n",
    "        print('Отвергаем нулевую гипотезу для месяца', month)\n",
    "    else:\n",
    "        print('Нет оснований отвергать нулевую гипотезу для месяца', month)"
   ]
  },
  {
   "cell_type": "markdown",
   "id": "f8fe0d07",
   "metadata": {},
   "source": [
    "Есть основания говорить, что пользователи с подпиской каждый месяц приносят столько же выручки, сколько и пользователи без подписки.\n",
    "\n",
    "Нет оснований утверждать, что пользователи с подпиской приносят большую помесячную выручку, чем пользователи без подписки."
   ]
  },
  {
   "cell_type": "markdown",
   "id": "6e15ba4d",
   "metadata": {},
   "source": [
    "### Ответ на вопрос."
   ]
  },
  {
   "cell_type": "markdown",
   "id": "414397f9",
   "metadata": {},
   "source": [
    "**Условия:** техническая команда сервиса обновила сервера, с которыми взаимодействует мобильное приложение. Она надеется, что из-за этого количество обращений в техподдержку значимо снизилось. Некоторый файл содержит для каждого пользователя данные о количестве обращений до обновления и после него.\n",
    "\n",
    "**Вопрос:** Какой тест вам понадобился бы для проверки этой гипотезы?"
   ]
  },
  {
   "cell_type": "markdown",
   "id": "1f23f27b",
   "metadata": {},
   "source": [
    "Для данной задачи и имеющихся данных можно использовать тест, для проверки гипотезы о равенстве среднего значения для зависимых выборок.\n",
    "\n",
    "```st.ttest_rel(before, after)```"
   ]
  },
  {
   "cell_type": "markdown",
   "id": "61213c5e",
   "metadata": {},
   "source": [
    "## Шаг 7. Распределения"
   ]
  },
  {
   "cell_type": "markdown",
   "id": "aba9e3dd",
   "metadata": {},
   "source": [
    "### Задача 1. Акция с раздачей промокодов"
   ]
  },
  {
   "cell_type": "markdown",
   "id": "8e930352",
   "metadata": {},
   "source": [
    "Отделу маркетинга GoFast поставили **задачу**: нужно провести акцию с раздачей промокодов на один бесплатный месяц подписки, в рамках которой как минимум 100 существующих клиентов должны продлить эту подписку. То есть по завершении периода действия подписки пользователь может либо отказаться от неё, либо продлить, совершив соответствующий платёж.\n",
    "\n",
    "Эта акция уже проводилась ранее и по итогу выяснилось, что после бесплатного пробного периода подписку продлевают 10 % пользователей.\n",
    "\n",
    "**Вопрос:** какое минимальное количество промокодов нужно разослать, чтобы вероятность не выполнить план была примерно 5 %?"
   ]
  },
  {
   "cell_type": "code",
   "execution_count": 37,
   "id": "95cd1d51",
   "metadata": {},
   "outputs": [],
   "source": [
    "p = 0.1\n",
    "k = 100\n",
    "\n",
    "distr = []\n",
    "for n in range(k, 1500+1):\n",
    "    current_value = st.binom.cdf(k-1, n, p)\n",
    "    distr.append(1 - current_value)"
   ]
  },
  {
   "cell_type": "markdown",
   "id": "30fbab90",
   "metadata": {},
   "source": [
    "В коде выше было построено биномиальное рапределение и вычеслена его комулятивная функция для разных значений *N*, *k = 100* так как нам необходимо найти что от 100 клиентов, включительно 100,  продлят подписку, вероятность возниконовения события = 0.1 или 10%."
   ]
  },
  {
   "cell_type": "code",
   "execution_count": 38,
   "id": "d408585e",
   "metadata": {},
   "outputs": [
    {
     "data": {
      "image/png": "[encoded data removed]",
      "text/plain": [
       "<Figure size 720x432 with 1 Axes>"
      ]
     },
     "metadata": {
      "needs_background": "light"
     },
     "output_type": "display_data"
    }
   ],
   "source": [
    "fig = plt.figure(figsize=(10, 6))\n",
    "ax = fig.gca()\n",
    "ax.set_yticks(np.arange(0, 1.1, 0.05))\n",
    "plt.plot(range(k, 1500+1), distr)\n",
    "plt.grid()\n",
    "plt.show()"
   ]
  },
  {
   "cell_type": "markdown",
   "id": "e83c7e19",
   "metadata": {},
   "source": [
    "Нам необходимо найти минимальное количество промокодов, которые нужно разослать, чтобы вероятность не выполнить план была примерно 5 % или чтобы вероятность выполнить план была примерно 95%.\n",
    "\n",
    "По графику видно, что для вероятности 95% нам необходимо разослать **от 1180 промокодов.**"
   ]
  },
  {
   "cell_type": "markdown",
   "id": "0ac3a642",
   "metadata": {},
   "source": [
    "### Задача 2. Push-уведомления в мобильном приложении."
   ]
  },
  {
   "cell_type": "markdown",
   "id": "b8a20d38",
   "metadata": {},
   "source": [
    "Отдел маркетинга рассылает клиентам push-уведомления в мобильном приложении. Клиенты могут открыть его или не открывать. Известно, что уведомления открывают около 40 % получивших клиентов. Отдел планирует разослать 1 млн уведомлений.\n",
    "\n",
    "**Задача:** оцените вероятность того, что уведомление откроют не более 399,5 тыс. пользователей."
   ]
  },
  {
   "cell_type": "markdown",
   "id": "05c91f0e",
   "metadata": {},
   "source": [
    "Так как у нас p (вероятность) не приближена к 1 или 0, а n относительно большое, можно воспользоваться аппроксимацией биномиального распределения к нормальному для расчета вероятности."
   ]
  },
  {
   "cell_type": "code",
   "execution_count": 39,
   "id": "bab0477d",
   "metadata": {},
   "outputs": [
    {
     "data": {
      "text/plain": [
       "0.15371708296369768"
      ]
     },
     "execution_count": 39,
     "metadata": {},
     "output_type": "execute_result"
    }
   ],
   "source": [
    "n = 1000000\n",
    "p = 0.4\n",
    "\n",
    "mu = n*p \n",
    "sigma = sqrt(n*p*(1-p))\n",
    "\n",
    "distr = st.norm(mu, sigma) \n",
    "\n",
    "result = distr.cdf(399500)\n",
    "result"
   ]
  },
  {
   "cell_type": "markdown",
   "id": "827736a3",
   "metadata": {},
   "source": [
    "По проведенным выше расчетам можно увидеть, что вероятность, что уведомление откроют менее 399,5 тыс. пользователей **равна примерно 15%.**"
   ]
  },
  {
   "cell_type": "markdown",
   "id": "a9ca2969",
   "metadata": {},
   "source": [
    "## Общий вывод"
   ]
  },
  {
   "cell_type": "markdown",
   "id": "2b2c9845",
   "metadata": {},
   "source": [
    "От заказчика были получены *данные о некоторых пользователях из нескольких городов, а также об их поездках*.\n",
    "\n",
    "Данные были достаточно хорошего качества, поэтому на этапе предобработки были проделаны следующие дейсвия:\n",
    "- преведен 1 столбец к типу datetime,\n",
    "- добавлен новый столбец для расчетов (месяц поездки),\n",
    "- удалены дубликаты в таблице с пользователями (примерно 2% от всех данных)."
   ]
  },
  {
   "cell_type": "markdown",
   "id": "b3a1a36d",
   "metadata": {},
   "source": [
    "Далее был проведен **исследовательский анализ данных**, в ходе которого **было выяснено:**\n",
    "- пользователей больше всего из Пятигорска, а меньше всего из Москвы, но различие не большое, около 50 пользователей;\n",
    "- 54% пользователей имеют бесплатную подписку, остальные имеют платную подписку;\n",
    "- больше всего пользователей 22-28 летние;\n",
    "- пользовали в среднем проезжают около 3км. на самокате;\n",
    "- в среднем поездка у пользователей длится около 15-20 минут."
   ]
  },
  {
   "cell_type": "markdown",
   "id": "502be21d",
   "metadata": {},
   "source": [
    "Далее был этап объединения данных и расмотренние пользователей с подпиской и без отдельно.\n",
    "\n",
    "**Вывод:** пользователи без подписки и с имеют схожее поведение при аренде самокатов, но пользователи с подпиской чаще берут самокаты на определенные для себя промежутки, возможно на работу или учебу."
   ]
  },
  {
   "cell_type": "markdown",
   "id": "fc6e5100",
   "metadata": {},
   "source": [
    "На следующем этапе была создана таблица на основе имеющихся данных с помесячной выручкой по каждому клиенту. И на основе этих данных был проведен статистический анализ.\n",
    "\n",
    "В ходе **статистического анализа** были проверены гипотезы и **на основе результатов можно говорить, что**:\n",
    "- пользователи с подпиской больше времени тратят на поездки по сравнению с пользователями без подписки;\n",
    "- нет отснований полагать, что пользователи с подпиской за одну поездку проезжают больше 3130 метров;\n",
    "- нет оснований утверждать, что пользователи с подпиской приносят большую помесячную выручку, чем пользователи без подписки."
   ]
  },
  {
   "cell_type": "markdown",
   "id": "6a4c20aa",
   "metadata": {},
   "source": [
    "Дополнительно были проведены расчеты по распределениям, по которым можно сказать следующее:\n",
    "- 1180 промокодов нужно разослать, чтобы вероятность не выполнить план по акции с раздачей промокодов на один бесплатный месяц подписки была примерно 5 %;\n",
    "- при рассылке клиентам 1 млн. push-уведомления в мобильном приложении вероятность того, что уведомление откроют не более 399,5 тыс. пользователей равно примерна 15%."
   ]
  }
 ],
 "metadata": {
  "ExecuteTimeLog": [
   {
    "duration": 1490,
    "start_time": "2023-09-21T15:03:43.286Z"
   },
   {
    "duration": 331,
    "start_time": "2023-09-21T15:03:44.779Z"
   },
   {
    "duration": 15,
    "start_time": "2023-09-21T15:03:45.112Z"
   },
   {
    "duration": 76,
    "start_time": "2023-09-21T15:03:45.130Z"
   },
   {
    "duration": 72,
    "start_time": "2023-09-21T15:03:45.209Z"
   },
   {
    "duration": 46,
    "start_time": "2023-09-21T15:03:45.284Z"
   },
   {
    "duration": 11,
    "start_time": "2023-09-21T15:03:45.333Z"
   },
   {
    "duration": 34,
    "start_time": "2023-09-21T15:03:45.346Z"
   },
   {
    "duration": 13,
    "start_time": "2023-09-21T15:03:45.382Z"
   },
   {
    "duration": 6,
    "start_time": "2023-09-21T15:03:45.398Z"
   },
   {
    "duration": 20,
    "start_time": "2023-09-21T15:03:45.406Z"
   },
   {
    "duration": 15,
    "start_time": "2023-09-21T15:03:45.428Z"
   },
   {
    "duration": 30,
    "start_time": "2023-09-21T15:03:45.455Z"
   },
   {
    "duration": 33,
    "start_time": "2023-09-21T15:03:45.490Z"
   },
   {
    "duration": 215,
    "start_time": "2023-09-21T15:03:45.525Z"
   },
   {
    "duration": 19,
    "start_time": "2023-09-21T15:03:45.742Z"
   },
   {
    "duration": 174,
    "start_time": "2023-09-21T15:03:45.763Z"
   },
   {
    "duration": 302,
    "start_time": "2023-09-21T15:03:45.939Z"
   },
   {
    "duration": 236,
    "start_time": "2023-09-21T15:03:46.243Z"
   },
   {
    "duration": 22,
    "start_time": "2023-09-21T15:03:46.481Z"
   },
   {
    "duration": 20,
    "start_time": "2023-09-21T15:03:46.505Z"
   },
   {
    "duration": 46,
    "start_time": "2023-09-21T15:03:46.526Z"
   },
   {
    "duration": 92,
    "start_time": "2023-09-21T15:03:46.576Z"
   },
   {
    "duration": 454,
    "start_time": "2023-09-21T15:03:46.674Z"
   },
   {
    "duration": 447,
    "start_time": "2023-09-21T15:03:47.131Z"
   },
   {
    "duration": 24,
    "start_time": "2023-09-21T15:03:47.580Z"
   },
   {
    "duration": 232,
    "start_time": "2023-09-21T15:03:47.606Z"
   },
   {
    "duration": 21,
    "start_time": "2023-09-21T15:03:47.841Z"
   },
   {
    "duration": 25,
    "start_time": "2023-09-21T15:03:47.864Z"
   },
   {
    "duration": 34,
    "start_time": "2023-09-21T15:03:47.890Z"
   },
   {
    "duration": 381,
    "start_time": "2023-09-21T15:03:47.926Z"
   },
   {
    "duration": 144,
    "start_time": "2023-09-21T15:03:48.309Z"
   },
   {
    "duration": 367,
    "start_time": "2023-09-21T15:03:48.455Z"
   },
   {
    "duration": 266,
    "start_time": "2023-09-21T15:03:48.824Z"
   },
   {
    "duration": 9,
    "start_time": "2023-09-21T15:03:49.095Z"
   },
   {
    "duration": 25,
    "start_time": "2023-09-21T15:07:14.901Z"
   },
   {
    "duration": 20,
    "start_time": "2023-09-21T15:07:27.686Z"
   },
   {
    "duration": 21,
    "start_time": "2023-09-21T15:07:35.548Z"
   },
   {
    "duration": 106,
    "start_time": "2023-09-21T15:13:50.691Z"
   },
   {
    "duration": 28,
    "start_time": "2023-09-21T15:16:18.149Z"
   },
   {
    "duration": 24,
    "start_time": "2023-09-21T15:17:15.902Z"
   },
   {
    "duration": 1288,
    "start_time": "2023-09-21T15:17:44.271Z"
   },
   {
    "duration": 267,
    "start_time": "2023-09-21T15:17:45.562Z"
   },
   {
    "duration": 16,
    "start_time": "2023-09-21T15:17:45.831Z"
   },
   {
    "duration": 131,
    "start_time": "2023-09-21T15:17:45.849Z"
   },
   {
    "duration": 44,
    "start_time": "2023-09-21T15:17:45.982Z"
   },
   {
    "duration": 41,
    "start_time": "2023-09-21T15:17:46.028Z"
   },
   {
    "duration": 25,
    "start_time": "2023-09-21T15:17:46.071Z"
   },
   {
    "duration": 22,
    "start_time": "2023-09-21T15:17:46.098Z"
   },
   {
    "duration": 17,
    "start_time": "2023-09-21T15:17:46.122Z"
   },
   {
    "duration": 31,
    "start_time": "2023-09-21T15:17:46.141Z"
   },
   {
    "duration": 43,
    "start_time": "2023-09-21T15:17:46.174Z"
   },
   {
    "duration": 31,
    "start_time": "2023-09-21T15:17:46.219Z"
   },
   {
    "duration": 27,
    "start_time": "2023-09-21T15:17:46.252Z"
   },
   {
    "duration": 39,
    "start_time": "2023-09-21T15:17:46.282Z"
   },
   {
    "duration": 169,
    "start_time": "2023-09-21T15:17:46.322Z"
   },
   {
    "duration": 8,
    "start_time": "2023-09-21T15:17:46.493Z"
   },
   {
    "duration": 191,
    "start_time": "2023-09-21T15:17:46.503Z"
   },
   {
    "duration": 228,
    "start_time": "2023-09-21T15:17:46.696Z"
   },
   {
    "duration": 224,
    "start_time": "2023-09-21T15:17:46.926Z"
   },
   {
    "duration": 29,
    "start_time": "2023-09-21T15:17:47.151Z"
   },
   {
    "duration": 20,
    "start_time": "2023-09-21T15:17:47.181Z"
   },
   {
    "duration": 34,
    "start_time": "2023-09-21T15:17:47.202Z"
   },
   {
    "duration": 32,
    "start_time": "2023-09-21T15:17:47.238Z"
   },
   {
    "duration": 404,
    "start_time": "2023-09-21T15:17:47.272Z"
   },
   {
    "duration": 433,
    "start_time": "2023-09-21T15:17:47.678Z"
   },
   {
    "duration": 17,
    "start_time": "2023-09-21T15:17:48.113Z"
   },
   {
    "duration": 167,
    "start_time": "2023-09-21T15:17:48.132Z"
   },
   {
    "duration": 15,
    "start_time": "2023-09-21T15:17:48.301Z"
   },
   {
    "duration": 5,
    "start_time": "2023-09-21T15:17:48.318Z"
   },
   {
    "duration": 37,
    "start_time": "2023-09-21T15:17:48.325Z"
   },
   {
    "duration": 20,
    "start_time": "2023-09-21T15:17:48.369Z"
   },
   {
    "duration": 358,
    "start_time": "2023-09-21T15:17:48.391Z"
   },
   {
    "duration": 116,
    "start_time": "2023-09-21T15:17:48.755Z"
   },
   {
    "duration": 259,
    "start_time": "2023-09-21T15:17:48.874Z"
   },
   {
    "duration": 243,
    "start_time": "2023-09-21T15:17:49.136Z"
   },
   {
    "duration": 6,
    "start_time": "2023-09-21T15:17:49.381Z"
   },
   {
    "duration": 114,
    "start_time": "2023-09-21T15:18:30.290Z"
   },
   {
    "duration": 1264,
    "start_time": "2023-09-21T15:18:41.417Z"
   },
   {
    "duration": 242,
    "start_time": "2023-09-21T15:18:42.683Z"
   },
   {
    "duration": 13,
    "start_time": "2023-09-21T15:18:42.927Z"
   },
   {
    "duration": 49,
    "start_time": "2023-09-21T15:18:42.942Z"
   },
   {
    "duration": 39,
    "start_time": "2023-09-21T15:18:42.993Z"
   },
   {
    "duration": 45,
    "start_time": "2023-09-21T15:18:43.034Z"
   },
   {
    "duration": 22,
    "start_time": "2023-09-21T15:18:43.081Z"
   },
   {
    "duration": 48,
    "start_time": "2023-09-21T15:18:43.105Z"
   },
   {
    "duration": 70,
    "start_time": "2023-09-21T15:18:43.155Z"
   },
   {
    "duration": 22,
    "start_time": "2023-09-21T15:18:43.228Z"
   },
   {
    "duration": 23,
    "start_time": "2023-09-21T15:18:43.252Z"
   },
   {
    "duration": 17,
    "start_time": "2023-09-21T15:18:43.277Z"
   },
   {
    "duration": 23,
    "start_time": "2023-09-21T15:18:43.295Z"
   },
   {
    "duration": 10,
    "start_time": "2023-09-21T15:18:43.320Z"
   },
   {
    "duration": 202,
    "start_time": "2023-09-21T15:18:43.332Z"
   },
   {
    "duration": 8,
    "start_time": "2023-09-21T15:18:43.536Z"
   },
   {
    "duration": 179,
    "start_time": "2023-09-21T15:18:43.546Z"
   },
   {
    "duration": 254,
    "start_time": "2023-09-21T15:18:43.727Z"
   },
   {
    "duration": 213,
    "start_time": "2023-09-21T15:18:43.983Z"
   },
   {
    "duration": 22,
    "start_time": "2023-09-21T15:18:44.199Z"
   },
   {
    "duration": 51,
    "start_time": "2023-09-21T15:18:44.223Z"
   },
   {
    "duration": 53,
    "start_time": "2023-09-21T15:18:44.277Z"
   },
   {
    "duration": 17,
    "start_time": "2023-09-21T15:18:44.333Z"
   },
   {
    "duration": 412,
    "start_time": "2023-09-21T15:18:44.352Z"
   },
   {
    "duration": 407,
    "start_time": "2023-09-21T15:18:44.773Z"
   },
   {
    "duration": 19,
    "start_time": "2023-09-21T15:18:45.182Z"
   },
   {
    "duration": 171,
    "start_time": "2023-09-21T15:18:45.204Z"
   },
   {
    "duration": 16,
    "start_time": "2023-09-21T15:18:45.379Z"
   },
   {
    "duration": 147,
    "start_time": "2023-09-21T15:18:45.397Z"
   },
   {
    "duration": 0,
    "start_time": "2023-09-21T15:18:45.545Z"
   },
   {
    "duration": 0,
    "start_time": "2023-09-21T15:18:45.547Z"
   },
   {
    "duration": 0,
    "start_time": "2023-09-21T15:18:45.548Z"
   },
   {
    "duration": 0,
    "start_time": "2023-09-21T15:18:45.549Z"
   },
   {
    "duration": 0,
    "start_time": "2023-09-21T15:18:45.556Z"
   },
   {
    "duration": 0,
    "start_time": "2023-09-21T15:18:45.557Z"
   },
   {
    "duration": 0,
    "start_time": "2023-09-21T15:18:45.562Z"
   },
   {
    "duration": 0,
    "start_time": "2023-09-21T15:18:45.563Z"
   },
   {
    "duration": 1272,
    "start_time": "2023-09-21T15:19:35.296Z"
   },
   {
    "duration": 202,
    "start_time": "2023-09-21T15:19:36.571Z"
   },
   {
    "duration": 12,
    "start_time": "2023-09-21T15:19:36.775Z"
   },
   {
    "duration": 205,
    "start_time": "2023-09-21T15:19:36.789Z"
   },
   {
    "duration": 53,
    "start_time": "2023-09-21T15:19:36.996Z"
   },
   {
    "duration": 23,
    "start_time": "2023-09-21T15:19:37.050Z"
   },
   {
    "duration": 8,
    "start_time": "2023-09-21T15:19:37.075Z"
   },
   {
    "duration": 17,
    "start_time": "2023-09-21T15:19:37.086Z"
   },
   {
    "duration": 13,
    "start_time": "2023-09-21T15:19:37.104Z"
   },
   {
    "duration": 5,
    "start_time": "2023-09-21T15:19:37.120Z"
   },
   {
    "duration": 41,
    "start_time": "2023-09-21T15:19:37.126Z"
   },
   {
    "duration": 235,
    "start_time": "2023-09-21T15:19:37.170Z"
   },
   {
    "duration": 18,
    "start_time": "2023-09-21T15:19:37.407Z"
   },
   {
    "duration": 9,
    "start_time": "2023-09-21T15:19:37.427Z"
   },
   {
    "duration": 190,
    "start_time": "2023-09-21T15:19:37.438Z"
   },
   {
    "duration": 9,
    "start_time": "2023-09-21T15:19:37.630Z"
   },
   {
    "duration": 197,
    "start_time": "2023-09-21T15:19:37.641Z"
   },
   {
    "duration": 251,
    "start_time": "2023-09-21T15:19:37.839Z"
   },
   {
    "duration": 372,
    "start_time": "2023-09-21T15:19:38.092Z"
   },
   {
    "duration": 27,
    "start_time": "2023-09-21T15:19:38.472Z"
   },
   {
    "duration": 77,
    "start_time": "2023-09-21T15:19:38.501Z"
   },
   {
    "duration": 25,
    "start_time": "2023-09-21T15:19:38.580Z"
   },
   {
    "duration": 19,
    "start_time": "2023-09-21T15:19:38.607Z"
   },
   {
    "duration": 499,
    "start_time": "2023-09-21T15:19:38.627Z"
   },
   {
    "duration": 448,
    "start_time": "2023-09-21T15:19:39.128Z"
   },
   {
    "duration": 17,
    "start_time": "2023-09-21T15:19:39.577Z"
   },
   {
    "duration": 151,
    "start_time": "2023-09-21T15:19:39.596Z"
   },
   {
    "duration": 11,
    "start_time": "2023-09-21T15:19:39.758Z"
   },
   {
    "duration": 35,
    "start_time": "2023-09-21T15:19:39.771Z"
   },
   {
    "duration": 72,
    "start_time": "2023-09-21T15:19:39.808Z"
   },
   {
    "duration": 369,
    "start_time": "2023-09-21T15:19:39.882Z"
   },
   {
    "duration": 111,
    "start_time": "2023-09-21T15:19:40.259Z"
   },
   {
    "duration": 203,
    "start_time": "2023-09-21T15:19:40.372Z"
   },
   {
    "duration": 223,
    "start_time": "2023-09-21T15:19:40.576Z"
   },
   {
    "duration": 6,
    "start_time": "2023-09-21T15:19:40.801Z"
   },
   {
    "duration": 9,
    "start_time": "2023-09-21T15:20:04.595Z"
   },
   {
    "duration": 118,
    "start_time": "2023-09-21T15:21:22.024Z"
   },
   {
    "duration": 13,
    "start_time": "2023-09-21T15:21:27.777Z"
   },
   {
    "duration": 15,
    "start_time": "2023-09-21T15:23:18.074Z"
   },
   {
    "duration": 1469,
    "start_time": "2023-09-22T05:10:06.070Z"
   },
   {
    "duration": 395,
    "start_time": "2023-09-22T05:10:07.541Z"
   },
   {
    "duration": 13,
    "start_time": "2023-09-22T05:10:07.938Z"
   },
   {
    "duration": 25,
    "start_time": "2023-09-22T05:10:07.953Z"
   },
   {
    "duration": 15,
    "start_time": "2023-09-22T05:10:07.981Z"
   },
   {
    "duration": 31,
    "start_time": "2023-09-22T05:10:07.998Z"
   },
   {
    "duration": 7,
    "start_time": "2023-09-22T05:10:08.038Z"
   },
   {
    "duration": 11,
    "start_time": "2023-09-22T05:10:08.047Z"
   },
   {
    "duration": 11,
    "start_time": "2023-09-22T05:10:08.060Z"
   },
   {
    "duration": 4,
    "start_time": "2023-09-22T05:10:08.073Z"
   },
   {
    "duration": 18,
    "start_time": "2023-09-22T05:10:08.079Z"
   },
   {
    "duration": 26,
    "start_time": "2023-09-22T05:10:08.099Z"
   },
   {
    "duration": 17,
    "start_time": "2023-09-22T05:10:08.129Z"
   },
   {
    "duration": 10,
    "start_time": "2023-09-22T05:10:08.149Z"
   },
   {
    "duration": 304,
    "start_time": "2023-09-22T05:10:08.161Z"
   },
   {
    "duration": 6,
    "start_time": "2023-09-22T05:10:08.467Z"
   },
   {
    "duration": 56,
    "start_time": "2023-09-22T05:10:08.476Z"
   },
   {
    "duration": 292,
    "start_time": "2023-09-22T05:10:08.534Z"
   },
   {
    "duration": 332,
    "start_time": "2023-09-22T05:10:08.828Z"
   },
   {
    "duration": 74,
    "start_time": "2023-09-22T05:10:09.162Z"
   },
   {
    "duration": 331,
    "start_time": "2023-09-22T05:10:09.241Z"
   },
   {
    "duration": 215,
    "start_time": "2023-09-22T05:10:09.574Z"
   },
   {
    "duration": 58,
    "start_time": "2023-09-22T05:10:09.791Z"
   },
   {
    "duration": 75,
    "start_time": "2023-09-22T05:10:09.852Z"
   },
   {
    "duration": 25,
    "start_time": "2023-09-22T05:10:09.933Z"
   },
   {
    "duration": 74,
    "start_time": "2023-09-22T05:10:09.960Z"
   },
   {
    "duration": 5,
    "start_time": "2023-09-22T05:10:10.036Z"
   },
   {
    "duration": 814,
    "start_time": "2023-09-22T05:10:10.044Z"
   },
   {
    "duration": 1080,
    "start_time": "2023-09-22T05:10:10.860Z"
   },
   {
    "duration": 700,
    "start_time": "2023-09-22T05:10:11.944Z"
   },
   {
    "duration": 15,
    "start_time": "2023-09-22T05:10:12.645Z"
   },
   {
    "duration": 81,
    "start_time": "2023-09-22T05:10:12.662Z"
   },
   {
    "duration": 6,
    "start_time": "2023-09-22T05:10:12.744Z"
   },
   {
    "duration": 32,
    "start_time": "2023-09-22T05:10:12.751Z"
   },
   {
    "duration": 56,
    "start_time": "2023-09-22T05:10:12.786Z"
   },
   {
    "duration": 713,
    "start_time": "2023-09-22T05:10:12.843Z"
   },
   {
    "duration": 195,
    "start_time": "2023-09-22T05:10:13.558Z"
   },
   {
    "duration": 584,
    "start_time": "2023-09-22T05:10:13.755Z"
   },
   {
    "duration": 516,
    "start_time": "2023-09-22T05:10:14.341Z"
   },
   {
    "duration": 7,
    "start_time": "2023-09-22T05:10:14.859Z"
   },
   {
    "duration": 16,
    "start_time": "2023-09-22T05:11:41.868Z"
   },
   {
    "duration": 1202,
    "start_time": "2023-09-22T05:12:41.405Z"
   },
   {
    "duration": 229,
    "start_time": "2023-09-22T05:12:42.610Z"
   },
   {
    "duration": 13,
    "start_time": "2023-09-22T05:12:42.841Z"
   },
   {
    "duration": 11,
    "start_time": "2023-09-22T05:12:42.856Z"
   },
   {
    "duration": 19,
    "start_time": "2023-09-22T05:12:42.869Z"
   },
   {
    "duration": 27,
    "start_time": "2023-09-22T05:12:42.891Z"
   },
   {
    "duration": 20,
    "start_time": "2023-09-22T05:12:42.920Z"
   },
   {
    "duration": 18,
    "start_time": "2023-09-22T05:12:42.942Z"
   },
   {
    "duration": 25,
    "start_time": "2023-09-22T05:12:42.962Z"
   },
   {
    "duration": 4,
    "start_time": "2023-09-22T05:12:42.990Z"
   },
   {
    "duration": 15,
    "start_time": "2023-09-22T05:12:42.996Z"
   },
   {
    "duration": 13,
    "start_time": "2023-09-22T05:12:43.013Z"
   },
   {
    "duration": 24,
    "start_time": "2023-09-22T05:12:43.027Z"
   },
   {
    "duration": 8,
    "start_time": "2023-09-22T05:12:43.053Z"
   },
   {
    "duration": 197,
    "start_time": "2023-09-22T05:12:43.063Z"
   },
   {
    "duration": 7,
    "start_time": "2023-09-22T05:12:43.262Z"
   },
   {
    "duration": 21,
    "start_time": "2023-09-22T05:12:43.271Z"
   },
   {
    "duration": 199,
    "start_time": "2023-09-22T05:12:43.295Z"
   },
   {
    "duration": 174,
    "start_time": "2023-09-22T05:12:43.496Z"
   },
   {
    "duration": 8,
    "start_time": "2023-09-22T05:12:43.672Z"
   },
   {
    "duration": 288,
    "start_time": "2023-09-22T05:12:43.682Z"
   },
   {
    "duration": 233,
    "start_time": "2023-09-22T05:12:43.972Z"
   },
   {
    "duration": 37,
    "start_time": "2023-09-22T05:12:44.207Z"
   },
   {
    "duration": 27,
    "start_time": "2023-09-22T05:12:44.246Z"
   },
   {
    "duration": 17,
    "start_time": "2023-09-22T05:12:44.275Z"
   },
   {
    "duration": 40,
    "start_time": "2023-09-22T05:12:44.294Z"
   },
   {
    "duration": 6,
    "start_time": "2023-09-22T05:12:44.336Z"
   },
   {
    "duration": 305,
    "start_time": "2023-09-22T05:12:44.345Z"
   },
   {
    "duration": 517,
    "start_time": "2023-09-22T05:12:44.652Z"
   },
   {
    "duration": 298,
    "start_time": "2023-09-22T05:12:45.171Z"
   },
   {
    "duration": 16,
    "start_time": "2023-09-22T05:12:45.471Z"
   },
   {
    "duration": 57,
    "start_time": "2023-09-22T05:12:45.489Z"
   },
   {
    "duration": 141,
    "start_time": "2023-09-22T05:12:45.548Z"
   },
   {
    "duration": 0,
    "start_time": "2023-09-22T05:12:45.690Z"
   },
   {
    "duration": 0,
    "start_time": "2023-09-22T05:12:45.692Z"
   },
   {
    "duration": 0,
    "start_time": "2023-09-22T05:12:45.693Z"
   },
   {
    "duration": 0,
    "start_time": "2023-09-22T05:12:45.695Z"
   },
   {
    "duration": 0,
    "start_time": "2023-09-22T05:12:45.697Z"
   },
   {
    "duration": 0,
    "start_time": "2023-09-22T05:12:45.699Z"
   },
   {
    "duration": 0,
    "start_time": "2023-09-22T05:12:45.701Z"
   },
   {
    "duration": 0,
    "start_time": "2023-09-22T05:12:45.731Z"
   },
   {
    "duration": 0,
    "start_time": "2023-09-22T05:12:45.732Z"
   },
   {
    "duration": 23,
    "start_time": "2023-09-22T05:13:00.007Z"
   },
   {
    "duration": 14,
    "start_time": "2023-09-22T05:13:08.190Z"
   },
   {
    "duration": 12,
    "start_time": "2023-09-22T05:13:13.581Z"
   },
   {
    "duration": 16,
    "start_time": "2023-09-22T05:13:20.953Z"
   },
   {
    "duration": 5,
    "start_time": "2023-09-22T05:13:28.871Z"
   },
   {
    "duration": 15,
    "start_time": "2023-09-22T05:13:33.205Z"
   },
   {
    "duration": 1222,
    "start_time": "2023-09-22T05:13:47.070Z"
   },
   {
    "duration": 267,
    "start_time": "2023-09-22T05:13:48.294Z"
   },
   {
    "duration": 17,
    "start_time": "2023-09-22T05:13:48.563Z"
   },
   {
    "duration": 14,
    "start_time": "2023-09-22T05:13:48.582Z"
   },
   {
    "duration": 21,
    "start_time": "2023-09-22T05:13:48.599Z"
   },
   {
    "duration": 27,
    "start_time": "2023-09-22T05:13:48.621Z"
   },
   {
    "duration": 25,
    "start_time": "2023-09-22T05:13:48.650Z"
   },
   {
    "duration": 16,
    "start_time": "2023-09-22T05:13:48.677Z"
   },
   {
    "duration": 13,
    "start_time": "2023-09-22T05:13:48.695Z"
   },
   {
    "duration": 5,
    "start_time": "2023-09-22T05:13:48.710Z"
   },
   {
    "duration": 25,
    "start_time": "2023-09-22T05:13:48.717Z"
   },
   {
    "duration": 12,
    "start_time": "2023-09-22T05:13:48.744Z"
   },
   {
    "duration": 29,
    "start_time": "2023-09-22T05:13:48.758Z"
   },
   {
    "duration": 8,
    "start_time": "2023-09-22T05:13:48.790Z"
   },
   {
    "duration": 201,
    "start_time": "2023-09-22T05:13:48.800Z"
   },
   {
    "duration": 27,
    "start_time": "2023-09-22T05:13:49.003Z"
   },
   {
    "duration": 10,
    "start_time": "2023-09-22T05:13:49.036Z"
   },
   {
    "duration": 168,
    "start_time": "2023-09-22T05:13:49.048Z"
   },
   {
    "duration": 188,
    "start_time": "2023-09-22T05:13:49.218Z"
   },
   {
    "duration": 8,
    "start_time": "2023-09-22T05:13:49.407Z"
   },
   {
    "duration": 300,
    "start_time": "2023-09-22T05:13:49.417Z"
   },
   {
    "duration": 223,
    "start_time": "2023-09-22T05:13:49.719Z"
   },
   {
    "duration": 26,
    "start_time": "2023-09-22T05:13:49.945Z"
   },
   {
    "duration": 197,
    "start_time": "2023-09-22T05:13:49.973Z"
   },
   {
    "duration": 57,
    "start_time": "2023-09-22T05:13:50.172Z"
   },
   {
    "duration": 72,
    "start_time": "2023-09-22T05:13:50.242Z"
   },
   {
    "duration": 26,
    "start_time": "2023-09-22T05:13:50.316Z"
   },
   {
    "duration": 336,
    "start_time": "2023-09-22T05:13:50.344Z"
   },
   {
    "duration": 483,
    "start_time": "2023-09-22T05:13:50.682Z"
   },
   {
    "duration": 313,
    "start_time": "2023-09-22T05:13:51.167Z"
   },
   {
    "duration": 17,
    "start_time": "2023-09-22T05:13:51.482Z"
   },
   {
    "duration": 243,
    "start_time": "2023-09-22T05:13:51.501Z"
   },
   {
    "duration": 120,
    "start_time": "2023-09-22T05:13:51.747Z"
   },
   {
    "duration": 288,
    "start_time": "2023-09-22T05:13:51.869Z"
   },
   {
    "duration": 0,
    "start_time": "2023-09-22T05:13:52.160Z"
   },
   {
    "duration": 0,
    "start_time": "2023-09-22T05:13:52.161Z"
   },
   {
    "duration": 0,
    "start_time": "2023-09-22T05:13:52.163Z"
   },
   {
    "duration": 0,
    "start_time": "2023-09-22T05:13:52.165Z"
   },
   {
    "duration": 0,
    "start_time": "2023-09-22T05:13:52.167Z"
   },
   {
    "duration": 0,
    "start_time": "2023-09-22T05:13:52.168Z"
   },
   {
    "duration": 0,
    "start_time": "2023-09-22T05:13:52.171Z"
   },
   {
    "duration": 0,
    "start_time": "2023-09-22T05:13:52.173Z"
   },
   {
    "duration": 15,
    "start_time": "2023-09-22T05:13:59.796Z"
   },
   {
    "duration": 1167,
    "start_time": "2023-09-22T05:14:18.954Z"
   },
   {
    "duration": 227,
    "start_time": "2023-09-22T05:14:20.124Z"
   },
   {
    "duration": 16,
    "start_time": "2023-09-22T05:14:20.354Z"
   },
   {
    "duration": 21,
    "start_time": "2023-09-22T05:14:20.372Z"
   },
   {
    "duration": 10,
    "start_time": "2023-09-22T05:14:20.397Z"
   },
   {
    "duration": 27,
    "start_time": "2023-09-22T05:14:20.409Z"
   },
   {
    "duration": 19,
    "start_time": "2023-09-22T05:14:20.438Z"
   },
   {
    "duration": 11,
    "start_time": "2023-09-22T05:14:20.459Z"
   },
   {
    "duration": 11,
    "start_time": "2023-09-22T05:14:20.472Z"
   },
   {
    "duration": 5,
    "start_time": "2023-09-22T05:14:20.484Z"
   },
   {
    "duration": 17,
    "start_time": "2023-09-22T05:14:20.491Z"
   },
   {
    "duration": 30,
    "start_time": "2023-09-22T05:14:20.510Z"
   },
   {
    "duration": 12,
    "start_time": "2023-09-22T05:14:20.544Z"
   },
   {
    "duration": 11,
    "start_time": "2023-09-22T05:14:20.559Z"
   },
   {
    "duration": 195,
    "start_time": "2023-09-22T05:14:20.572Z"
   },
   {
    "duration": 7,
    "start_time": "2023-09-22T05:14:20.769Z"
   },
   {
    "duration": 17,
    "start_time": "2023-09-22T05:14:20.777Z"
   },
   {
    "duration": 181,
    "start_time": "2023-09-22T05:14:20.796Z"
   },
   {
    "duration": 188,
    "start_time": "2023-09-22T05:14:20.979Z"
   },
   {
    "duration": 9,
    "start_time": "2023-09-22T05:14:21.168Z"
   },
   {
    "duration": 238,
    "start_time": "2023-09-22T05:14:21.179Z"
   },
   {
    "duration": 229,
    "start_time": "2023-09-22T05:14:21.423Z"
   },
   {
    "duration": 19,
    "start_time": "2023-09-22T05:14:21.654Z"
   },
   {
    "duration": 19,
    "start_time": "2023-09-22T05:14:21.675Z"
   },
   {
    "duration": 45,
    "start_time": "2023-09-22T05:14:21.695Z"
   },
   {
    "duration": 20,
    "start_time": "2023-09-22T05:14:21.742Z"
   },
   {
    "duration": 6,
    "start_time": "2023-09-22T05:14:21.764Z"
   },
   {
    "duration": 319,
    "start_time": "2023-09-22T05:14:21.772Z"
   },
   {
    "duration": 514,
    "start_time": "2023-09-22T05:14:22.094Z"
   },
   {
    "duration": 302,
    "start_time": "2023-09-22T05:14:22.610Z"
   },
   {
    "duration": 27,
    "start_time": "2023-09-22T05:14:22.914Z"
   },
   {
    "duration": 41,
    "start_time": "2023-09-22T05:14:22.943Z"
   },
   {
    "duration": 15,
    "start_time": "2023-09-22T05:14:22.986Z"
   },
   {
    "duration": 34,
    "start_time": "2023-09-22T05:14:23.003Z"
   },
   {
    "duration": 8,
    "start_time": "2023-09-22T05:14:23.042Z"
   },
   {
    "duration": 40,
    "start_time": "2023-09-22T05:14:23.052Z"
   },
   {
    "duration": 353,
    "start_time": "2023-09-22T05:14:23.094Z"
   },
   {
    "duration": 86,
    "start_time": "2023-09-22T05:14:23.449Z"
   },
   {
    "duration": 207,
    "start_time": "2023-09-22T05:14:23.538Z"
   },
   {
    "duration": 252,
    "start_time": "2023-09-22T05:14:23.747Z"
   },
   {
    "duration": 8,
    "start_time": "2023-09-22T05:14:24.004Z"
   }
  ],
  "kernelspec": {
   "display_name": "Python 3 (ipykernel)",
   "language": "python",
   "name": "python3"
  },
  "language_info": {
   "codemirror_mode": {
    "name": "ipython",
    "version": 3
   },
   "file_extension": ".py",
   "mimetype": "text/x-python",
   "name": "python",
   "nbconvert_exporter": "python",
   "pygments_lexer": "ipython3",
   "version": "3.9.5"
  },
  "toc": {
   "base_numbering": 1,
   "nav_menu": {
    "height": "204px",
    "width": "264px"
   },
   "number_sections": true,
   "sideBar": true,
   "skip_h1_title": true,
   "title_cell": "Table of Contents",
   "title_sidebar": "Contents",
   "toc_cell": false,
   "toc_position": {
    "height": "calc(100% - 180px)",
    "left": "10px",
    "top": "150px",
    "width": "307.2px"
   },
   "toc_section_display": true,
   "toc_window_display": false
  }
 },
 "nbformat": 4,
 "nbformat_minor": 5
}
